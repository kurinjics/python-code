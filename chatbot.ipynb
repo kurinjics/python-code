{
 "cells": [
  {
   "cell_type": "code",
   "execution_count": 1,
   "id": "fa0002aa",
   "metadata": {},
   "outputs": [
    {
     "ename": "FileNotFoundError",
     "evalue": "[Errno 2] No such file or directory: 'medical_data.json'",
     "output_type": "error",
     "traceback": [
      "\u001b[1;31m---------------------------------------------------------------------------\u001b[0m",
      "\u001b[1;31mFileNotFoundError\u001b[0m                         Traceback (most recent call last)",
      "Cell \u001b[1;32mIn[1], line 6\u001b[0m\n\u001b[0;32m      3\u001b[0m \u001b[38;5;28;01mimport\u001b[39;00m \u001b[38;5;21;01mrandom\u001b[39;00m\n\u001b[0;32m      5\u001b[0m \u001b[38;5;66;03m# Load the data\u001b[39;00m\n\u001b[1;32m----> 6\u001b[0m data \u001b[38;5;241m=\u001b[39m json\u001b[38;5;241m.\u001b[39mload(\u001b[38;5;28mopen\u001b[39m(\u001b[38;5;124m'\u001b[39m\u001b[38;5;124mmedical_data.json\u001b[39m\u001b[38;5;124m'\u001b[39m))\n\u001b[0;32m      8\u001b[0m \u001b[38;5;66;03m# Define the chatbot class\u001b[39;00m\n\u001b[0;32m      9\u001b[0m \u001b[38;5;28;01mclass\u001b[39;00m \u001b[38;5;21;01mChatbot\u001b[39;00m:\n",
      "File \u001b[1;32m~\\anaconda3\\Lib\\site-packages\\IPython\\core\\interactiveshell.py:284\u001b[0m, in \u001b[0;36m_modified_open\u001b[1;34m(file, *args, **kwargs)\u001b[0m\n\u001b[0;32m    277\u001b[0m \u001b[38;5;28;01mif\u001b[39;00m file \u001b[38;5;129;01min\u001b[39;00m {\u001b[38;5;241m0\u001b[39m, \u001b[38;5;241m1\u001b[39m, \u001b[38;5;241m2\u001b[39m}:\n\u001b[0;32m    278\u001b[0m     \u001b[38;5;28;01mraise\u001b[39;00m \u001b[38;5;167;01mValueError\u001b[39;00m(\n\u001b[0;32m    279\u001b[0m         \u001b[38;5;124mf\u001b[39m\u001b[38;5;124m\"\u001b[39m\u001b[38;5;124mIPython won\u001b[39m\u001b[38;5;124m'\u001b[39m\u001b[38;5;124mt let you open fd=\u001b[39m\u001b[38;5;132;01m{\u001b[39;00mfile\u001b[38;5;132;01m}\u001b[39;00m\u001b[38;5;124m by default \u001b[39m\u001b[38;5;124m\"\u001b[39m\n\u001b[0;32m    280\u001b[0m         \u001b[38;5;124m\"\u001b[39m\u001b[38;5;124mas it is likely to crash IPython. If you know what you are doing, \u001b[39m\u001b[38;5;124m\"\u001b[39m\n\u001b[0;32m    281\u001b[0m         \u001b[38;5;124m\"\u001b[39m\u001b[38;5;124myou can use builtins\u001b[39m\u001b[38;5;124m'\u001b[39m\u001b[38;5;124m open.\u001b[39m\u001b[38;5;124m\"\u001b[39m\n\u001b[0;32m    282\u001b[0m     )\n\u001b[1;32m--> 284\u001b[0m \u001b[38;5;28;01mreturn\u001b[39;00m io_open(file, \u001b[38;5;241m*\u001b[39margs, \u001b[38;5;241m*\u001b[39m\u001b[38;5;241m*\u001b[39mkwargs)\n",
      "\u001b[1;31mFileNotFoundError\u001b[0m: [Errno 2] No such file or directory: 'medical_data.json'"
     ]
    }
   ],
   "source": [
    "import os\n",
    "import json\n",
    "import random\n",
    "\n",
    "# Load the data\n",
    "data = json.load(open('medical_data.json'))\n",
    "\n",
    "# Define the chatbot class\n",
    "class Chatbot:\n",
    "    def __init__(self):\n",
    "        self.data = data\n",
    "\n",
    "    def greet(self):\n",
    "        greetings = ['Hi there!', 'Hello!', 'How can I help you today?']\n",
    "        return random.choice(greetings)\n",
    "\n",
    "    def respond(self, message):\n",
    "        if message.lower() == 'hello' or message.lower() == 'hi':\n",
    "            return self.greet()\n",
    "        else:\n",
    "            for intent in self.data['intents']:\n",
    "                if message.lower() in intent['patterns']:\n",
    "                    return random.choice(intent['responses'])\n",
    "            return 'Sorry, I don\\'t understand your message.'\n",
    "\n",
    "# Create a chatbot instance\n",
    "chatbot = Chatbot()\n",
    "\n",
    "# Start the chatbot conversation\n",
    "while True:\n",
    "    message = input('You: ')\n",
    "    response = chatbot.respond(message)\n",
    "    print('Chatbot:', response)"
   ]
  },
  {
   "cell_type": "code",
   "execution_count": 1,
   "id": "3e0b65bd",
   "metadata": {},
   "outputs": [],
   "source": [
    "import requests\n",
    "import json\n",
    "from tkinter import *\n",
    "\n",
    "# Initialize the Tkinter window\n",
    "root = Tk()\n",
    "root.title('Weather Forecaster')\n",
    "root.geometry('1500x400')\n",
    "\n",
    "# Define the API key and city entry field\n",
    "api_key = 'YOUR_API_KEY'\n",
    "city_entry = Entry(root, width=30)\n",
    "city_entry.pack()\n",
    "\n",
    "# Define the function to get weather data\n",
    "def get_weather():\n",
    "    city = city_entry.get()\n",
    "    url = f'https://api.openweathermap.org/data/2.5/weather?q={city name}&appid={API key}={city}&appid={api_key}'\n",
    "    response = requests.get(url)\n",
    "    if response.status_code == 200:\n",
    "        data = json.loads(response.text)\n",
    "        weather = data['weather'][0]['description']\n",
    "        temperature = data['main']['temp'] - 273.15\n",
    "        humidity = data['main']['humidity']\n",
    "        wind_speed = data['wind']['speed']\n",
    "\n",
    "        # Display the weather data\n",
    "        weather_label = Label(root, text=f'Weather: {weather}')\n",
    "        weather_label.pack()\n",
    "        temperature_label = Label(root, text=f'Temperature: {temperature:.2f}°C')\n",
    "        temperature_label.pack()\n",
    "        humidity_label = Label(root, text=f'Humidity: {humidity}%')\n",
    "        humidity_label.pack()\n",
    "        wind_speed_label = Label(root, text=f'Wind Speed: {wind_speed} m/s')\n",
    "        wind_speed_label.pack()\n",
    "    else:\n",
    "        error_label = Label(root, text=f'Error: {response.status_code}')\n",
    "        error_label.pack()\n",
    "\n",
    "# Define the button to trigger the weather data retrieval\n",
    "get_weather_button = Button(root, text='Get Weather', command=get_weather)\n",
    "get_weather_button.pack()\n",
    "\n",
    "# Start the Tkinter event loop\n",
    "root.mainloop()"
   ]
  },
  {
   "cell_type": "code",
   "execution_count": null,
   "id": "e5bdce7a",
   "metadata": {},
   "outputs": [],
   "source": []
  }
 ],
 "metadata": {
  "kernelspec": {
   "display_name": "Python 3 (ipykernel)",
   "language": "python",
   "name": "python3"
  },
  "language_info": {
   "codemirror_mode": {
    "name": "ipython",
    "version": 3
   },
   "file_extension": ".py",
   "mimetype": "text/x-python",
   "name": "python",
   "nbconvert_exporter": "python",
   "pygments_lexer": "ipython3",
   "version": "3.11.3"
  }
 },
 "nbformat": 4,
 "nbformat_minor": 5
}
