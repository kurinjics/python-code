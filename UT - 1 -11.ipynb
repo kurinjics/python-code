{
 "cells": [
  {
   "cell_type": "code",
   "execution_count": 1,
   "id": "bcc9d7f9",
   "metadata": {},
   "outputs": [
    {
     "name": "stdout",
     "output_type": "stream",
     "text": [
      "e\n"
     ]
    }
   ],
   "source": [
    "word =\"Goblin mode\"\n",
    "print(word[-1::100])"
   ]
  },
  {
   "cell_type": "code",
   "execution_count": 2,
   "id": "04e69619",
   "metadata": {},
   "outputs": [
    {
     "name": "stdout",
     "output_type": "stream",
     "text": [
      "('G', 'o', 'b', 'l', 'i', 'n', ' ', 'm', 'o', 'd', 'e')\n"
     ]
    }
   ],
   "source": [
    "word =\"Goblin mode\"\n",
    "s = tuple(word)\n",
    "print(s)"
   ]
  },
  {
   "cell_type": "code",
   "execution_count": 5,
   "id": "1cb25267",
   "metadata": {},
   "outputs": [
    {
     "name": "stdout",
     "output_type": "stream",
     "text": [
      "Is Indian Business Getting Oligopolistic \n"
     ]
    }
   ],
   "source": [
    "opinion =\"Is Indian business getting oligopolistic\"\n",
    "o = opinion.split()\n",
    "s =''\n",
    "for i in o:\n",
    "    s += i +' '\n",
    "print(s.title())"
   ]
  },
  {
   "cell_type": "code",
   "execution_count": 6,
   "id": "17de11c4",
   "metadata": {},
   "outputs": [
    {
     "name": "stdout",
     "output_type": "stream",
     "text": [
      "('Is I', 'n', 'dian business getting oligopolistic')\n"
     ]
    }
   ],
   "source": [
    "opinion =\"Is Indian business getting oligopolistic\"\n",
    "print(opinion.partition('n'))"
   ]
  },
  {
   "cell_type": "code",
   "execution_count": 8,
   "id": "e4da4afd",
   "metadata": {},
   "outputs": [
    {
     "name": "stdout",
     "output_type": "stream",
     "text": [
      " which witch switched the swiss wristwatches?\n",
      "2\n",
      "26\n",
      " WHICH WITCH SWITCHED THE SWISS WRISTWATCHES?\n",
      " Which wise swiseed the Swiss wristwatches?\n"
     ]
    },
    {
     "ename": "ValueError",
     "evalue": "substring not found",
     "output_type": "error",
     "traceback": [
      "\u001b[1;31m---------------------------------------------------------------------------\u001b[0m",
      "\u001b[1;31mValueError\u001b[0m                                Traceback (most recent call last)",
      "Cell \u001b[1;32mIn[8], line 7\u001b[0m\n\u001b[0;32m      5\u001b[0m \u001b[38;5;28mprint\u001b[39m(twister\u001b[38;5;241m.\u001b[39mupper())\n\u001b[0;32m      6\u001b[0m \u001b[38;5;28mprint\u001b[39m(twister\u001b[38;5;241m.\u001b[39mreplace(\u001b[38;5;124m'\u001b[39m\u001b[38;5;124mwitch\u001b[39m\u001b[38;5;124m'\u001b[39m,\u001b[38;5;124m'\u001b[39m\u001b[38;5;124mwise\u001b[39m\u001b[38;5;124m'\u001b[39m))\n\u001b[1;32m----> 7\u001b[0m \u001b[38;5;28mprint\u001b[39m(twister\u001b[38;5;241m.\u001b[39mindex(\u001b[38;5;124m'\u001b[39m\u001b[38;5;124mWrist\u001b[39m\u001b[38;5;124m'\u001b[39m))\n",
      "\u001b[1;31mValueError\u001b[0m: substring not found"
     ]
    }
   ],
   "source": [
    "twister =\" Which witch switched the Swiss wristwatches?\"\n",
    "print(twister.lower())\n",
    "print(twister.count(\"witch\",-55))\n",
    "print(twister.find('Swis',3,30))\n",
    "print(twister.upper())\n",
    "print(twister.replace('witch','wise'))\n",
    "print(twister.index('Wrist'))\n"
   ]
  },
  {
   "cell_type": "code",
   "execution_count": 10,
   "id": "37842002",
   "metadata": {},
   "outputs": [
    {
     "name": "stdout",
     "output_type": "stream",
     "text": [
      "True\n"
     ]
    }
   ],
   "source": [
    "twist = \"A loyal warrior will rarely worry why we rule.\"\n",
    "print(twist.startswith (\"a \".upper()))"
   ]
  },
  {
   "cell_type": "code",
   "execution_count": 11,
   "id": "b2a087ce",
   "metadata": {},
   "outputs": [
    {
     "name": "stdout",
     "output_type": "stream",
     "text": [
      "False\n"
     ]
    }
   ],
   "source": [
    "twist = \"A loyal warrior will rarely worry why we rule.\"\n",
    "print(twist.startswith (\"le \".lower()))"
   ]
  },
  {
   "cell_type": "code",
   "execution_count": 13,
   "id": "6fbd1b0b",
   "metadata": {},
   "outputs": [
    {
     "name": "stdout",
     "output_type": "stream",
     "text": [
      "No of vowels: 20\n",
      "No of consonants: 41\n",
      "No of space: 11\n"
     ]
    }
   ],
   "source": [
    "x = \"Selfish shellfish\\nThe great Greek grape growers\\t grow great Greek grapes\"\n",
    "vowels = 0\n",
    "consonants = 0\n",
    "space = 0\n",
    "for i in range(len(x)):\n",
    "    if x[i].isspace():\n",
    "        space += 1\n",
    "    elif x[i] not in ('a','e','i','o','u'):\n",
    "        consonants += 1\n",
    "    else:\n",
    "        vowels += 1\n",
    "print(\"No of vowels:\",vowels)\n",
    "print(\"No of consonants:\",consonants)\n",
    "print(\"No of space:\",space)\n",
    "        "
   ]
  },
  {
   "cell_type": "code",
   "execution_count": 14,
   "id": "cc9fef9d",
   "metadata": {},
   "outputs": [
    {
     "name": "stdout",
     "output_type": "stream",
     "text": [
      "A*happy*hippo*times*hopped*and*hiccupped*times\n"
     ]
    }
   ],
   "source": [
    "motivation =\"A happy hippo 5 times hopped and hiccupped 10 times\"\n",
    "s = \"\"\n",
    "for i in motivation:\n",
    "    if not i.isdigit():\n",
    "        s += i\n",
    "print('*'.join(s.split()))\n",
    "        "
   ]
  },
  {
   "cell_type": "code",
   "execution_count": 22,
   "id": "fab905e6",
   "metadata": {},
   "outputs": [
    {
     "name": "stdout",
     "output_type": "stream",
     "text": [
      "True\n"
     ]
    }
   ],
   "source": [
    "motivate =\"A synonym for cinnamon is a cinnamon synonym\"\n",
    "if motivate.capitalize():\n",
    "    print(((motivate.replace('a','@')).title()).istitle())"
   ]
  },
  {
   "cell_type": "code",
   "execution_count": 23,
   "id": "1aae4742",
   "metadata": {},
   "outputs": [
    {
     "ename": "TypeError",
     "evalue": "unsupported operand type(s) for +: 'int' and 'tuple'",
     "output_type": "error",
     "traceback": [
      "\u001b[1;31m---------------------------------------------------------------------------\u001b[0m",
      "\u001b[1;31mTypeError\u001b[0m                                 Traceback (most recent call last)",
      "Cell \u001b[1;32mIn[23], line 3\u001b[0m\n\u001b[0;32m      1\u001b[0m t1 \u001b[38;5;241m=\u001b[39m (\u001b[38;5;241m6\u001b[39m)\n\u001b[0;32m      2\u001b[0m t2 \u001b[38;5;241m=\u001b[39m (\u001b[38;5;241m7\u001b[39m,)\n\u001b[1;32m----> 3\u001b[0m t3 \u001b[38;5;241m=\u001b[39m t1 \u001b[38;5;241m+\u001b[39m t2\n\u001b[0;32m      4\u001b[0m \u001b[38;5;28mprint\u001b[39m(t3)\n",
      "\u001b[1;31mTypeError\u001b[0m: unsupported operand type(s) for +: 'int' and 'tuple'"
     ]
    }
   ],
   "source": [
    "t1 = (6)\n",
    "t2 = (7,)\n",
    "t3 = t1 + t2\n",
    "print(t3)"
   ]
  },
  {
   "cell_type": "code",
   "execution_count": 26,
   "id": "b2998e4f",
   "metadata": {},
   "outputs": [
    {
     "name": "stdout",
     "output_type": "stream",
     "text": [
      "()\n",
      "\n",
      "('*',)\n",
      "\t\n",
      "('*', '*')\n",
      "\t\t\n",
      "('*', '*', '*')\n",
      "\t\t\t\n",
      "('*', '*', '*', '*')\n",
      "\t\t\t\t\n"
     ]
    }
   ],
   "source": [
    "t = ('*',)\n",
    "for i in range(5):\n",
    "    print(t * i)\n",
    "    print('\\t'*i)\n",
    "    "
   ]
  },
  {
   "cell_type": "code",
   "execution_count": null,
   "id": "1aedb882",
   "metadata": {},
   "outputs": [],
   "source": []
  }
 ],
 "metadata": {
  "kernelspec": {
   "display_name": "Python 3 (ipykernel)",
   "language": "python",
   "name": "python3"
  },
  "language_info": {
   "codemirror_mode": {
    "name": "ipython",
    "version": 3
   },
   "file_extension": ".py",
   "mimetype": "text/x-python",
   "name": "python",
   "nbconvert_exporter": "python",
   "pygments_lexer": "ipython3",
   "version": "3.11.3"
  }
 },
 "nbformat": 4,
 "nbformat_minor": 5
}
