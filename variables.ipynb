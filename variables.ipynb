{
 "cells": [
  {
   "cell_type": "code",
   "execution_count": 3,
   "id": "b662ab7b",
   "metadata": {},
   "outputs": [],
   "source": [
    "name = 'kavin' #string variable\n",
    "mark = 100 #integer\n",
    "elec = 5 + 6j #complex"
   ]
  },
  {
   "cell_type": "code",
   "execution_count": 2,
   "id": "10d975fa",
   "metadata": {},
   "outputs": [
    {
     "name": "stdout",
     "output_type": "stream",
     "text": [
      "welcome kavin !!!!!!!!!!!!!\n"
     ]
    }
   ],
   "source": [
    "print(\"welcome\",name,'!!!!!!!!!!!!!')"
   ]
  },
  {
   "cell_type": "code",
   "execution_count": null,
   "id": "4e73b4e1",
   "metadata": {},
   "outputs": [],
   "source": []
  },
  {
   "cell_type": "code",
   "execution_count": 3,
   "id": "2918214e",
   "metadata": {},
   "outputs": [
    {
     "name": "stdout",
     "output_type": "stream",
     "text": [
      "15 5\n"
     ]
    }
   ],
   "source": [
    "#x,y= 50,100\n",
    "y,x = 5,y+10\n",
    "print(x,y)"
   ]
  },
  {
   "cell_type": "code",
   "execution_count": null,
   "id": "49136176",
   "metadata": {},
   "outputs": [],
   "source": []
  }
 ],
 "metadata": {
  "kernelspec": {
   "display_name": "Python 3 (ipykernel)",
   "language": "python",
   "name": "python3"
  },
  "language_info": {
   "codemirror_mode": {
    "name": "ipython",
    "version": 3
   },
   "file_extension": ".py",
   "mimetype": "text/x-python",
   "name": "python",
   "nbconvert_exporter": "python",
   "pygments_lexer": "ipython3",
   "version": "3.11.3"
  }
 },
 "nbformat": 4,
 "nbformat_minor": 5
}
