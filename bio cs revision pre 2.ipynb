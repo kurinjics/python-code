{
 "cells": [
  {
   "cell_type": "code",
   "execution_count": 14,
   "id": "9ba8f673",
   "metadata": {},
   "outputs": [
    {
     "name": "stdout",
     "output_type": "stream",
     "text": [
      "hello\n",
      "everyone gathered here\n"
     ]
    }
   ],
   "source": [
    "f = open(\"bio\",\"w+\")\n",
    "f.seek(0)\n",
    "f.write(\"hello\\neveryone gathered here\")\n",
    "f.close()\n",
    "f = open(\"bio\",\"r\")\n",
    "print(f.read(-200))\n",
    "f.close()"
   ]
  },
  {
   "cell_type": "code",
   "execution_count": 44,
   "id": "7af2f646",
   "metadata": {},
   "outputs": [],
   "source": [
    "import csv\n",
    "f = open(\"bio.csv\",\"w\")\n",
    "cw = csv.writer(f,delimiter ='*')\n",
    "cw.writerow(['empno','ename','mno','sal'])\n",
    "cw.writerow([1,'prasanth',9999999999,100000])\n",
    "cw.writerow([2,'mithun',7857853,200000])\n",
    "f.close()\n"
   ]
  },
  {
   "cell_type": "code",
   "execution_count": 45,
   "id": "394f9630",
   "metadata": {},
   "outputs": [
    {
     "name": "stdout",
     "output_type": "stream",
     "text": [
      "[] <class 'list'>\n",
      "['1*prasanth*9999999999*100000'] <class 'list'>\n",
      "[] <class 'list'>\n",
      "['2*mithun*7857853*200000'] <class 'list'>\n",
      "[] <class 'list'>\n"
     ]
    }
   ],
   "source": [
    "f = open(\"bio.csv\",\"r\")\n",
    "cr = csv.reader(f)\n",
    "next(cr)\n",
    "for i in cr:\n",
    "    print(i,type(i))\n",
    "f.close()"
   ]
  },
  {
   "cell_type": "code",
   "execution_count": 46,
   "id": "3afa7d6f",
   "metadata": {},
   "outputs": [
    {
     "name": "stdout",
     "output_type": "stream",
     "text": [
      "prasanth\n"
     ]
    }
   ],
   "source": [
    "f = open(\"bio.csv\",\"r\",newline = '\\r\\n')\n",
    "cr = csv.reader(f,delimiter= '*')\n",
    "next(cr)\n",
    "for i in cr:\n",
    "   \n",
    "    if int(i[0]) == 1:\n",
    "        print(i[1])\n",
    "        \n",
    "f.close()"
   ]
  },
  {
   "cell_type": "code",
   "execution_count": 48,
   "id": "a4808e3f",
   "metadata": {},
   "outputs": [
    {
     "name": "stdout",
     "output_type": "stream",
     "text": [
      "['rithick', 'maths', [100]] ['rithick', 'maths', [100]]\n"
     ]
    }
   ],
   "source": [
    "stu = ['rithick','maths',[100]]\n",
    "result = stu\n",
    "update = result[2][0]-10\n",
    "print(result,stu)"
   ]
  },
  {
   "cell_type": "code",
   "execution_count": null,
   "id": "521165ad",
   "metadata": {},
   "outputs": [],
   "source": []
  },
  {
   "cell_type": "code",
   "execution_count": null,
   "id": "232e7249",
   "metadata": {},
   "outputs": [],
   "source": []
  }
 ],
 "metadata": {
  "kernelspec": {
   "display_name": "Python 3 (ipykernel)",
   "language": "python",
   "name": "python3"
  },
  "language_info": {
   "codemirror_mode": {
    "name": "ipython",
    "version": 3
   },
   "file_extension": ".py",
   "mimetype": "text/x-python",
   "name": "python",
   "nbconvert_exporter": "python",
   "pygments_lexer": "ipython3",
   "version": "3.11.3"
  }
 },
 "nbformat": 4,
 "nbformat_minor": 5
}
