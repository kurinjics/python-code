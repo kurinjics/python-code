{
 "cells": [
  {
   "cell_type": "code",
   "execution_count": 1,
   "id": "2dc5b65c",
   "metadata": {},
   "outputs": [],
   "source": [
    "Motivate = \"Believe in Yourself\"\n"
   ]
  },
  {
   "cell_type": "code",
   "execution_count": 2,
   "id": "ff5842eb",
   "metadata": {},
   "outputs": [
    {
     "name": "stdout",
     "output_type": "stream",
     "text": [
      "Believe in Yourself\n"
     ]
    }
   ],
   "source": [
    "print(Motivate)"
   ]
  },
  {
   "cell_type": "code",
   "execution_count": 3,
   "id": "f494e273",
   "metadata": {},
   "outputs": [
    {
     "name": "stdout",
     "output_type": "stream",
     "text": [
      "v\n"
     ]
    }
   ],
   "source": [
    "print(Motivate[5])"
   ]
  },
  {
   "cell_type": "code",
   "execution_count": 4,
   "id": "6f52621d",
   "metadata": {},
   "outputs": [
    {
     "name": "stdout",
     "output_type": "stream",
     "text": [
      "Believe in YourselfBelieve in Yourself\n",
      "Believe in YourselfBelieve in YourselfBelieve in YourselfBelieve in YourselfBelieve in YourselfBelieve in YourselfBelieve in YourselfBelieve in YourselfBelieve in YourselfBelieve in Yourself\n",
      "Believe in YourselfBelieve in YourselfBelieve in YourselfBelieve in YourselfBelieve in Yourself\n"
     ]
    }
   ],
   "source": [
    "print(Motivate + Motivate)# concatenation <string> + <string>\n",
    "print(Motivate * 10)#replication <string> * <int>\n",
    "print(5 * Motivate) #replication <int> * <string> "
   ]
  },
  {
   "cell_type": "code",
   "execution_count": 5,
   "id": "60f67ed1",
   "metadata": {},
   "outputs": [
    {
     "name": "stdout",
     "output_type": "stream",
     "text": [
      "B e l i e v e   i n   Y o u r s e l f "
     ]
    }
   ],
   "source": [
    "for i in Motivate:\n",
    "    print(i,end=\" \")"
   ]
  },
  {
   "cell_type": "code",
   "execution_count": 6,
   "id": "f8068d7b",
   "metadata": {},
   "outputs": [
    {
     "name": "stdout",
     "output_type": "stream",
     "text": [
      "19\n"
     ]
    }
   ],
   "source": [
    "print(len(Motivate))"
   ]
  },
  {
   "cell_type": "code",
   "execution_count": 13,
   "id": "ba28afa4",
   "metadata": {},
   "outputs": [
    {
     "name": "stdout",
     "output_type": "stream",
     "text": [
      "B e l i e v e   i n   Y o u r s e l f \n",
      "No of characters in a seq: 19\n"
     ]
    }
   ],
   "source": [
    "# Write a program to Count no of character in a sequence\n",
    "c = 0\n",
    "for i in Motivate:\n",
    "    print(i,end=\" \")\n",
    "    c += 1\n",
    "print()\n",
    "print(\"No of characters in a seq:\",c)"
   ]
  },
  {
   "cell_type": "code",
   "execution_count": 15,
   "id": "27da7e11",
   "metadata": {},
   "outputs": [
    {
     "name": "stdout",
     "output_type": "stream",
     "text": [
      "Believe in Yourself\n",
      "Bleei oref"
     ]
    }
   ],
   "source": [
    "print(Motivate)\n",
    "for  i in range(0,len(Motivate),2):\n",
    "    print(Motivate[i],end = '')"
   ]
  },
  {
   "cell_type": "code",
   "execution_count": 17,
   "id": "bc7c0e5e",
   "metadata": {},
   "outputs": [
    {
     "name": "stdout",
     "output_type": "stream",
     "text": [
      "e\n",
      "Rav\n"
     ]
    }
   ],
   "source": [
    "#String Slicing\n",
    "#String_Variable[<start>:<stop>:<step>]\n",
    "print(\"Raveena\"[3])\n",
    "print(\"Raveena\"[0:3])"
   ]
  },
  {
   "cell_type": "code",
   "execution_count": 18,
   "id": "6e073696",
   "metadata": {},
   "outputs": [
    {
     "name": "stdout",
     "output_type": "stream",
     "text": [
      "Raveena\n",
      "Rav\n"
     ]
    }
   ],
   "source": [
    "print(\"Raveena\")\n",
    "print(\"Raveena\"[0:3:1])"
   ]
  },
  {
   "cell_type": "code",
   "execution_count": 19,
   "id": "54bf44c2",
   "metadata": {},
   "outputs": [
    {
     "name": "stdout",
     "output_type": "stream",
     "text": [
      "Rv\n"
     ]
    }
   ],
   "source": [
    "print(\"Raveena\"[0:3:2])"
   ]
  },
  {
   "cell_type": "code",
   "execution_count": 20,
   "id": "e60c95cd",
   "metadata": {},
   "outputs": [
    {
     "name": "stdout",
     "output_type": "stream",
     "text": [
      "Raveena\n"
     ]
    }
   ],
   "source": [
    "print(\"Raveena\"[::])"
   ]
  },
  {
   "cell_type": "code",
   "execution_count": 21,
   "id": "e3abe4d5",
   "metadata": {},
   "outputs": [
    {
     "name": "stdout",
     "output_type": "stream",
     "text": [
      "Raveena\n"
     ]
    }
   ],
   "source": [
    "print(\"Raveena\"[0::])"
   ]
  },
  {
   "cell_type": "code",
   "execution_count": 1,
   "id": "06701a24",
   "metadata": {},
   "outputs": [
    {
     "name": "stdout",
     "output_type": "stream",
     "text": [
      "supernova\n",
      "supernova\n",
      "supernova\n",
      "super\n",
      "super\n",
      "nova\n",
      "nova\n",
      "nova\n",
      "nova\n"
     ]
    }
   ],
   "source": [
    "ai = \"supernova\"\n",
    "print(ai[0:]) #\"supernova\"\n",
    "print(ai[::])#\"supernova\"\n",
    "print(ai[:len(ai)])#\"supernova\"\n",
    "print(ai[0:5]) #\"super\"\n",
    "print(ai[:5:1])#'super'\n",
    "print(ai[5:])#nova\n",
    "print(ai[5:10])#nova\n",
    "print(ai[5:10:1])#nova\n",
    "print(ai[5:len(ai)])#nova"
   ]
  },
  {
   "cell_type": "code",
   "execution_count": 3,
   "id": "6ef6c264",
   "metadata": {},
   "outputs": [
    {
     "name": "stdout",
     "output_type": "stream",
     "text": [
      "<class 'str'>\n"
     ]
    }
   ],
   "source": [
    "print(type(ai[10:]))"
   ]
  },
  {
   "cell_type": "code",
   "execution_count": 4,
   "id": "27f13ce4",
   "metadata": {},
   "outputs": [
    {
     "name": "stdout",
     "output_type": "stream",
     "text": [
      "supernova <class 'str'>\n"
     ]
    }
   ],
   "source": [
    "print(ai[-10:],type(ai[10:]))"
   ]
  },
  {
   "cell_type": "code",
   "execution_count": 6,
   "id": "a022a13e",
   "metadata": {},
   "outputs": [
    {
     "name": "stdout",
     "output_type": "stream",
     "text": [
      "super <class 'str'>\n"
     ]
    }
   ],
   "source": [
    "print(ai[-10:-4])"
   ]
  },
  {
   "cell_type": "code",
   "execution_count": 7,
   "id": "3d71e8ef",
   "metadata": {},
   "outputs": [
    {
     "name": "stdout",
     "output_type": "stream",
     "text": [
      "supernova <class 'str'>\n"
     ]
    }
   ],
   "source": [
    "print(ai[::])"
   ]
  },
  {
   "cell_type": "code",
   "execution_count": 20,
   "id": "ab641503",
   "metadata": {},
   "outputs": [
    {
     "name": "stdout",
     "output_type": "stream",
     "text": [
      "avonrepus\n"
     ]
    }
   ],
   "source": [
    "print(ai[::-1])"
   ]
  },
  {
   "cell_type": "code",
   "execution_count": 19,
   "id": "9d36622c",
   "metadata": {},
   "outputs": [
    {
     "name": "stdout",
     "output_type": "stream",
     "text": [
      "sproa\n"
     ]
    }
   ],
   "source": [
    "print(ai[::2])"
   ]
  },
  {
   "cell_type": "code",
   "execution_count": 17,
   "id": "cf70dc0a",
   "metadata": {},
   "outputs": [
    {
     "name": "stdout",
     "output_type": "stream",
     "text": [
      "aorps\n"
     ]
    }
   ],
   "source": [
    "print(ai[::-2])"
   ]
  },
  {
   "cell_type": "code",
   "execution_count": 21,
   "id": "821b3087",
   "metadata": {},
   "outputs": [
    {
     "name": "stdout",
     "output_type": "stream",
     "text": [
      "supernova\n"
     ]
    }
   ],
   "source": [
    "print(ai[-200:9:])"
   ]
  },
  {
   "cell_type": "code",
   "execution_count": 22,
   "id": "38abafb5",
   "metadata": {},
   "outputs": [
    {
     "name": "stdout",
     "output_type": "stream",
     "text": [
      "\n"
     ]
    }
   ],
   "source": [
    " print(ai[-200:9:-1])"
   ]
  },
  {
   "cell_type": "code",
   "execution_count": 23,
   "id": "29bfd8e6",
   "metadata": {},
   "outputs": [
    {
     "name": "stdout",
     "output_type": "stream",
     "text": [
      "\n",
      "avonrepus\n"
     ]
    }
   ],
   "source": [
    "print(ai[9:-1:-1])\n",
    "print(ai[::-1])"
   ]
  },
  {
   "cell_type": "code",
   "execution_count": 24,
   "id": "8526162d",
   "metadata": {},
   "outputs": [
    {
     "name": "stdout",
     "output_type": "stream",
     "text": [
      "a\n",
      "avonrepus\n"
     ]
    }
   ],
   "source": [
    "print(ai[9:-2:-1])\n",
    "print(ai[::-1])"
   ]
  },
  {
   "cell_type": "code",
   "execution_count": 26,
   "id": "c7a32303",
   "metadata": {},
   "outputs": [
    {
     "name": "stdout",
     "output_type": "stream",
     "text": [
      "\n"
     ]
    }
   ],
   "source": [
    "print(ai[-9:8:-1])"
   ]
  },
  {
   "cell_type": "code",
   "execution_count": 27,
   "id": "658b3398",
   "metadata": {},
   "outputs": [
    {
     "name": "stdout",
     "output_type": "stream",
     "text": [
      "s\n"
     ]
    }
   ],
   "source": [
    "print(ai[-9:8:8])"
   ]
  },
  {
   "cell_type": "code",
   "execution_count": 28,
   "id": "d0244eae",
   "metadata": {},
   "outputs": [
    {
     "name": "stdout",
     "output_type": "stream",
     "text": [
      "\n"
     ]
    }
   ],
   "source": [
    "print(ai[5:5])"
   ]
  },
  {
   "cell_type": "code",
   "execution_count": 1,
   "id": "c582ee7e",
   "metadata": {},
   "outputs": [
    {
     "name": "stdout",
     "output_type": "stream",
     "text": [
      "Indian Space Research Organisation\n",
      "noitasinagrO hcraeseR ecapS naidnI\n",
      "Indian Space Research Organisation\n",
      "\n",
      "I  rgt\n"
     ]
    }
   ],
   "source": [
    "mission =\"Indian Space Research Organisation\"\n",
    "print(mission[::])\n",
    "print(mission[::-1])\n",
    "print(mission[0:len(mission)])\n",
    "print(mission[len(mission):])\n",
    "print(mission[0:len(mission):6])"
   ]
  },
  {
   "cell_type": "code",
   "execution_count": 3,
   "id": "42742f72",
   "metadata": {},
   "outputs": [
    {
     "name": "stdout",
     "output_type": "stream",
     "text": [
      "Air India\n"
     ]
    }
   ],
   "source": [
    "flight = \"Air India\"\n",
    "print(flight.title())"
   ]
  },
  {
   "cell_type": "code",
   "execution_count": 4,
   "id": "a0ed9fc8",
   "metadata": {},
   "outputs": [
    {
     "name": "stdout",
     "output_type": "stream",
     "text": [
      "air india\n"
     ]
    }
   ],
   "source": [
    "print(flight.lower())"
   ]
  },
  {
   "cell_type": "code",
   "execution_count": 8,
   "id": "74cb6f9b",
   "metadata": {},
   "outputs": [
    {
     "name": "stdout",
     "output_type": "stream",
     "text": [
      "18\n",
      "###Przewalski's horse##\n",
      "18\n"
     ]
    }
   ],
   "source": [
    "\n",
    "animal=\"Przewalski's horse\"\n",
    "print(len(animal))\n",
    "print(animal.center(23,\"#\"))\n",
    "print(len(animal))\n",
    "#fill charaCTER SHOULD BE EXACTLY ONE CHAR"
   ]
  },
  {
   "cell_type": "code",
   "execution_count": 10,
   "id": "ef4dcdda",
   "metadata": {},
   "outputs": [
    {
     "name": "stdout",
     "output_type": "stream",
     "text": [
      "************************************** Air India *****************\n",
      "^^^^^^^^^^^^^^^^^^^^Air India^^^^^^^^^^^^^^^^^^^^^\n",
      "2\n"
     ]
    }
   ],
   "source": [
    "print(\"**************************************\",flight,\"*****************\")\n",
    "print(flight.center(50,\"^\"))\n",
    "print(flight.count('i'))"
   ]
  },
  {
   "cell_type": "code",
   "execution_count": 20,
   "id": "d9a9b353",
   "metadata": {},
   "outputs": [
    {
     "name": "stdout",
     "output_type": "stream",
     "text": [
      "2\n"
     ]
    }
   ],
   "source": [
    "print(flight.count('i',0))"
   ]
  },
  {
   "cell_type": "code",
   "execution_count": 22,
   "id": "67815b10",
   "metadata": {},
   "outputs": [
    {
     "name": "stdout",
     "output_type": "stream",
     "text": [
      "1\n"
     ]
    }
   ],
   "source": [
    "print(flight.count('i',2))"
   ]
  },
  {
   "cell_type": "code",
   "execution_count": 23,
   "id": "d68f16a9",
   "metadata": {},
   "outputs": [
    {
     "name": "stdout",
     "output_type": "stream",
     "text": [
      "0\n"
     ]
    }
   ],
   "source": [
    "print(flight.count('i',2,6))"
   ]
  },
  {
   "cell_type": "code",
   "execution_count": 26,
   "id": "6b60221d",
   "metadata": {},
   "outputs": [
    {
     "name": "stdout",
     "output_type": "stream",
     "text": [
      "0 => A\n",
      "1 => i\n",
      "2 => r\n",
      "3 =>  \n",
      "4 => I\n",
      "5 => n\n",
      "6 => d\n",
      "7 => i\n",
      "8 => a\n",
      "0\n",
      "1\n"
     ]
    }
   ],
   "source": [
    "for i in range(len(flight)):\n",
    "    print(i ,'=>',flight[i])\n",
    "print(flight.count('i',2,7))\n",
    "print(flight.count('i',2,8))"
   ]
  },
  {
   "cell_type": "code",
   "execution_count": 27,
   "id": "02e66556",
   "metadata": {},
   "outputs": [
    {
     "name": "stdout",
     "output_type": "stream",
     "text": [
      "3\n"
     ]
    }
   ],
   "source": [
    "print((flight.casefold()).count('i'))"
   ]
  },
  {
   "cell_type": "code",
   "execution_count": 13,
   "id": "335a321b",
   "metadata": {},
   "outputs": [
    {
     "name": "stdout",
     "output_type": "stream",
     "text": [
      "3\n"
     ]
    }
   ],
   "source": [
    "print((flight.capitalize()).count(\"i\"))"
   ]
  },
  {
   "cell_type": "code",
   "execution_count": 30,
   "id": "6c0c6683",
   "metadata": {},
   "outputs": [
    {
     "name": "stdout",
     "output_type": "stream",
     "text": [
      "b'\\xff\\xfe\\x00\\x00A\\x00\\x00\\x00i\\x00\\x00\\x00r\\x00\\x00\\x00 \\x00\\x00\\x00I\\x00\\x00\\x00n\\x00\\x00\\x00d\\x00\\x00\\x00i\\x00\\x00\\x00a\\x00\\x00\\x00'\n"
     ]
    }
   ],
   "source": [
    "print(flight.encode( encoding='utf-32', errors='strict'))"
   ]
  },
  {
   "cell_type": "code",
   "execution_count": 31,
   "id": "4bf2124d",
   "metadata": {},
   "outputs": [
    {
     "name": "stdout",
     "output_type": "stream",
     "text": [
      "b'Air India'\n"
     ]
    }
   ],
   "source": [
    "print(flight.encode( encoding='ANSI', errors='strict'))"
   ]
  },
  {
   "cell_type": "code",
   "execution_count": 32,
   "id": "ce7a377a",
   "metadata": {},
   "outputs": [
    {
     "name": "stdout",
     "output_type": "stream",
     "text": [
      "b'A\\x00i\\x00r\\x00 \\x00I\\x00n\\x00d\\x00i\\x00a\\x00'\n"
     ]
    }
   ],
   "source": [
    "print(flight.encode( encoding='utf-16LE', errors='strict'))"
   ]
  },
  {
   "cell_type": "code",
   "execution_count": 33,
   "id": "9c242967",
   "metadata": {},
   "outputs": [
    {
     "name": "stdout",
     "output_type": "stream",
     "text": [
      "b'Air India'\n"
     ]
    }
   ],
   "source": [
    "print(flight.encode( encoding='utf-8', errors='strict'))"
   ]
  },
  {
   "cell_type": "code",
   "execution_count": 34,
   "id": "f26262f6",
   "metadata": {},
   "outputs": [
    {
     "name": "stdout",
     "output_type": "stream",
     "text": [
      "False\n"
     ]
    }
   ],
   "source": [
    "news = \"Vietnam-Based Cybercrime\"\n",
    "print(news.endswith(\"Crime\"))"
   ]
  },
  {
   "cell_type": "code",
   "execution_count": 35,
   "id": "fb4f040f",
   "metadata": {},
   "outputs": [
    {
     "name": "stdout",
     "output_type": "stream",
     "text": [
      "True\n"
     ]
    }
   ],
   "source": [
    "news = \"Vietnam-Based Cybercrime\"\n",
    "print(news.endswith(\"crime\"))"
   ]
  },
  {
   "cell_type": "code",
   "execution_count": 36,
   "id": "4851f2a0",
   "metadata": {},
   "outputs": [
    {
     "name": "stdout",
     "output_type": "stream",
     "text": [
      "True\n"
     ]
    }
   ],
   "source": [
    "news = \"Vietnam-Based Cybercrime\"\n",
    "print(news.endswith(\"ime\"))"
   ]
  },
  {
   "cell_type": "code",
   "execution_count": 37,
   "id": "7068b048",
   "metadata": {},
   "outputs": [
    {
     "name": "stdout",
     "output_type": "stream",
     "text": [
      "False\n"
     ]
    }
   ],
   "source": [
    "news = \"Vietnam-Based Cybercrime\"\n",
    "print(news.endswith(\"crimme\"))"
   ]
  },
  {
   "cell_type": "code",
   "execution_count": 47,
   "id": "7b1afb78",
   "metadata": {},
   "outputs": [
    {
     "name": "stdout",
     "output_type": "stream",
     "text": [
      "0 => V\n",
      "1 => i\n",
      "2 => e\n",
      "3 => t\n",
      "4 => n\n",
      "5 => a\n",
      "6 => m\n",
      "7 => -\n",
      "8 => B\n",
      "9 => a\n",
      "10 => s\n",
      "11 => e\n",
      "12 => d\n",
      "13 =>  \n",
      "14 => C\n",
      "15 => y\n",
      "16 => b\n",
      "17 => e\n",
      "18 => r\n",
      "19 => c\n",
      "20 => r\n",
      "21 => i\n",
      "22 => m\n",
      "23 => e\n",
      "True\n"
     ]
    }
   ],
   "source": [
    "news = \"Vietnam-Based Cybercrime\"\n",
    "for i in range(len(news)):print(i, \"=>\",news[i])\n",
    "print(news.endswith(\"m\",19,23))"
   ]
  },
  {
   "cell_type": "code",
   "execution_count": 46,
   "id": "f71b67ca",
   "metadata": {},
   "outputs": [
    {
     "name": "stdout",
     "output_type": "stream",
     "text": [
      "True\n"
     ]
    }
   ],
   "source": [
    "news = \"Vietnam-Based Cybercrime\"\n",
    "print(news.startswith(\"v\".upper()))"
   ]
  },
  {
   "cell_type": "code",
   "execution_count": 53,
   "id": "9160e823",
   "metadata": {},
   "outputs": [
    {
     "name": "stdout",
     "output_type": "stream",
     "text": [
      "False\n"
     ]
    }
   ],
   "source": [
    "print(news.startswith(\"B\"))"
   ]
  },
  {
   "cell_type": "code",
   "execution_count": 49,
   "id": "651a7ad7",
   "metadata": {},
   "outputs": [
    {
     "name": "stdout",
     "output_type": "stream",
     "text": [
      "True\n"
     ]
    }
   ],
   "source": [
    "print(news.startswith(\"B\",8))"
   ]
  },
  {
   "cell_type": "code",
   "execution_count": 50,
   "id": "542f6d45",
   "metadata": {},
   "outputs": [
    {
     "name": "stdout",
     "output_type": "stream",
     "text": [
      "False\n"
     ]
    }
   ],
   "source": [
    "print(news.startswith(\"c\",8))"
   ]
  },
  {
   "cell_type": "code",
   "execution_count": 52,
   "id": "252c1f67",
   "metadata": {},
   "outputs": [
    {
     "name": "stdout",
     "output_type": "stream",
     "text": [
      "True\n"
     ]
    }
   ],
   "source": [
    "print(news.startswith(\"c\",19,24))"
   ]
  },
  {
   "cell_type": "code",
   "execution_count": 54,
   "id": "796ad855",
   "metadata": {},
   "outputs": [
    {
     "name": "stdout",
     "output_type": "stream",
     "text": [
      "Air India\n"
     ]
    }
   ],
   "source": [
    " print(flight.expandtabs())"
   ]
  },
  {
   "cell_type": "code",
   "execution_count": 55,
   "id": "5f40eab0",
   "metadata": {},
   "outputs": [
    {
     "name": "stdout",
     "output_type": "stream",
     "text": [
      "Air India\n"
     ]
    }
   ],
   "source": [
    " print(flight.expandtabs(tabsize =16))"
   ]
  },
  {
   "cell_type": "code",
   "execution_count": 63,
   "id": "3322ac13",
   "metadata": {},
   "outputs": [
    {
     "name": "stdout",
     "output_type": "stream",
     "text": [
      "A       Z\n"
     ]
    }
   ],
   "source": [
    "print(\"A\\tZ\".expandtabs())"
   ]
  },
  {
   "cell_type": "code",
   "execution_count": 64,
   "id": "5bc5b140",
   "metadata": {},
   "outputs": [
    {
     "name": "stdout",
     "output_type": "stream",
     "text": [
      "A               Z\n"
     ]
    }
   ],
   "source": [
    "print(\"A\\tZ\".expandtabs(tabsize = 16))"
   ]
  },
  {
   "cell_type": "code",
   "execution_count": 65,
   "id": "3d31393a",
   "metadata": {},
   "outputs": [
    {
     "name": "stdout",
     "output_type": "stream",
     "text": [
      "                                x\n"
     ]
    }
   ],
   "source": [
    "print(\"\\tx\".expandtabs(tabsize = 32))"
   ]
  },
  {
   "cell_type": "code",
   "execution_count": 62,
   "id": "9a0003d7",
   "metadata": {},
   "outputs": [
    {
     "name": "stdout",
     "output_type": "stream",
     "text": [
      "a                                                                                                                                                                                                                       \n",
      "\n",
      "z\n"
     ]
    }
   ],
   "source": [
    "print(\"a\\t\\n\\nz\".expandtabs(tabsize = 216))"
   ]
  },
  {
   "cell_type": "code",
   "execution_count": 15,
   "id": "b829fdcf",
   "metadata": {},
   "outputs": [],
   "source": [
    "L  = \"mojo\"\n",
    "M = \"Python3\"\n",
    "N = \"2024\"\n",
    "O = \"WaitingtoWelcome2024\"\n",
    "P = \"Waiting to Welcome 2024\"\n"
   ]
  },
  {
   "cell_type": "markdown",
   "id": "47d50aa9",
   "metadata": {},
   "source": [
    "isalpha(self, /)-Return True if the string is an alphabetic string, False otherwise.\n",
    " isdigit(self, /)-Return True if the string is a digit string, False otherwise.\n",
    "isalnum()-Return True if the string is an alpha-numeric string, False otherwise.\n"
   ]
  },
  {
   "cell_type": "code",
   "execution_count": 19,
   "id": "9eb1cbeb",
   "metadata": {},
   "outputs": [
    {
     "name": "stdout",
     "output_type": "stream",
     "text": [
      "mojo\n",
      "True\n",
      "False\n",
      "True\n",
      "2023\n"
     ]
    }
   ],
   "source": [
    "print(L)\n",
    "print(L.isalpha())#is Only alphabet True, else False\n",
    "print(L.isdigit())#is Only digit True, else False\n",
    "print(L.isalnum())#True for alpha or digit\n",
    "print(\"2023\".lower())"
   ]
  },
  {
   "cell_type": "code",
   "execution_count": 10,
   "id": "c597a7e8",
   "metadata": {},
   "outputs": [
    {
     "name": "stdout",
     "output_type": "stream",
     "text": [
      "Python3\n",
      "False\n",
      "True\n"
     ]
    }
   ],
   "source": [
    "print(M)\n",
    "print(M.isalpha())#is Only alphabet True, else False\n",
    "print(M.isalnum())"
   ]
  },
  {
   "cell_type": "code",
   "execution_count": 11,
   "id": "c090b0e6",
   "metadata": {},
   "outputs": [
    {
     "name": "stdout",
     "output_type": "stream",
     "text": [
      "2024\n",
      "False\n",
      "True\n"
     ]
    }
   ],
   "source": [
    "print(N)\n",
    "print(N.isalpha())#is Only alphabet True, else False\n",
    "print(N.isalnum())"
   ]
  },
  {
   "cell_type": "code",
   "execution_count": 12,
   "id": "fe59bd7c",
   "metadata": {},
   "outputs": [
    {
     "name": "stdout",
     "output_type": "stream",
     "text": [
      "WaitingtoWelcome2024\n",
      "False\n",
      "True\n"
     ]
    }
   ],
   "source": [
    "print(O)\n",
    "print(O.isalpha())#is Only alphabet True, else False\n",
    "print(O.isalnum())"
   ]
  },
  {
   "cell_type": "code",
   "execution_count": 13,
   "id": "75e03b33",
   "metadata": {},
   "outputs": [
    {
     "name": "stdout",
     "output_type": "stream",
     "text": [
      "Waiting to Welcome 2024\n",
      "False\n",
      "False\n"
     ]
    }
   ],
   "source": [
    "print(P)\n",
    "print(P.isalpha())#is Only alphabet True, else False\n",
    "print(P.isalnum())"
   ]
  },
  {
   "cell_type": "code",
   "execution_count": 15,
   "id": "d5f27cf8",
   "metadata": {},
   "outputs": [
    {
     "name": "stdout",
     "output_type": "stream",
     "text": [
      "False\n",
      "False\n"
     ]
    }
   ],
   "source": [
    "print(\"Mojo Monk\".isupper())\n",
    "print(\"Mojo Monk\".islower())"
   ]
  },
  {
   "cell_type": "code",
   "execution_count": 17,
   "id": "e6b88a57",
   "metadata": {},
   "outputs": [
    {
     "name": "stdout",
     "output_type": "stream",
     "text": [
      "True\n",
      "False\n"
     ]
    }
   ],
   "source": [
    "name = \"MONK\"\n",
    "print(name.isupper())\n",
    "print(name.islower())"
   ]
  },
  {
   "cell_type": "code",
   "execution_count": 18,
   "id": "6b846b41",
   "metadata": {},
   "outputs": [
    {
     "name": "stdout",
     "output_type": "stream",
     "text": [
      "False\n",
      "True\n"
     ]
    }
   ],
   "source": [
    "name = \"jay shetty\"\n",
    "print(name.isupper())\n",
    "print(name.islower())"
   ]
  },
  {
   "cell_type": "code",
   "execution_count": 19,
   "id": "f27dc253",
   "metadata": {},
   "outputs": [
    {
     "name": "stdout",
     "output_type": "stream",
     "text": [
      "jay shetty\n"
     ]
    }
   ],
   "source": [
    "print(name.lower())"
   ]
  },
  {
   "cell_type": "code",
   "execution_count": 22,
   "id": "79284bc6",
   "metadata": {},
   "outputs": [
    {
     "name": "stdout",
     "output_type": "stream",
     "text": [
      "Enter the mailid:KAVIRENUEDU@GMAIL.COM\n",
      "Enter the password:seek\n",
      "Successfully logged in....Go ahead\n"
     ]
    }
   ],
   "source": [
    "email = input(\"Enter the mailid:\")\n",
    "password = input(\"Enter the password:\")\n",
    "if email.lower() == \"kavirenuedu@gmail.com\" and password.upper() == \"SEEK\":\n",
    "    print(\"Successfully logged in....Go ahead\")\n",
    "else:\n",
    "    print(\"Try Again\")"
   ]
  },
  {
   "cell_type": "code",
   "execution_count": 26,
   "id": "bfb1182a",
   "metadata": {},
   "outputs": [
    {
     "name": "stdout",
     "output_type": "stream",
     "text": [
      "False\n",
      "True\n",
      "False\n",
      "True\n"
     ]
    }
   ],
   "source": [
    "#isspace(self, /)-Return True if the string is a whitespace string, False otherwise.\n",
    "print(\"Mojo in Linux\".isspace())\n",
    "print(\" \".isspace())\n",
    "print(\"123\".isspace())\n",
    "print(\"\\t\\t\".isspace())"
   ]
  },
  {
   "cell_type": "code",
   "execution_count": 27,
   "id": "ff4cf245",
   "metadata": {},
   "outputs": [
    {
     "name": "stdout",
     "output_type": "stream",
     "text": [
      "\r",
      "\t\n"
     ]
    }
   ],
   "source": [
    "print(\"\\r\\t\")"
   ]
  },
  {
   "cell_type": "code",
   "execution_count": 28,
   "id": "608e5bf1",
   "metadata": {},
   "outputs": [
    {
     "name": "stdout",
     "output_type": "stream",
     "text": [
      "True\n"
     ]
    }
   ],
   "source": [
    "print(\"\\r\\t \\n\".isspace())"
   ]
  },
  {
   "cell_type": "markdown",
   "id": "c7d82ad3",
   "metadata": {},
   "source": [
    "title(self, /)\n",
    " |      Return a version of the string where each word is titlecased.\n"
   ]
  },
  {
   "cell_type": "code",
   "execution_count": 4,
   "id": "8cc2b89e",
   "metadata": {},
   "outputs": [
    {
     "name": "stdout",
     "output_type": "stream",
     "text": [
      "False\n"
     ]
    }
   ],
   "source": [
    "\n",
    "\n",
    "print(\"Samsung\\'s Bixy Text Call Feature In India\".istitle())"
   ]
  },
  {
   "cell_type": "code",
   "execution_count": 5,
   "id": "eb28f9e1",
   "metadata": {},
   "outputs": [
    {
     "name": "stdout",
     "output_type": "stream",
     "text": [
      "True\n"
     ]
    }
   ],
   "source": [
    "print(\"Samsung Bixy Text Call Feature In India\".istitle())"
   ]
  },
  {
   "cell_type": "code",
   "execution_count": 6,
   "id": "86a04753",
   "metadata": {},
   "outputs": [
    {
     "name": "stdout",
     "output_type": "stream",
     "text": [
      "Samsung'S Bixy Text Call Feature In India\n"
     ]
    }
   ],
   "source": [
    "print(\"samsung\\'s Bixy text Call feature in India\".title())"
   ]
  },
  {
   "cell_type": "markdown",
   "id": "38ce5512",
   "metadata": {},
   "source": [
    "strip(self, chars=None, /)\n",
    " |      Return a copy of the string with leading and trailing whitespace removed.\n",
    " |      \n",
    " |      If chars is given and not None, remove characters in chars instead.\n",
    " |  \n",
    " rstrip(self, chars=None, /)\n",
    " |      Return a copy of the string with trailing whitespace removed.\n",
    " |      \n",
    " |      If chars is given and not None, remove characters in chars instead.\n",
    " lstrip(self, chars=None, /)\n",
    " |      Return a copy of the string with leading whitespace removed.\n",
    " |      \n",
    " |      If chars is given and not None, remove characters in chars instead.\n",
    " |  \n"
   ]
  },
  {
   "cell_type": "code",
   "execution_count": 7,
   "id": "ffdbf8e1",
   "metadata": {},
   "outputs": [
    {
     "name": "stdout",
     "output_type": "stream",
     "text": [
      "Technology\n"
     ]
    }
   ],
   "source": [
    "print(\"Technology\".strip())"
   ]
  },
  {
   "cell_type": "code",
   "execution_count": 8,
   "id": "c0e175a0",
   "metadata": {},
   "outputs": [
    {
     "name": "stdout",
     "output_type": "stream",
     "text": [
      "                              Technology                       \n"
     ]
    }
   ],
   "source": [
    "print(\"                              Technology                       \")"
   ]
  },
  {
   "cell_type": "code",
   "execution_count": 9,
   "id": "972d83d2",
   "metadata": {},
   "outputs": [
    {
     "name": "stdout",
     "output_type": "stream",
     "text": [
      "Technology\n"
     ]
    }
   ],
   "source": [
    "print(\"                              Technology                       \".strip())"
   ]
  },
  {
   "cell_type": "code",
   "execution_count": 11,
   "id": "1bb2c900",
   "metadata": {},
   "outputs": [
    {
     "name": "stdout",
     "output_type": "stream",
     "text": [
      "                              Technology                        63\n",
      "Technology 10\n"
     ]
    }
   ],
   "source": [
    "x =\"                              Technology                       \"\n",
    "print(x,len(x))\n",
    "y = x.strip()\n",
    "print(y,len(y))"
   ]
  },
  {
   "cell_type": "code",
   "execution_count": 12,
   "id": "b86d7a41",
   "metadata": {},
   "outputs": [
    {
     "name": "stdout",
     "output_type": "stream",
     "text": [
      "                              Technology                        63\n",
      "Technology                        33\n"
     ]
    }
   ],
   "source": [
    "x =\"                              Technology                       \"#Left 30 right 23\n",
    "print(x,len(x))\n",
    "y = x.lstrip()\n",
    "print(y,len(y))"
   ]
  },
  {
   "cell_type": "code",
   "execution_count": 13,
   "id": "804fb3f5",
   "metadata": {},
   "outputs": [
    {
     "name": "stdout",
     "output_type": "stream",
     "text": [
      "                              Technology                        63\n",
      "                              Technology 40\n"
     ]
    }
   ],
   "source": [
    "x =\"                              Technology                       \"\n",
    "print(x,len(x))\n",
    "y = x.rstrip()\n",
    "print(y,len(y))"
   ]
  },
  {
   "cell_type": "code",
   "execution_count": 15,
   "id": "2086b950",
   "metadata": {},
   "outputs": [
    {
     "name": "stdout",
     "output_type": "stream",
     "text": [
      "malayalam 9\n",
      "layal 5\n"
     ]
    }
   ],
   "source": [
    "x =\"malayalam\"\n",
    "print(x,len(x))\n",
    "y = x.strip('ma')\n",
    "print(y,len(y))"
   ]
  },
  {
   "cell_type": "code",
   "execution_count": 16,
   "id": "7c4d35c5",
   "metadata": {},
   "outputs": [
    {
     "name": "stdout",
     "output_type": "stream",
     "text": [
      "malayalam 9\n",
      "layalam 7\n"
     ]
    }
   ],
   "source": [
    "x =\"malayalam\"\n",
    "print(x,len(x))\n",
    "y = x.lstrip('ma')\n",
    "print(y,len(y))"
   ]
  },
  {
   "cell_type": "code",
   "execution_count": 17,
   "id": "ced9217e",
   "metadata": {},
   "outputs": [
    {
     "name": "stdout",
     "output_type": "stream",
     "text": [
      "malayalam 9\n",
      "malayal 7\n"
     ]
    }
   ],
   "source": [
    "x =\"malayalam\"\n",
    "print(x,len(x))\n",
    "y = x.rstrip('ma')\n",
    "print(y,len(y))"
   ]
  },
  {
   "cell_type": "markdown",
   "id": "d0eac03f",
   "metadata": {},
   "source": [
    " \n",
    " |  split(self, /, sep=None, maxsplit=-1)\n",
    " |      Return a list of the substrings in the string, using sep as the separator string.\n",
    " |      "
   ]
  },
  {
   "cell_type": "code",
   "execution_count": 18,
   "id": "f8683335",
   "metadata": {},
   "outputs": [
    {
     "name": "stdout",
     "output_type": "stream",
     "text": [
      "['Great', 'things', 'in', 'business', 'are', 'never', 'done', 'by', 'one', 'person.', \"They're\", 'done', 'by', 'a', 'team', 'of', 'people.']\n"
     ]
    }
   ],
   "source": [
    "quotes = \"Great things in business are never done by one person. They're done by a team of people.\"\n",
    "print(quotes.split())#return list of words splitted by comma"
   ]
  },
  {
   "cell_type": "code",
   "execution_count": 21,
   "id": "10db81bb",
   "metadata": {},
   "outputs": [
    {
     "name": "stdout",
     "output_type": "stream",
     "text": [
      "['XII', 'Board', 'Exam']\n"
     ]
    }
   ],
   "source": [
    "exam = \"XII Board Exam\"\n",
    "print(exam.split())"
   ]
  },
  {
   "cell_type": "code",
   "execution_count": 22,
   "id": "b925f178",
   "metadata": {},
   "outputs": [
    {
     "name": "stdout",
     "output_type": "stream",
     "text": [
      "['XII Bo', 'rd Ex', 'm']\n"
     ]
    }
   ],
   "source": [
    "exam = \"XII Board Exam\"\n",
    "print(exam.split('a'))"
   ]
  },
  {
   "cell_type": "code",
   "execution_count": 24,
   "id": "87357a7a",
   "metadata": {},
   "outputs": [
    {
     "name": "stdout",
     "output_type": "stream",
     "text": [
      "['X', '', ' Board Exam']\n"
     ]
    }
   ],
   "source": [
    "exam = \"XII Board Exam\"\n",
    "print(exam.split('I'))"
   ]
  },
  {
   "cell_type": "code",
   "execution_count": 25,
   "id": "0b8e6f0f",
   "metadata": {},
   "outputs": [
    {
     "name": "stdout",
     "output_type": "stream",
     "text": [
      "['XII Board Exa', '']\n"
     ]
    }
   ],
   "source": [
    "exam = \"XII Board Exam\"\n",
    "print(exam.split('m'))"
   ]
  },
  {
   "cell_type": "code",
   "execution_count": 1,
   "id": "ed27aa5d",
   "metadata": {},
   "outputs": [
    {
     "name": "stdout",
     "output_type": "stream",
     "text": [
      "['XII Bo', 'rd Exam']\n"
     ]
    }
   ],
   "source": [
    "exam = \"XII Board Exam\"\n",
    "print(exam.split('a',1))"
   ]
  },
  {
   "cell_type": "code",
   "execution_count": 26,
   "id": "20ce3515",
   "metadata": {},
   "outputs": [
    {
     "name": "stdout",
     "output_type": "stream",
     "text": [
      "['', 'II Board Exam']\n"
     ]
    }
   ],
   "source": [
    "exam = \"XII Board Exam\"\n",
    "print(exam.split('X'))"
   ]
  },
  {
   "cell_type": "code",
   "execution_count": 21,
   "id": "5cb8baae",
   "metadata": {},
   "outputs": [
    {
     "name": "stdout",
     "output_type": "stream",
     "text": [
      "('Hello Every', 'one', '')\n"
     ]
    }
   ],
   "source": [
    "print(\"Hello Everyone\".partition(\"one\"))"
   ]
  },
  {
   "cell_type": "code",
   "execution_count": 22,
   "id": "6aa2a923",
   "metadata": {},
   "outputs": [
    {
     "name": "stdout",
     "output_type": "stream",
     "text": [
      "('Hello Every', 'one', ' welcome you all')\n"
     ]
    }
   ],
   "source": [
    "print(\"Hello Everyone welcome you all\".partition(\"one\"))"
   ]
  },
  {
   "cell_type": "code",
   "execution_count": 23,
   "id": "4b14a72e",
   "metadata": {},
   "outputs": [
    {
     "name": "stdout",
     "output_type": "stream",
     "text": [
      "('Hello Everyone', '', '')\n"
     ]
    }
   ],
   "source": [
    "print(\"Hello Everyone\".partition(\"hello\"))"
   ]
  },
  {
   "cell_type": "code",
   "execution_count": 1,
   "id": "1d2df503",
   "metadata": {},
   "outputs": [
    {
     "name": "stdout",
     "output_type": "stream",
     "text": [
      "('Hello Every', 'one', '')\n"
     ]
    }
   ],
   "source": [
    "print(\"Hello Everyone\".partition(\"one\"))"
   ]
  },
  {
   "cell_type": "code",
   "execution_count": 2,
   "id": "d8554435",
   "metadata": {},
   "outputs": [
    {
     "name": "stdout",
     "output_type": "stream",
     "text": [
      "('', 'Hello', ' Everyone')\n"
     ]
    }
   ],
   "source": [
    "print(\"Hello Everyone\".partition(\"Hello\"))"
   ]
  },
  {
   "cell_type": "code",
   "execution_count": 3,
   "id": "beb0b8bf",
   "metadata": {},
   "outputs": [
    {
     "name": "stdout",
     "output_type": "stream",
     "text": [
      "('Hell', 'o', ' Everyone')\n"
     ]
    }
   ],
   "source": [
    "print(\"Hello Everyone\".partition(\"o\"))"
   ]
  },
  {
   "cell_type": "code",
   "execution_count": 1,
   "id": "4978b8e1",
   "metadata": {},
   "outputs": [
    {
     "name": "stdout",
     "output_type": "stream",
     "text": [
      "J@@a@@m@@e@@s@@ @@G@@o@@s@@l@@i@@n@@g\n"
     ]
    }
   ],
   "source": [
    "print(\"@@\".join(\"James Gosling\"))"
   ]
  },
  {
   "cell_type": "code",
   "execution_count": 2,
   "id": "af7180d6",
   "metadata": {},
   "outputs": [
    {
     "name": "stdout",
     "output_type": "stream",
     "text": [
      "James@@Gosling\n"
     ]
    }
   ],
   "source": [
    "print(\"@@\".join(\"James Gosling\".split()))"
   ]
  },
  {
   "cell_type": "code",
   "execution_count": 5,
   "id": "449d544a",
   "metadata": {},
   "outputs": [
    {
     "name": "stdout",
     "output_type": "stream",
     "text": [
      "James Gosl*ng\n",
      "James Gosling\n"
     ]
    }
   ],
   "source": [
    "x =\"James Gosling\"\n",
    "print(x.replace('i',\"*\"))\n",
    "print(x)"
   ]
  },
  {
   "cell_type": "code",
   "execution_count": 6,
   "id": "cec2adf8",
   "metadata": {},
   "outputs": [
    {
     "name": "stdout",
     "output_type": "stream",
     "text": [
      "jAMES gOSLING\n"
     ]
    }
   ],
   "source": [
    "print(x.swapcase())"
   ]
  },
  {
   "cell_type": "code",
   "execution_count": 8,
   "id": "e10a536d",
   "metadata": {},
   "outputs": [
    {
     "name": "stdout",
     "output_type": "stream",
     "text": [
      "abcdefghijklmnopqrstuvwxyzABCDEFGHIJKLMNOPQRSTUVWXYZ\n"
     ]
    }
   ],
   "source": [
    "import string\n",
    "print(string.ascii_letters)"
   ]
  },
  {
   "cell_type": "code",
   "execution_count": 10,
   "id": "e688f475",
   "metadata": {},
   "outputs": [
    {
     "name": "stdout",
     "output_type": "stream",
     "text": [
      "abcdefghijklmnopqrstuvwxyzABCDEFGHIJKLMNOPQRSTUVWXYZ\n",
      "ABCDEFGHIJKLMNOPQRSTUVWXYZ\n",
      "0123456789\n",
      "0123456789abcdefABCDEF\n",
      "01234567\n",
      "0123456789abcdefghijklmnopqrstuvwxyzABCDEFGHIJKLMNOPQRSTUVWXYZ!\"#$%&'()*+,-./:;<=>?@[\\]^_`{|}~ \t\n",
      "\r",
      "\u000b",
      "\f",
      "\n"
     ]
    }
   ],
   "source": [
    "\n",
    "from string import *\n",
    "print(ascii_letters )\n",
    "print(ascii_uppercase)\n",
    "print(digits)\n",
    "print(hexdigits)\n",
    "print(octdigits)\n",
    "print(printable)"
   ]
  },
  {
   "cell_type": "code",
   "execution_count": 13,
   "id": "27fe55fd",
   "metadata": {},
   "outputs": [
    {
     "name": "stdout",
     "output_type": "stream",
     "text": [
      "Hello It's Me Everyone\n"
     ]
    }
   ],
   "source": [
    "print(string.capwords(\"hello it\\'s me Everyone\"))"
   ]
  },
  {
   "cell_type": "code",
   "execution_count": 14,
   "id": "885315eb",
   "metadata": {},
   "outputs": [
    {
     "name": "stdout",
     "output_type": "stream",
     "text": [
      "Hello It'S Me Everyone\n"
     ]
    }
   ],
   "source": [
    "print(\"hello it\\'s me Everyone\".title())"
   ]
  },
  {
   "cell_type": "code",
   "execution_count": 6,
   "id": "cba5349e",
   "metadata": {},
   "outputs": [
    {
     "name": "stdout",
     "output_type": "stream",
     "text": [
      "In a surprising leadership shakeup, Sam Altman has been removed as CEO of artificial intelligence research company OpenAI\n"
     ]
    }
   ],
   "source": [
    "s = \"In a surprising leadership shakeup, Sam Altman has been removed as CEO of artificial intelligence research company OpenAI\"\n",
    "print(s)\n"
   ]
  },
  {
   "cell_type": "code",
   "execution_count": 7,
   "id": "47b040ff",
   "metadata": {},
   "outputs": [
    {
     "ename": "TypeError",
     "evalue": "str.partition() takes exactly one argument (0 given)",
     "output_type": "error",
     "traceback": [
      "\u001b[1;31m---------------------------------------------------------------------------\u001b[0m",
      "\u001b[1;31mTypeError\u001b[0m                                 Traceback (most recent call last)",
      "Cell \u001b[1;32mIn[7], line 1\u001b[0m\n\u001b[1;32m----> 1\u001b[0m \u001b[38;5;28mprint\u001b[39m(s\u001b[38;5;241m.\u001b[39mpartition())\n",
      "\u001b[1;31mTypeError\u001b[0m: str.partition() takes exactly one argument (0 given)"
     ]
    }
   ],
   "source": [
    "print(s.partition())"
   ]
  },
  {
   "cell_type": "code",
   "execution_count": 8,
   "id": "a02e8da3",
   "metadata": {},
   "outputs": [
    {
     "name": "stdout",
     "output_type": "stream",
     "text": [
      "('In a surprising leadership shakeup, Sam Altman has been removed as ', 'CEO', ' of artificial intelligence research company OpenAI')\n"
     ]
    }
   ],
   "source": [
    "print(s.partition('CEO'))"
   ]
  },
  {
   "cell_type": "code",
   "execution_count": 9,
   "id": "8b061445",
   "metadata": {},
   "outputs": [
    {
     "name": "stdout",
     "output_type": "stream",
     "text": [
      "('In a surprising leadership shakeup, Sam Altman has been removed as CEO of artificial intelligence research company OpenAI', '', '')\n"
     ]
    }
   ],
   "source": [
    "print(s.partition('openAI'))"
   ]
  },
  {
   "cell_type": "code",
   "execution_count": 10,
   "id": "6c5cd92a",
   "metadata": {},
   "outputs": [
    {
     "name": "stdout",
     "output_type": "stream",
     "text": [
      "('In a surprising leadership shakeup, Sam Altman has been removed as CEO of artificial intelligence research company ', 'OpenAI', '')\n"
     ]
    }
   ],
   "source": [
    "print(s.partition('OpenAI'))"
   ]
  },
  {
   "cell_type": "code",
   "execution_count": 11,
   "id": "8b2adcc8",
   "metadata": {},
   "outputs": [
    {
     "name": "stdout",
     "output_type": "stream",
     "text": [
      "('', 'In', ' a surprising leadership shakeup, Sam Altman has been removed as CEO of artificial intelligence research company OpenAI')\n"
     ]
    }
   ],
   "source": [
    "print(s.partition('In'))"
   ]
  },
  {
   "cell_type": "code",
   "execution_count": 12,
   "id": "d09bea3d",
   "metadata": {},
   "outputs": [
    {
     "name": "stdout",
     "output_type": "stream",
     "text": [
      "Discord shutting down experimental AI chatbot Clyde\n"
     ]
    }
   ],
   "source": [
    "#<string>.split(<optional>)\n",
    "s =\"Discord shutting down experimental AI chatbot Clyde\"\n",
    "print(s)"
   ]
  },
  {
   "cell_type": "code",
   "execution_count": 13,
   "id": "3389ef10",
   "metadata": {},
   "outputs": [
    {
     "name": "stdout",
     "output_type": "stream",
     "text": [
      "['Discord', 'shutting', 'down', 'experimental', 'AI', 'chatbot', 'Clyde']\n"
     ]
    }
   ],
   "source": [
    "print(s.split())"
   ]
  },
  {
   "cell_type": "code",
   "execution_count": 14,
   "id": "5ce56a92",
   "metadata": {},
   "outputs": [
    {
     "name": "stdout",
     "output_type": "stream",
     "text": [
      "['D', 'scord shutt', 'ng down exper', 'mental AI chatbot Clyde']\n"
     ]
    }
   ],
   "source": [
    "print(s.split('i'))"
   ]
  },
  {
   "cell_type": "code",
   "execution_count": 16,
   "id": "6227ff9f",
   "metadata": {},
   "outputs": [
    {
     "name": "stdout",
     "output_type": "stream",
     "text": [
      "['She', 'sells', 'sea', 'Shell']\n"
     ]
    }
   ],
   "source": [
    "print(\"She sells sea Shell\".split())\n"
   ]
  },
  {
   "cell_type": "code",
   "execution_count": 18,
   "id": "5b698487",
   "metadata": {},
   "outputs": [
    {
     "name": "stdout",
     "output_type": "stream",
     "text": [
      "['Sh', ' s', 'lls s', 'a Sh', 'll']\n"
     ]
    }
   ],
   "source": [
    "print(\"She sells sea Shell\".split('e'))"
   ]
  },
  {
   "cell_type": "code",
   "execution_count": 19,
   "id": "93996031",
   "metadata": {},
   "outputs": [
    {
     "name": "stdout",
     "output_type": "stream",
     "text": [
      "['', 'he ', 'ell', ' ', 'ea ', 'hell']\n"
     ]
    }
   ],
   "source": [
    "print(\"she sells sea shell\".split('s'))"
   ]
  },
  {
   "cell_type": "code",
   "execution_count": 20,
   "id": "d19d366d",
   "metadata": {},
   "outputs": [
    {
     "name": "stdout",
     "output_type": "stream",
     "text": [
      "['', 'ision']\n"
     ]
    }
   ],
   "source": [
    "print(\"vision\".split('v'))"
   ]
  },
  {
   "cell_type": "code",
   "execution_count": 21,
   "id": "ec62d947",
   "metadata": {},
   "outputs": [
    {
     "name": "stdout",
     "output_type": "stream",
     "text": [
      "['visio', '']\n"
     ]
    }
   ],
   "source": [
    "print(\"vision\".split('n'))"
   ]
  },
  {
   "cell_type": "code",
   "execution_count": null,
   "id": "4fb827bb",
   "metadata": {},
   "outputs": [],
   "source": []
  }
 ],
 "metadata": {
  "kernelspec": {
   "display_name": "Python 3 (ipykernel)",
   "language": "python",
   "name": "python3"
  },
  "language_info": {
   "codemirror_mode": {
    "name": "ipython",
    "version": 3
   },
   "file_extension": ".py",
   "mimetype": "text/x-python",
   "name": "python",
   "nbconvert_exporter": "python",
   "pygments_lexer": "ipython3",
   "version": "3.11.3"
  }
 },
 "nbformat": 4,
 "nbformat_minor": 5
}
