{
 "cells": [
  {
   "cell_type": "code",
   "execution_count": 5,
   "id": "79e1facb",
   "metadata": {},
   "outputs": [
    {
     "name": "stdout",
     "output_type": "stream",
     "text": [
      "() <class 'tuple'>\n"
     ]
    }
   ],
   "source": [
    "import pymysql\n",
    "con =pymysql.connect(host = 'localhost',user =\"root\",password =\"root\",database = \"institution\")\n",
    "cursor = con. cursor()\n",
    "#cursor.execute(\"create table faculty as ('select * from faculty')\")\n",
    "cursor.execute(\"Delete from faculty\")\n",
    "cursor.execute(\"select* from faculty\")\n",
    "\n",
    "data = cursor.fetchall()\n",
    "print(data,type(data))\n",
    "con.commit()\n",
    "con.close()"
   ]
  },
  {
   "cell_type": "code",
   "execution_count": null,
   "id": "c99ab3f6",
   "metadata": {},
   "outputs": [],
   "source": []
  }
 ],
 "metadata": {
  "kernelspec": {
   "display_name": "Python 3 (ipykernel)",
   "language": "python",
   "name": "python3"
  },
  "language_info": {
   "codemirror_mode": {
    "name": "ipython",
    "version": 3
   },
   "file_extension": ".py",
   "mimetype": "text/x-python",
   "name": "python",
   "nbconvert_exporter": "python",
   "pygments_lexer": "ipython3",
   "version": "3.11.3"
  }
 },
 "nbformat": 4,
 "nbformat_minor": 5
}
