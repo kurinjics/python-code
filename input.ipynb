{
 "cells": [
  {
   "cell_type": "code",
   "execution_count": 3,
   "id": "757bcf70",
   "metadata": {},
   "outputs": [
    {
     "name": "stdout",
     "output_type": "stream",
     "text": [
      "Enter:5\n",
      "5 <class 'str'>\n"
     ]
    }
   ],
   "source": [
    "x = input(\"Enter:\")\n",
    "#Enter:10\n",
    "print(x,type(x))\n"
   ]
  },
  {
   "cell_type": "code",
   "execution_count": 4,
   "id": "c48a281d",
   "metadata": {},
   "outputs": [
    {
     "name": "stdout",
     "output_type": "stream",
     "text": [
      "Enter:100\n",
      "100 <class 'int'>\n"
     ]
    }
   ],
   "source": [
    "x =int( input(\"Enter:\"))\n",
    "print(x,type(x))\n"
   ]
  },
  {
   "cell_type": "code",
   "execution_count": 5,
   "id": "7293eccd",
   "metadata": {},
   "outputs": [
    {
     "name": "stdout",
     "output_type": "stream",
     "text": [
      "Enter:88.9\n",
      "88.9 <class 'float'>\n"
     ]
    }
   ],
   "source": [
    "x =float( input(\"Enter:\"))\n",
    "print(x,type(x))\n"
   ]
  },
  {
   "cell_type": "code",
   "execution_count": 6,
   "id": "17489cc6",
   "metadata": {},
   "outputs": [
    {
     "name": "stdout",
     "output_type": "stream",
     "text": [
      "Enter:88\n",
      "88.0 <class 'float'>\n"
     ]
    }
   ],
   "source": [
    "x =float( input(\"Enter:\"))\n",
    "#Enter:10\n",
    "print(x,type(x))"
   ]
  },
  {
   "cell_type": "code",
   "execution_count": 7,
   "id": "00e9c832",
   "metadata": {},
   "outputs": [
    {
     "name": "stdout",
     "output_type": "stream",
     "text": [
      "Enter:22.2\n"
     ]
    },
    {
     "ename": "ValueError",
     "evalue": "invalid literal for int() with base 10: '22.2'",
     "output_type": "error",
     "traceback": [
      "\u001b[1;31m---------------------------------------------------------------------------\u001b[0m",
      "\u001b[1;31mValueError\u001b[0m                                Traceback (most recent call last)",
      "Cell \u001b[1;32mIn[7], line 1\u001b[0m\n\u001b[1;32m----> 1\u001b[0m x \u001b[38;5;241m=\u001b[39m\u001b[38;5;28mint\u001b[39m( \u001b[38;5;28minput\u001b[39m(\u001b[38;5;124m\"\u001b[39m\u001b[38;5;124mEnter:\u001b[39m\u001b[38;5;124m\"\u001b[39m))\n\u001b[0;32m      2\u001b[0m \u001b[38;5;66;03m#Enter:10\u001b[39;00m\n\u001b[0;32m      3\u001b[0m \u001b[38;5;28mprint\u001b[39m(x,\u001b[38;5;28mtype\u001b[39m(x))\n",
      "\u001b[1;31mValueError\u001b[0m: invalid literal for int() with base 10: '22.2'"
     ]
    }
   ],
   "source": [
    "x =int( input(\"Enter:\"))\n",
    "#Enter:10\n",
    "print(x,type(x))"
   ]
  },
  {
   "cell_type": "markdown",
   "id": "f2df0a1b",
   "metadata": {},
   "source": [
    "# print(*arg[,sep=' ',end ='\\n'])\n",
    "\n",
    "print(*arg[,sep=' ',end ='\\n'])\n",
    "display to user\n",
    "print()\n",
    "print(5,7,end = ' ') #o/p 5 7\n",
    "print(\"Hello\")"
   ]
  },
  {
   "cell_type": "code",
   "execution_count": 8,
   "id": "2acc1add",
   "metadata": {},
   "outputs": [
    {
     "name": "stdout",
     "output_type": "stream",
     "text": [
      "\n"
     ]
    }
   ],
   "source": [
    "#print(*arg[,sep=' ',end ='\\n'])\n",
    "\n",
    "print()\n"
   ]
  },
  {
   "cell_type": "code",
   "execution_count": 11,
   "id": "8b63cb13",
   "metadata": {},
   "outputs": [
    {
     "name": "stdout",
     "output_type": "stream",
     "text": [
      "5 7 Hello\n",
      "Bye\n"
     ]
    }
   ],
   "source": [
    "print(5,7,end = ' ') #o/p 5 7\n",
    "print(\"Hello\")\n",
    "print(\"Bye\")"
   ]
  },
  {
   "cell_type": "code",
   "execution_count": 12,
   "id": "96362f6c",
   "metadata": {},
   "outputs": [
    {
     "name": "stdout",
     "output_type": "stream",
     "text": [
      "5 7#Hello\n",
      "Bye\n"
     ]
    }
   ],
   "source": [
    "print(5,7,end = '#') #o/p 5 7\n",
    "print(\"Hello\")\n",
    "print(\"Bye\")"
   ]
  },
  {
   "cell_type": "code",
   "execution_count": 15,
   "id": "48e6a51a",
   "metadata": {},
   "outputs": [
    {
     "name": "stdout",
     "output_type": "stream",
     "text": [
      "hi#hello#everyone\n"
     ]
    }
   ],
   "source": [
    "print(\"hi\",\"hello\",\"everyone\",sep='#')"
   ]
  },
  {
   "cell_type": "code",
   "execution_count": 16,
   "id": "a079cbf1",
   "metadata": {},
   "outputs": [
    {
     "name": "stdout",
     "output_type": "stream",
     "text": [
      "hi\n",
      "hello\n",
      "everyone\n"
     ]
    }
   ],
   "source": [
    "print(\"hi\")\n",
    "print(\"hello\")\n",
    "print(\"everyone\")"
   ]
  },
  {
   "cell_type": "code",
   "execution_count": 19,
   "id": "88a414b2",
   "metadata": {},
   "outputs": [
    {
     "name": "stdout",
     "output_type": "stream",
     "text": [
      "hi@dude&hello^everyone\n"
     ]
    }
   ],
   "source": [
    "print(\"hi\",'dude',sep='@',end = '&')\n",
    "print(\"hello\",end='^')\n",
    "print(\"everyone\")"
   ]
  },
  {
   "cell_type": "code",
   "execution_count": null,
   "id": "5e9062f9",
   "metadata": {},
   "outputs": [],
   "source": []
  }
 ],
 "metadata": {
  "kernelspec": {
   "display_name": "Python 3 (ipykernel)",
   "language": "python",
   "name": "python3"
  },
  "language_info": {
   "codemirror_mode": {
    "name": "ipython",
    "version": 3
   },
   "file_extension": ".py",
   "mimetype": "text/x-python",
   "name": "python",
   "nbconvert_exporter": "python",
   "pygments_lexer": "ipython3",
   "version": "3.11.3"
  }
 },
 "nbformat": 4,
 "nbformat_minor": 5
}
