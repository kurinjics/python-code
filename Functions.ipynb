{
 "cells": [
  {
   "cell_type": "code",
   "execution_count": 1,
   "id": "6f06041f",
   "metadata": {},
   "outputs": [
    {
     "name": "stdout",
     "output_type": "stream",
     "text": [
      "The maximum number is: 20\n"
     ]
    }
   ],
   "source": [
    "\n",
    "\n",
    "# 1.Program to Find the Maximum of Two Numbers python\n",
    "def find_max(num1, num2):\n",
    "    return max(num1, num2)\n",
    "\n",
    "# Example usage\n",
    "result = find_max(10, 20)\n",
    "print(\"The maximum number is:\", result)\n",
    "\n",
    "\n",
    "\n"
   ]
  },
  {
   "cell_type": "code",
   "execution_count": 2,
   "id": "578bff4b",
   "metadata": {},
   "outputs": [
    {
     "name": "stdout",
     "output_type": "stream",
     "text": [
      "The number is: Odd\n"
     ]
    }
   ],
   "source": [
    "#2. Program to Check if a Number is Even or Odd python\n",
    "def check_even_odd(num):\n",
    "    if num % 2 == 0:\n",
    "        return \"Even\"\n",
    "    else:\n",
    "        return \"Odd\"\n",
    "\n",
    "# Example usage\n",
    "result = check_even_odd(7)\n",
    "print(\"The number is:\", result)"
   ]
  },
  {
   "cell_type": "code",
   "execution_count": 3,
   "id": "66731e8d",
   "metadata": {},
   "outputs": [
    {
     "name": "stdout",
     "output_type": "stream",
     "text": [
      "The factorial is: 120\n"
     ]
    }
   ],
   "source": [
    "#3. Program to Calculate the Factorial of a Number\n",
    "def factorial(n):\n",
    "    if n == 0:\n",
    "        return 1\n",
    "    else:\n",
    "        return n * factorial(n-1)\n",
    "\n",
    "# Example usage\n",
    "result = factorial(5)\n",
    "print(\"The factorial is:\", result)"
   ]
  },
  {
   "cell_type": "code",
   "execution_count": 4,
   "id": "bf53160f",
   "metadata": {},
   "outputs": [
    {
     "name": "stdout",
     "output_type": "stream",
     "text": [
      "The reversed string is: olleH\n"
     ]
    }
   ],
   "source": [
    "#4. Program to Reverse a String python\n",
    "\n",
    "def reverse_string(input_string):\n",
    "    return input_string[::-1]\n",
    "\n",
    "# Example usage\n",
    "result = reverse_string(\"Hello\")\n",
    "print(\"The reversed string is:\", result)"
   ]
  },
  {
   "cell_type": "code",
   "execution_count": 5,
   "id": "98f96b36",
   "metadata": {},
   "outputs": [
    {
     "name": "stdout",
     "output_type": "stream",
     "text": [
      "The sum is: 15\n"
     ]
    }
   ],
   "source": [
    "#5. Program to Find the Sum of Elements in a List\n",
    "\n",
    "def find_sum(input_list):\n",
    "    return sum(input_list)\n",
    "# Example usage\n",
    "result = find_sum([1, 2, 3, 4, 5])\n",
    "print(\"The sum is:\", result)"
   ]
  },
  {
   "cell_type": "code",
   "execution_count": 6,
   "id": "9f9632cf",
   "metadata": {},
   "outputs": [
    {
     "name": "stdout",
     "output_type": "stream",
     "text": [
      "Is it a palindrome? True\n"
     ]
    }
   ],
   "source": [
    "#6. Program to Check if a String is a Palindrome\n",
    "def is_palindrome(input_string):\n",
    "    return input_string == input_string[::-1]\n",
    "# Example usage\n",
    "result = is_palindrome(\"racecar\")\n",
    "print(\"Is it a palindrome?\", result)"
   ]
  },
  {
   "cell_type": "code",
   "execution_count": 7,
   "id": "1328f522",
   "metadata": {},
   "outputs": [
    {
     "name": "stdout",
     "output_type": "stream",
     "text": [
      "The area is: 78.5\n"
     ]
    }
   ],
   "source": [
    "#7. Program to Calculate the Area of a Circle\n",
    "\n",
    "def calculate_area(radius):\n",
    "    return 3.14 * (radius**2)\n",
    "\n",
    "# Example usage\n",
    "result = calculate_area(5)\n",
    "print(\"The area is:\", result)"
   ]
  },
  {
   "cell_type": "code",
   "execution_count": 8,
   "id": "dd1be1fa",
   "metadata": {},
   "outputs": [
    {
     "name": "stdout",
     "output_type": "stream",
     "text": [
      "Enter the start of the range: 5\n",
      "Enter the end of the range: 16\n",
      "The list of even numbers is: [6, 8, 10, 12, 14, 16]\n"
     ]
    }
   ],
   "source": [
    "#8.Program to Generate a List of Even Numbers:\n",
    "def generate_even_numbers(start, end):\n",
    "    return [num for num in range(start, end+1) if num % 2 == 0]\n",
    "\n",
    "start = int(input(\"Enter the start of the range: \"))\n",
    "end = int(input(\"Enter the end of the range: \"))\n",
    "\n",
    "even_numbers = generate_even_numbers(start, end)\n",
    "print(f\"The list of even numbers is: {even_numbers}\")"
   ]
  },
  {
   "cell_type": "code",
   "execution_count": 9,
   "id": "352ca2bc",
   "metadata": {},
   "outputs": [
    {
     "name": "stdout",
     "output_type": "stream",
     "text": [
      "Enter a number to check for primality: 7\n",
      "7 is a prime number.\n"
     ]
    }
   ],
   "source": [
    "\n",
    "#9.Program to Check for Prime Numbers:\n",
    "def is_prime(num):\n",
    "    if num < 2:\n",
    "        return False\n",
    "    for i in range(2, int(num**0.5) + 1):\n",
    "        if num % i == 0:\n",
    "            return False\n",
    "    return True\n",
    "\n",
    "number = int(input(\"Enter a number to check for primality: \"))\n",
    "result = is_prime(number)\n",
    "\n",
    "if result:\n",
    "    print(f\"{number} is a prime number.\")\n",
    "else:\n",
    "    print(f\"{number} is not a prime number.\")\n"
   ]
  },
  {
   "cell_type": "code",
   "execution_count": 10,
   "id": "6697f038",
   "metadata": {},
   "outputs": [
    {
     "name": "stdout",
     "output_type": "stream",
     "text": [
      "The intersection of the two lists is: [3, 4, 5]\n"
     ]
    }
   ],
   "source": [
    "#10.Program to Find the Intersection of Two Lists:\n",
    "def find_intersection(list1, list2):\n",
    "    return list(set(list1) & set(list2))\n",
    "\n",
    "list1 = [1, 2, 3, 4, 5]\n",
    "list2 = [3, 4, 5, 6, 7]\n",
    "\n",
    "intersection = find_intersection(list1, list2)\n",
    "print(f\"The intersection of the two lists is: {intersection}\")\n"
   ]
  },
  {
   "cell_type": "code",
   "execution_count": 11,
   "id": "e158451b",
   "metadata": {},
   "outputs": [
    {
     "name": "stdout",
     "output_type": "stream",
     "text": [
      "The maximum element in the list is:  9\n",
      "[3, 7, 1, 9, 5, 2, 8]\n"
     ]
    }
   ],
   "source": [
    "#11. Program with List as Argument:\n",
    "\n",
    "def find_max_in_list(input_list):\n",
    "    return max(input_list)\n",
    "\n",
    "my_list = [3, 7, 1, 9, 5, 2, 8]\n",
    "result = find_max_in_list(my_list)\n",
    "print(\"The maximum element in the list is: \",result)\n",
    "print(my_list)"
   ]
  },
  {
   "cell_type": "code",
   "execution_count": 12,
   "id": "df88cb7c",
   "metadata": {},
   "outputs": [
    {
     "name": "stdout",
     "output_type": "stream",
     "text": [
      "name: John\n",
      "age: 30\n",
      "city: New York\n",
      "{'name': 'John', 'age': 30, 'city': 'New York'}\n"
     ]
    }
   ],
   "source": [
    "#12. Program using a Dictionary:\n",
    "def print_dict(my_dict):\n",
    "    for key, value in my_dict.items():\n",
    "        print(f'{key}: {value}')\n",
    "\n",
    "my_dict = {'name': 'John', 'age': 30, 'city': 'New York'}\n",
    "print_dict(my_dict)\n",
    "print(my_dict)\n",
    "\n"
   ]
  },
  {
   "cell_type": "code",
   "execution_count": 13,
   "id": "717eb998",
   "metadata": {},
   "outputs": [
    {
     "name": "stdout",
     "output_type": "stream",
     "text": [
      "1\n",
      "apple\n",
      "True\n",
      "3.14\n",
      "(1, 'apple', True, 3.14)\n"
     ]
    }
   ],
   "source": [
    "#13. Program using a Tuple:\n",
    "\n",
    "def print_tuple(my_tuple):\n",
    "    for item in my_tuple:\n",
    "        print(item)\n",
    "\n",
    "my_tuple = (1, 'apple', True, 3.14)\n",
    "print_tuple(my_tuple)\n",
    "print(my_tuple)"
   ]
  },
  {
   "cell_type": "code",
   "execution_count": 14,
   "id": "6321b325",
   "metadata": {},
   "outputs": [
    {
     "name": "stdout",
     "output_type": "stream",
     "text": [
      "The square of 5 is: 25\n"
     ]
    }
   ],
   "source": [
    "#15. Program using an Integer:\n",
    "\n",
    "def square_integer(number):\n",
    "    print(f\"The square of {number} is: {number**2}\")\n",
    "\n",
    "square_integer(5)\n"
   ]
  },
  {
   "cell_type": "code",
   "execution_count": 15,
   "id": "acc11def",
   "metadata": {},
   "outputs": [
    {
     "name": "stdout",
     "output_type": "stream",
     "text": [
      "The double of 3.14 is: 6.28\n"
     ]
    }
   ],
   "source": [
    "#16. Program using a Float:\n",
    "\n",
    "def double_float(number):\n",
    "    print(f\"The double of {number} is: {number*2}\")\n",
    "\n",
    "double_float(3.14)"
   ]
  },
  {
   "cell_type": "code",
   "execution_count": 16,
   "id": "b512bdfb",
   "metadata": {},
   "outputs": [
    {
     "name": "stdout",
     "output_type": "stream",
     "text": [
      "The conjugate of  (2+3j)  is: (2-3j)\n",
      "(2+3j)\n"
     ]
    }
   ],
   "source": [
    "#17. Program using a Complex Number:\n",
    "def conjugate_complex(complex_num):\n",
    "    print(\"The conjugate of \",complex_num,\" is:\",complex_num.conjugate())\n",
    "\n",
    "complex_number = 2 + 3j\n",
    "conjugate_complex(complex_number)\n",
    "print(complex_number)"
   ]
  },
  {
   "cell_type": "code",
   "execution_count": 17,
   "id": "9028e8d7",
   "metadata": {},
   "outputs": [
    {
     "name": "stdout",
     "output_type": "stream",
     "text": [
      "Arguments: 10, apple, 3.14\n"
     ]
    }
   ],
   "source": [
    "#18. Program using Mixed Data Types:\n",
    "\n",
    "def process_mixed_data(arg1, arg2, arg3):\n",
    "    print(f'Arguments: {arg1}, {arg2}, {arg3}')\n",
    "\n",
    "process_mixed_data(10, 'apple', 3.14)"
   ]
  },
  {
   "cell_type": "code",
   "execution_count": 18,
   "id": "59a4ab15",
   "metadata": {},
   "outputs": [
    {
     "name": "stdout",
     "output_type": "stream",
     "text": [
      "List elements:\n",
      "1\n",
      "apple\n",
      "True\n",
      "3.14\n",
      "\n",
      "Dictionary items:\n",
      "name: John\n",
      "age: 30\n",
      "city: New York\n",
      "[1, 'apple', True, 3.14] {'name': 'John', 'age': 30, 'city': 'New York'}\n"
     ]
    }
   ],
   "source": [
    "#19. Program using List and Dictionary:\n",
    "\n",
    "def process_list_and_dict(my_list, my_dict):\n",
    "    print(\"List elements:\")\n",
    "    for item in my_list:\n",
    "        print(item)\n",
    "\n",
    "    print(\"\\nDictionary items:\")\n",
    "    for key, value in my_dict.items():\n",
    "        print(f'{key}: {value}')\n",
    "\n",
    "my_list = [1, 'apple', True, 3.14]\n",
    "my_dict = {'name': 'John', 'age': 30, 'city': 'New York'}\n",
    "process_list_and_dict(my_list, my_dict)\n",
    "print(my_list, my_dict)"
   ]
  },
  {
   "cell_type": "code",
   "execution_count": 19,
   "id": "cf2b806a",
   "metadata": {},
   "outputs": [
    {
     "name": "stdout",
     "output_type": "stream",
     "text": [
      "Tuple elements:\n",
      "1\n",
      "apple\n",
      "True\n",
      "3.14\n",
      "\n",
      "Set elements:\n",
      "3.14\n",
      "1\n",
      "apple\n",
      "(1, 'apple', True, 3.14) {3.14, 1, 'apple'}\n"
     ]
    }
   ],
   "source": [
    "#10. Program using Tuple and Set:\n",
    "\n",
    "def process_tuple_and_set(my_tuple, my_set):\n",
    "    print(\"Tuple elements:\")\n",
    "    for item in my_tuple:\n",
    "        print(item)\n",
    "\n",
    "    print(\"\\nSet elements:\")\n",
    "    for item in my_set:\n",
    "        print(item)\n",
    "\n",
    "my_tuple = (1, 'apple', True, 3.14)\n",
    "my_set = {1, 'apple', True, 3.14}\n",
    "process_tuple_and_set(my_tuple, my_set)\n",
    "print(my_tuple,my_set)"
   ]
  },
  {
   "cell_type": "code",
   "execution_count": 20,
   "id": "ed6c6cc8",
   "metadata": {},
   "outputs": [
    {
     "name": "stdout",
     "output_type": "stream",
     "text": [
      "5\n",
      "None\n"
     ]
    }
   ],
   "source": [
    "#20.\n",
    "def len(x):\n",
    "    print(x)\n",
    "print(len(5))"
   ]
  },
  {
   "cell_type": "code",
   "execution_count": 21,
   "id": "0c40ac55",
   "metadata": {},
   "outputs": [
    {
     "name": "stdout",
     "output_type": "stream",
     "text": [
      "Before Function call: [6, 9]\n",
      "[6, 9, 5]\n",
      "[6, 9, 5, 7]\n",
      "None\n",
      "After Function Call: [6, 9, 5, 7]\n"
     ]
    }
   ],
   "source": [
    "#21.mutable\n",
    "def list_mutable(x):\n",
    "    x .append(5)\n",
    "    print(x)\n",
    "    x += [7]\n",
    "    print(x)\n",
    "    \n",
    "x = [6,9]\n",
    "print(\"Before Function call:\",x)\n",
    "print(list_mutable(x))\n",
    "print(\"After Function Call:\",x) "
   ]
  },
  {
   "cell_type": "code",
   "execution_count": 22,
   "id": "6c3d3d84",
   "metadata": {},
   "outputs": [
    {
     "name": "stdout",
     "output_type": "stream",
     "text": [
      "Before Function call: [6, 9, [0, 1]]\n",
      "[6, 9, [0, 1, 5]]\n",
      "[6, 9, [0, 1, 5, 7]]\n",
      "None\n",
      "After Function Call: [6, 9, [0, 1, 5, 7]]\n"
     ]
    }
   ],
   "source": [
    "#22.\n",
    "def list_mutable(x):\n",
    "    x[2] .append(5)\n",
    "    print(x)\n",
    "    x[2] += [7]\n",
    "    print(x)\n",
    "    \n",
    "x = [6,9,[0,1]]\n",
    "print(\"Before Function call:\",x)\n",
    "print(list_mutable(x))\n",
    "print(\"After Function Call:\",x) "
   ]
  },
  {
   "cell_type": "code",
   "execution_count": 23,
   "id": "753ec6e9",
   "metadata": {},
   "outputs": [
    {
     "name": "stdout",
     "output_type": "stream",
     "text": [
      "Key: key1 -> Value: value1\n",
      "Key: key2  -> Value is a dictionary\n",
      "Key: nested_key1 -> Value: nested_value1\n",
      "Key: nested_key2 -> Value: nested_value2\n",
      "Key: key3  -> Value is a list\n",
      "1\n",
      "2\n",
      "3\n",
      "Key: inner_key -> Value: inner_value\n"
     ]
    }
   ],
   "source": [
    "#23\n",
    "def print_complex_dict(complex_dict):\n",
    "    for key, value in complex_dict.items():\n",
    "        if isinstance(value, dict):\n",
    "            print(\"Key:\", key,\" -> Value is a dictionary\")\n",
    "            print_complex_dict(value)\n",
    "        elif isinstance(value, list):\n",
    "            print(\"Key:\", key,\" -> Value is a list\")\n",
    "            for item in value:\n",
    "                if isinstance(item, dict):\n",
    "                    print_complex_dict(item)\n",
    "                else:\n",
    "                    print(item)\n",
    "        else:\n",
    "            print('Key:', key,'-> Value:',value)\n",
    "\n",
    "# Example complex dictionary\n",
    "complex_dict = {\n",
    "    'key1': 'value1',\n",
    "    'key2': {\n",
    "        'nested_key1': 'nested_value1',\n",
    "        'nested_key2': 'nested_value2'\n",
    "    },\n",
    "    'key3': [1, 2, 3, {'inner_key': 'inner_value'}]\n",
    "}\n",
    "\n",
    "# Call the function with the complex dictionary\n",
    "print_complex_dict(complex_dict)\n"
   ]
  },
  {
   "cell_type": "code",
   "execution_count": 24,
   "id": "0e658e04",
   "metadata": {},
   "outputs": [],
   "source": [
    "\n",
    "import pickle\n",
    "\n",
    "def write():\n",
    "    file = open(\"D:\\\\binary.dat\",'wb')\n",
    "    x = [1,2,3,4,5]   \n",
    "    pickle.dump(x,file)\n",
    "    x = [6,7,8,9]\n",
    "    pickle.dump(x,file)\n",
    "    file.close()\n",
    "\n",
    "write()"
   ]
  },
  {
   "cell_type": "code",
   "execution_count": 25,
   "id": "9fe26ced",
   "metadata": {},
   "outputs": [
    {
     "name": "stdout",
     "output_type": "stream",
     "text": [
      "[2, 4, 6, 8, 10, 12, 14, 16, 18]\n"
     ]
    }
   ],
   "source": [
    "#24.\n",
    "import pickle\n",
    "\n",
    "def read():\n",
    "    file = open(\"D:\\\\binary.dat\",'rb')\n",
    "    x =[]\n",
    "    \n",
    "    try:\n",
    "        while True:\n",
    "            data = pickle.load(file)\n",
    "            for i in data:\n",
    "                x +=[i+i]\n",
    "    except EOFError :\n",
    "                  \n",
    "        file.close()\n",
    "        print(x)\n",
    "\n",
    "read()"
   ]
  },
  {
   "cell_type": "code",
   "execution_count": 26,
   "id": "744dfa15",
   "metadata": {},
   "outputs": [],
   "source": [
    "#25.\n",
    "import csv\n",
    "\n",
    "with open('D:\\\\employee_file2.csv', mode='w') as csv_file:\n",
    "    fieldnames = ['emp_name', 'dept', 'birth_month']\n",
    "    writer = csv.DictWriter(csv_file, fieldnames=fieldnames)\n",
    "\n",
    "    writer.writeheader()\n",
    "    writer.writerow({'emp_name': 'John Smith', 'dept': 'Accounting', 'birth_month': 'November'})\n",
    "    writer.writerow({'emp_name': 'Erica Meyers', 'dept': 'IT', 'birth_month': 'March'})"
   ]
  },
  {
   "cell_type": "code",
   "execution_count": 27,
   "id": "36dbab06",
   "metadata": {},
   "outputs": [
    {
     "name": "stdout",
     "output_type": "stream",
     "text": [
      "['SN', 'Movie', 'Protagonist']\n",
      "['1', 'Lord of the Rings', 'Frodo Baggins']\n",
      "['2', 'Harry Potter', 'Harry Potter']\n"
     ]
    }
   ],
   "source": [
    "#26\n",
    "import csv\n",
    "csv_rowlist = [[\"SN\", \"Movie\", \"Protagonist\"], [1, \"Lord of the Rings\", \"Frodo Baggins\"],\n",
    "               [2, \"Harry Potter\", \"Harry Potter\"]]\n",
    "with open('D:\\\\protagonist.csv', 'w',newline ='\\n') as file:\n",
    "    writer = csv.writer(file)\n",
    "    writer.writerows(csv_rowlist)\n",
    "with open('D:\\\\protagonist.csv','r') as file:\n",
    "    reader =csv.reader(file)\n",
    "    for i in reader:\n",
    "        print(i)"
   ]
  },
  {
   "cell_type": "code",
   "execution_count": 1,
   "id": "3e1b8943",
   "metadata": {},
   "outputs": [
    {
     "data": {
      "text/plain": [
       "'it^s^ti^m^e^$t^e^s^t^$$5$$5'"
      ]
     },
     "execution_count": 1,
     "metadata": {},
     "output_type": "execute_result"
    }
   ],
   "source": [
    "def Encrypt(passwd):\n",
    "    new_pwd = \"\"\n",
    "    for index in range(len(passwd)):\n",
    "        if (passwd[index].isupper()):\n",
    "            new_pwd += passwd[index].lower()\n",
    "        elif (passwd[index].islower()):\n",
    "            new_pwd += passwd[index].lower()+'^'\n",
    "        elif passwd[index].isdigit():\n",
    "            new_pwd += '$'\n",
    "        else:\n",
    "            new_pwd += '5'\n",
    "    return new_pwd\n",
    "Encrypt('ItsTime2test23@24*')\n"
   ]
  },
  {
   "cell_type": "code",
   "execution_count": 29,
   "id": "7b053667",
   "metadata": {},
   "outputs": [
    {
     "name": "stdout",
     "output_type": "stream",
     "text": [
      "4\n",
      "Event\n",
      "Cycling\n"
     ]
    }
   ],
   "source": [
    "#27\n",
    "def checkevent(event):\n",
    "    if event in {'Running':1,'Swimming':2,'Cycling':3}:\n",
    "        print(\"Event\")\n",
    "        print(event)\n",
    "    if event in 'Running':\n",
    "        print(s)\n",
    "print(4)\n",
    "checkevent(\"Cycling\")\n"
   ]
  },
  {
   "cell_type": "code",
   "execution_count": 30,
   "id": "e41075a6",
   "metadata": {},
   "outputs": [
    {
     "name": "stdout",
     "output_type": "stream",
     "text": [
      "[[3, 4], 5, 6] Before Function call\n",
      "[[3, 5], 5, 6]\n",
      "[[3, 5], 5, 6] After Function call\n"
     ]
    }
   ],
   "source": [
    "#28.\n",
    "def listmut(L):\n",
    "    L[0][1] = 5\n",
    "    print(L)\n",
    "L = [[3,4],5,6]\n",
    "print(L,\"Before Function call\")\n",
    "listmut(L)\n",
    "print(L,\"After Function call\")\n",
    "\n"
   ]
  },
  {
   "cell_type": "code",
   "execution_count": 32,
   "id": "d64a61c8",
   "metadata": {},
   "outputs": [
    {
     "name": "stdout",
     "output_type": "stream",
     "text": [
      "[[3, 4], 5, 6] Before Function call\n",
      "[[3, 5], 5, 6]\n",
      "[[3, 5], 5, 6] After Function call\n"
     ]
    }
   ],
   "source": [
    "#29 .\n",
    "def listmut(L):\n",
    "    x = L.copy()\n",
    "    x[0][1] = 5\n",
    "    print(x)\n",
    "L = [[3,4],5,6]\n",
    "print(L,\"Before Function call\")\n",
    "listmut(L)\n",
    "print(L,\"After Function call\")\n",
    "\n"
   ]
  },
  {
   "cell_type": "code",
   "execution_count": 33,
   "id": "d2d0fdfd",
   "metadata": {},
   "outputs": [
    {
     "name": "stdout",
     "output_type": "stream",
     "text": [
      "[[3, 4], 5, 6] Before Function call\n",
      "[5, 5, 6]\n",
      "[5, 5, 6] After Function call\n"
     ]
    }
   ],
   "source": [
    "#30.\n",
    "def listmut(L):\n",
    "    x = L\n",
    "    x[0] = 5\n",
    "    print(L)\n",
    "L = [[3,4],5,6]\n",
    "print(L,\"Before Function call\")\n",
    "listmut(L)\n",
    "print(L,\"After Function call\")"
   ]
  },
  {
   "cell_type": "code",
   "execution_count": 34,
   "id": "c42ce1a2",
   "metadata": {},
   "outputs": [
    {
     "name": "stdout",
     "output_type": "stream",
     "text": [
      "[[3, 4], 5, 6] Before Function call\n",
      "[[3, 4], 50, 6]\n",
      "[[3, 4], 5, 6] After Function call\n"
     ]
    }
   ],
   "source": [
    "#31 .\n",
    "def listmut(L):\n",
    "    x = L.copy()\n",
    "    x[1] = 50\n",
    "    print(x)\n",
    "L = [[3,4],5,6]\n",
    "print(L,\"Before Function call\")\n",
    "listmut(L)\n",
    "print(L,\"After Function call\")"
   ]
  },
  {
   "cell_type": "code",
   "execution_count": 35,
   "id": "0290cee4",
   "metadata": {},
   "outputs": [
    {
     "name": "stdout",
     "output_type": "stream",
     "text": [
      "{1: 10, 5: 20, 10: 30} Before Function call\n",
      "In Function: {1: 50, 5: 20, 10: 150}\n",
      "{1: 50, 5: 20, 10: 150} Before Function call\n"
     ]
    }
   ],
   "source": [
    "#32\n",
    "def dictfunc(d):\n",
    "    for i in d:\n",
    "        if i != 5:\n",
    "            d[i] = d[i] * 5\n",
    "    print(\"In Function:\",d)\n",
    "d = {1:10,5:20,10:30}\n",
    "print(d,\"Before Function call\")\n",
    "dictfunc(d)\n",
    "print(d,\"Before Function call\")"
   ]
  },
  {
   "cell_type": "code",
   "execution_count": 36,
   "id": "11f01f11",
   "metadata": {},
   "outputs": [
    {
     "name": "stdout",
     "output_type": "stream",
     "text": [
      "{1: 10, 5: 20, 10: 30} Before Function call\n",
      "In Function: {1: 50, 5: 20, 10: 150}\n",
      "{1: 10, 5: 20, 10: 30} Before Function call\n"
     ]
    }
   ],
   "source": [
    "#33\n",
    "def dictfunc(d):\n",
    "    d1 = d.copy()\n",
    "    for i in d1:\n",
    "        if i != 5:\n",
    "            d1[i] = d1[i] * 5\n",
    "    print(\"In Function:\",d1)\n",
    "d = {1:10,5:20,10:30}\n",
    "print(d,\"Before Function call\")\n",
    "dictfunc(d)\n",
    "print(d,\"Before Function call\")"
   ]
  },
  {
   "cell_type": "code",
   "execution_count": 37,
   "id": "f7c2e14f",
   "metadata": {},
   "outputs": [
    {
     "name": "stdout",
     "output_type": "stream",
     "text": [
      "{1: [10, 30], 5: 20, 10: 30} Before Function call\n",
      "In Function: {1: [10, 30, 10, 30, 10, 30, 10, 30, 10, 30], 5: 20, 10: 150}\n",
      "{1: [10, 30], 5: 20, 10: 30} Before Function call\n"
     ]
    }
   ],
   "source": [
    "#34\n",
    "def dictfunc(d):\n",
    "    d1 = d.copy()\n",
    "    for i in d1:\n",
    "        if i != 5:\n",
    "            d1[i] = d1[i] * 5\n",
    "    print(\"In Function:\",d1)\n",
    "d = {1:[10,30],5:20,10:30}\n",
    "print(d,\"Before Function call\")\n",
    "dictfunc(d)\n",
    "print(d,\"Before Function call\")"
   ]
  },
  {
   "cell_type": "code",
   "execution_count": 38,
   "id": "23c7df28",
   "metadata": {},
   "outputs": [
    {
     "name": "stdout",
     "output_type": "stream",
     "text": [
      "4 : 8\n",
      "6 : 20\n",
      "4 : 8\n"
     ]
    }
   ],
   "source": [
    "#35\n",
    "def fun2(a,b):\n",
    "    a+= 2\n",
    "    b*=5\n",
    "    print(a,\":\",b)\n",
    "a,b = 4,8\n",
    "print(a,\":\",b)\n",
    "fun2(a,a)\n",
    "print(a,\":\",b)"
   ]
  },
  {
   "cell_type": "code",
   "execution_count": null,
   "id": "c7e08420",
   "metadata": {},
   "outputs": [],
   "source": []
  },
  {
   "cell_type": "code",
   "execution_count": null,
   "id": "d94ed09a",
   "metadata": {},
   "outputs": [],
   "source": []
  },
  {
   "cell_type": "code",
   "execution_count": null,
   "id": "4e2362c1",
   "metadata": {},
   "outputs": [],
   "source": []
  },
  {
   "cell_type": "code",
   "execution_count": null,
   "id": "8d8f9237",
   "metadata": {},
   "outputs": [],
   "source": []
  },
  {
   "cell_type": "code",
   "execution_count": null,
   "id": "566c4aa4",
   "metadata": {},
   "outputs": [],
   "source": []
  },
  {
   "cell_type": "code",
   "execution_count": null,
   "id": "5ead82e5",
   "metadata": {},
   "outputs": [],
   "source": []
  },
  {
   "cell_type": "code",
   "execution_count": null,
   "id": "7ca83aba",
   "metadata": {},
   "outputs": [],
   "source": []
  },
  {
   "cell_type": "code",
   "execution_count": null,
   "id": "ced57d06",
   "metadata": {},
   "outputs": [],
   "source": []
  },
  {
   "cell_type": "code",
   "execution_count": null,
   "id": "fa618160",
   "metadata": {},
   "outputs": [],
   "source": []
  },
  {
   "cell_type": "code",
   "execution_count": null,
   "id": "f560c885",
   "metadata": {},
   "outputs": [],
   "source": []
  },
  {
   "cell_type": "code",
   "execution_count": null,
   "id": "6ed07ed7",
   "metadata": {},
   "outputs": [],
   "source": []
  },
  {
   "cell_type": "code",
   "execution_count": null,
   "id": "5655c5a6",
   "metadata": {},
   "outputs": [],
   "source": []
  },
  {
   "cell_type": "code",
   "execution_count": null,
   "id": "5f5363be",
   "metadata": {},
   "outputs": [],
   "source": []
  }
 ],
 "metadata": {
  "kernelspec": {
   "display_name": "Python 3 (ipykernel)",
   "language": "python",
   "name": "python3"
  },
  "language_info": {
   "codemirror_mode": {
    "name": "ipython",
    "version": 3
   },
   "file_extension": ".py",
   "mimetype": "text/x-python",
   "name": "python",
   "nbconvert_exporter": "python",
   "pygments_lexer": "ipython3",
   "version": "3.11.3"
  }
 },
 "nbformat": 4,
 "nbformat_minor": 5
}
