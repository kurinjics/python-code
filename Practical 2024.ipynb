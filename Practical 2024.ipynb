{
 "cells": [
  {
   "cell_type": "code",
   "execution_count": null,
   "id": "106f5e96",
   "metadata": {},
   "outputs": [
    {
     "name": "stdout",
     "output_type": "stream",
     "text": [
      "enter a number upto which, list of prime number you want to create:10\n",
      "List of Prime Number upto: 10 is [5, 7, 7, 9]\n",
      " press y to continue n to exit:y\n",
      "enter a number upto which, list of prime number you want to create:2\n",
      "List of Prime Number upto: 2 is []\n",
      " press y to continue n to exit:y\n",
      "enter a number upto which, list of prime number you want to create:1\n",
      "List of Prime Number upto: 1 is []\n",
      " press y to continue n to exit:y\n",
      "enter a number upto which, list of prime number you want to create:3\n",
      "List of Prime Number upto: 3 is []\n"
     ]
    }
   ],
   "source": [
    "def prime_test(n,PrimeNo):\n",
    " #flag=0\n",
    " for num in range(1,n+1):\n",
    "     for i in range(2,int(num/2)+1):\n",
    "         if(num%i==0):\n",
    "             break\n",
    "         else:\n",
    "             PrimeNo.append(num)\n",
    "\n",
    "#_main_\n",
    "choice='y'\n",
    "while(choice=='y' or choice=='y'):\n",
    " PrimeNo=[]\n",
    " x=int(input('enter a number upto which, list of prime number you want to create:'))\n",
    " flag=prime_test(x,PrimeNo)\n",
    " print('List of Prime Number upto:',x,'is',PrimeNo)\n",
    " choice=input(' press y to continue n to exit:')\n",
    " if(choice!='y'):\n",
    "     print('Good by....')\n"
   ]
  },
  {
   "cell_type": "code",
   "execution_count": null,
   "id": "731b3ec2",
   "metadata": {},
   "outputs": [],
   "source": []
  }
 ],
 "metadata": {
  "kernelspec": {
   "display_name": "Python 3 (ipykernel)",
   "language": "python",
   "name": "python3"
  },
  "language_info": {
   "codemirror_mode": {
    "name": "ipython",
    "version": 3
   },
   "file_extension": ".py",
   "mimetype": "text/x-python",
   "name": "python",
   "nbconvert_exporter": "python",
   "pygments_lexer": "ipython3",
   "version": "3.11.3"
  }
 },
 "nbformat": 4,
 "nbformat_minor": 5
}
