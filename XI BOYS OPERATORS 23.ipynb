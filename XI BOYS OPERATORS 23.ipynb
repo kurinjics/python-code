{
 "cells": [
  {
   "cell_type": "code",
   "execution_count": null,
   "id": "a7bfc52a",
   "metadata": {},
   "outputs": [],
   "source": [
    "#unary - + ,-,~,not"
   ]
  },
  {
   "cell_type": "code",
   "execution_count": 1,
   "id": "776ff322",
   "metadata": {},
   "outputs": [
    {
     "name": "stdout",
     "output_type": "stream",
     "text": [
      "5\n"
     ]
    }
   ],
   "source": [
    "#UNARY PLUS\n",
    "a = +5\n",
    "print(a)"
   ]
  },
  {
   "cell_type": "code",
   "execution_count": 2,
   "id": "39150a54",
   "metadata": {},
   "outputs": [
    {
     "name": "stdout",
     "output_type": "stream",
     "text": [
      "-5\n"
     ]
    }
   ],
   "source": [
    "#UNARY minus\n",
    "a = -5\n",
    "print(a)"
   ]
  },
  {
   "cell_type": "code",
   "execution_count": 5,
   "id": "5471ab34",
   "metadata": {},
   "outputs": [
    {
     "name": "stdout",
     "output_type": "stream",
     "text": [
      "-16\n"
     ]
    }
   ],
   "source": [
    "# ~\n",
    "a = ~15\n",
    "print(a)\n"
   ]
  },
  {
   "cell_type": "code",
   "execution_count": 6,
   "id": "1a87a9b1",
   "metadata": {},
   "outputs": [
    {
     "name": "stdout",
     "output_type": "stream",
     "text": [
      "14\n"
     ]
    }
   ],
   "source": [
    "# ~\n",
    "a = ~-15\n",
    "print(a)"
   ]
  },
  {
   "cell_type": "code",
   "execution_count": null,
   "id": "05d2e2f0",
   "metadata": {},
   "outputs": [],
   "source": [
    "#not "
   ]
  },
  {
   "cell_type": "code",
   "execution_count": 7,
   "id": "1b9cf34a",
   "metadata": {},
   "outputs": [
    {
     "name": "stdout",
     "output_type": "stream",
     "text": [
      "False\n"
     ]
    }
   ],
   "source": [
    "print(not True)"
   ]
  },
  {
   "cell_type": "code",
   "execution_count": 8,
   "id": "e07550d8",
   "metadata": {},
   "outputs": [
    {
     "name": "stdout",
     "output_type": "stream",
     "text": [
      "True\n"
     ]
    }
   ],
   "source": [
    "print(not False)"
   ]
  },
  {
   "cell_type": "code",
   "execution_count": 9,
   "id": "6ca7bd74",
   "metadata": {},
   "outputs": [
    {
     "name": "stdout",
     "output_type": "stream",
     "text": [
      "False\n"
     ]
    }
   ],
   "source": [
    "print(not 5)"
   ]
  },
  {
   "cell_type": "code",
   "execution_count": 10,
   "id": "b9ac7b5a",
   "metadata": {},
   "outputs": [
    {
     "name": "stdout",
     "output_type": "stream",
     "text": [
      "True\n"
     ]
    }
   ],
   "source": [
    "print(not 0)"
   ]
  },
  {
   "cell_type": "code",
   "execution_count": 11,
   "id": "8362b428",
   "metadata": {},
   "outputs": [
    {
     "name": "stdout",
     "output_type": "stream",
     "text": [
      "True\n"
     ]
    }
   ],
   "source": [
    "print(not 0.0)"
   ]
  },
  {
   "cell_type": "code",
   "execution_count": 12,
   "id": "31d51e0d",
   "metadata": {},
   "outputs": [
    {
     "name": "stdout",
     "output_type": "stream",
     "text": [
      "True\n"
     ]
    }
   ],
   "source": [
    "print(not 0+0j)"
   ]
  },
  {
   "cell_type": "code",
   "execution_count": 13,
   "id": "9e60f54b",
   "metadata": {},
   "outputs": [
    {
     "name": "stdout",
     "output_type": "stream",
     "text": [
      "True\n"
     ]
    }
   ],
   "source": [
    "print(not 0j)"
   ]
  },
  {
   "cell_type": "code",
   "execution_count": 14,
   "id": "80f8a67a",
   "metadata": {},
   "outputs": [
    {
     "name": "stdout",
     "output_type": "stream",
     "text": [
      "True\n"
     ]
    }
   ],
   "source": [
    "print(not [])"
   ]
  },
  {
   "cell_type": "code",
   "execution_count": 15,
   "id": "c6d9ebef",
   "metadata": {},
   "outputs": [
    {
     "name": "stdout",
     "output_type": "stream",
     "text": [
      "True\n"
     ]
    }
   ],
   "source": [
    "print(not ())"
   ]
  },
  {
   "cell_type": "markdown",
   "id": "a59cf4a7",
   "metadata": {},
   "source": [
    "# BINARY OPERATOR"
   ]
  },
  {
   "cell_type": "code",
   "execution_count": null,
   "id": "8afb43be",
   "metadata": {},
   "outputs": [],
   "source": [
    "#arithmetic OPERATOR +,-,*,/,//,%,**"
   ]
  },
  {
   "cell_type": "code",
   "execution_count": 1,
   "id": "bc596f66",
   "metadata": {},
   "outputs": [
    {
     "name": "stdout",
     "output_type": "stream",
     "text": [
      "120\n"
     ]
    }
   ],
   "source": [
    "a = 56\n",
    "b = 64\n",
    "print(a+b)"
   ]
  },
  {
   "cell_type": "code",
   "execution_count": 2,
   "id": "f8cbb94f",
   "metadata": {},
   "outputs": [
    {
     "name": "stdout",
     "output_type": "stream",
     "text": [
      "-8\n"
     ]
    }
   ],
   "source": [
    "a = 56\n",
    "b = 64\n",
    "print(a - b)"
   ]
  },
  {
   "cell_type": "code",
   "execution_count": 3,
   "id": "c59f2f10",
   "metadata": {},
   "outputs": [
    {
     "name": "stdout",
     "output_type": "stream",
     "text": [
      "750\n"
     ]
    }
   ],
   "source": [
    "print( 5 * 150)"
   ]
  },
  {
   "cell_type": "code",
   "execution_count": 4,
   "id": "1ee2c1c0",
   "metadata": {},
   "outputs": [
    {
     "name": "stdout",
     "output_type": "stream",
     "text": [
      "150.0\n"
     ]
    }
   ],
   "source": [
    "print(750/5) # results floating point"
   ]
  },
  {
   "cell_type": "code",
   "execution_count": 6,
   "id": "ca48c22b",
   "metadata": {},
   "outputs": [
    {
     "name": "stdout",
     "output_type": "stream",
     "text": [
      "11.333333333333334\n",
      "11\n"
     ]
    }
   ],
   "source": [
    "# // - will truncate fractional part\n",
    "print(34 / 3)\n",
    "print(34 // 3)"
   ]
  },
  {
   "cell_type": "code",
   "execution_count": 7,
   "id": "3b3b9da4",
   "metadata": {},
   "outputs": [
    {
     "name": "stdout",
     "output_type": "stream",
     "text": [
      "1\n"
     ]
    }
   ],
   "source": [
    "print(34 % 3) #will return remainder"
   ]
  },
  {
   "cell_type": "code",
   "execution_count": 8,
   "id": "7a1c05cd",
   "metadata": {},
   "outputs": [
    {
     "name": "stdout",
     "output_type": "stream",
     "text": [
      "240.66666666666666\n"
     ]
    }
   ],
   "source": [
    "print(722/3)"
   ]
  },
  {
   "cell_type": "code",
   "execution_count": 9,
   "id": "422daac3",
   "metadata": {},
   "outputs": [
    {
     "name": "stdout",
     "output_type": "stream",
     "text": [
      "240\n"
     ]
    }
   ],
   "source": [
    "print(722//3)"
   ]
  },
  {
   "cell_type": "code",
   "execution_count": 10,
   "id": "db120d57",
   "metadata": {},
   "outputs": [
    {
     "name": "stdout",
     "output_type": "stream",
     "text": [
      "2\n"
     ]
    }
   ],
   "source": [
    "print(722%3)"
   ]
  },
  {
   "cell_type": "code",
   "execution_count": 17,
   "id": "84590aa5",
   "metadata": {},
   "outputs": [
    {
     "name": "stdout",
     "output_type": "stream",
     "text": [
      "6.6\n",
      "-6.6\n",
      "-6.6\n",
      "6.6\n"
     ]
    }
   ],
   "source": [
    "print(33 / 5)\n",
    "print(-33/5)\n",
    "print(33/-5)\n",
    "print(-33/-5)"
   ]
  },
  {
   "cell_type": "code",
   "execution_count": 19,
   "id": "026bfce3",
   "metadata": {},
   "outputs": [
    {
     "name": "stdout",
     "output_type": "stream",
     "text": [
      "6\n",
      "-7\n",
      "-7\n",
      "6\n"
     ]
    }
   ],
   "source": [
    "print(33 // 5)\n",
    "print(-33 // 5)\n",
    "print(33 // -5)\n",
    "print(-33 // -5)"
   ]
  },
  {
   "cell_type": "code",
   "execution_count": 14,
   "id": "5508fb59",
   "metadata": {},
   "outputs": [
    {
     "name": "stdout",
     "output_type": "stream",
     "text": [
      "6.0\n"
     ]
    }
   ],
   "source": [
    "print(33.0000 // 5)"
   ]
  },
  {
   "cell_type": "code",
   "execution_count": 15,
   "id": "c6f7f31e",
   "metadata": {},
   "outputs": [
    {
     "name": "stdout",
     "output_type": "stream",
     "text": [
      "3\n"
     ]
    }
   ],
   "source": [
    "print(33 % 5)"
   ]
  },
  {
   "cell_type": "code",
   "execution_count": 20,
   "id": "bd8b5d59",
   "metadata": {},
   "outputs": [
    {
     "name": "stdout",
     "output_type": "stream",
     "text": [
      "2\n"
     ]
    }
   ],
   "source": [
    "print(-33 % 5)"
   ]
  },
  {
   "cell_type": "code",
   "execution_count": 22,
   "id": "afc1e5d3",
   "metadata": {},
   "outputs": [
    {
     "name": "stdout",
     "output_type": "stream",
     "text": [
      "-2\n"
     ]
    }
   ],
   "source": [
    "print(33 % -5)"
   ]
  },
  {
   "cell_type": "code",
   "execution_count": 23,
   "id": "6a1fd66d",
   "metadata": {},
   "outputs": [
    {
     "name": "stdout",
     "output_type": "stream",
     "text": [
      "-3\n"
     ]
    }
   ],
   "source": [
    "print(-33 % - 5)"
   ]
  },
  {
   "cell_type": "code",
   "execution_count": 24,
   "id": "ba175435",
   "metadata": {},
   "outputs": [
    {
     "name": "stdout",
     "output_type": "stream",
     "text": [
      "27\n"
     ]
    }
   ],
   "source": [
    "print(3 ** 3)"
   ]
  },
  {
   "cell_type": "code",
   "execution_count": 1,
   "id": "1fded2ff",
   "metadata": {},
   "outputs": [
    {
     "name": "stdout",
     "output_type": "stream",
     "text": [
      "81\n"
     ]
    }
   ],
   "source": [
    "#** -2 power 3 => 2**3\n",
    "print(3** 4)"
   ]
  },
  {
   "cell_type": "code",
   "execution_count": 2,
   "id": "436dd31f",
   "metadata": {},
   "outputs": [
    {
     "name": "stdout",
     "output_type": "stream",
     "text": [
      "9\n"
     ]
    }
   ],
   "source": [
    "print(3**2**1) # (3 **(2**1))"
   ]
  },
  {
   "cell_type": "code",
   "execution_count": 3,
   "id": "c0109f92",
   "metadata": {},
   "outputs": [
    {
     "name": "stdout",
     "output_type": "stream",
     "text": [
      "512.0\n"
     ]
    }
   ],
   "source": [
    "print(2.0**3**2)"
   ]
  },
  {
   "cell_type": "code",
   "execution_count": 4,
   "id": "95453c2a",
   "metadata": {},
   "outputs": [
    {
     "name": "stdout",
     "output_type": "stream",
     "text": [
      "9\n"
     ]
    }
   ],
   "source": [
    "print(3**2**1**5)"
   ]
  },
  {
   "cell_type": "markdown",
   "id": "a17fb83b",
   "metadata": {},
   "source": [
    "# Bitwise operator-\n",
    "and -&\n",
    "xor - ^\n",
    "or - |"
   ]
  },
  {
   "cell_type": "code",
   "execution_count": 5,
   "id": "caa61588",
   "metadata": {},
   "outputs": [
    {
     "name": "stdout",
     "output_type": "stream",
     "text": [
      "4\n"
     ]
    }
   ],
   "source": [
    "print(5 & 6) # 1- 1 = 1, 1- 0 =0, 0-1 =0, 0 - 0 = 0"
   ]
  },
  {
   "cell_type": "code",
   "execution_count": 6,
   "id": "8b6292f0",
   "metadata": {},
   "outputs": [
    {
     "name": "stdout",
     "output_type": "stream",
     "text": [
      "7\n"
     ]
    }
   ],
   "source": [
    "print(5 | 6) # 1- 1 = 1, 1- 0 =1, 0-1 =1, 0 - 0 = 0"
   ]
  },
  {
   "cell_type": "code",
   "execution_count": 7,
   "id": "9e9a4b3d",
   "metadata": {},
   "outputs": [
    {
     "name": "stdout",
     "output_type": "stream",
     "text": [
      "3\n"
     ]
    }
   ],
   "source": [
    "print(5 ^ 6) # 1- 1 = 0, 1- 0 =1, 0-1 =1, 0 - 0 = 0"
   ]
  },
  {
   "cell_type": "code",
   "execution_count": 8,
   "id": "c22f0192",
   "metadata": {},
   "outputs": [
    {
     "name": "stdout",
     "output_type": "stream",
     "text": [
      "3 12 5\n"
     ]
    }
   ],
   "source": [
    "print(7 & 3, 4 | 8, 3 ^ 6)"
   ]
  },
  {
   "cell_type": "markdown",
   "id": "298717e4",
   "metadata": {},
   "source": [
    "# logical and , or\n",
    "and = if x is True always it return y,\n",
    "        x is False , x will be returned\n",
    "or = if x is True it will return x\n",
    "        x is False will return Y."
   ]
  },
  {
   "cell_type": "code",
   "execution_count": 9,
   "id": "a0bd299d",
   "metadata": {},
   "outputs": [
    {
     "name": "stdout",
     "output_type": "stream",
     "text": [
      "False\n"
     ]
    }
   ],
   "source": [
    "print(True and False)"
   ]
  },
  {
   "cell_type": "code",
   "execution_count": 10,
   "id": "f8311843",
   "metadata": {},
   "outputs": [
    {
     "name": "stdout",
     "output_type": "stream",
     "text": [
      "False\n"
     ]
    }
   ],
   "source": [
    "print(False and True)"
   ]
  },
  {
   "cell_type": "code",
   "execution_count": 11,
   "id": "eb46dbb0",
   "metadata": {},
   "outputs": [
    {
     "name": "stdout",
     "output_type": "stream",
     "text": [
      "0\n"
     ]
    }
   ],
   "source": [
    "print( 5 and 0)"
   ]
  },
  {
   "cell_type": "code",
   "execution_count": 12,
   "id": "2d754168",
   "metadata": {},
   "outputs": [
    {
     "name": "stdout",
     "output_type": "stream",
     "text": [
      "5000\n"
     ]
    }
   ],
   "source": [
    "print(5 and 5000)"
   ]
  },
  {
   "cell_type": "code",
   "execution_count": 1,
   "id": "c4568da9",
   "metadata": {},
   "outputs": [
    {
     "name": "stdout",
     "output_type": "stream",
     "text": [
      "0\n"
     ]
    }
   ],
   "source": [
    "print(0 and 'aaaa')"
   ]
  },
  {
   "cell_type": "code",
   "execution_count": 2,
   "id": "ca759b17",
   "metadata": {},
   "outputs": [
    {
     "name": "stdout",
     "output_type": "stream",
     "text": [
      "\n"
     ]
    }
   ],
   "source": [
    "print('' and 'aaaa')"
   ]
  },
  {
   "cell_type": "code",
   "execution_count": 3,
   "id": "b8ce55b7",
   "metadata": {},
   "outputs": [
    {
     "name": "stdout",
     "output_type": "stream",
     "text": [
      "[]\n"
     ]
    }
   ],
   "source": [
    "print([] and 'aaaa')"
   ]
  },
  {
   "cell_type": "code",
   "execution_count": 4,
   "id": "c5b44a20",
   "metadata": {},
   "outputs": [
    {
     "name": "stdout",
     "output_type": "stream",
     "text": [
      "{}\n"
     ]
    }
   ],
   "source": [
    "print({} and 'aaaa')"
   ]
  },
  {
   "cell_type": "code",
   "execution_count": 5,
   "id": "1f488c19",
   "metadata": {},
   "outputs": [
    {
     "name": "stdout",
     "output_type": "stream",
     "text": [
      "()\n"
     ]
    }
   ],
   "source": [
    "print(() and 'aaaa')"
   ]
  },
  {
   "cell_type": "code",
   "execution_count": 6,
   "id": "3317dfac",
   "metadata": {},
   "outputs": [
    {
     "name": "stdout",
     "output_type": "stream",
     "text": [
      "aaaa\n"
     ]
    }
   ],
   "source": [
    "print(1 and 'aaaa')"
   ]
  },
  {
   "cell_type": "code",
   "execution_count": 7,
   "id": "15f41eb1",
   "metadata": {},
   "outputs": [
    {
     "name": "stdout",
     "output_type": "stream",
     "text": [
      "aaaa\n"
     ]
    }
   ],
   "source": [
    "print('xyz' and 'aaaa')"
   ]
  },
  {
   "cell_type": "code",
   "execution_count": 8,
   "id": "7785b886",
   "metadata": {},
   "outputs": [
    {
     "name": "stdout",
     "output_type": "stream",
     "text": [
      "aaaa\n"
     ]
    }
   ],
   "source": [
    "print([1,2] and 'aaaa')"
   ]
  },
  {
   "cell_type": "code",
   "execution_count": 9,
   "id": "12d15de5",
   "metadata": {},
   "outputs": [
    {
     "name": "stdout",
     "output_type": "stream",
     "text": [
      "aaaa\n"
     ]
    }
   ],
   "source": [
    "print({1,2,3} and 'aaaa')"
   ]
  },
  {
   "cell_type": "code",
   "execution_count": 13,
   "id": "7bb6c881",
   "metadata": {},
   "outputs": [
    {
     "name": "stdout",
     "output_type": "stream",
     "text": [
      "aaaa\n"
     ]
    }
   ],
   "source": [
    "print('@' and 'aaaa')"
   ]
  },
  {
   "cell_type": "code",
   "execution_count": 11,
   "id": "b2e46741",
   "metadata": {},
   "outputs": [
    {
     "name": "stdout",
     "output_type": "stream",
     "text": [
      "aaaa\n"
     ]
    }
   ],
   "source": [
    "print({1:2,0:6} and 'aaaa')"
   ]
  },
  {
   "cell_type": "code",
   "execution_count": 12,
   "id": "834b6b8d",
   "metadata": {},
   "outputs": [
    {
     "name": "stdout",
     "output_type": "stream",
     "text": [
      "0\n"
     ]
    }
   ],
   "source": [
    "print(1-1 and 'aaaa')"
   ]
  },
  {
   "cell_type": "code",
   "execution_count": 14,
   "id": "cbd77a8f",
   "metadata": {},
   "outputs": [
    {
     "name": "stdout",
     "output_type": "stream",
     "text": [
      "0j\n"
     ]
    }
   ],
   "source": [
    "print(0+0j and (3*6/55//11*4+2))"
   ]
  },
  {
   "cell_type": "code",
   "execution_count": null,
   "id": "d2790538",
   "metadata": {},
   "outputs": [],
   "source": [
    "#or\n",
    "x = True \n",
    "y = False\n",
    "print(x or y)"
   ]
  },
  {
   "cell_type": "code",
   "execution_count": 15,
   "id": "331059c8",
   "metadata": {},
   "outputs": [
    {
     "name": "stdout",
     "output_type": "stream",
     "text": [
      "False\n"
     ]
    }
   ],
   "source": [
    "x = 0\n",
    "y = False\n",
    "print(x or y)"
   ]
  },
  {
   "cell_type": "code",
   "execution_count": 17,
   "id": "c9069e23",
   "metadata": {},
   "outputs": [
    {
     "name": "stdout",
     "output_type": "stream",
     "text": [
      "6.4\n"
     ]
    }
   ],
   "source": [
    "x = False\n",
    "y = (8*4 /5)\n",
    "print(x or y)"
   ]
  },
  {
   "cell_type": "markdown",
   "id": "a0af3602",
   "metadata": {},
   "source": [
    "# relational operator"
   ]
  },
  {
   "cell_type": "code",
   "execution_count": 1,
   "id": "08924963",
   "metadata": {},
   "outputs": [
    {
     "name": "stdout",
     "output_type": "stream",
     "text": [
      "True\n"
     ]
    }
   ],
   "source": [
    "print(True == 1)"
   ]
  },
  {
   "cell_type": "code",
   "execution_count": 2,
   "id": "fccb92dd",
   "metadata": {},
   "outputs": [
    {
     "name": "stdout",
     "output_type": "stream",
     "text": [
      "True\n"
     ]
    }
   ],
   "source": [
    "print(False== 0)"
   ]
  },
  {
   "cell_type": "code",
   "execution_count": 3,
   "id": "d0469511",
   "metadata": {},
   "outputs": [
    {
     "name": "stdout",
     "output_type": "stream",
     "text": [
      "False\n"
     ]
    }
   ],
   "source": [
    "print(True ==[1])"
   ]
  },
  {
   "cell_type": "code",
   "execution_count": 5,
   "id": "fd3c3a55",
   "metadata": {},
   "outputs": [
    {
     "name": "stdout",
     "output_type": "stream",
     "text": [
      "True\n"
     ]
    }
   ],
   "source": [
    "print([1] != 0)"
   ]
  },
  {
   "cell_type": "code",
   "execution_count": 6,
   "id": "daadd42d",
   "metadata": {},
   "outputs": [
    {
     "name": "stdout",
     "output_type": "stream",
     "text": [
      "True\n"
     ]
    }
   ],
   "source": [
    "print(300 > 1)"
   ]
  },
  {
   "cell_type": "code",
   "execution_count": 7,
   "id": "fa20a268",
   "metadata": {},
   "outputs": [
    {
     "name": "stdout",
     "output_type": "stream",
     "text": [
      "False\n"
     ]
    }
   ],
   "source": [
    "print(30 < 1)"
   ]
  },
  {
   "cell_type": "code",
   "execution_count": 8,
   "id": "ef3c5139",
   "metadata": {},
   "outputs": [
    {
     "name": "stdout",
     "output_type": "stream",
     "text": [
      "True\n"
     ]
    }
   ],
   "source": [
    "print(300 >= 300)"
   ]
  },
  {
   "cell_type": "code",
   "execution_count": 9,
   "id": "acac67fd",
   "metadata": {},
   "outputs": [
    {
     "name": "stdout",
     "output_type": "stream",
     "text": [
      "True\n"
     ]
    }
   ],
   "source": [
    "print(300 <=300)"
   ]
  },
  {
   "cell_type": "code",
   "execution_count": null,
   "id": "c45628b2",
   "metadata": {},
   "outputs": [],
   "source": [
    "#ord(<char>) to find the unicode for the given character\n",
    "#chr(<int>) to find the char for the given ordinal value"
   ]
  },
  {
   "cell_type": "code",
   "execution_count": 10,
   "id": "3c8b9aef",
   "metadata": {},
   "outputs": [
    {
     "name": "stdout",
     "output_type": "stream",
     "text": [
      "65 90\n"
     ]
    }
   ],
   "source": [
    "print(ord('A'),ord('Z'))"
   ]
  },
  {
   "cell_type": "code",
   "execution_count": 12,
   "id": "c50c7839",
   "metadata": {},
   "outputs": [
    {
     "name": "stdout",
     "output_type": "stream",
     "text": [
      "0 => \u0000\n",
      "1 => \u0001\n",
      "2 => \u0002\n",
      "3 => \u0003\n",
      "4 => \u0004\n",
      "5 => \u0005\n",
      "6 => \u0006\n",
      "7 => \u0007\n",
      "8 => \b\n",
      "9 => \t\n",
      "10 => \n",
      "\n",
      "11 => \u000b",
      "\n",
      "12 => \f",
      "\n",
      "13 => \r\n",
      "14 => \u000e\n",
      "15 => \u000f\n",
      "16 => \u0010\n",
      "17 => \u0011\n",
      "18 => \u0012\n",
      "19 => \u0013\n",
      "20 => \u0014\n",
      "21 => \u0015\n",
      "22 => \u0016\n",
      "23 => \u0017\n",
      "24 => \u0018\n",
      "25 => \u0019\n",
      "26 => \u001a\n",
      "27 => \u001b\n",
      "28 => \u001c",
      "\n",
      "29 => \u001d",
      "\n",
      "30 => \u001e",
      "\n",
      "31 => \u001f\n",
      "32 =>  \n",
      "33 => !\n",
      "34 => \"\n",
      "35 => #\n",
      "36 => $\n",
      "37 => %\n",
      "38 => &\n",
      "39 => '\n",
      "40 => (\n",
      "41 => )\n",
      "42 => *\n",
      "43 => +\n",
      "44 => ,\n",
      "45 => -\n",
      "46 => .\n",
      "47 => /\n",
      "48 => 0\n",
      "49 => 1\n",
      "50 => 2\n",
      "51 => 3\n",
      "52 => 4\n",
      "53 => 5\n",
      "54 => 6\n",
      "55 => 7\n",
      "56 => 8\n",
      "57 => 9\n",
      "58 => :\n",
      "59 => ;\n",
      "60 => <\n",
      "61 => =\n",
      "62 => >\n",
      "63 => ?\n",
      "64 => @\n",
      "65 => A\n",
      "66 => B\n",
      "67 => C\n",
      "68 => D\n",
      "69 => E\n",
      "70 => F\n",
      "71 => G\n",
      "72 => H\n",
      "73 => I\n",
      "74 => J\n",
      "75 => K\n",
      "76 => L\n",
      "77 => M\n",
      "78 => N\n",
      "79 => O\n",
      "80 => P\n",
      "81 => Q\n",
      "82 => R\n",
      "83 => S\n",
      "84 => T\n",
      "85 => U\n",
      "86 => V\n",
      "87 => W\n",
      "88 => X\n",
      "89 => Y\n",
      "90 => Z\n",
      "91 => [\n",
      "92 => \\\n",
      "93 => ]\n",
      "94 => ^\n",
      "95 => _\n",
      "96 => `\n",
      "97 => a\n",
      "98 => b\n",
      "99 => c\n",
      "100 => d\n",
      "101 => e\n",
      "102 => f\n",
      "103 => g\n",
      "104 => h\n",
      "105 => i\n",
      "106 => j\n",
      "107 => k\n",
      "108 => l\n",
      "109 => m\n",
      "110 => n\n",
      "111 => o\n",
      "112 => p\n",
      "113 => q\n",
      "114 => r\n",
      "115 => s\n",
      "116 => t\n",
      "117 => u\n",
      "118 => v\n",
      "119 => w\n",
      "120 => x\n",
      "121 => y\n",
      "122 => z\n"
     ]
    }
   ],
   "source": [
    "for i in range(0,123):\n",
    "    print(i, '=>',chr(i))"
   ]
  },
  {
   "cell_type": "code",
   "execution_count": 13,
   "id": "b4d13467",
   "metadata": {},
   "outputs": [
    {
     "name": "stdout",
     "output_type": "stream",
     "text": [
      "False\n"
     ]
    }
   ],
   "source": [
    "print('A'> 'a')"
   ]
  },
  {
   "cell_type": "code",
   "execution_count": 14,
   "id": "91a8bf0c",
   "metadata": {},
   "outputs": [
    {
     "name": "stdout",
     "output_type": "stream",
     "text": [
      "True\n"
     ]
    }
   ],
   "source": [
    "print('A' < 'a')"
   ]
  },
  {
   "cell_type": "code",
   "execution_count": 15,
   "id": "e3cfc8a6",
   "metadata": {},
   "outputs": [
    {
     "name": "stdout",
     "output_type": "stream",
     "text": [
      "False\n"
     ]
    }
   ],
   "source": [
    "print('Abi'> 'a')"
   ]
  },
  {
   "cell_type": "code",
   "execution_count": 16,
   "id": "b41b5d48",
   "metadata": {},
   "outputs": [
    {
     "name": "stdout",
     "output_type": "stream",
     "text": [
      "True\n"
     ]
    }
   ],
   "source": [
    "print('abi'> 'a')"
   ]
  },
  {
   "cell_type": "code",
   "execution_count": null,
   "id": "13684c84",
   "metadata": {},
   "outputs": [],
   "source": [
    "print('abi'> 'ab')"
   ]
  },
  {
   "cell_type": "code",
   "execution_count": 1,
   "id": "eecba1ec",
   "metadata": {},
   "outputs": [
    {
     "name": "stdout",
     "output_type": "stream",
     "text": [
      "False\n"
     ]
    }
   ],
   "source": [
    "print(0.1+0.1+0.1 == 0.3)"
   ]
  },
  {
   "cell_type": "code",
   "execution_count": 2,
   "id": "da04b648",
   "metadata": {},
   "outputs": [
    {
     "name": "stdout",
     "output_type": "stream",
     "text": [
      "0.30000000000000004\n"
     ]
    }
   ],
   "source": [
    "print(0.1+0.1+0.1)"
   ]
  },
  {
   "cell_type": "code",
   "execution_count": 3,
   "id": "d433190b",
   "metadata": {},
   "outputs": [
    {
     "name": "stdout",
     "output_type": "stream",
     "text": [
      "False\n"
     ]
    }
   ],
   "source": [
    "print([1,2,3] == 3)"
   ]
  },
  {
   "cell_type": "code",
   "execution_count": 4,
   "id": "32c0bc7e",
   "metadata": {},
   "outputs": [
    {
     "name": "stdout",
     "output_type": "stream",
     "text": [
      "False\n"
     ]
    }
   ],
   "source": [
    "print((1,2,3)==[1,2,3])"
   ]
  },
  {
   "cell_type": "markdown",
   "id": "3c3b89e3",
   "metadata": {},
   "source": [
    "# Identity Operator\n",
    "is - used to check whether the variables refers same memory location\n",
    "is not  - used to check whether the variables are not refers the same memory location"
   ]
  },
  {
   "cell_type": "code",
   "execution_count": 5,
   "id": "090cc021",
   "metadata": {},
   "outputs": [
    {
     "name": "stdout",
     "output_type": "stream",
     "text": [
      "True\n"
     ]
    }
   ],
   "source": [
    "print(5 == 5)"
   ]
  },
  {
   "cell_type": "code",
   "execution_count": 6,
   "id": "f885b184",
   "metadata": {},
   "outputs": [
    {
     "name": "stdout",
     "output_type": "stream",
     "text": [
      "True\n"
     ]
    },
    {
     "name": "stderr",
     "output_type": "stream",
     "text": [
      "<>:1: SyntaxWarning: \"is\" with a literal. Did you mean \"==\"?\n",
      "<>:1: SyntaxWarning: \"is\" with a literal. Did you mean \"==\"?\n",
      "C:\\Users\\SERVER\\AppData\\Local\\Temp\\ipykernel_5040\\1305887208.py:1: SyntaxWarning: \"is\" with a literal. Did you mean \"==\"?\n",
      "  print( 5 is 5)\n"
     ]
    }
   ],
   "source": [
    "print( 5 is 5)"
   ]
  },
  {
   "cell_type": "code",
   "execution_count": 7,
   "id": "1aefbbf3",
   "metadata": {},
   "outputs": [
    {
     "name": "stdout",
     "output_type": "stream",
     "text": [
      "True\n"
     ]
    }
   ],
   "source": [
    "c = 5\n",
    "d = 5\n",
    "print(c is d)# to check memory address"
   ]
  },
  {
   "cell_type": "code",
   "execution_count": 8,
   "id": "e836b79c",
   "metadata": {},
   "outputs": [
    {
     "name": "stdout",
     "output_type": "stream",
     "text": [
      "Enter:250\n"
     ]
    }
   ],
   "source": [
    "c = 250\n",
    "d = int(input(\"Enter:\"))"
   ]
  },
  {
   "cell_type": "code",
   "execution_count": 9,
   "id": "59875b49",
   "metadata": {},
   "outputs": [
    {
     "name": "stdout",
     "output_type": "stream",
     "text": [
      "True\n"
     ]
    }
   ],
   "source": [
    "print(c is d) #  -8 to 256"
   ]
  },
  {
   "cell_type": "code",
   "execution_count": 10,
   "id": "0d346015",
   "metadata": {},
   "outputs": [
    {
     "name": "stdout",
     "output_type": "stream",
     "text": [
      "Enter:290\n",
      "False\n"
     ]
    }
   ],
   "source": [
    "c = 290\n",
    "d = int(input(\"Enter:\"))\n",
    "print(c is d)"
   ]
  },
  {
   "cell_type": "code",
   "execution_count": 11,
   "id": "11893643",
   "metadata": {},
   "outputs": [
    {
     "name": "stdout",
     "output_type": "stream",
     "text": [
      "Enter:290\n",
      "True\n"
     ]
    }
   ],
   "source": [
    "c = 290\n",
    "d = int(input(\"Enter:\"))\n",
    "print(c is not d)"
   ]
  },
  {
   "cell_type": "markdown",
   "id": "bc1d3375",
   "metadata": {},
   "source": [
    "# Membership operator \n",
    "in - to check whether the member is in a sequence\n",
    "not in -to check whether the member is not in the sequence\n"
   ]
  },
  {
   "cell_type": "code",
   "execution_count": 1,
   "id": "b99f2102",
   "metadata": {},
   "outputs": [
    {
     "ename": "TypeError",
     "evalue": "'in <string>' requires string as left operand, not int",
     "output_type": "error",
     "traceback": [
      "\u001b[1;31m---------------------------------------------------------------------------\u001b[0m",
      "\u001b[1;31mTypeError\u001b[0m                                 Traceback (most recent call last)",
      "Cell \u001b[1;32mIn[1], line 1\u001b[0m\n\u001b[1;32m----> 1\u001b[0m \u001b[38;5;28mprint\u001b[39m(\u001b[38;5;241m5\u001b[39m \u001b[38;5;129;01min\u001b[39;00m \u001b[38;5;124m'\u001b[39m\u001b[38;5;124m56767\u001b[39m\u001b[38;5;124m'\u001b[39m)\n",
      "\u001b[1;31mTypeError\u001b[0m: 'in <string>' requires string as left operand, not int"
     ]
    }
   ],
   "source": [
    "\n",
    "print(5 in '56767')"
   ]
  },
  {
   "cell_type": "code",
   "execution_count": 2,
   "id": "6de57c18",
   "metadata": {},
   "outputs": [
    {
     "name": "stdout",
     "output_type": "stream",
     "text": [
      "True\n"
     ]
    }
   ],
   "source": [
    "print('5' in '56767')"
   ]
  },
  {
   "cell_type": "code",
   "execution_count": 3,
   "id": "7d881f3f",
   "metadata": {},
   "outputs": [
    {
     "name": "stdout",
     "output_type": "stream",
     "text": [
      "False\n"
     ]
    }
   ],
   "source": [
    "print('8' in '56767')"
   ]
  },
  {
   "cell_type": "code",
   "execution_count": 4,
   "id": "3fc8ac1c",
   "metadata": {},
   "outputs": [
    {
     "name": "stdout",
     "output_type": "stream",
     "text": [
      "True\n"
     ]
    }
   ],
   "source": [
    "print(5 in (1,2,4,5,))"
   ]
  },
  {
   "cell_type": "code",
   "execution_count": 5,
   "id": "a4bcf501",
   "metadata": {},
   "outputs": [
    {
     "name": "stdout",
     "output_type": "stream",
     "text": [
      "False\n"
     ]
    }
   ],
   "source": [
    "print(5 not in (1,2,4,5,))"
   ]
  },
  {
   "cell_type": "code",
   "execution_count": 6,
   "id": "e17ea5e7",
   "metadata": {},
   "outputs": [
    {
     "name": "stdout",
     "output_type": "stream",
     "text": [
      "True\n"
     ]
    }
   ],
   "source": [
    "print(5 in {1:6,7:8,5:9})"
   ]
  },
  {
   "cell_type": "code",
   "execution_count": 7,
   "id": "7320a870",
   "metadata": {},
   "outputs": [
    {
     "name": "stdout",
     "output_type": "stream",
     "text": [
      "False\n"
     ]
    }
   ],
   "source": [
    "print(5 in {1:6,7:8,7:5})"
   ]
  },
  {
   "cell_type": "markdown",
   "id": "bb0162fe",
   "metadata": {},
   "source": [
    "# Expression\n",
    "Arithmetic -3 ** 2 + 4 - 7 //2 /4 %2\n",
    "Logical - 3 and 4 or not 5\n",
    "Relational - 3 > 2 <4\n",
    "Compound Expression"
   ]
  },
  {
   "cell_type": "code",
   "execution_count": 1,
   "id": "f3a941ca",
   "metadata": {},
   "outputs": [
    {
     "name": "stdout",
     "output_type": "stream",
     "text": [
      "324\n",
      "0\n"
     ]
    }
   ],
   "source": [
    "#aRITHMETIC \n",
    "print( 3 ** 4 * 4 )\n",
    "print( 3 // 4 * 4 )\n"
   ]
  },
  {
   "cell_type": "code",
   "execution_count": 1,
   "id": "b37b9932",
   "metadata": {},
   "outputs": [
    {
     "name": "stdout",
     "output_type": "stream",
     "text": [
      "True\n"
     ]
    }
   ],
   "source": [
    "print(300 ** 2 // 4 and 3 < 5)"
   ]
  },
  {
   "cell_type": "code",
   "execution_count": 2,
   "id": "e1f8b670",
   "metadata": {},
   "outputs": [
    {
     "name": "stdout",
     "output_type": "stream",
     "text": [
      "43046721\n"
     ]
    }
   ],
   "source": [
    "print(5 and 7 * 4 / 8 // 4 or 3** 2** 4)"
   ]
  },
  {
   "cell_type": "code",
   "execution_count": 3,
   "id": "487fb5bb",
   "metadata": {},
   "outputs": [
    {
     "name": "stdout",
     "output_type": "stream",
     "text": [
      "0.0\n"
     ]
    }
   ],
   "source": [
    "print(5 and 7 * 4 / 8 // 4 and 3** 2** 4)"
   ]
  },
  {
   "cell_type": "code",
   "execution_count": 4,
   "id": "2af8c290",
   "metadata": {},
   "outputs": [
    {
     "name": "stdout",
     "output_type": "stream",
     "text": [
      "-9.0\n"
     ]
    }
   ],
   "source": [
    "print(55// 5.0 and -55//5.0+ 2)"
   ]
  },
  {
   "cell_type": "code",
   "execution_count": 7,
   "id": "c7224ae2",
   "metadata": {},
   "outputs": [
    {
     "name": "stdout",
     "output_type": "stream",
     "text": [
      "0\n"
     ]
    }
   ],
   "source": [
    "print(3**2 and 4** 2**2 % -4)"
   ]
  },
  {
   "cell_type": "code",
   "execution_count": 8,
   "id": "b777d6f2",
   "metadata": {},
   "outputs": [
    {
     "name": "stdout",
     "output_type": "stream",
     "text": [
      "True\n"
     ]
    }
   ],
   "source": [
    "print(True or False and 5555** 3)"
   ]
  },
  {
   "cell_type": "code",
   "execution_count": 9,
   "id": "6276957b",
   "metadata": {},
   "outputs": [
    {
     "name": "stdout",
     "output_type": "stream",
     "text": [
      "86\n"
     ]
    }
   ],
   "source": [
    "print(3^5 and 6 |7 + 5 * 6 + 7 **2**1)"
   ]
  },
  {
   "cell_type": "code",
   "execution_count": 1,
   "id": "220c014f",
   "metadata": {},
   "outputs": [
    {
     "name": "stdout",
     "output_type": "stream",
     "text": [
      "0.18200953795884456\n"
     ]
    }
   ],
   "source": [
    "import random\n",
    "print(random.random())#will give by chance 0 to less than 1 -floating point\n",
    "    "
   ]
  },
  {
   "cell_type": "code",
   "execution_count": 2,
   "id": "51473bbd",
   "metadata": {},
   "outputs": [
    {
     "name": "stdout",
     "output_type": "stream",
     "text": [
      "0.2744637259944327\n"
     ]
    }
   ],
   "source": [
    "import random\n",
    "print(random.random())#will give by chance 0 to less than 1 -floating point"
   ]
  },
  {
   "cell_type": "code",
   "execution_count": 3,
   "id": "4b4d29a3",
   "metadata": {},
   "outputs": [
    {
     "name": "stdout",
     "output_type": "stream",
     "text": [
      "1\n"
     ]
    }
   ],
   "source": [
    "import random \n",
    "x = random.randint(1,10)#will generate any number between 1 to 10 both values are inclusive\n",
    "print(x)"
   ]
  },
  {
   "cell_type": "code",
   "execution_count": 4,
   "id": "6fc8b1d2",
   "metadata": {},
   "outputs": [
    {
     "name": "stdout",
     "output_type": "stream",
     "text": [
      "2\n"
     ]
    }
   ],
   "source": [
    "import random \n",
    "x = random.randint(1,10)#will generate any number between 1 to 10 both values are inclusive\n",
    "print(x)"
   ]
  },
  {
   "cell_type": "code",
   "execution_count": 5,
   "id": "1bc01372",
   "metadata": {},
   "outputs": [
    {
     "name": "stdout",
     "output_type": "stream",
     "text": [
      "2\n"
     ]
    }
   ],
   "source": [
    "import random \n",
    "x = random.randint(1,10)#will generate any number between 1 to 10 both values are inclusive\n",
    "print(x)"
   ]
  },
  {
   "cell_type": "code",
   "execution_count": 6,
   "id": "088592df",
   "metadata": {},
   "outputs": [
    {
     "name": "stdout",
     "output_type": "stream",
     "text": [
      "5\n"
     ]
    }
   ],
   "source": [
    "import random \n",
    "x = random.randint(1,10)#will generate any number between 1 to 10 both values are inclusive\n",
    "print(x)"
   ]
  },
  {
   "cell_type": "code",
   "execution_count": 11,
   "id": "8fecdb3f",
   "metadata": {},
   "outputs": [
    {
     "name": "stdout",
     "output_type": "stream",
     "text": [
      "6\n"
     ]
    }
   ],
   "source": [
    "import random \n",
    "x = random.randrange(10)#will generate any number between 1 to 10 both values \n",
    "#end value - exclusive\n",
    "print(x)"
   ]
  },
  {
   "cell_type": "code",
   "execution_count": 12,
   "id": "46987e1c",
   "metadata": {},
   "outputs": [
    {
     "name": "stdout",
     "output_type": "stream",
     "text": [
      "5\n"
     ]
    }
   ],
   "source": [
    "import random \n",
    "x = random.randrange(10)#will generate any number between 1 to 10 both values \n",
    "#end value - exclusive\n",
    "print(x)"
   ]
  },
  {
   "cell_type": "code",
   "execution_count": 14,
   "id": "aa71945f",
   "metadata": {},
   "outputs": [
    {
     "name": "stdout",
     "output_type": "stream",
     "text": [
      "9\n"
     ]
    }
   ],
   "source": [
    "import random \n",
    "x = random.randrange(3,10)#will generate any number between 1 to 10 both values \n",
    "#end value - exclusive\n",
    "print(x)"
   ]
  },
  {
   "cell_type": "code",
   "execution_count": null,
   "id": "fa524bd2",
   "metadata": {},
   "outputs": [],
   "source": [
    "import random \n",
    "x = random.randrange(10)#will generate any number between 1 to 10 both values \n",
    "#end value - exclusive\n",
    "print(x)"
   ]
  },
  {
   "cell_type": "code",
   "execution_count": null,
   "id": "569eb771",
   "metadata": {},
   "outputs": [],
   "source": []
  },
  {
   "cell_type": "code",
   "execution_count": null,
   "id": "532fc4e2",
   "metadata": {},
   "outputs": [],
   "source": []
  },
  {
   "cell_type": "code",
   "execution_count": null,
   "id": "08fe25b2",
   "metadata": {},
   "outputs": [],
   "source": []
  },
  {
   "cell_type": "code",
   "execution_count": null,
   "id": "d4bf64ae",
   "metadata": {},
   "outputs": [],
   "source": []
  },
  {
   "cell_type": "code",
   "execution_count": null,
   "id": "a65e8ce0",
   "metadata": {},
   "outputs": [],
   "source": []
  },
  {
   "cell_type": "code",
   "execution_count": null,
   "id": "1fc37124",
   "metadata": {},
   "outputs": [],
   "source": []
  },
  {
   "cell_type": "code",
   "execution_count": null,
   "id": "383189c1",
   "metadata": {},
   "outputs": [],
   "source": []
  },
  {
   "cell_type": "code",
   "execution_count": null,
   "id": "84f8e2f6",
   "metadata": {},
   "outputs": [],
   "source": []
  },
  {
   "cell_type": "code",
   "execution_count": null,
   "id": "3e135189",
   "metadata": {},
   "outputs": [],
   "source": []
  },
  {
   "cell_type": "code",
   "execution_count": null,
   "id": "f2e01cde",
   "metadata": {},
   "outputs": [],
   "source": []
  },
  {
   "cell_type": "code",
   "execution_count": null,
   "id": "8db12b9e",
   "metadata": {},
   "outputs": [],
   "source": []
  },
  {
   "cell_type": "code",
   "execution_count": null,
   "id": "63f33020",
   "metadata": {},
   "outputs": [],
   "source": []
  },
  {
   "cell_type": "code",
   "execution_count": null,
   "id": "90983180",
   "metadata": {},
   "outputs": [],
   "source": []
  },
  {
   "cell_type": "code",
   "execution_count": null,
   "id": "3960ea37",
   "metadata": {},
   "outputs": [],
   "source": []
  },
  {
   "cell_type": "code",
   "execution_count": null,
   "id": "0ada46b6",
   "metadata": {},
   "outputs": [],
   "source": []
  },
  {
   "cell_type": "code",
   "execution_count": null,
   "id": "69a5d252",
   "metadata": {},
   "outputs": [],
   "source": []
  },
  {
   "cell_type": "code",
   "execution_count": null,
   "id": "3e51d2fc",
   "metadata": {},
   "outputs": [],
   "source": []
  },
  {
   "cell_type": "code",
   "execution_count": null,
   "id": "f0d6aa6f",
   "metadata": {},
   "outputs": [],
   "source": []
  },
  {
   "cell_type": "code",
   "execution_count": null,
   "id": "0639117c",
   "metadata": {},
   "outputs": [],
   "source": []
  },
  {
   "cell_type": "code",
   "execution_count": null,
   "id": "5d2bc3f0",
   "metadata": {},
   "outputs": [],
   "source": []
  },
  {
   "cell_type": "code",
   "execution_count": null,
   "id": "f7657ebd",
   "metadata": {},
   "outputs": [],
   "source": []
  },
  {
   "cell_type": "code",
   "execution_count": null,
   "id": "b8331049",
   "metadata": {},
   "outputs": [],
   "source": []
  },
  {
   "cell_type": "code",
   "execution_count": null,
   "id": "44263e1a",
   "metadata": {},
   "outputs": [],
   "source": []
  },
  {
   "cell_type": "code",
   "execution_count": null,
   "id": "d5addd2c",
   "metadata": {},
   "outputs": [],
   "source": []
  }
 ],
 "metadata": {
  "kernelspec": {
   "display_name": "Python 3 (ipykernel)",
   "language": "python",
   "name": "python3"
  },
  "language_info": {
   "codemirror_mode": {
    "name": "ipython",
    "version": 3
   },
   "file_extension": ".py",
   "mimetype": "text/x-python",
   "name": "python",
   "nbconvert_exporter": "python",
   "pygments_lexer": "ipython3",
   "version": "3.11.3"
  }
 },
 "nbformat": 4,
 "nbformat_minor": 5
}
