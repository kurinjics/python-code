{
 "cells": [
  {
   "cell_type": "code",
   "execution_count": 1,
   "id": "70d7b4e9",
   "metadata": {},
   "outputs": [
    {
     "name": "stdout",
     "output_type": "stream",
     "text": [
      "[1, 300, 2, 3]\n"
     ]
    }
   ],
   "source": [
    "L = [1,2,3]\n",
    "L.insert(1,300)\n",
    "print(L)"
   ]
  },
  {
   "cell_type": "code",
   "execution_count": 2,
   "id": "95e9b61b",
   "metadata": {},
   "outputs": [
    {
     "name": "stdout",
     "output_type": "stream",
     "text": [
      "[300, 1, 2, 3]\n"
     ]
    }
   ],
   "source": [
    "L = [1,2,3]\n",
    "L.insert(-5,300)\n",
    "print(L)"
   ]
  },
  {
   "cell_type": "code",
   "execution_count": 3,
   "id": "a18bd175",
   "metadata": {},
   "outputs": [
    {
     "name": "stdout",
     "output_type": "stream",
     "text": [
      "[1, 300, 2, 3]\n"
     ]
    }
   ],
   "source": [
    "L = [1,2,3]\n",
    "L.insert(-2,300)\n",
    "print(L)"
   ]
  },
  {
   "cell_type": "code",
   "execution_count": 4,
   "id": "a655fe61",
   "metadata": {},
   "outputs": [
    {
     "name": "stdout",
     "output_type": "stream",
     "text": [
      "[1, 2, 300, 3]\n"
     ]
    }
   ],
   "source": [
    "L = [1,2,3]\n",
    "L.insert(-1,300)\n",
    "print(L)"
   ]
  },
  {
   "cell_type": "code",
   "execution_count": 5,
   "id": "b04bb27b",
   "metadata": {},
   "outputs": [
    {
     "name": "stdout",
     "output_type": "stream",
     "text": [
      "[1, 2, 3, 300]\n"
     ]
    }
   ],
   "source": [
    "L = [1,2,3]\n",
    "L.insert(5,300)\n",
    "print(L)"
   ]
  },
  {
   "cell_type": "code",
   "execution_count": 6,
   "id": "75add71a",
   "metadata": {},
   "outputs": [
    {
     "name": "stdout",
     "output_type": "stream",
     "text": [
      "[1, 2, 3, 300]\n"
     ]
    }
   ],
   "source": [
    "L = [1,2,3]\n",
    "L.insert(1+2,300)\n",
    "print(L)"
   ]
  },
  {
   "cell_type": "code",
   "execution_count": 8,
   "id": "720f2743",
   "metadata": {},
   "outputs": [],
   "source": [
    "for i in range(200,100,15):\n",
    "    print(i,end =',')"
   ]
  },
  {
   "cell_type": "code",
   "execution_count": 9,
   "id": "020164db",
   "metadata": {},
   "outputs": [],
   "source": [
    "for i in range(200,400,-15):\n",
    "    print(i,end =',')"
   ]
  },
  {
   "cell_type": "code",
   "execution_count": 10,
   "id": "0b78e5e1",
   "metadata": {},
   "outputs": [
    {
     "ename": "AttributeError",
     "evalue": "'list' object has no attribute 'sorted'",
     "output_type": "error",
     "traceback": [
      "\u001b[1;31m---------------------------------------------------------------------------\u001b[0m",
      "\u001b[1;31mAttributeError\u001b[0m                            Traceback (most recent call last)",
      "Cell \u001b[1;32mIn[10], line 2\u001b[0m\n\u001b[0;32m      1\u001b[0m l\u001b[38;5;241m=\u001b[39m[\u001b[38;5;241m2\u001b[39m,\u001b[38;5;241m3\u001b[39m,\u001b[38;5;241m1\u001b[39m,\u001b[38;5;241m4\u001b[39m,\u001b[38;5;241m5\u001b[39m,\u001b[38;5;241m4\u001b[39m,\u001b[38;5;241m8\u001b[39m,\u001b[38;5;241m9\u001b[39m,\u001b[38;5;241m5\u001b[39m]\n\u001b[1;32m----> 2\u001b[0m l\u001b[38;5;241m.\u001b[39msorted()\n",
      "\u001b[1;31mAttributeError\u001b[0m: 'list' object has no attribute 'sorted'"
     ]
    }
   ],
   "source": [
    "l=[2,3,1,4,5,4,8,9,5]\n",
    "l.sorted()"
   ]
  },
  {
   "cell_type": "code",
   "execution_count": 11,
   "id": "bee792b6",
   "metadata": {},
   "outputs": [
    {
     "data": {
      "text/plain": [
       "[1, 2, 3, 4, 4, 5, 5, 8, 9]"
      ]
     },
     "execution_count": 11,
     "metadata": {},
     "output_type": "execute_result"
    }
   ],
   "source": [
    "sorted(l)"
   ]
  },
  {
   "cell_type": "code",
   "execution_count": 12,
   "id": "c9507792",
   "metadata": {},
   "outputs": [
    {
     "data": {
      "text/plain": [
       "[9, 8, 5, 5, 4, 4, 3, 2, 1]"
      ]
     },
     "execution_count": 12,
     "metadata": {},
     "output_type": "execute_result"
    }
   ],
   "source": [
    "sorted(l,reverse=True)"
   ]
  },
  {
   "cell_type": "code",
   "execution_count": 13,
   "id": "a88aa299",
   "metadata": {},
   "outputs": [
    {
     "data": {
      "text/plain": [
       "[1, 2, 3, 4, 4, 5, 5, 8, 9]"
      ]
     },
     "execution_count": 13,
     "metadata": {},
     "output_type": "execute_result"
    }
   ],
   "source": [
    "sorted(l,reverse=False)"
   ]
  },
  {
   "cell_type": "code",
   "execution_count": 14,
   "id": "1c3bdaf4",
   "metadata": {},
   "outputs": [
    {
     "data": {
      "text/plain": [
       "[1, 2, 3, 4, 4, 5, 5, 8, 9]"
      ]
     },
     "execution_count": 14,
     "metadata": {},
     "output_type": "execute_result"
    }
   ],
   "source": [
    "sorted(l,reverse=False)"
   ]
  },
  {
   "cell_type": "code",
   "execution_count": 15,
   "id": "43c7a497",
   "metadata": {},
   "outputs": [
    {
     "name": "stdout",
     "output_type": "stream",
     "text": [
      "[2, 3, 1, 4, 5, 4, 8, 9, 5]\n"
     ]
    }
   ],
   "source": [
    "print(l)"
   ]
  },
  {
   "cell_type": "code",
   "execution_count": 16,
   "id": "e2dcd870",
   "metadata": {},
   "outputs": [
    {
     "data": {
      "text/plain": [
       "[1, 2, 3, 4, 4, 5, 5, 8, 9]"
      ]
     },
     "execution_count": 16,
     "metadata": {},
     "output_type": "execute_result"
    }
   ],
   "source": [
    "sorted(l,reverse=False)"
   ]
  },
  {
   "cell_type": "code",
   "execution_count": 17,
   "id": "69ba92cc",
   "metadata": {},
   "outputs": [
    {
     "ename": "SyntaxError",
     "evalue": "unterminated string literal (detected at line 1) (3706897860.py, line 1)",
     "output_type": "error",
     "traceback": [
      "\u001b[1;36m  Cell \u001b[1;32mIn[17], line 1\u001b[1;36m\u001b[0m\n\u001b[1;33m    motor = 'Tech Mahindra\u001b[0m\n\u001b[1;37m            ^\u001b[0m\n\u001b[1;31mSyntaxError\u001b[0m\u001b[1;31m:\u001b[0m unterminated string literal (detected at line 1)\n"
     ]
    }
   ],
   "source": [
    "motor = 'Tech Mahindra \n",
    "opened with a price of \n",
    "₹1244.65'\n",
    "print(motor, len(motor))"
   ]
  },
  {
   "cell_type": "code",
   "execution_count": 18,
   "id": "b41ff285",
   "metadata": {},
   "outputs": [
    {
     "ename": "SyntaxError",
     "evalue": "unterminated string literal (detected at line 3) (164474333.py, line 3)",
     "output_type": "error",
     "traceback": [
      "\u001b[1;36m  Cell \u001b[1;32mIn[18], line 3\u001b[1;36m\u001b[0m\n\u001b[1;33m    ₹1244.65''''\u001b[0m\n\u001b[1;37m               ^\u001b[0m\n\u001b[1;31mSyntaxError\u001b[0m\u001b[1;31m:\u001b[0m unterminated string literal (detected at line 3)\n"
     ]
    }
   ],
   "source": [
    "motor = \"\"Tech Mahindra \\\n",
    "opened with a price of \\\n",
    "₹1244.65\"\"\n",
    "print(motor, len(motor))"
   ]
  },
  {
   "cell_type": "code",
   "execution_count": 19,
   "id": "b08e81fa",
   "metadata": {},
   "outputs": [
    {
     "name": "stdout",
     "output_type": "stream",
     "text": [
      "Tech Mahindra opened with a price of ₹1244.65 45\n"
     ]
    }
   ],
   "source": [
    "motor = 'Tech Mahindra \\\n",
    "opened with a price of \\\n",
    "₹1244.65'\n",
    "print(motor, len(motor))"
   ]
  },
  {
   "cell_type": "code",
   "execution_count": 25,
   "id": "6f5cde50",
   "metadata": {},
   "outputs": [
    {
     "data": {
      "text/plain": [
       "-1"
      ]
     },
     "execution_count": 25,
     "metadata": {},
     "output_type": "execute_result"
    }
   ],
   "source": [
    "n=\"  see it has capitalized all the remaining lower case letteers\"\n",
    "n.find(\"it\",5,6)"
   ]
  },
  {
   "cell_type": "code",
   "execution_count": 24,
   "id": "f6520a85",
   "metadata": {},
   "outputs": [
    {
     "data": {
      "text/plain": [
       "-1"
      ]
     },
     "execution_count": 24,
     "metadata": {},
     "output_type": "execute_result"
    }
   ],
   "source": [
    "n.find(\"has\",8,10)"
   ]
  },
  {
   "cell_type": "code",
   "execution_count": 26,
   "id": "01162120",
   "metadata": {},
   "outputs": [
    {
     "data": {
      "text/plain": [
       "'  See It Has Capitalized All The Remaining Lower Case Letteers'"
      ]
     },
     "execution_count": 26,
     "metadata": {},
     "output_type": "execute_result"
    }
   ],
   "source": [
    "n.title()"
   ]
  },
  {
   "cell_type": "code",
   "execution_count": 28,
   "id": "c1c6ad0a",
   "metadata": {},
   "outputs": [
    {
     "data": {
      "text/plain": [
       "'  see it has capitalized all the remaining lower case letteers'"
      ]
     },
     "execution_count": 28,
     "metadata": {},
     "output_type": "execute_result"
    }
   ],
   "source": [
    "n.capitalize()"
   ]
  },
  {
   "cell_type": "code",
   "execution_count": 34,
   "id": "a8881088",
   "metadata": {},
   "outputs": [
    {
     "data": {
      "text/plain": [
       "4"
      ]
     },
     "execution_count": 34,
     "metadata": {},
     "output_type": "execute_result"
    }
   ],
   "source": [
    "n.count(\"e\",-15)"
   ]
  },
  {
   "cell_type": "code",
   "execution_count": 37,
   "id": "715c1a48",
   "metadata": {},
   "outputs": [
    {
     "data": {
      "text/plain": [
       "59"
      ]
     },
     "execution_count": 37,
     "metadata": {},
     "output_type": "execute_result"
    }
   ],
   "source": [
    "n.rfind(\"e\")"
   ]
  },
  {
   "cell_type": "code",
   "execution_count": 40,
   "id": "250f6df8",
   "metadata": {},
   "outputs": [
    {
     "name": "stdout",
     "output_type": "stream",
     "text": [
      "False\n",
      "False\n",
      "False\n",
      "False\n",
      "False\n"
     ]
    }
   ],
   "source": [
    "e=\"im a human\"\n",
    "d=\"im a human version 7\"\n",
    "print(e.isalnum())\n",
    "print(e.isalpha())\n",
    "print(d.isalnum())\n",
    "print(d.isalpha())\n",
    "print(d.isalnum())"
   ]
  },
  {
   "cell_type": "code",
   "execution_count": 43,
   "id": "315189e1",
   "metadata": {},
   "outputs": [
    {
     "name": "stdout",
     "output_type": "stream",
     "text": [
      "False\n"
     ]
    }
   ],
   "source": [
    "r=\"cr 7\"\n",
    "print(r.isalnum())"
   ]
  },
  {
   "cell_type": "code",
   "execution_count": 44,
   "id": "023a6b86",
   "metadata": {},
   "outputs": [
    {
     "name": "stdout",
     "output_type": "stream",
     "text": [
      "True\n"
     ]
    }
   ],
   "source": [
    "r=\"cr7\"\n",
    "print(r.isalnum())"
   ]
  },
  {
   "cell_type": "code",
   "execution_count": 45,
   "id": "d514ecfc",
   "metadata": {},
   "outputs": [
    {
     "name": "stdout",
     "output_type": "stream",
     "text": [
      "{}\n",
      "{'t': 7, 'y': 7, 'u': 7, 'j': 7}\n"
     ]
    }
   ],
   "source": [
    "dict3 = {}\n",
    "dict4 =dict3.fromkeys('tyuj',7)\n",
    "print(dict3)\n",
    "print(dict4)"
   ]
  },
  {
   "cell_type": "code",
   "execution_count": 47,
   "id": "880032bb",
   "metadata": {},
   "outputs": [
    {
     "name": "stdout",
     "output_type": "stream",
     "text": [
      "10@59#59\n"
     ]
    }
   ],
   "source": [
    "def sum():\n",
    "    global p\n",
    "    p = p +7**2\n",
    "    print (p,end = '#')\n",
    "p=10\n",
    "print (p, end = '@')\n",
    "sum()\n",
    "print(p)\n"
   ]
  },
  {
   "cell_type": "code",
   "execution_count": 50,
   "id": "e541a7d7",
   "metadata": {},
   "outputs": [
    {
     "name": "stdout",
     "output_type": "stream",
     "text": [
      "6\n",
      "15\n"
     ]
    }
   ],
   "source": [
    "def  sum(*args):\n",
    "        r=0\n",
    "        for i in args:\n",
    "              r+=i\n",
    "        return r\n",
    "print ( sum (1,2,3))\n",
    "print ( sum (1,2,3,4,5))\n"
   ]
  },
  {
   "cell_type": "code",
   "execution_count": null,
   "id": "b34f79b8",
   "metadata": {},
   "outputs": [],
   "source": []
  }
 ],
 "metadata": {
  "kernelspec": {
   "display_name": "Python 3 (ipykernel)",
   "language": "python",
   "name": "python3"
  },
  "language_info": {
   "codemirror_mode": {
    "name": "ipython",
    "version": 3
   },
   "file_extension": ".py",
   "mimetype": "text/x-python",
   "name": "python",
   "nbconvert_exporter": "python",
   "pygments_lexer": "ipython3",
   "version": "3.11.3"
  }
 },
 "nbformat": 4,
 "nbformat_minor": 5
}
