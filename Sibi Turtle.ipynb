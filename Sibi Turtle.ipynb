{
 "cells": [
  {
   "cell_type": "code",
   "execution_count": 1,
   "id": "38528951",
   "metadata": {},
   "outputs": [
    {
     "ename": "KeyError",
     "evalue": "'top'",
     "output_type": "error",
     "traceback": [
      "\u001b[1;31m---------------------------------------------------------------------------\u001b[0m",
      "\u001b[1;31mKeyError\u001b[0m                                  Traceback (most recent call last)",
      "Cell \u001b[1;32mIn[1], line 17\u001b[0m\n\u001b[0;32m     15\u001b[0m                  t\u001b[38;5;241m.\u001b[39mend_fill()\n\u001b[0;32m     16\u001b[0m                  t\u001b[38;5;241m.\u001b[39mwrite(\u001b[38;5;124m\"\u001b[39m\u001b[38;5;124mWelcome \u001b[39m\u001b[38;5;124m\"\u001b[39m,\u001b[38;5;124m'\u001b[39m\u001b[38;5;124mfalse\u001b[39m\u001b[38;5;124m'\u001b[39m,\u001b[38;5;124m'\u001b[39m\u001b[38;5;124mTop\u001b[39m\u001b[38;5;124m'\u001b[39m,font\u001b[38;5;241m=\u001b[39m(\u001b[38;5;124m'\u001b[39m\u001b[38;5;124mShowcard gothic\u001b[39m\u001b[38;5;124m'\u001b[39m,\u001b[38;5;241m40\u001b[39m))\n\u001b[1;32m---> 17\u001b[0m heart()\n",
      "Cell \u001b[1;32mIn[1], line 16\u001b[0m, in \u001b[0;36mheart\u001b[1;34m()\u001b[0m\n\u001b[0;32m     14\u001b[0m t\u001b[38;5;241m.\u001b[39mforward(\u001b[38;5;241m180\u001b[39m)\n\u001b[0;32m     15\u001b[0m t\u001b[38;5;241m.\u001b[39mend_fill()\n\u001b[1;32m---> 16\u001b[0m t\u001b[38;5;241m.\u001b[39mwrite(\u001b[38;5;124m\"\u001b[39m\u001b[38;5;124mWelcome \u001b[39m\u001b[38;5;124m\"\u001b[39m,\u001b[38;5;124m'\u001b[39m\u001b[38;5;124mfalse\u001b[39m\u001b[38;5;124m'\u001b[39m,\u001b[38;5;124m'\u001b[39m\u001b[38;5;124mTop\u001b[39m\u001b[38;5;124m'\u001b[39m,font\u001b[38;5;241m=\u001b[39m(\u001b[38;5;124m'\u001b[39m\u001b[38;5;124mShowcard gothic\u001b[39m\u001b[38;5;124m'\u001b[39m,\u001b[38;5;241m40\u001b[39m))\n",
      "File \u001b[1;32m~\\anaconda3\\Lib\\turtle.py:3449\u001b[0m, in \u001b[0;36mRawTurtle.write\u001b[1;34m(self, arg, move, align, font)\u001b[0m\n\u001b[0;32m   3447\u001b[0m     \u001b[38;5;28mself\u001b[39m\u001b[38;5;241m.\u001b[39mundobuffer\u001b[38;5;241m.\u001b[39mpush([\u001b[38;5;124m\"\u001b[39m\u001b[38;5;124mseq\u001b[39m\u001b[38;5;124m\"\u001b[39m])\n\u001b[0;32m   3448\u001b[0m     \u001b[38;5;28mself\u001b[39m\u001b[38;5;241m.\u001b[39mundobuffer\u001b[38;5;241m.\u001b[39mcumulate \u001b[38;5;241m=\u001b[39m \u001b[38;5;28;01mTrue\u001b[39;00m\n\u001b[1;32m-> 3449\u001b[0m end \u001b[38;5;241m=\u001b[39m \u001b[38;5;28mself\u001b[39m\u001b[38;5;241m.\u001b[39m_write(\u001b[38;5;28mstr\u001b[39m(arg), align\u001b[38;5;241m.\u001b[39mlower(), font)\n\u001b[0;32m   3450\u001b[0m \u001b[38;5;28;01mif\u001b[39;00m move:\n\u001b[0;32m   3451\u001b[0m     x, y \u001b[38;5;241m=\u001b[39m \u001b[38;5;28mself\u001b[39m\u001b[38;5;241m.\u001b[39mpos()\n",
      "File \u001b[1;32m~\\anaconda3\\Lib\\turtle.py:3419\u001b[0m, in \u001b[0;36mRawTurtle._write\u001b[1;34m(self, txt, align, font)\u001b[0m\n\u001b[0;32m   3416\u001b[0m \u001b[38;5;28;01mdef\u001b[39;00m \u001b[38;5;21m_write\u001b[39m(\u001b[38;5;28mself\u001b[39m, txt, align, font):\n\u001b[0;32m   3417\u001b[0m \u001b[38;5;250m    \u001b[39m\u001b[38;5;124;03m\"\"\"Performs the writing for write()\u001b[39;00m\n\u001b[0;32m   3418\u001b[0m \u001b[38;5;124;03m    \"\"\"\u001b[39;00m\n\u001b[1;32m-> 3419\u001b[0m     item, end \u001b[38;5;241m=\u001b[39m \u001b[38;5;28mself\u001b[39m\u001b[38;5;241m.\u001b[39mscreen\u001b[38;5;241m.\u001b[39m_write(\u001b[38;5;28mself\u001b[39m\u001b[38;5;241m.\u001b[39m_position, txt, align, font,\n\u001b[0;32m   3420\u001b[0m                                                       \u001b[38;5;28mself\u001b[39m\u001b[38;5;241m.\u001b[39m_pencolor)\n\u001b[0;32m   3421\u001b[0m     \u001b[38;5;28mself\u001b[39m\u001b[38;5;241m.\u001b[39m_update()\n\u001b[0;32m   3422\u001b[0m     \u001b[38;5;28mself\u001b[39m\u001b[38;5;241m.\u001b[39mitems\u001b[38;5;241m.\u001b[39mappend(item)\n",
      "File \u001b[1;32m~\\anaconda3\\Lib\\turtle.py:596\u001b[0m, in \u001b[0;36mTurtleScreenBase._write\u001b[1;34m(self, pos, txt, align, font, pencolor)\u001b[0m\n\u001b[0;32m    594\u001b[0m y \u001b[38;5;241m=\u001b[39m y \u001b[38;5;241m*\u001b[39m \u001b[38;5;28mself\u001b[39m\u001b[38;5;241m.\u001b[39myscale\n\u001b[0;32m    595\u001b[0m anchor \u001b[38;5;241m=\u001b[39m {\u001b[38;5;124m\"\u001b[39m\u001b[38;5;124mleft\u001b[39m\u001b[38;5;124m\"\u001b[39m:\u001b[38;5;124m\"\u001b[39m\u001b[38;5;124msw\u001b[39m\u001b[38;5;124m\"\u001b[39m, \u001b[38;5;124m\"\u001b[39m\u001b[38;5;124mcenter\u001b[39m\u001b[38;5;124m\"\u001b[39m:\u001b[38;5;124m\"\u001b[39m\u001b[38;5;124ms\u001b[39m\u001b[38;5;124m\"\u001b[39m, \u001b[38;5;124m\"\u001b[39m\u001b[38;5;124mright\u001b[39m\u001b[38;5;124m\"\u001b[39m:\u001b[38;5;124m\"\u001b[39m\u001b[38;5;124mse\u001b[39m\u001b[38;5;124m\"\u001b[39m }\n\u001b[1;32m--> 596\u001b[0m item \u001b[38;5;241m=\u001b[39m \u001b[38;5;28mself\u001b[39m\u001b[38;5;241m.\u001b[39mcv\u001b[38;5;241m.\u001b[39mcreate_text(x\u001b[38;5;241m-\u001b[39m\u001b[38;5;241m1\u001b[39m, \u001b[38;5;241m-\u001b[39my, text \u001b[38;5;241m=\u001b[39m txt, anchor \u001b[38;5;241m=\u001b[39m anchor[align],\n\u001b[0;32m    597\u001b[0m                                 fill \u001b[38;5;241m=\u001b[39m pencolor, font \u001b[38;5;241m=\u001b[39m font)\n\u001b[0;32m    598\u001b[0m x0, y0, x1, y1 \u001b[38;5;241m=\u001b[39m \u001b[38;5;28mself\u001b[39m\u001b[38;5;241m.\u001b[39mcv\u001b[38;5;241m.\u001b[39mbbox(item)\n\u001b[0;32m    599\u001b[0m \u001b[38;5;28;01mreturn\u001b[39;00m item, x1\u001b[38;5;241m-\u001b[39m\u001b[38;5;241m1\u001b[39m\n",
      "\u001b[1;31mKeyError\u001b[0m: 'top'"
     ]
    }
   ],
   "source": [
    "import turtle\n",
    "def heart():\n",
    "    turtle.bgcolor(\"black\")\n",
    "    t=turtle.Turtle()\n",
    "    turtle.speed(-5)\n",
    "    t.color(\"red\")\n",
    "    t.begin_fill()\n",
    "    t.fillcolor(\"purple\")\n",
    "    t.left(140)\n",
    "    t.forward(180)\n",
    "    t.circle(-90,200)\n",
    "    t.setheading(60)\n",
    "    t.circle(-90,200)\n",
    "     t.forward(180)\n",
    " t.end_fill()\n",
    "                 #t.write(\"Welcome \",'false','Top',font=('Showcard gothic',40))\n",
    "heart()"
   ]
  },
  {
   "cell_type": "code",
   "execution_count": null,
   "id": "74d887be",
   "metadata": {},
   "outputs": [],
   "source": []
  }
 ],
 "metadata": {
  "kernelspec": {
   "display_name": "Python 3 (ipykernel)",
   "language": "python",
   "name": "python3"
  },
  "language_info": {
   "codemirror_mode": {
    "name": "ipython",
    "version": 3
   },
   "file_extension": ".py",
   "mimetype": "text/x-python",
   "name": "python",
   "nbconvert_exporter": "python",
   "pygments_lexer": "ipython3",
   "version": "3.11.3"
  }
 },
 "nbformat": 4,
 "nbformat_minor": 5
}
