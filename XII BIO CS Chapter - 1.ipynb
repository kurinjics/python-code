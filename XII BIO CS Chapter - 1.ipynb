{
 "cells": [
  {
   "cell_type": "markdown",
   "id": "54c23759",
   "metadata": {},
   "source": [
    "ONE MARK OUTPUT FINDING\n"
   ]
  },
  {
   "cell_type": "code",
   "execution_count": 2,
   "id": "1936581a",
   "metadata": {},
   "outputs": [
    {
     "ename": "SyntaxError",
     "evalue": "invalid syntax (2206961557.py, line 1)",
     "output_type": "error",
     "traceback": [
      "\u001b[1;36m  Cell \u001b[1;32mIn[2], line 1\u001b[1;36m\u001b[0m\n\u001b[1;33m    TOTAL MARK = 600\u001b[0m\n\u001b[1;37m          ^\u001b[0m\n\u001b[1;31mSyntaxError\u001b[0m\u001b[1;31m:\u001b[0m invalid syntax\n"
     ]
    }
   ],
   "source": [
    "TOTAL MARK = 600\n",
    "print(Total MARK)"
   ]
  },
  {
   "cell_type": "code",
   "execution_count": null,
   "id": "1b8709d9",
   "metadata": {},
   "outputs": [],
   "source": [
    "TOTAL MARK = 600\n",
    "print(TOTAL MARK)"
   ]
  },
  {
   "cell_type": "code",
   "execution_count": 3,
   "id": "7191b034",
   "metadata": {},
   "outputs": [
    {
     "name": "stdout",
     "output_type": "stream",
     "text": [
      "600\n"
     ]
    }
   ],
   "source": [
    "TOTAL_MARK = 600\n",
    "print(TOTAL_MARK)"
   ]
  },
  {
   "cell_type": "code",
   "execution_count": 4,
   "id": "b8657f07",
   "metadata": {},
   "outputs": [
    {
     "name": "stdout",
     "output_type": "stream",
     "text": [
      "0.14814814814814814\n"
     ]
    }
   ],
   "source": [
    "#WRITE VALID AND INVALID IDENTIFIER\n",
    "X =2**2/3**3\n",
    "print(X)"
   ]
  },
  {
   "cell_type": "code",
   "execution_count": null,
   "id": "7144a231",
   "metadata": {},
   "outputs": [],
   "source": [
    "have to reteach"
   ]
  }
 ],
 "metadata": {
  "kernelspec": {
   "display_name": "Python 3 (ipykernel)",
   "language": "python",
   "name": "python3"
  },
  "language_info": {
   "codemirror_mode": {
    "name": "ipython",
    "version": 3
   },
   "file_extension": ".py",
   "mimetype": "text/x-python",
   "name": "python",
   "nbconvert_exporter": "python",
   "pygments_lexer": "ipython3",
   "version": "3.11.3"
  }
 },
 "nbformat": 4,
 "nbformat_minor": 5
}
