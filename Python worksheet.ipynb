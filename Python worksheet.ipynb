{
 "cells": [
  {
   "cell_type": "code",
   "execution_count": 20,
   "id": "ab9d16e3",
   "metadata": {},
   "outputs": [
    {
     "ename": "SyntaxError",
     "evalue": "cannot assign to expression here. Maybe you meant '==' instead of '='? (604115167.py, line 7)",
     "output_type": "error",
     "traceback": [
      "\u001b[1;36m  Cell \u001b[1;32mIn[20], line 7\u001b[1;36m\u001b[0m\n\u001b[1;33m    ASTROSAT@isro = 'SXT'   #SyntaxError:   special symbol\u001b[0m\n\u001b[1;37m    ^\u001b[0m\n\u001b[1;31mSyntaxError\u001b[0m\u001b[1;31m:\u001b[0m cannot assign to expression here. Maybe you meant '==' instead of '='?\n"
     ]
    }
   ],
   "source": [
    "# Identifiers\n",
    "ASTROSAT = 'SSM'\n",
    "ASTROSAT2013isro = 'CPM'\n",
    "ASTROSAT_isro  = 'LAXPC'\n",
    "_isro = 'ASTROSAT','CHANDRAYAN1','CHANDRAYAN2'\n",
    "#ASTROSAT 2013 = 'CZTI' #SyntaxError: invalid syntax(white space)\n",
    "ASTROSAT@isro = 'SXT'   #SyntaxError:   special symbol\n",
    "#2ASTROSAT = 'UVIT'     #SyntaxError: invalid decimal literal(first charcter digit)\n"
   ]
  },
  {
   "cell_type": "code",
   "execution_count": 21,
   "id": "e9984830",
   "metadata": {
    "scrolled": true
   },
   "outputs": [
    {
     "name": "stdout",
     "output_type": "stream",
     "text": [
      "Block\n",
      "CaF2,Barium Fluoride,Sapphire\n",
      " Grating -1\n",
      "Silica\n",
      "Grating-2\n",
      "CaF2\n",
      "\n"
     ]
    },
    {
     "data": {
      "text/plain": [
       "' o/p\\nBlock\\nCaF2,Barium Fluoride,Sapphire\\n Grating -1\\nSilica\\nGrating-2\\nCaF2\\n'"
      ]
     },
     "execution_count": 21,
     "metadata": {},
     "output_type": "execute_result"
    }
   ],
   "source": [
    "#Literals\n",
    "Filter_Type = 'Block' #Single line String Literal\n",
    "print(Filter_Type)\n",
    "Filter_Type = 'CaF2,\\\n",
    "Barium Fluoride,\\\n",
    "Sapphire' #Single line String Literal\n",
    "print(Filter_Type)\n",
    "Filter_Type = \"\"\" Grating -1\n",
    "Silica\n",
    "Grating-2\n",
    "CaF2\n",
    "\"\"\"\n",
    "print(Filter_Type)\n",
    "\"\"\" o/p\n",
    "Block\n",
    "CaF2,Barium Fluoride,Sapphire\n",
    " Grating -1\n",
    "Silica\n",
    "Grating-2\n",
    "CaF2\n",
    "\"\"\""
   ]
  },
  {
   "cell_type": "code",
   "execution_count": 22,
   "id": "8ff903c6",
   "metadata": {},
   "outputs": [
    {
     "name": "stdout",
     "output_type": "stream",
     "text": [
      "<class 'int'> 1 Memory_id 140726338753320\n",
      "<class 'int'> 11 Memory_id 140726338753640\n",
      "<class 'int'> 178 Memory_id 140726338758984\n",
      "<class 'float'> 2.5\n",
      "<class 'float'> 0.5\n",
      "<class 'float'> 0.0\n",
      "<class 'float'> 0.0\n",
      "<class 'float'> 0.009\n",
      "<class 'float'> 2540.0\n",
      "<class 'complex'>=>(5+8j)=>5.0=>8.0\n",
      "<class 'complex'>=>8j=>0.0=>8.0\n",
      "<class 'complex'>=>(5+0j)=>5.0=>0.0\n"
     ]
    }
   ],
   "source": [
    "#Numeric Literal\n",
    "Slot_No = 1 #  Decimal integer\n",
    "print(type(Slot_No),Slot_No,\"Memory_id\",id(Slot_No))\n",
    "Slot_No = 0o13 #Octal Integer\n",
    "print(type(Slot_No),Slot_No,\"Memory_id\",id(Slot_No))\n",
    "Slot_No = 0Xb2 #OHexa Decimal Integer\n",
    "print(type(Slot_No),Slot_No,\"Memory_id\",id(Slot_No))\n",
    "Filter_Thickness_mm = 2.50 #float\n",
    "print(type(Filter_Thickness_mm),Filter_Thickness_mm)\n",
    "Filter_Thickness_mm = .50 #float\n",
    "print(type(Filter_Thickness_mm),Filter_Thickness_mm)\n",
    "Filter_Thickness_mm = .0 #float\n",
    "print(type(Filter_Thickness_mm),Filter_Thickness_mm)\n",
    "Filter_Thickness_mm = 0. #float\n",
    "print(type(Filter_Thickness_mm),Filter_Thickness_mm)\n",
    "Dark_current = 9E-03 #float 9 mantissa ,-03 exponent\n",
    "print(type(Dark_current),Dark_current)\n",
    "Dark_current = 25.4e02 #float 9 mantissa ,-03 exponent\n",
    "print(type(Dark_current),Dark_current)\n",
    "current = 5 + 8j\n",
    "print(type(current),current,current.real,current.imag,sep ='=>')\n",
    "current = 8j\n",
    "print(type(current),current,current.real,current.imag,sep ='=>')\n",
    "current = 5 - 0j\n",
    "print(type(current),current,current.real,current.imag,sep ='=>')\n"
   ]
  },
  {
   "cell_type": "code",
   "execution_count": 23,
   "id": "49b94e45",
   "metadata": {},
   "outputs": [
    {
     "name": "stdout",
     "output_type": "stream",
     "text": [
      "<class 'bool'> True\n",
      "<class 'bool'> False\n"
     ]
    }
   ],
   "source": [
    "#Boolean\n",
    "cosmos = True  \n",
    "print(type(cosmos),cosmos)\n",
    "cosmos  = False\n",
    "print(type(cosmos),cosmos)"
   ]
  },
  {
   "cell_type": "code",
   "execution_count": 24,
   "id": "4f328b85",
   "metadata": {},
   "outputs": [
    {
     "name": "stdout",
     "output_type": "stream",
     "text": [
      "<class 'NoneType'> None 140726337366768\n"
     ]
    },
    {
     "ename": "TypeError",
     "evalue": "object of type 'NoneType' has no len()",
     "output_type": "error",
     "traceback": [
      "\u001b[1;31m---------------------------------------------------------------------------\u001b[0m",
      "\u001b[1;31mTypeError\u001b[0m                                 Traceback (most recent call last)",
      "Cell \u001b[1;32mIn[24], line 4\u001b[0m\n\u001b[0;32m      2\u001b[0m x \u001b[38;5;241m=\u001b[39m \u001b[38;5;28;01mNone\u001b[39;00m\n\u001b[0;32m      3\u001b[0m \u001b[38;5;28mprint\u001b[39m(\u001b[38;5;28mtype\u001b[39m(x),x,\u001b[38;5;28mid\u001b[39m(x)) \u001b[38;5;66;03m#absence of value\u001b[39;00m\n\u001b[1;32m----> 4\u001b[0m \u001b[38;5;28mprint\u001b[39m(\u001b[38;5;28mlen\u001b[39m(x))\n",
      "\u001b[1;31mTypeError\u001b[0m: object of type 'NoneType' has no len()"
     ]
    }
   ],
   "source": [
    "#None\n",
    "x = None\n",
    "print(type(x),x,id(x)) #absence of value\n",
    "print(len(x))"
   ]
  },
  {
   "cell_type": "code",
   "execution_count": 25,
   "id": "d7f7e580",
   "metadata": {},
   "outputs": [
    {
     "name": "stdout",
     "output_type": "stream",
     "text": [
      "<class 'str'> CH1ORB-L-TMC-2-NPO-EDR-RAW-DATA-V1.1 2112816883888\n"
     ]
    }
   ],
   "source": [
    "#Literal Collections\n",
    "data_Set = \"CH1ORB-L-TMC-2-NPO-EDR-RAW-DATA-V1.1\"\n",
    "print(type(data_Set),data_Set,id(data_Set))"
   ]
  },
  {
   "cell_type": "code",
   "execution_count": 10,
   "id": "3aae8eba",
   "metadata": {},
   "outputs": [
    {
     "name": "stdout",
     "output_type": "stream",
     "text": [
      "id: 140726338797680 index: C Value: C\n",
      "id: 140726338797960 index: H Value: H\n",
      "id: 140726338796672 index: 1 Value: 1\n",
      "id: 140726338798352 index: O Value: O\n",
      "id: 140726338798520 index: R Value: R\n",
      "id: 140726338797624 index: B Value: B\n",
      "id: 140726338796448 index: - Value: -\n",
      "id: 140726338798184 index: L Value: L\n",
      "id: 140726338796448 index: - Value: -\n",
      "id: 140726338798632 index: T Value: T\n",
      "id: 140726338798240 index: M Value: M\n",
      "id: 140726338797680 index: C Value: C\n",
      "id: 140726338796448 index: - Value: -\n",
      "id: 140726338796728 index: 2 Value: 2\n",
      "id: 140726338796448 index: - Value: -\n",
      "id: 140726338798296 index: N Value: N\n",
      "id: 140726338798408 index: P Value: P\n",
      "id: 140726338798352 index: O Value: O\n",
      "id: 140726338796448 index: - Value: -\n",
      "id: 140726338797792 index: E Value: E\n",
      "id: 140726338797736 index: D Value: D\n",
      "id: 140726338798520 index: R Value: R\n",
      "id: 140726338796448 index: - Value: -\n",
      "id: 140726338798520 index: R Value: R\n",
      "id: 140726338797568 index: A Value: A\n",
      "id: 140726338798800 index: W Value: W\n",
      "id: 140726338796448 index: - Value: -\n",
      "id: 140726338797736 index: D Value: D\n",
      "id: 140726338797568 index: A Value: A\n",
      "id: 140726338798632 index: T Value: T\n",
      "id: 140726338797568 index: A Value: A\n",
      "id: 140726338796448 index: - Value: -\n",
      "id: 140726338798744 index: V Value: V\n",
      "id: 140726338796672 index: 1 Value: 1\n",
      "id: 140726338796504 index: . Value: .\n",
      "id: 140726338796672 index: 1 Value: 1\n"
     ]
    }
   ],
   "source": [
    "for i in range(len(data_Set)):\n",
    "    \n",
    "    print(\"id:\",id(data_Set[i]),\"index:\",data_Set[i],\"Value:\",data_Set[i])"
   ]
  },
  {
   "cell_type": "code",
   "execution_count": 11,
   "id": "12b91c1f",
   "metadata": {},
   "outputs": [
    {
     "name": "stdout",
     "output_type": "stream",
     "text": [
      "(8-3j)\n",
      "8.0 -3.0\n"
     ]
    }
   ],
   "source": [
    "z = complex(8,-3)\n",
    "print(z)\n",
    "print(z.real,z.imag)"
   ]
  },
  {
   "cell_type": "code",
   "execution_count": 12,
   "id": "4230e0b8",
   "metadata": {},
   "outputs": [
    {
     "name": "stdout",
     "output_type": "stream",
     "text": [
      "(-3+0j)\n",
      "-3.0 0.0\n"
     ]
    }
   ],
   "source": [
    "z = complex(-3)\n",
    "print(z)\n",
    "print(z.real,z.imag)"
   ]
  },
  {
   "cell_type": "code",
   "execution_count": 13,
   "id": "b60953b3",
   "metadata": {},
   "outputs": [
    {
     "name": "stdout",
     "output_type": "stream",
     "text": [
      "(8+0j)\n",
      "8.0 0.0\n"
     ]
    }
   ],
   "source": [
    "z = complex(8,)\n",
    "print(z)\n",
    "print(z.real,z.imag)"
   ]
  },
  {
   "cell_type": "code",
   "execution_count": 14,
   "id": "3b20b2ba",
   "metadata": {},
   "outputs": [
    {
     "name": "stdout",
     "output_type": "stream",
     "text": [
      "22\n"
     ]
    }
   ],
   "source": [
    "chandrayan1 = \"Terrain Mapping Camera\"\n",
    "print(len(chandrayan1))"
   ]
  },
  {
   "cell_type": "code",
   "execution_count": 15,
   "id": "0c66e4cf",
   "metadata": {},
   "outputs": [
    {
     "name": "stdout",
     "output_type": "stream",
     "text": [
      "n\n"
     ]
    }
   ],
   "source": [
    "print(chandrayan1[-9])"
   ]
  },
  {
   "cell_type": "code",
   "execution_count": 27,
   "id": "2dc54615",
   "metadata": {},
   "outputs": [
    {
     "name": "stdout",
     "output_type": "stream",
     "text": [
      " \n"
     ]
    }
   ],
   "source": [
    "print(chandrayan1[7])\n"
   ]
  },
  {
   "cell_type": "code",
   "execution_count": 28,
   "id": "56bdba0d",
   "metadata": {},
   "outputs": [
    {
     "name": "stdout",
     "output_type": "stream",
     "text": [
      "M\n"
     ]
    }
   ],
   "source": [
    "print(chandrayan1[8])"
   ]
  },
  {
   "cell_type": "code",
   "execution_count": 18,
   "id": "91341a13",
   "metadata": {},
   "outputs": [
    {
     "ename": "IndexError",
     "evalue": "string index out of range",
     "output_type": "error",
     "traceback": [
      "\u001b[1;31m---------------------------------------------------------------------------\u001b[0m",
      "\u001b[1;31mIndexError\u001b[0m                                Traceback (most recent call last)",
      "Cell \u001b[1;32mIn[18], line 1\u001b[0m\n\u001b[1;32m----> 1\u001b[0m \u001b[38;5;28mprint\u001b[39m(chandrayan1[\u001b[38;5;241m39\u001b[39m])\n",
      "\u001b[1;31mIndexError\u001b[0m: string index out of range"
     ]
    }
   ],
   "source": [
    "print(chandrayan1[39])"
   ]
  },
  {
   "cell_type": "code",
   "execution_count": 29,
   "id": "e7de21bc",
   "metadata": {},
   "outputs": [
    {
     "name": "stdout",
     "output_type": "stream",
     "text": [
      "e\n"
     ]
    },
    {
     "ename": "TypeError",
     "evalue": "'str' object does not support item assignment",
     "output_type": "error",
     "traceback": [
      "\u001b[1;31m---------------------------------------------------------------------------\u001b[0m",
      "\u001b[1;31mTypeError\u001b[0m                                 Traceback (most recent call last)",
      "Cell \u001b[1;32mIn[29], line 2\u001b[0m\n\u001b[0;32m      1\u001b[0m \u001b[38;5;28mprint\u001b[39m(chandrayan1[\u001b[38;5;241m19\u001b[39m])\n\u001b[1;32m----> 2\u001b[0m chandrayan1[\u001b[38;5;241m19\u001b[39m]\u001b[38;5;241m=\u001b[39m \u001b[38;5;124m'\u001b[39m\u001b[38;5;124mE\u001b[39m\u001b[38;5;124m'\u001b[39m\n",
      "\u001b[1;31mTypeError\u001b[0m: 'str' object does not support item assignment"
     ]
    }
   ],
   "source": [
    "print(chandrayan1[19])\n",
    "chandrayan1[19]= 'E' #string is immutable datatype"
   ]
  },
  {
   "cell_type": "code",
   "execution_count": 30,
   "id": "3159ed87",
   "metadata": {},
   "outputs": [
    {
     "ename": "TypeError",
     "evalue": "object of type 'int' has no len()",
     "output_type": "error",
     "traceback": [
      "\u001b[1;31m---------------------------------------------------------------------------\u001b[0m",
      "\u001b[1;31mTypeError\u001b[0m                                 Traceback (most recent call last)",
      "Cell \u001b[1;32mIn[30], line 3\u001b[0m\n\u001b[0;32m      1\u001b[0m \u001b[38;5;66;03m#immutable\u001b[39;00m\n\u001b[0;32m      2\u001b[0m x \u001b[38;5;241m=\u001b[39m \u001b[38;5;241m100\u001b[39m\n\u001b[1;32m----> 3\u001b[0m \u001b[38;5;28mprint\u001b[39m(\u001b[38;5;28mlen\u001b[39m(x),x[\u001b[38;5;241m2\u001b[39m])\n",
      "\u001b[1;31mTypeError\u001b[0m: object of type 'int' has no len()"
     ]
    }
   ],
   "source": [
    "#immutable\n",
    "x = 100\n",
    "print(len(x),x[2])#TypeError: object of type 'int' has no len()\n"
   ]
  },
  {
   "cell_type": "code",
   "execution_count": 31,
   "id": "89351d0a",
   "metadata": {},
   "outputs": [
    {
     "ename": "TypeError",
     "evalue": "object of type 'bool' has no len()",
     "output_type": "error",
     "traceback": [
      "\u001b[1;31m---------------------------------------------------------------------------\u001b[0m",
      "\u001b[1;31mTypeError\u001b[0m                                 Traceback (most recent call last)",
      "Cell \u001b[1;32mIn[31], line 2\u001b[0m\n\u001b[0;32m      1\u001b[0m x \u001b[38;5;241m=\u001b[39m \u001b[38;5;28;01mTrue\u001b[39;00m\n\u001b[1;32m----> 2\u001b[0m \u001b[38;5;28mprint\u001b[39m(x,\u001b[38;5;28mlen\u001b[39m(x),x[\u001b[38;5;241m2\u001b[39m])\n",
      "\u001b[1;31mTypeError\u001b[0m: object of type 'bool' has no len()"
     ]
    }
   ],
   "source": [
    "x = True\n",
    "print(x,len(x),x[2])"
   ]
  },
  {
   "cell_type": "code",
   "execution_count": 32,
   "id": "20fdff3f",
   "metadata": {},
   "outputs": [
    {
     "ename": "TypeError",
     "evalue": "object of type 'float' has no len()",
     "output_type": "error",
     "traceback": [
      "\u001b[1;31m---------------------------------------------------------------------------\u001b[0m",
      "\u001b[1;31mTypeError\u001b[0m                                 Traceback (most recent call last)",
      "Cell \u001b[1;32mIn[32], line 2\u001b[0m\n\u001b[0;32m      1\u001b[0m x\u001b[38;5;241m=\u001b[39m \u001b[38;5;241m12.3\u001b[39m\n\u001b[1;32m----> 2\u001b[0m \u001b[38;5;28mprint\u001b[39m(x,\u001b[38;5;28mlen\u001b[39m(x),x[\u001b[38;5;241m2\u001b[39m])\n",
      "\u001b[1;31mTypeError\u001b[0m: object of type 'float' has no len()"
     ]
    }
   ],
   "source": [
    "x= 12.3\n",
    "print(x,len(x),x[2])\n"
   ]
  },
  {
   "cell_type": "code",
   "execution_count": 33,
   "id": "1d22c0d2",
   "metadata": {},
   "outputs": [
    {
     "ename": "TypeError",
     "evalue": "object of type 'complex' has no len()",
     "output_type": "error",
     "traceback": [
      "\u001b[1;31m---------------------------------------------------------------------------\u001b[0m",
      "\u001b[1;31mTypeError\u001b[0m                                 Traceback (most recent call last)",
      "Cell \u001b[1;32mIn[33], line 2\u001b[0m\n\u001b[0;32m      1\u001b[0m x\u001b[38;5;241m=\u001b[39m \u001b[38;5;241m12.3\u001b[39m\u001b[38;5;241m+\u001b[39m\u001b[38;5;241m5\u001b[39mj\n\u001b[1;32m----> 2\u001b[0m \u001b[38;5;28mprint\u001b[39m(x,\u001b[38;5;28mlen\u001b[39m(x),x[\u001b[38;5;241m2\u001b[39m])\n",
      "\u001b[1;31mTypeError\u001b[0m: object of type 'complex' has no len()"
     ]
    }
   ],
   "source": [
    "x= 12.3+5j\n",
    "print(x,len(x),x[2])"
   ]
  },
  {
   "cell_type": "code",
   "execution_count": 34,
   "id": "60dea11b",
   "metadata": {},
   "outputs": [
    {
     "name": "stdout",
     "output_type": "stream",
     "text": [
      "e\n"
     ]
    },
    {
     "ename": "TypeError",
     "evalue": "'str' object does not support item assignment",
     "output_type": "error",
     "traceback": [
      "\u001b[1;31m---------------------------------------------------------------------------\u001b[0m",
      "\u001b[1;31mTypeError\u001b[0m                                 Traceback (most recent call last)",
      "Cell \u001b[1;32mIn[34], line 2\u001b[0m\n\u001b[0;32m      1\u001b[0m \u001b[38;5;28mprint\u001b[39m(chandrayan1[\u001b[38;5;241m19\u001b[39m])\n\u001b[1;32m----> 2\u001b[0m chandrayan1[\u001b[38;5;241m19\u001b[39m]\u001b[38;5;241m=\u001b[39m \u001b[38;5;124m'\u001b[39m\u001b[38;5;124mE\u001b[39m\u001b[38;5;124m'\u001b[39m\n",
      "\u001b[1;31mTypeError\u001b[0m: 'str' object does not support item assignment"
     ]
    }
   ],
   "source": [
    "print(chandrayan1[19])\n",
    "chandrayan1[19]= 'E' #string is immutable datatype,sequence,can be iterated"
   ]
  },
  {
   "cell_type": "code",
   "execution_count": null,
   "id": "179df679",
   "metadata": {},
   "outputs": [],
   "source": []
  },
  {
   "cell_type": "markdown",
   "id": "f67f6045",
   "metadata": {},
   "source": [
    "# LIST"
   ]
  },
  {
   "cell_type": "code",
   "execution_count": 35,
   "id": "770a7840",
   "metadata": {},
   "outputs": [
    {
     "name": "stdout",
     "output_type": "stream",
     "text": [
      "['India', 'USA', 'UK', 'Germany', 'Sweden', 'Bulgaria']\n"
     ]
    }
   ],
   "source": [
    "chandrayan1 = ['India', 'USA', 'UK', 'Germany', 'Sweden' , 'Bulgaria']\n",
    "print(chandrayan1)\n"
   ]
  },
  {
   "cell_type": "code",
   "execution_count": 36,
   "id": "1ba8dc1e",
   "metadata": {},
   "outputs": [
    {
     "name": "stdout",
     "output_type": "stream",
     "text": [
      "6\n"
     ]
    }
   ],
   "source": [
    "#len(<list>)\n",
    "print(len(chandrayan1))\n",
    "\n"
   ]
  },
  {
   "cell_type": "code",
   "execution_count": 37,
   "id": "013b3d81",
   "metadata": {},
   "outputs": [
    {
     "name": "stdout",
     "output_type": "stream",
     "text": [
      "['e', 'm', 'o', 'j', 'i'] <class 'list'>\n",
      "[1, 2, 3, 4] <class 'list'>\n",
      "[1, 2, 3, 5] <class 'list'>\n",
      "['a', 'b', 'c'] <class 'list'>\n"
     ]
    }
   ],
   "source": [
    "#list([<sequence>])\n",
    "l1 = list(\"emoji\")\n",
    "l2 = list((1,2,3,4,))\n",
    "l3=list({1,3,5,2})\n",
    "l4 = list ({'a':1,'b':2,'c':3})\n",
    "print(l1,type(l1))\n",
    "print(l2,type(l2))\n",
    "print(l3,type(l3))\n",
    "print(l4,type(l4))\n",
    "\n"
   ]
  },
  {
   "cell_type": "code",
   "execution_count": 38,
   "id": "465a9e2e",
   "metadata": {},
   "outputs": [
    {
     "name": "stdout",
     "output_type": "stream",
     "text": [
      "4\n"
     ]
    }
   ],
   "source": [
    "#index- list.index()\n",
    "chandrayan1 = ['India', 'USA', 'UK', 'Germany', 'Sweden' , 'Bulgaria']\n",
    "print(chandrayan1.index('Sweden'))\n"
   ]
  },
  {
   "cell_type": "code",
   "execution_count": 1,
   "id": "bceaeb13",
   "metadata": {},
   "outputs": [
    {
     "ename": "ValueError",
     "evalue": "'NORWAY' is not in list",
     "output_type": "error",
     "traceback": [
      "\u001b[1;31m---------------------------------------------------------------------------\u001b[0m",
      "\u001b[1;31mValueError\u001b[0m                                Traceback (most recent call last)",
      "Cell \u001b[1;32mIn[1], line 3\u001b[0m\n\u001b[0;32m      1\u001b[0m \u001b[38;5;66;03m#index- list.index()\u001b[39;00m\n\u001b[0;32m      2\u001b[0m chandrayan1 \u001b[38;5;241m=\u001b[39m [\u001b[38;5;124m'\u001b[39m\u001b[38;5;124mIndia\u001b[39m\u001b[38;5;124m'\u001b[39m, \u001b[38;5;124m'\u001b[39m\u001b[38;5;124mUSA\u001b[39m\u001b[38;5;124m'\u001b[39m, \u001b[38;5;124m'\u001b[39m\u001b[38;5;124mUK\u001b[39m\u001b[38;5;124m'\u001b[39m, \u001b[38;5;124m'\u001b[39m\u001b[38;5;124mGermany\u001b[39m\u001b[38;5;124m'\u001b[39m, \u001b[38;5;124m'\u001b[39m\u001b[38;5;124mSweden\u001b[39m\u001b[38;5;124m'\u001b[39m , \u001b[38;5;124m'\u001b[39m\u001b[38;5;124mBulgaria\u001b[39m\u001b[38;5;124m'\u001b[39m]\n\u001b[1;32m----> 3\u001b[0m \u001b[38;5;28mprint\u001b[39m(chandrayan1\u001b[38;5;241m.\u001b[39mindex(\u001b[38;5;124m'\u001b[39m\u001b[38;5;124mNORWAY\u001b[39m\u001b[38;5;124m'\u001b[39m))\n",
      "\u001b[1;31mValueError\u001b[0m: 'NORWAY' is not in list"
     ]
    }
   ],
   "source": [
    "#index- list.index()\n",
    "chandrayan1 = ['India', 'USA', 'UK', 'Germany', 'Sweden' , 'Bulgaria']\n",
    "print(chandrayan1.index('NORWAY'))\n",
    "\n"
   ]
  },
  {
   "cell_type": "code",
   "execution_count": 40,
   "id": "1facb0e0",
   "metadata": {},
   "outputs": [
    {
     "name": "stdout",
     "output_type": "stream",
     "text": [
      "5\n"
     ]
    }
   ],
   "source": [
    "#index- list.index()\n",
    "chandrayan1 = ['India', 'USA', 'UK', 'Germany', 'Sweden' , 'Bulgaria']\n",
    "print(chandrayan1.index('Bulgaria'))\n"
   ]
  },
  {
   "cell_type": "code",
   "execution_count": 41,
   "id": "601accc7",
   "metadata": {},
   "outputs": [
    {
     "name": "stdout",
     "output_type": "stream",
     "text": [
      "['India', 'USA', 'UK', 'Germany', 'Sweden', 'Bulgaria']\n"
     ]
    }
   ],
   "source": [
    "print(chandrayan1)"
   ]
  },
  {
   "cell_type": "code",
   "execution_count": 42,
   "id": "a7cd6780",
   "metadata": {},
   "outputs": [
    {
     "name": "stdout",
     "output_type": "stream",
     "text": [
      "['India', 'USA', 'UK', 'Germany', 'Sweden', 'Bulgaria', 'Algeria']\n",
      "['India', 'USA', 'UK', 'Germany', 'Sweden', 'Bulgaria', 'Algeria', ['norway', 'mongolia']]\n"
     ]
    }
   ],
   "source": [
    "#list.append(<item>)\n",
    "chandrayan1.append('Algeria')\n",
    "print(chandrayan1)\n",
    "chandrayan1.append(['norway','mongolia'])\n",
    "print(chandrayan1)"
   ]
  },
  {
   "cell_type": "code",
   "execution_count": 43,
   "id": "070df6f5",
   "metadata": {},
   "outputs": [
    {
     "ename": "TypeError",
     "evalue": "list.append() takes exactly one argument (2 given)",
     "output_type": "error",
     "traceback": [
      "\u001b[1;31m---------------------------------------------------------------------------\u001b[0m",
      "\u001b[1;31mTypeError\u001b[0m                                 Traceback (most recent call last)",
      "Cell \u001b[1;32mIn[43], line 1\u001b[0m\n\u001b[1;32m----> 1\u001b[0m chandrayan1\u001b[38;5;241m.\u001b[39mappend(\u001b[38;5;124m'\u001b[39m\u001b[38;5;124msouth Africa\u001b[39m\u001b[38;5;124m'\u001b[39m,\u001b[38;5;124m'\u001b[39m\u001b[38;5;124mNetherland\u001b[39m\u001b[38;5;124m'\u001b[39m)\n\u001b[0;32m      2\u001b[0m \u001b[38;5;28mprint\u001b[39m(chandrayan1)\n",
      "\u001b[1;31mTypeError\u001b[0m: list.append() takes exactly one argument (2 given)"
     ]
    }
   ],
   "source": [
    "chandrayan1.append('south Africa','Netherland')\n",
    "print(chandrayan1)"
   ]
  },
  {
   "cell_type": "code",
   "execution_count": 44,
   "id": "98870339",
   "metadata": {},
   "outputs": [
    {
     "name": "stdout",
     "output_type": "stream",
     "text": [
      "['India', 'USA', 'UK', 'Germany', 'Sweden', 'Bulgaria', 'Algeria', ['norway', 'mongolia']]\n",
      "['India', 'USA', 'UK', 'Germany', 'Sweden', 'Bulgaria', 'Algeria', ['norway', 'mongolia'], 'south Africa', 'Netherland']\n"
     ]
    }
   ],
   "source": [
    "#list.extend(<list>)\n",
    "print(chandrayan1)\n",
    "chandrayan1.extend(('south Africa','Netherland'))\n",
    "print(chandrayan1)"
   ]
  },
  {
   "cell_type": "code",
   "execution_count": 45,
   "id": "e92ad7f8",
   "metadata": {},
   "outputs": [
    {
     "name": "stdout",
     "output_type": "stream",
     "text": [
      "[1, 100, 2, 3]\n"
     ]
    }
   ],
   "source": [
    "#list.insert(<index>,<item>)\n",
    "L = [1,2,3]\n",
    "L.insert(1,100)\n",
    "print(L)"
   ]
  },
  {
   "cell_type": "code",
   "execution_count": 8,
   "id": "5716c1ce",
   "metadata": {},
   "outputs": [
    {
     "name": "stdout",
     "output_type": "stream",
     "text": [
      "[1, 2, 300, 3]\n"
     ]
    }
   ],
   "source": [
    "L = [1,2,3]\n",
    "L.insert(-1,300)\n",
    "print(L)"
   ]
  },
  {
   "cell_type": "code",
   "execution_count": 47,
   "id": "d9ce175c",
   "metadata": {},
   "outputs": [
    {
     "name": "stdout",
     "output_type": "stream",
     "text": [
      "[1, 2, 300, 3, 700]\n"
     ]
    }
   ],
   "source": [
    "L =[1, 2, 300, 3]\n",
    "L.insert(5,700)\n",
    "print(L)"
   ]
  },
  {
   "cell_type": "code",
   "execution_count": 48,
   "id": "8adce1a6",
   "metadata": {},
   "outputs": [
    {
     "name": "stdout",
     "output_type": "stream",
     "text": [
      "[600, 1, 2, 300, 3]\n"
     ]
    }
   ],
   "source": [
    "L =[1, 2, 300, 3]\n",
    "L.insert(-15,600)\n",
    "print(L)"
   ]
  },
  {
   "cell_type": "code",
   "execution_count": 49,
   "id": "e8d52dca",
   "metadata": {},
   "outputs": [
    {
     "name": "stdout",
     "output_type": "stream",
     "text": [
      "[1, 2, 300, 3, 1600]\n"
     ]
    }
   ],
   "source": [
    "L =[1, 2, 300, 3]\n",
    "L.insert(15,1600)\n",
    "print(L)"
   ]
  },
  {
   "cell_type": "code",
   "execution_count": 50,
   "id": "dcccb2a3",
   "metadata": {
    "scrolled": false
   },
   "outputs": [
    {
     "name": "stdout",
     "output_type": "stream",
     "text": [
      "[1, 2, 300, 3, 1600]\n",
      "1600\n",
      "[1, 2, 300, 3]\n",
      "300\n",
      "[1, 2, 3]\n"
     ]
    }
   ],
   "source": [
    "#list.pop(<index>)\n",
    "print(L)\n",
    "x = L.pop()\n",
    "print(x)\n",
    "print(L)\n",
    "y = L.pop(2)\n",
    "print(y)\n",
    "print(L)\n"
   ]
  },
  {
   "cell_type": "code",
   "execution_count": 51,
   "id": "906d94d6",
   "metadata": {
    "scrolled": true
   },
   "outputs": [
    {
     "name": "stdout",
     "output_type": "stream",
     "text": [
      "[1, 2, 3]\n",
      "3\n",
      "[1, 2]\n",
      "2\n",
      "[1]\n"
     ]
    }
   ],
   "source": [
    " \n",
    "print(L)\n",
    "for i in L:\n",
    "    print(L.pop())\n",
    "    print(L)"
   ]
  },
  {
   "cell_type": "code",
   "execution_count": 11,
   "id": "5a07c18e",
   "metadata": {},
   "outputs": [
    {
     "name": "stdout",
     "output_type": "stream",
     "text": [
      "200,185,170,155,140,125,110,"
     ]
    }
   ],
   "source": [
    "for i in range(200,100,-15):\n",
    "    print(i,end =',')"
   ]
  },
  {
   "cell_type": "code",
   "execution_count": 53,
   "id": "3e9a1bf6",
   "metadata": {},
   "outputs": [
    {
     "name": "stdout",
     "output_type": "stream",
     "text": [
      "Before REVERSE [100, 130, 115, 145, 190, 175, 160, 115]\n",
      "After built-in reverse function [115, 160, 175, 190, 145, 115, 130, 100]\n"
     ]
    }
   ],
   "source": [
    "l =[100,130,115,145,190,175,160,115]\n",
    "print(\"Before REVERSE\",l)\n",
    "l.reverse()\n",
    "print(\"After built-in reverse function\",l)"
   ]
  },
  {
   "cell_type": "code",
   "execution_count": null,
   "id": "18d4ae81",
   "metadata": {
    "scrolled": true
   },
   "outputs": [],
   "source": []
  },
  {
   "cell_type": "code",
   "execution_count": 2,
   "id": "135784d7",
   "metadata": {},
   "outputs": [
    {
     "name": "stdout",
     "output_type": "stream",
     "text": [
      "Before sort [100, 130, 115, 145, 190, 175, 160, 115]\n",
      "After built-in sort function [100, 115, 115, 130, 145, 160, 175, 190]\n",
      "[100, 115, 115, 130, 145, 160, 175, 190]\n"
     ]
    }
   ],
   "source": [
    "l =[100,130,115,145,190,175,160,115]\n",
    "print(\"Before sort\",l)\n",
    "l.sort()\n",
    "print(\"After built-in sort function\",l)\n",
    "print(l)"
   ]
  },
  {
   "cell_type": "code",
   "execution_count": 56,
   "id": "548a5d28",
   "metadata": {
    "scrolled": true
   },
   "outputs": [
    {
     "name": "stdout",
     "output_type": "stream",
     "text": [
      "[100, 115, 130, 145, 160, 175, 190, 115] Before removing\n",
      "[100, 130, 145, 160, 175, 190, 115] After remove function\n"
     ]
    }
   ],
   "source": [
    "l =[100,115,130,145,160,175,190,115]\n",
    "print(l,\"Before removing\")\n",
    "l.remove(115)\n",
    "print(l,\"After remove function\")"
   ]
  },
  {
   "cell_type": "code",
   "execution_count": null,
   "id": "3080f167",
   "metadata": {},
   "outputs": [],
   "source": []
  },
  {
   "cell_type": "code",
   "execution_count": 57,
   "id": "19120e7a",
   "metadata": {},
   "outputs": [
    {
     "ename": "SyntaxError",
     "evalue": "invalid syntax (2324547003.py, line 1)",
     "output_type": "error",
     "traceback": [
      "\u001b[1;36m  Cell \u001b[1;32mIn[57], line 1\u001b[1;36m\u001b[0m\n\u001b[1;33m    9. R\u001b[0m\n\u001b[1;37m       ^\u001b[0m\n\u001b[1;31mSyntaxError\u001b[0m\u001b[1;31m:\u001b[0m invalid syntax\n"
     ]
    }
   ],
   "source": [
    "\n",
    "9. R\n",
    "10. Ruby\n",
    "11. C and C++\n",
    "12. Matlab\n",
    "13. TypeScript\n",
    "14. Scala\n",
    "15. SQL\n",
    "16. HTML\n",
    "17. CSS\n",
    "18. NoSQL\n",
    "19. Rust\n",
    "20. Perl"
   ]
  },
  {
   "cell_type": "code",
   "execution_count": 58,
   "id": "266dbb81",
   "metadata": {},
   "outputs": [
    {
     "name": "stdout",
     "output_type": "stream",
     "text": [
      "C#\n"
     ]
    }
   ],
   "source": [
    "language = ['Javascript','Python','Go','Java','Kotlin','PHP','C#','Swift']\n",
    "print(min(language))"
   ]
  },
  {
   "cell_type": "code",
   "execution_count": 59,
   "id": "a41c8529",
   "metadata": {},
   "outputs": [
    {
     "name": "stdout",
     "output_type": "stream",
     "text": [
      "Swift\n"
     ]
    }
   ],
   "source": [
    "language = ['Javascript','Python','Go','Java','Kotlin','PHP','C#','Swift']\n",
    "print(max(language))"
   ]
  },
  {
   "cell_type": "code",
   "execution_count": 60,
   "id": "acf20707",
   "metadata": {},
   "outputs": [
    {
     "ename": "TypeError",
     "evalue": "unsupported operand type(s) for +: 'int' and 'str'",
     "output_type": "error",
     "traceback": [
      "\u001b[1;31m---------------------------------------------------------------------------\u001b[0m",
      "\u001b[1;31mTypeError\u001b[0m                                 Traceback (most recent call last)",
      "Cell \u001b[1;32mIn[60], line 2\u001b[0m\n\u001b[0;32m      1\u001b[0m language \u001b[38;5;241m=\u001b[39m [\u001b[38;5;124m'\u001b[39m\u001b[38;5;124mJavascript\u001b[39m\u001b[38;5;124m'\u001b[39m,\u001b[38;5;124m'\u001b[39m\u001b[38;5;124mPython\u001b[39m\u001b[38;5;124m'\u001b[39m,\u001b[38;5;124m'\u001b[39m\u001b[38;5;124mGo\u001b[39m\u001b[38;5;124m'\u001b[39m,\u001b[38;5;124m'\u001b[39m\u001b[38;5;124mJava\u001b[39m\u001b[38;5;124m'\u001b[39m,\u001b[38;5;124m'\u001b[39m\u001b[38;5;124mKotlin\u001b[39m\u001b[38;5;124m'\u001b[39m,\u001b[38;5;124m'\u001b[39m\u001b[38;5;124mPHP\u001b[39m\u001b[38;5;124m'\u001b[39m,\u001b[38;5;124m'\u001b[39m\u001b[38;5;124mC#\u001b[39m\u001b[38;5;124m'\u001b[39m,\u001b[38;5;124m'\u001b[39m\u001b[38;5;124mSwift\u001b[39m\u001b[38;5;124m'\u001b[39m]\n\u001b[1;32m----> 2\u001b[0m \u001b[38;5;28mprint\u001b[39m(\u001b[38;5;28msum\u001b[39m(language))\n",
      "\u001b[1;31mTypeError\u001b[0m: unsupported operand type(s) for +: 'int' and 'str'"
     ]
    }
   ],
   "source": [
    "language = ['Javascript','Python','Go','Java','Kotlin','PHP','C#','Swift']\n",
    "print(sum(language))"
   ]
  },
  {
   "cell_type": "markdown",
   "id": "5712b6f8",
   "metadata": {},
   "source": [
    "# String"
   ]
  },
  {
   "cell_type": "code",
   "execution_count": 61,
   "id": "1af09cb0",
   "metadata": {},
   "outputs": [
    {
     "name": "stdout",
     "output_type": "stream",
     "text": [
      "Tech Mahindra opened with a price of ₹1244.65 45\n"
     ]
    }
   ],
   "source": [
    "#String\n",
    "motor = 'Tech Mahindra opened with a price of ₹1244.65'\n",
    "print(motor, len(motor))"
   ]
  },
  {
   "cell_type": "code",
   "execution_count": 62,
   "id": "703fc516",
   "metadata": {},
   "outputs": [
    {
     "name": "stdout",
     "output_type": "stream",
     "text": [
      "Tech Mahindra opened with a price of ₹1244.65 45\n"
     ]
    }
   ],
   "source": [
    " "
   ]
  },
  {
   "cell_type": "code",
   "execution_count": 63,
   "id": "03ef27f5",
   "metadata": {},
   "outputs": [
    {
     "name": "stdout",
     "output_type": "stream",
     "text": [
      "Tech Mahindra opened with a price of ₹1244.65 45\n"
     ]
    }
   ],
   "source": [
    "motor =\"\"\"Tech Mahindra \\\n",
    "opened with a price of \\\n",
    "₹1244.65\"\"\"\n",
    "print(motor, len(motor))"
   ]
  },
  {
   "cell_type": "code",
   "execution_count": 64,
   "id": "3db69b72",
   "metadata": {},
   "outputs": [
    {
     "name": "stdout",
     "output_type": "stream",
     "text": [
      "Tech Mahindra \n",
      "opened with a price \r",
      " of \n",
      "₹1244.65  50\n"
     ]
    }
   ],
   "source": [
    "motor =\"\"\"Tech Mahindra \n",
    "opened with a price \\r of \n",
    "₹1244.65 \"\"\"\n",
    "print(motor, len(motor))"
   ]
  },
  {
   "cell_type": "code",
   "execution_count": 65,
   "id": "d5ec9b06",
   "metadata": {},
   "outputs": [
    {
     "name": "stdout",
     "output_type": "stream",
     "text": [
      " tech mahindra opened with a price of ₹1244.65\n"
     ]
    }
   ],
   "source": [
    "#capitalize()\n",
    "motor = ' tech Mahindra opened with a price of ₹1244.65'\n",
    "print(motor.capitalize())"
   ]
  },
  {
   "cell_type": "code",
   "execution_count": 66,
   "id": "d9f821c8",
   "metadata": {},
   "outputs": [
    {
     "name": "stdout",
     "output_type": "stream",
     "text": [
      " Tech Mahindra Opened With A Price Of ₹1244.65\n"
     ]
    }
   ],
   "source": [
    "#title()\n",
    "motor = ' tech Mahindra opened with a price of ₹1244.65'\n",
    "print(motor.title())"
   ]
  },
  {
   "cell_type": "code",
   "execution_count": 67,
   "id": "f20005b1",
   "metadata": {},
   "outputs": [
    {
     "name": "stdout",
     "output_type": "stream",
     "text": [
      "True\n"
     ]
    }
   ],
   "source": [
    "motor_title =\"Tech Mahindra Opened With A Price Of ₹1244.65\"\n",
    "print(motor_title.istitle())"
   ]
  },
  {
   "cell_type": "code",
   "execution_count": 68,
   "id": "4f5e913e",
   "metadata": {},
   "outputs": [
    {
     "name": "stdout",
     "output_type": "stream",
     "text": [
      "True\n"
     ]
    }
   ],
   "source": [
    "motor_title =\"Tech Mahindra Opened With A Price Of ₹1244.65\"\n",
    "print(motor_title.istitle())\n"
   ]
  },
  {
   "cell_type": "code",
   "execution_count": 69,
   "id": "c449ecef",
   "metadata": {},
   "outputs": [
    {
     "name": "stdout",
     "output_type": "stream",
     "text": [
      "False\n"
     ]
    }
   ],
   "source": [
    "motor_title =\"Tech Mahindra opened With A Price Of ₹1244.65\"\n",
    "print(motor_title.istitle())"
   ]
  },
  {
   "cell_type": "code",
   "execution_count": 71,
   "id": "1bc12d4a",
   "metadata": {},
   "outputs": [
    {
     "name": "stdout",
     "output_type": "stream",
     "text": [
      "True\n"
     ]
    }
   ],
   "source": [
    "motor_title =\"Tech Mahindra Opened With A Price Of ₹1244.65\"\n",
    "print(motor_title.istitle())"
   ]
  },
  {
   "cell_type": "code",
   "execution_count": 72,
   "id": "829ffc72",
   "metadata": {},
   "outputs": [
    {
     "name": "stdout",
     "output_type": "stream",
     "text": [
      "Tech Mahindra Opened With A Price Of ₹1244.65\n"
     ]
    }
   ],
   "source": [
    "motor_title =\"Tech Mahindra Opened With A Price Of ₹1244.65\"\n",
    "print(motor_title.title())"
   ]
  },
  {
   "cell_type": "code",
   "execution_count": 73,
   "id": "5e01826d",
   "metadata": {},
   "outputs": [
    {
     "name": "stdout",
     "output_type": "stream",
     "text": [
      "False\n"
     ]
    }
   ],
   "source": [
    "motor_title =\"Tech Mahindra Opened With A Price Of ₹1244.65\"\n",
    "print(not motor_title.istitle())"
   ]
  },
  {
   "cell_type": "code",
   "execution_count": 74,
   "id": "d0e4bdba",
   "metadata": {},
   "outputs": [
    {
     "name": "stdout",
     "output_type": "stream",
     "text": [
      "21\n"
     ]
    }
   ],
   "source": [
    "motor =\"Tech Mahindra Opened With A Price Of ₹1244.65\"\n",
    "print(motor.find('With'))"
   ]
  },
  {
   "cell_type": "code",
   "execution_count": 75,
   "id": "6368343c",
   "metadata": {},
   "outputs": [
    {
     "name": "stdout",
     "output_type": "stream",
     "text": [
      "W\n"
     ]
    }
   ],
   "source": [
    "print(motor[21])"
   ]
  },
  {
   "cell_type": "code",
   "execution_count": 76,
   "id": "0bdd4c0f",
   "metadata": {},
   "outputs": [
    {
     "name": "stdout",
     "output_type": "stream",
     "text": [
      "-1\n"
     ]
    }
   ],
   "source": [
    "motor =\"Tech Mahindra Opened With A Price Of ₹1244.65\"\n",
    "print(motor.find('with'))"
   ]
  },
  {
   "cell_type": "code",
   "execution_count": 77,
   "id": "fe9829a0",
   "metadata": {},
   "outputs": [
    {
     "name": "stdout",
     "output_type": "stream",
     "text": [
      "-1\n"
     ]
    }
   ],
   "source": [
    "motor =\"Tech Mahindra Opened With A Price Of ₹1244.65\"\n",
    "print(motor.find('for'))"
   ]
  },
  {
   "cell_type": "code",
   "execution_count": 78,
   "id": "9c6fab31",
   "metadata": {},
   "outputs": [
    {
     "name": "stdout",
     "output_type": "stream",
     "text": [
      "-1\n"
     ]
    }
   ],
   "source": [
    "motor =\"Tech Mahindra Opened With A Price Of ₹1244.65\"\n",
    "print(motor.find('₹1244.65',44))"
   ]
  },
  {
   "cell_type": "code",
   "execution_count": 79,
   "id": "54c1d2d7",
   "metadata": {},
   "outputs": [
    {
     "name": "stdout",
     "output_type": "stream",
     "text": [
      "21\n"
     ]
    }
   ],
   "source": [
    "motor =\"Tech Mahindra Opened With A Price Of ₹1244.65\"\n",
    "print(motor.find('With',21,25))"
   ]
  },
  {
   "cell_type": "code",
   "execution_count": 80,
   "id": "df2e058f",
   "metadata": {},
   "outputs": [
    {
     "name": "stdout",
     "output_type": "stream",
     "text": [
      "-1\n"
     ]
    }
   ],
   "source": [
    "motor =\"Tech Mahindra Opened With A Price Of ₹1244.65\"\n",
    "print(motor.find('With',-1,-len(motor)))"
   ]
  },
  {
   "cell_type": "code",
   "execution_count": 81,
   "id": "603c293c",
   "metadata": {},
   "outputs": [
    {
     "name": "stdout",
     "output_type": "stream",
     "text": [
      "6\n"
     ]
    }
   ],
   "source": [
    "motor =\"Tech Mahindra Opened With A Price Of ₹1244.65\"\n",
    "print(motor.find('a'))"
   ]
  },
  {
   "cell_type": "code",
   "execution_count": 83,
   "id": "f8c60fd7",
   "metadata": {},
   "outputs": [
    {
     "ename": "TypeError",
     "evalue": "find() takes at most 3 arguments (4 given)",
     "output_type": "error",
     "traceback": [
      "\u001b[1;31m---------------------------------------------------------------------------\u001b[0m",
      "\u001b[1;31mTypeError\u001b[0m                                 Traceback (most recent call last)",
      "Cell \u001b[1;32mIn[83], line 2\u001b[0m\n\u001b[0;32m      1\u001b[0m motor \u001b[38;5;241m=\u001b[39m\u001b[38;5;124m\"\u001b[39m\u001b[38;5;124mTech Mahindra Opened With A Price Of ₹1244.65\u001b[39m\u001b[38;5;124m\"\u001b[39m\n\u001b[1;32m----> 2\u001b[0m \u001b[38;5;28mprint\u001b[39m(motor\u001b[38;5;241m.\u001b[39mfind(\u001b[38;5;124m'\u001b[39m\u001b[38;5;124mWith\u001b[39m\u001b[38;5;124m'\u001b[39m,\u001b[38;5;241m21\u001b[39m,\u001b[38;5;241m25\u001b[39m,\u001b[38;5;241m2\u001b[39m))\n",
      "\u001b[1;31mTypeError\u001b[0m: find() takes at most 3 arguments (4 given)"
     ]
    }
   ],
   "source": [
    "motor =\"Tech Mahindra Opened With A Price Of ₹1244.65\"\n",
    "print(motor.find('With',21,25,2))"
   ]
  },
  {
   "cell_type": "code",
   "execution_count": 84,
   "id": "d6a93d4e",
   "metadata": {},
   "outputs": [
    {
     "name": "stdout",
     "output_type": "stream",
     "text": [
      "1\n"
     ]
    }
   ],
   "source": [
    "motor =\"Tech Mahindra Opened With A Price Of ₹1244.65\"\n",
    "print(motor.count('With'))"
   ]
  },
  {
   "cell_type": "code",
   "execution_count": 85,
   "id": "33cf3535",
   "metadata": {},
   "outputs": [
    {
     "name": "stdout",
     "output_type": "stream",
     "text": [
      "2\n"
     ]
    }
   ],
   "source": [
    "motor =\"Tech Mahindra Opened With A Price Of ₹1244.65\"\n",
    "print(motor.count('a'))"
   ]
  },
  {
   "cell_type": "code",
   "execution_count": 86,
   "id": "19be7779",
   "metadata": {},
   "outputs": [
    {
     "name": "stdout",
     "output_type": "stream",
     "text": [
      "0\n"
     ]
    }
   ],
   "source": [
    "motor =\"Tech Mahindra Opened With A Price Of ₹1244.65\"\n",
    "print(motor.count('F'))"
   ]
  },
  {
   "cell_type": "code",
   "execution_count": 87,
   "id": "b959015f",
   "metadata": {},
   "outputs": [
    {
     "name": "stdout",
     "output_type": "stream",
     "text": [
      "3\n"
     ]
    }
   ],
   "source": [
    "motor =\"Tech Mahindra Opened With A Price Of ₹1244.65\"\n",
    "print(motor.count('i',7))"
   ]
  },
  {
   "cell_type": "code",
   "execution_count": 88,
   "id": "e76f91d3",
   "metadata": {},
   "outputs": [
    {
     "name": "stdout",
     "output_type": "stream",
     "text": [
      "0\n"
     ]
    }
   ],
   "source": [
    "motor =\"Tech Mahindra Opened With A Price Of ₹1244.65\"\n",
    "print(motor.count('i',7,8))"
   ]
  },
  {
   "cell_type": "code",
   "execution_count": 89,
   "id": "14365a18",
   "metadata": {},
   "outputs": [
    {
     "name": "stdout",
     "output_type": "stream",
     "text": [
      "3\n"
     ]
    }
   ],
   "source": [
    "motor =\"Tech Mahindra Opened With A Price Of ₹1244.65\"\n",
    "print(motor.count('i',8))"
   ]
  },
  {
   "cell_type": "code",
   "execution_count": 90,
   "id": "8b009518",
   "metadata": {},
   "outputs": [
    {
     "name": "stdout",
     "output_type": "stream",
     "text": [
      "2\n"
     ]
    }
   ],
   "source": [
    "motor =\"Tech Mahindra Opened With A Price Of ₹1244.65\"\n",
    "print(motor.count('i',9))"
   ]
  },
  {
   "cell_type": "code",
   "execution_count": 91,
   "id": "89a442a3",
   "metadata": {},
   "outputs": [
    {
     "name": "stdout",
     "output_type": "stream",
     "text": [
      "1\n"
     ]
    }
   ],
   "source": [
    "motor =\"Tech Mahindra Opened With A Price Of ₹1244.65\"\n",
    "print(motor.count('i',8,21))"
   ]
  },
  {
   "cell_type": "code",
   "execution_count": 92,
   "id": "105ceaa5",
   "metadata": {},
   "outputs": [
    {
     "ename": "TypeError",
     "evalue": "count() takes at most 3 arguments (4 given)",
     "output_type": "error",
     "traceback": [
      "\u001b[1;31m---------------------------------------------------------------------------\u001b[0m",
      "\u001b[1;31mTypeError\u001b[0m                                 Traceback (most recent call last)",
      "Cell \u001b[1;32mIn[92], line 2\u001b[0m\n\u001b[0;32m      1\u001b[0m motor \u001b[38;5;241m=\u001b[39m\u001b[38;5;124m\"\u001b[39m\u001b[38;5;124mTech Mahindra Opened With A Price Of ₹1244.65\u001b[39m\u001b[38;5;124m\"\u001b[39m\n\u001b[1;32m----> 2\u001b[0m \u001b[38;5;28mprint\u001b[39m(motor\u001b[38;5;241m.\u001b[39mcount(\u001b[38;5;124m'\u001b[39m\u001b[38;5;124mi\u001b[39m\u001b[38;5;124m'\u001b[39m,\u001b[38;5;241m8\u001b[39m,\u001b[38;5;241m21\u001b[39m,\u001b[38;5;241m2\u001b[39m))\n",
      "\u001b[1;31mTypeError\u001b[0m: count() takes at most 3 arguments (4 given)"
     ]
    }
   ],
   "source": [
    "motor =\"Tech Mahindra Opened With A Price Of ₹1244.65\"\n",
    "print(motor.count('i',8,21,2))"
   ]
  },
  {
   "cell_type": "code",
   "execution_count": 93,
   "id": "3e009d17",
   "metadata": {},
   "outputs": [
    {
     "name": "stdout",
     "output_type": "stream",
     "text": [
      "0\n"
     ]
    }
   ],
   "source": [
    "motor =\"Tech Mahindra Opened With A Price Of ₹1244.65\"\n",
    "print(motor.count('i',-1,-22))"
   ]
  },
  {
   "cell_type": "code",
   "execution_count": 94,
   "id": "832bac8f",
   "metadata": {},
   "outputs": [
    {
     "name": "stdout",
     "output_type": "stream",
     "text": [
      "1\n"
     ]
    }
   ],
   "source": [
    "motor =\"Tech Mahindra Opened With A Price Of ₹1244.65\"\n",
    "print(motor.count('i',-22,-1))"
   ]
  },
  {
   "cell_type": "code",
   "execution_count": 95,
   "id": "c20c70dd",
   "metadata": {},
   "outputs": [
    {
     "name": "stdout",
     "output_type": "stream",
     "text": [
      "8\n"
     ]
    }
   ],
   "source": [
    "motor =\"Tech Mahindra Opened With A Price Of ₹1244.65\"\n",
    "print(motor.index('i'))"
   ]
  },
  {
   "cell_type": "code",
   "execution_count": 96,
   "id": "ec34cc2f",
   "metadata": {},
   "outputs": [
    {
     "name": "stdout",
     "output_type": "stream",
     "text": [
      "-1\n"
     ]
    }
   ],
   "source": [
    "motor =\"Tech Mahindra Opened With A Price Of ₹1244.65\"\n",
    "print(motor.rfind('i',60))"
   ]
  },
  {
   "cell_type": "code",
   "execution_count": 97,
   "id": "a7431643",
   "metadata": {},
   "outputs": [
    {
     "ename": "ValueError",
     "evalue": "substring not found",
     "output_type": "error",
     "traceback": [
      "\u001b[1;31m---------------------------------------------------------------------------\u001b[0m",
      "\u001b[1;31mValueError\u001b[0m                                Traceback (most recent call last)",
      "Cell \u001b[1;32mIn[97], line 2\u001b[0m\n\u001b[0;32m      1\u001b[0m motor \u001b[38;5;241m=\u001b[39m\u001b[38;5;124m\"\u001b[39m\u001b[38;5;124mTech Mahindra Opened With A Price Of ₹1244.65\u001b[39m\u001b[38;5;124m\"\u001b[39m\n\u001b[1;32m----> 2\u001b[0m \u001b[38;5;28mprint\u001b[39m(motor\u001b[38;5;241m.\u001b[39mindex(\u001b[38;5;124m'\u001b[39m\u001b[38;5;124mi\u001b[39m\u001b[38;5;124m'\u001b[39m,\u001b[38;5;241m1\u001b[39m,\u001b[38;5;241m7\u001b[39m))\n",
      "\u001b[1;31mValueError\u001b[0m: substring not found"
     ]
    }
   ],
   "source": [
    "motor =\"Tech Mahindra Opened With A Price Of ₹1244.65\"\n",
    "print(motor.index('i',1,7))"
   ]
  },
  {
   "cell_type": "code",
   "execution_count": 98,
   "id": "0073efe2",
   "metadata": {},
   "outputs": [
    {
     "name": "stdout",
     "output_type": "stream",
     "text": [
      "11\n",
      "-1\n",
      "-1\n",
      "11\n"
     ]
    }
   ],
   "source": [
    "india = \"With India all set for the G20 Summit\"\n",
    "print(india.find('all'))\n",
    "print(india.find('all',12,89))\n",
    "print(india.find('all',23))\n",
    "print(india.find('all',8, 24))"
   ]
  },
  {
   "cell_type": "code",
   "execution_count": 99,
   "id": "b738854f",
   "metadata": {},
   "outputs": [
    {
     "name": "stdout",
     "output_type": "stream",
     "text": [
      "1\n",
      "0\n",
      "0\n",
      "1\n"
     ]
    }
   ],
   "source": [
    "india = \"With India all set for the G20 Summit\"\n",
    "print(india.count('all'))\n",
    "print(india.count('all',12,89))\n",
    "print(india.count('all',23))\n",
    "print(india.count('all',8, 24))"
   ]
  },
  {
   "cell_type": "code",
   "execution_count": 100,
   "id": "c8a4a01a",
   "metadata": {},
   "outputs": [
    {
     "name": "stdout",
     "output_type": "stream",
     "text": [
      "11\n"
     ]
    },
    {
     "ename": "ValueError",
     "evalue": "substring not found",
     "output_type": "error",
     "traceback": [
      "\u001b[1;31m---------------------------------------------------------------------------\u001b[0m",
      "\u001b[1;31mValueError\u001b[0m                                Traceback (most recent call last)",
      "Cell \u001b[1;32mIn[100], line 3\u001b[0m\n\u001b[0;32m      1\u001b[0m india \u001b[38;5;241m=\u001b[39m \u001b[38;5;124m\"\u001b[39m\u001b[38;5;124mWith India all set for the G20 Summit\u001b[39m\u001b[38;5;124m\"\u001b[39m\n\u001b[0;32m      2\u001b[0m \u001b[38;5;28mprint\u001b[39m(india\u001b[38;5;241m.\u001b[39mindex(\u001b[38;5;124m'\u001b[39m\u001b[38;5;124mall\u001b[39m\u001b[38;5;124m'\u001b[39m))\n\u001b[1;32m----> 3\u001b[0m \u001b[38;5;28mprint\u001b[39m(india\u001b[38;5;241m.\u001b[39mindex(\u001b[38;5;124m'\u001b[39m\u001b[38;5;124mall\u001b[39m\u001b[38;5;124m'\u001b[39m,\u001b[38;5;241m12\u001b[39m,\u001b[38;5;241m89\u001b[39m))\n\u001b[0;32m      4\u001b[0m \u001b[38;5;28mprint\u001b[39m(india\u001b[38;5;241m.\u001b[39mindex(\u001b[38;5;124m'\u001b[39m\u001b[38;5;124mall\u001b[39m\u001b[38;5;124m'\u001b[39m,\u001b[38;5;241m23\u001b[39m))\n\u001b[0;32m      5\u001b[0m \u001b[38;5;28mprint\u001b[39m(india\u001b[38;5;241m.\u001b[39mindex(\u001b[38;5;124m'\u001b[39m\u001b[38;5;124mall\u001b[39m\u001b[38;5;124m'\u001b[39m,\u001b[38;5;241m8\u001b[39m, \u001b[38;5;241m24\u001b[39m))\n",
      "\u001b[1;31mValueError\u001b[0m: substring not found"
     ]
    }
   ],
   "source": [
    "india = \"With India all set for the G20 Summit\"\n",
    "print(india.index('all'))\n",
    "print(india.index('all',12,89))\n",
    "print(india.index('all',23))\n",
    "print(india.index('all',8, 24))"
   ]
  },
  {
   "cell_type": "code",
   "execution_count": 101,
   "id": "14cab2d2",
   "metadata": {},
   "outputs": [
    {
     "name": "stdout",
     "output_type": "stream",
     "text": [
      "False\n"
     ]
    }
   ],
   "source": [
    "india = \"With India all set for the G20 Summit\"\n",
    "print(india.isalnum())"
   ]
  },
  {
   "cell_type": "code",
   "execution_count": 102,
   "id": "83df17f8",
   "metadata": {},
   "outputs": [
    {
     "name": "stdout",
     "output_type": "stream",
     "text": [
      "True\n"
     ]
    }
   ],
   "source": [
    "india = \"WithIndiaallsetfortheG20Summit\"\n",
    "print(india.isalnum())"
   ]
  },
  {
   "cell_type": "code",
   "execution_count": 103,
   "id": "513331a0",
   "metadata": {},
   "outputs": [
    {
     "name": "stdout",
     "output_type": "stream",
     "text": [
      "True\n"
     ]
    }
   ],
   "source": [
    "india = \"WithIndiaallsetfortheGSummit \"\n",
    "print(not india.isalnum())"
   ]
  },
  {
   "cell_type": "code",
   "execution_count": 104,
   "id": "4daab2ae",
   "metadata": {},
   "outputs": [
    {
     "name": "stdout",
     "output_type": "stream",
     "text": [
      "False\n"
     ]
    }
   ],
   "source": [
    "india = '202023'\n",
    "print(india.isalpha())"
   ]
  },
  {
   "cell_type": "code",
   "execution_count": 105,
   "id": "4ec198b4",
   "metadata": {},
   "outputs": [
    {
     "name": "stdout",
     "output_type": "stream",
     "text": [
      "True\n"
     ]
    }
   ],
   "source": [
    "india = '202023'\n",
    "print(india.isdigit())"
   ]
  },
  {
   "cell_type": "code",
   "execution_count": 106,
   "id": "706c1f65",
   "metadata": {},
   "outputs": [
    {
     "name": "stdout",
     "output_type": "stream",
     "text": [
      "True\n"
     ]
    }
   ],
   "source": [
    "india = \"with india all set for the 20g summit\"\n",
    "print(india.islower())"
   ]
  },
  {
   "cell_type": "code",
   "execution_count": 107,
   "id": "a0b249fe",
   "metadata": {},
   "outputs": [
    {
     "name": "stdout",
     "output_type": "stream",
     "text": [
      "True\n"
     ]
    }
   ],
   "source": [
    "india = \"with india all set for the 20g summit\"\n",
    "print(india.islower())"
   ]
  },
  {
   "cell_type": "code",
   "execution_count": 108,
   "id": "85aa54e6",
   "metadata": {},
   "outputs": [
    {
     "name": "stdout",
     "output_type": "stream",
     "text": [
      "with india all set for the g20 summit\n"
     ]
    }
   ],
   "source": [
    "india = \"With India all set for the G20 Summit\"\n",
    "print(india.lower())"
   ]
  },
  {
   "cell_type": "code",
   "execution_count": 109,
   "id": "8fd747cc",
   "metadata": {},
   "outputs": [
    {
     "name": "stdout",
     "output_type": "stream",
     "text": [
      "False\n"
     ]
    }
   ],
   "source": [
    "india = \"With India all set for the G20 Summit\"\n",
    "print(india.isspace())"
   ]
  },
  {
   "cell_type": "code",
   "execution_count": 110,
   "id": "dee7f337",
   "metadata": {},
   "outputs": [
    {
     "name": "stdout",
     "output_type": "stream",
     "text": [
      "True\n"
     ]
    }
   ],
   "source": [
    "india = \"             \"\n",
    "print(india.isspace())"
   ]
  },
  {
   "cell_type": "code",
   "execution_count": 111,
   "id": "973f35c2",
   "metadata": {},
   "outputs": [
    {
     "name": "stdout",
     "output_type": "stream",
     "text": [
      "False\n"
     ]
    }
   ],
   "source": [
    "india = \"    . \"\n",
    "print(india.isspace())"
   ]
  },
  {
   "cell_type": "code",
   "execution_count": 112,
   "id": "feb505d1",
   "metadata": {},
   "outputs": [
    {
     "name": "stdout",
     "output_type": "stream",
     "text": [
      "False\n"
     ]
    }
   ],
   "source": [
    "india =\"\"\n",
    "print(india.isspace())"
   ]
  },
  {
   "cell_type": "code",
   "execution_count": 113,
   "id": "06bd45f1",
   "metadata": {},
   "outputs": [
    {
     "name": "stdout",
     "output_type": "stream",
     "text": [
      "sPYWARE INFECTION, RESEARCHERS SAY\n"
     ]
    }
   ],
   "source": [
    "Apple =\"Spyware infection, researchers say\"\n",
    "print(Apple.swapcase())"
   ]
  },
  {
   "cell_type": "code",
   "execution_count": 114,
   "id": "0ab1b9c4",
   "metadata": {},
   "outputs": [
    {
     "name": "stdout",
     "output_type": "stream",
     "text": [
      "Spyware infection, researchers say\n"
     ]
    }
   ],
   "source": [
    "Apple =\"Spyware infection, researchers say\"\n",
    "print(Apple.swapcase().swapcase())"
   ]
  },
  {
   "cell_type": "code",
   "execution_count": 115,
   "id": "0faf0940",
   "metadata": {},
   "outputs": [
    {
     "name": "stdout",
     "output_type": "stream",
     "text": [
      "False\n"
     ]
    }
   ],
   "source": [
    "Apple =\"spyware infection, researchers say\"\n",
    "print(Apple.endswith('say',-2))"
   ]
  },
  {
   "cell_type": "code",
   "execution_count": 116,
   "id": "eb6f4334",
   "metadata": {},
   "outputs": [
    {
     "name": "stdout",
     "output_type": "stream",
     "text": [
      "True\n"
     ]
    }
   ],
   "source": [
    "Apple =\"spyware infection, researchers say\"\n",
    "print(Apple.startswith('spy'))"
   ]
  },
  {
   "cell_type": "code",
   "execution_count": 117,
   "id": "8f9fbed7",
   "metadata": {},
   "outputs": [
    {
     "name": "stdout",
     "output_type": "stream",
     "text": [
      "pyware infection, researchers say\n"
     ]
    }
   ],
   "source": [
    "Apple =\"syypyware infection, researchers say\"\n",
    "print(Apple.lstrip('say'))"
   ]
  },
  {
   "cell_type": "code",
   "execution_count": 118,
   "id": "f9f574b0",
   "metadata": {},
   "outputs": [
    {
     "name": "stdout",
     "output_type": "stream",
     "text": [
      "syypyware infection, researchers \n"
     ]
    }
   ],
   "source": [
    "Apple =\"syypyware infection, researchers say\"\n",
    "print(Apple.rstrip('say'))"
   ]
  },
  {
   "cell_type": "code",
   "execution_count": 119,
   "id": "951c45f2",
   "metadata": {},
   "outputs": [
    {
     "name": "stdout",
     "output_type": "stream",
     "text": [
      "pyware infection, researcher\n"
     ]
    }
   ],
   "source": [
    "Apple =\"syypyware infection, researcherssay\"\n",
    "print(Apple.strip('say'))"
   ]
  },
  {
   "cell_type": "code",
   "execution_count": 120,
   "id": "d4f650e1",
   "metadata": {},
   "outputs": [
    {
     "name": "stdout",
     "output_type": "stream",
     "text": [
      "r\n"
     ]
    }
   ],
   "source": [
    "x =\"there\"\n",
    "print(x.strip('the'))"
   ]
  },
  {
   "cell_type": "code",
   "execution_count": 121,
   "id": "ff3a0465",
   "metadata": {},
   "outputs": [
    {
     "name": "stdout",
     "output_type": "stream",
     "text": [
      "re\n"
     ]
    }
   ],
   "source": [
    "x =\"there\"\n",
    "print(x.lstrip('the'))"
   ]
  },
  {
   "cell_type": "code",
   "execution_count": 122,
   "id": "7a6ef0c2",
   "metadata": {},
   "outputs": [
    {
     "name": "stdout",
     "output_type": "stream",
     "text": [
      "ther\n"
     ]
    }
   ],
   "source": [
    "x =\"there\"\n",
    "print(x.rstrip('the'))"
   ]
  },
  {
   "cell_type": "code",
   "execution_count": 123,
   "id": "c7f9da54",
   "metadata": {},
   "outputs": [
    {
     "name": "stdout",
     "output_type": "stream",
     "text": [
      "syypyware infection, researcherssay\n"
     ]
    }
   ],
   "source": [
    "Apple =\"syypyware infection, researcherssay\"\n",
    "print(Apple.strip())"
   ]
  },
  {
   "cell_type": "code",
   "execution_count": 124,
   "id": "e2bdb948",
   "metadata": {},
   "outputs": [
    {
     "name": "stdout",
     "output_type": "stream",
     "text": [
      "there\n"
     ]
    }
   ],
   "source": [
    "apple =\"       there\"\n",
    "print(apple.lstrip())"
   ]
  },
  {
   "cell_type": "code",
   "execution_count": 125,
   "id": "56168da7",
   "metadata": {},
   "outputs": [
    {
     "name": "stdout",
     "output_type": "stream",
     "text": [
      "syypyware infection, researcherssay\n"
     ]
    }
   ],
   "source": [
    "Apple =\"         syypyware infection, researcherssay          \"\n",
    "print(Apple.strip())"
   ]
  },
  {
   "cell_type": "code",
   "execution_count": 126,
   "id": "5a3bb60f",
   "metadata": {},
   "outputs": [
    {
     "name": "stdout",
     "output_type": "stream",
     "text": [
      "('spyware iphone ', 'infection', ', researchers say')\n"
     ]
    }
   ],
   "source": [
    "Apple =\"spyware iphone infection, researchers say\"\n",
    "print(Apple.partition('infection'))"
   ]
  },
  {
   "cell_type": "code",
   "execution_count": 127,
   "id": "204fb5c8",
   "metadata": {},
   "outputs": [
    {
     "name": "stdout",
     "output_type": "stream",
     "text": [
      "('spyware', ' ', 'iphone infection, researchers say')\n"
     ]
    }
   ],
   "source": [
    "Apple =\"spyware iphone infection, researchers say\"\n",
    "print(Apple.partition(' '))"
   ]
  },
  {
   "cell_type": "code",
   "execution_count": 128,
   "id": "dbe73fd3",
   "metadata": {},
   "outputs": [
    {
     "name": "stdout",
     "output_type": "stream",
     "text": [
      "('spyware iphone infection, researchers ', 'say', '')\n"
     ]
    }
   ],
   "source": [
    "Apple =\"spyware iphone infection, researchers say\"\n",
    "print(Apple.partition('say'))"
   ]
  },
  {
   "cell_type": "code",
   "execution_count": 129,
   "id": "f97acf31",
   "metadata": {},
   "outputs": [
    {
     "name": "stdout",
     "output_type": "stream",
     "text": [
      "('spyware iphone infection, researchers say', '', '')\n"
     ]
    }
   ],
   "source": [
    "Apple =\"spyware iphone infection, researchers say\"\n",
    "print(Apple.partition('1'))"
   ]
  },
  {
   "cell_type": "code",
   "execution_count": 130,
   "id": "790e2e80",
   "metadata": {},
   "outputs": [
    {
     "name": "stdout",
     "output_type": "stream",
     "text": [
      "['spyware', 'iphone', 'infection,', 'researchers', 'say']\n"
     ]
    }
   ],
   "source": [
    "Apple =\"spyware iphone infection, researchers say\"\n",
    "print(Apple.split())"
   ]
  },
  {
   "cell_type": "code",
   "execution_count": 131,
   "id": "00011ceb",
   "metadata": {},
   "outputs": [
    {
     "name": "stdout",
     "output_type": "stream",
     "text": [
      "['sp', 'ware iphone infection, researchers sa', '']\n"
     ]
    }
   ],
   "source": [
    "Apple =\"spyware iphone infection, researchers say\"\n",
    "print(Apple.split('y'))"
   ]
  },
  {
   "cell_type": "code",
   "execution_count": 3,
   "id": "c52b96ee",
   "metadata": {},
   "outputs": [
    {
     "name": "stdout",
     "output_type": "stream",
     "text": [
      "['spyware', 'iphone', 'infection,', 'researchersssay']\n"
     ]
    }
   ],
   "source": [
    "Apple =\"spyware iphone infection, researchersssay\"\n",
    "print(Apple.split(' '))"
   ]
  },
  {
   "cell_type": "code",
   "execution_count": 4,
   "id": "7f88ed2a",
   "metadata": {},
   "outputs": [
    {
     "name": "stdout",
     "output_type": "stream",
     "text": [
      "['spyware iphone ', 'fection, researchers say']\n"
     ]
    }
   ],
   "source": [
    "Apple =\"spyware iphone infection, researchers say\"\n",
    "print(Apple.split('in'))"
   ]
  },
  {
   "cell_type": "code",
   "execution_count": 5,
   "id": "cb875b8e",
   "metadata": {},
   "outputs": [
    {
     "name": "stdout",
     "output_type": "stream",
     "text": [
      "['spyware iphone infection, researchers say']\n"
     ]
    }
   ],
   "source": [
    "Apple =\"spyware iphone infection, researchers say\"\n",
    "print(Apple.split('z'))"
   ]
  },
  {
   "cell_type": "code",
   "execution_count": 6,
   "id": "ae2b962f",
   "metadata": {},
   "outputs": [
    {
     "name": "stdout",
     "output_type": "stream",
     "text": [
      "spyware iphone infection, researchers say\n",
      "*spyware iphone infection, researchers say*spyware iphone infection, researchers say*\n"
     ]
    }
   ],
   "source": [
    "print(Apple)\n",
    "print(Apple.join('***'))"
   ]
  },
  {
   "cell_type": "code",
   "execution_count": 7,
   "id": "bb676591",
   "metadata": {},
   "outputs": [
    {
     "name": "stdout",
     "output_type": "stream",
     "text": [
      "h*e*l*l*o* *h*i\n"
     ]
    }
   ],
   "source": [
    "print('*'.join(\"hello hi\"))"
   ]
  },
  {
   "cell_type": "code",
   "execution_count": 137,
   "id": "5202a1e4",
   "metadata": {},
   "outputs": [
    {
     "name": "stdout",
     "output_type": "stream",
     "text": [
      "h\r\n",
      "n\r\n",
      "l\r\n",
      "l\r\n",
      "o\r\n",
      " \r\n",
      "h\r\n",
      "i\n"
     ]
    }
   ],
   "source": [
    "print('\\r\\n'.join(\"hnllo hi\"))\n",
    "      "
   ]
  },
  {
   "cell_type": "code",
   "execution_count": 138,
   "id": "8f377dc3",
   "metadata": {},
   "outputs": [
    {
     "name": "stdout",
     "output_type": "stream",
     "text": [
      "spyware iphone infection, researchers say\n",
      "zpyware iphone infection, rezearcherz zay\n"
     ]
    }
   ],
   "source": [
    "print(Apple)\n",
    "print(Apple.replace('s','z'))"
   ]
  },
  {
   "cell_type": "code",
   "execution_count": 139,
   "id": "f6a89680",
   "metadata": {},
   "outputs": [
    {
     "name": "stdout",
     "output_type": "stream",
     "text": [
      " <class 'str'>\n",
      "() <class 'tuple'>\n",
      "[] <class 'list'>\n",
      "{} <class 'dict'>\n",
      "set() <class 'set'>\n"
     ]
    }
   ],
   "source": [
    "s = str()\n",
    "print(s,type(s))\n",
    "t = tuple()\n",
    "print(t,type(t))\n",
    "l =list()\n",
    "print(l,type(l))\n",
    "d = dict()\n",
    "print(d,type(d))\n",
    "se = set()\n",
    "print(se,type(se))"
   ]
  },
  {
   "cell_type": "code",
   "execution_count": 140,
   "id": "b7df96c8",
   "metadata": {},
   "outputs": [
    {
     "name": "stdout",
     "output_type": "stream",
     "text": [
      "spyware iphone infection, researchers say\n"
     ]
    }
   ],
   "source": [
    "print(Apple)"
   ]
  },
  {
   "cell_type": "markdown",
   "id": "b2d2c6df",
   "metadata": {},
   "source": [
    "\n",
    "# Tuple\n"
   ]
  },
  {
   "cell_type": "code",
   "execution_count": 142,
   "id": "c22549d7",
   "metadata": {},
   "outputs": [
    {
     "name": "stdout",
     "output_type": "stream",
     "text": [
      "('France', 'uk', 'spain', 'usa') <class 'tuple'>\n"
     ]
    }
   ],
   "source": [
    "country = 'France','uk','spain','usa'\n",
    "print(country,type(country))"
   ]
  },
  {
   "cell_type": "code",
   "execution_count": 143,
   "id": "16cdd9aa",
   "metadata": {},
   "outputs": [
    {
     "name": "stdout",
     "output_type": "stream",
     "text": [
      "('France', 'uk', 'spain', 'usa') <class 'tuple'>\n"
     ]
    }
   ],
   "source": [
    "country = ('France','uk','spain','usa')\n",
    "print(country,type(country))"
   ]
  },
  {
   "cell_type": "code",
   "execution_count": 144,
   "id": "016a16af",
   "metadata": {},
   "outputs": [
    {
     "name": "stdout",
     "output_type": "stream",
     "text": [
      "('France', 'uk', 'spain', 'usa') <class 'tuple'>\n"
     ]
    }
   ],
   "source": [
    "country = 'France','uk','spain','usa'\n",
    "print(country,type(country))"
   ]
  },
  {
   "cell_type": "code",
   "execution_count": 145,
   "id": "ada1adf8",
   "metadata": {},
   "outputs": [
    {
     "name": "stdout",
     "output_type": "stream",
     "text": [
      "('France', 'uk', 'spain', 'usa', 'uk', 'uk') <class 'tuple'>\n",
      "0\n"
     ]
    }
   ],
   "source": [
    "country = ('France','uk','spain','usa','uk','uk')\n",
    "print(country,type(country))\n",
    "print(country.count('Netherland'))"
   ]
  },
  {
   "cell_type": "code",
   "execution_count": 146,
   "id": "96d77896",
   "metadata": {
    "scrolled": true
   },
   "outputs": [
    {
     "name": "stdout",
     "output_type": "stream",
     "text": [
      "('France', 'uk', 'spain', 'usa', 'uk', 'uk') <class 'tuple'>\n",
      "3\n"
     ]
    }
   ],
   "source": [
    "country = ('France','uk','spain','usa','uk','uk')\n",
    "print(country,type(country))\n",
    "print(country.count('uk'))"
   ]
  },
  {
   "cell_type": "code",
   "execution_count": 147,
   "id": "a8328fcc",
   "metadata": {},
   "outputs": [
    {
     "name": "stdout",
     "output_type": "stream",
     "text": [
      "('France', 'uk', 'spain', 'usa', 'uk', 'uk') <class 'tuple'>\n"
     ]
    },
    {
     "ename": "TypeError",
     "evalue": "tuple.count() takes exactly one argument (2 given)",
     "output_type": "error",
     "traceback": [
      "\u001b[1;31m---------------------------------------------------------------------------\u001b[0m",
      "\u001b[1;31mTypeError\u001b[0m                                 Traceback (most recent call last)",
      "Cell \u001b[1;32mIn[147], line 3\u001b[0m\n\u001b[0;32m      1\u001b[0m country \u001b[38;5;241m=\u001b[39m (\u001b[38;5;124m'\u001b[39m\u001b[38;5;124mFrance\u001b[39m\u001b[38;5;124m'\u001b[39m,\u001b[38;5;124m'\u001b[39m\u001b[38;5;124muk\u001b[39m\u001b[38;5;124m'\u001b[39m,\u001b[38;5;124m'\u001b[39m\u001b[38;5;124mspain\u001b[39m\u001b[38;5;124m'\u001b[39m,\u001b[38;5;124m'\u001b[39m\u001b[38;5;124musa\u001b[39m\u001b[38;5;124m'\u001b[39m,\u001b[38;5;124m'\u001b[39m\u001b[38;5;124muk\u001b[39m\u001b[38;5;124m'\u001b[39m,\u001b[38;5;124m'\u001b[39m\u001b[38;5;124muk\u001b[39m\u001b[38;5;124m'\u001b[39m)\n\u001b[0;32m      2\u001b[0m \u001b[38;5;28mprint\u001b[39m(country,\u001b[38;5;28mtype\u001b[39m(country))\n\u001b[1;32m----> 3\u001b[0m \u001b[38;5;28mprint\u001b[39m(country\u001b[38;5;241m.\u001b[39mcount(\u001b[38;5;124m'\u001b[39m\u001b[38;5;124muk\u001b[39m\u001b[38;5;124m'\u001b[39m,\u001b[38;5;241m2\u001b[39m))\n",
      "\u001b[1;31mTypeError\u001b[0m: tuple.count() takes exactly one argument (2 given)"
     ]
    }
   ],
   "source": [
    "country = ('France','uk','spain','usa','uk','uk')\n",
    "print(country,type(country))\n",
    "print(country.count('uk',2))"
   ]
  },
  {
   "cell_type": "code",
   "execution_count": 148,
   "id": "b86cc778",
   "metadata": {},
   "outputs": [
    {
     "name": "stdout",
     "output_type": "stream",
     "text": [
      "('France', 'uk', 'spain', 'usa', 'uk', 'uk') <class 'tuple'>\n"
     ]
    },
    {
     "ename": "ValueError",
     "evalue": "tuple.index(x): x not in tuple",
     "output_type": "error",
     "traceback": [
      "\u001b[1;31m---------------------------------------------------------------------------\u001b[0m",
      "\u001b[1;31mValueError\u001b[0m                                Traceback (most recent call last)",
      "Cell \u001b[1;32mIn[148], line 3\u001b[0m\n\u001b[0;32m      1\u001b[0m country \u001b[38;5;241m=\u001b[39m (\u001b[38;5;124m'\u001b[39m\u001b[38;5;124mFrance\u001b[39m\u001b[38;5;124m'\u001b[39m,\u001b[38;5;124m'\u001b[39m\u001b[38;5;124muk\u001b[39m\u001b[38;5;124m'\u001b[39m,\u001b[38;5;124m'\u001b[39m\u001b[38;5;124mspain\u001b[39m\u001b[38;5;124m'\u001b[39m,\u001b[38;5;124m'\u001b[39m\u001b[38;5;124musa\u001b[39m\u001b[38;5;124m'\u001b[39m,\u001b[38;5;124m'\u001b[39m\u001b[38;5;124muk\u001b[39m\u001b[38;5;124m'\u001b[39m,\u001b[38;5;124m'\u001b[39m\u001b[38;5;124muk\u001b[39m\u001b[38;5;124m'\u001b[39m)\n\u001b[0;32m      2\u001b[0m \u001b[38;5;28mprint\u001b[39m(country,\u001b[38;5;28mtype\u001b[39m(country))\n\u001b[1;32m----> 3\u001b[0m \u001b[38;5;28mprint\u001b[39m(country\u001b[38;5;241m.\u001b[39mindex(\u001b[38;5;124m'\u001b[39m\u001b[38;5;124mNetherland\u001b[39m\u001b[38;5;124m'\u001b[39m))\n",
      "\u001b[1;31mValueError\u001b[0m: tuple.index(x): x not in tuple"
     ]
    }
   ],
   "source": [
    "country = ('France','uk','spain','usa','uk','uk')\n",
    "print(country,type(country))\n",
    "print(country.index('Netherland'))"
   ]
  },
  {
   "cell_type": "code",
   "execution_count": 149,
   "id": "c3ce09fc",
   "metadata": {
    "scrolled": true
   },
   "outputs": [
    {
     "name": "stdout",
     "output_type": "stream",
     "text": [
      "('France', 'uk', 'spain', 'usa', 'uk', 'uk') <class 'tuple'>\n",
      "1\n"
     ]
    }
   ],
   "source": [
    "country = ('France','uk','spain','usa','uk','uk')\n",
    "print(country,type(country))\n",
    "print(country.index('uk'))"
   ]
  },
  {
   "cell_type": "markdown",
   "id": "b686bd16",
   "metadata": {},
   "source": [
    "# set"
   ]
  },
  {
   "cell_type": "code",
   "execution_count": 150,
   "id": "7b6e80a0",
   "metadata": {},
   "outputs": [
    {
     "name": "stdout",
     "output_type": "stream",
     "text": [
      "{1, 2, 3} <class 'set'>\n"
     ]
    }
   ],
   "source": [
    "se = {1,2,3}\n",
    "print(se,type(se))"
   ]
  },
  {
   "cell_type": "code",
   "execution_count": 151,
   "id": "f608bf55",
   "metadata": {},
   "outputs": [
    {
     "name": "stdout",
     "output_type": "stream",
     "text": [
      "{1, 2, 3} <class 'set'>\n"
     ]
    }
   ],
   "source": [
    "se = {1,2,1,3,3}\n",
    "print(se,type(se))"
   ]
  },
  {
   "cell_type": "code",
   "execution_count": 152,
   "id": "bf852427",
   "metadata": {},
   "outputs": [
    {
     "ename": "TypeError",
     "evalue": "unhashable type: 'list'",
     "output_type": "error",
     "traceback": [
      "\u001b[1;31m---------------------------------------------------------------------------\u001b[0m",
      "\u001b[1;31mTypeError\u001b[0m                                 Traceback (most recent call last)",
      "Cell \u001b[1;32mIn[152], line 1\u001b[0m\n\u001b[1;32m----> 1\u001b[0m se \u001b[38;5;241m=\u001b[39m {\u001b[38;5;241m1\u001b[39m,\u001b[38;5;241m2\u001b[39m,\u001b[38;5;241m3\u001b[39m,[\u001b[38;5;241m5\u001b[39m,\u001b[38;5;241m6\u001b[39m]}\n\u001b[0;32m      2\u001b[0m \u001b[38;5;28mprint\u001b[39m(se,\u001b[38;5;28mtype\u001b[39m(se))\n",
      "\u001b[1;31mTypeError\u001b[0m: unhashable type: 'list'"
     ]
    }
   ],
   "source": [
    "se = {1,2,3,[5,6]}\n",
    "print(se,type(se))"
   ]
  },
  {
   "cell_type": "code",
   "execution_count": 153,
   "id": "80196911",
   "metadata": {},
   "outputs": [
    {
     "name": "stdout",
     "output_type": "stream",
     "text": [
      "{1, 2, 3} <class 'set'>\n"
     ]
    },
    {
     "ename": "TypeError",
     "evalue": "'set' object is not subscriptable",
     "output_type": "error",
     "traceback": [
      "\u001b[1;31m---------------------------------------------------------------------------\u001b[0m",
      "\u001b[1;31mTypeError\u001b[0m                                 Traceback (most recent call last)",
      "Cell \u001b[1;32mIn[153], line 3\u001b[0m\n\u001b[0;32m      1\u001b[0m se \u001b[38;5;241m=\u001b[39m {\u001b[38;5;241m1\u001b[39m,\u001b[38;5;241m2\u001b[39m,\u001b[38;5;241m3\u001b[39m}\n\u001b[0;32m      2\u001b[0m \u001b[38;5;28mprint\u001b[39m(se,\u001b[38;5;28mtype\u001b[39m(se))\n\u001b[1;32m----> 3\u001b[0m \u001b[38;5;28mprint\u001b[39m(se[\u001b[38;5;241m1\u001b[39m])\n",
      "\u001b[1;31mTypeError\u001b[0m: 'set' object is not subscriptable"
     ]
    }
   ],
   "source": [
    "se = {1,2,3}\n",
    "print(se,type(se))\n",
    "print(se[1])"
   ]
  },
  {
   "cell_type": "code",
   "execution_count": 154,
   "id": "10dfb69b",
   "metadata": {},
   "outputs": [
    {
     "name": "stdout",
     "output_type": "stream",
     "text": [
      "{1, (1, 2), 4.4, 'mouse'}\n"
     ]
    }
   ],
   "source": [
    "setcheck= {1,4.4,'mouse',(1,2)}\n",
    "print(setcheck)"
   ]
  },
  {
   "cell_type": "code",
   "execution_count": 155,
   "id": "0acc00d0",
   "metadata": {},
   "outputs": [
    {
     "ename": "TypeError",
     "evalue": "unhashable type: 'set'",
     "output_type": "error",
     "traceback": [
      "\u001b[1;31m---------------------------------------------------------------------------\u001b[0m",
      "\u001b[1;31mTypeError\u001b[0m                                 Traceback (most recent call last)",
      "Cell \u001b[1;32mIn[155], line 1\u001b[0m\n\u001b[1;32m----> 1\u001b[0m setcheck\u001b[38;5;241m=\u001b[39m {\u001b[38;5;241m1\u001b[39m,\u001b[38;5;241m4.4\u001b[39m,\u001b[38;5;124m'\u001b[39m\u001b[38;5;124mmouse\u001b[39m\u001b[38;5;124m'\u001b[39m,(\u001b[38;5;241m1\u001b[39m,\u001b[38;5;241m2\u001b[39m),{\u001b[38;5;241m2\u001b[39m,\u001b[38;5;241m3\u001b[39m}}\n\u001b[0;32m      2\u001b[0m \u001b[38;5;28mprint\u001b[39m(setcheck)\n",
      "\u001b[1;31mTypeError\u001b[0m: unhashable type: 'set'"
     ]
    }
   ],
   "source": [
    "setcheck= {1,4.4,'mouse',(1,2),{2,3}}\n",
    "print(setcheck)\n"
   ]
  },
  {
   "cell_type": "code",
   "execution_count": 157,
   "id": "a71c7ed0",
   "metadata": {},
   "outputs": [
    {
     "name": "stdout",
     "output_type": "stream",
     "text": [
      "True\n"
     ]
    }
   ],
   "source": [
    "x = '123Th'\n",
    "print(x.istitle())"
   ]
  },
  {
   "cell_type": "code",
   "execution_count": null,
   "id": "2bb7f295",
   "metadata": {},
   "outputs": [],
   "source": [
    "#DICT"
   ]
  },
  {
   "cell_type": "code",
   "execution_count": 159,
   "id": "e578d9d9",
   "metadata": {},
   "outputs": [
    {
     "name": "stdout",
     "output_type": "stream",
     "text": [
      "{}\n"
     ]
    }
   ],
   "source": [
    "d = dict()\n",
    "print(d)"
   ]
  },
  {
   "cell_type": "code",
   "execution_count": 158,
   "id": "b1ff7c78",
   "metadata": {},
   "outputs": [
    {
     "name": "stdout",
     "output_type": "stream",
     "text": [
      "{'1': 'Rolls royce', '2': 'Tesla', '3': 'Lambhorghini', '4': 'BMW', '5': 'Mahendra'}\n"
     ]
    }
   ],
   "source": [
    "dict1={'1':'Rolls royce','2':'Tesla','3':'Lambhorghini','4':'BMW','5':'Mahendra'}\n",
    "print(dict1)"
   ]
  },
  {
   "cell_type": "code",
   "execution_count": 160,
   "id": "6d31d0aa",
   "metadata": {},
   "outputs": [
    {
     "name": "stdout",
     "output_type": "stream",
     "text": [
      "5\n"
     ]
    }
   ],
   "source": [
    "print(len(dict1))"
   ]
  },
  {
   "cell_type": "code",
   "execution_count": 161,
   "id": "3490a882",
   "metadata": {},
   "outputs": [
    {
     "name": "stdout",
     "output_type": "stream",
     "text": [
      "{'1': 'Rolls royce', '2': 'Tesla', '3': 'Lambhorghini', '4': 'BMW', '5': 'Mahendra'}\n"
     ]
    }
   ],
   "source": [
    "print(dict1)"
   ]
  },
  {
   "cell_type": "code",
   "execution_count": 163,
   "id": "e0113806",
   "metadata": {},
   "outputs": [
    {
     "name": "stdout",
     "output_type": "stream",
     "text": [
      "Tesla\n"
     ]
    }
   ],
   "source": [
    "print(dict1['2'])"
   ]
  },
  {
   "cell_type": "code",
   "execution_count": 164,
   "id": "f2f20468",
   "metadata": {},
   "outputs": [
    {
     "ename": "KeyError",
     "evalue": "'6'",
     "output_type": "error",
     "traceback": [
      "\u001b[1;31m---------------------------------------------------------------------------\u001b[0m",
      "\u001b[1;31mKeyError\u001b[0m                                  Traceback (most recent call last)",
      "Cell \u001b[1;32mIn[164], line 1\u001b[0m\n\u001b[1;32m----> 1\u001b[0m \u001b[38;5;28mprint\u001b[39m(dict1[\u001b[38;5;124m'\u001b[39m\u001b[38;5;124m6\u001b[39m\u001b[38;5;124m'\u001b[39m])\n",
      "\u001b[1;31mKeyError\u001b[0m: '6'"
     ]
    }
   ],
   "source": [
    "print(dict1['6'])"
   ]
  },
  {
   "cell_type": "code",
   "execution_count": 166,
   "id": "d625b64e",
   "metadata": {},
   "outputs": [
    {
     "name": "stdout",
     "output_type": "stream",
     "text": [
      "{'1': 'Rolls royce', '2': 'Tesla', '3': 'Lambhorghini', '4': 'BMW', '5': 'Mahendra'}\n",
      "dict_keys(['1', '2', '3', '4', '5'])\n"
     ]
    }
   ],
   "source": [
    "print(dict1)\n",
    "print(dict1.keys())"
   ]
  },
  {
   "cell_type": "code",
   "execution_count": 167,
   "id": "bd7dcdd8",
   "metadata": {},
   "outputs": [
    {
     "name": "stdout",
     "output_type": "stream",
     "text": [
      "{'1': 'Rolls royce', '2': 'Tesla', '3': 'Lambhorghini', '4': 'BMW', '5': 'Mahendra'}\n",
      "dict_values(['Rolls royce', 'Tesla', 'Lambhorghini', 'BMW', 'Mahendra'])\n"
     ]
    }
   ],
   "source": [
    "print(dict1)\n",
    "print(dict1.values())"
   ]
  },
  {
   "cell_type": "code",
   "execution_count": 168,
   "id": "eaa64d7c",
   "metadata": {},
   "outputs": [
    {
     "name": "stdout",
     "output_type": "stream",
     "text": [
      "dict_items([('1', 'Rolls royce'), ('2', 'Tesla'), ('3', 'Lambhorghini'), ('4', 'BMW'), ('5', 'Mahendra')])\n"
     ]
    }
   ],
   "source": [
    "print(dict1.items())"
   ]
  },
  {
   "cell_type": "code",
   "execution_count": 169,
   "id": "6c1da7a3",
   "metadata": {},
   "outputs": [
    {
     "name": "stdout",
     "output_type": "stream",
     "text": [
      "{'1': 'Rolls royce', '2': 'Tesla', '3': 'Lambhorghini', '4': 'BMW', '5': 'Mahendra'}\n",
      "BMW\n",
      "{'1': 'Rolls royce', '2': 'Tesla', '3': 'Lambhorghini', '5': 'Mahendra'}\n"
     ]
    }
   ],
   "source": [
    "dict2={'1':'Rolls royce','2':'Tesla','3':'Lambhorghini','4':'BMW','5':'Mahendra'}\n",
    "print(dict2)\n",
    "print(dict2.pop('4')) #<dict>.pop(<key>,<to display>)\n",
    "print(dict2)"
   ]
  },
  {
   "cell_type": "code",
   "execution_count": 171,
   "id": "d45be263",
   "metadata": {},
   "outputs": [
    {
     "name": "stdout",
     "output_type": "stream",
     "text": [
      "{'1': 'Rolls royce', '2': 'Tesla', '3': 'Lambhorghini', '4': 'BMW', '5': 'Mahendra'}\n",
      "('5', 'Mahendra')\n",
      "{'1': 'Rolls royce', '2': 'Tesla', '3': 'Lambhorghini', '4': 'BMW'}\n"
     ]
    }
   ],
   "source": [
    "dict2={'1':'Rolls royce','2':'Tesla','3':'Lambhorghini','4':'BMW','5':'Mahendra'}\n",
    "print(dict2)\n",
    "print(dict2.popitem())\n",
    "print(dict2)"
   ]
  },
  {
   "cell_type": "code",
   "execution_count": 172,
   "id": "32213710",
   "metadata": {},
   "outputs": [
    {
     "name": "stdout",
     "output_type": "stream",
     "text": [
      "{'1': 'Rolls royce', '2': 'Tesla', '3': 'Lambhorghini', '4': 'BMW', '5': 'Mahendra'}\n"
     ]
    },
    {
     "ename": "KeyError",
     "evalue": "'10'",
     "output_type": "error",
     "traceback": [
      "\u001b[1;31m---------------------------------------------------------------------------\u001b[0m",
      "\u001b[1;31mKeyError\u001b[0m                                  Traceback (most recent call last)",
      "Cell \u001b[1;32mIn[172], line 3\u001b[0m\n\u001b[0;32m      1\u001b[0m dict2\u001b[38;5;241m=\u001b[39m{\u001b[38;5;124m'\u001b[39m\u001b[38;5;124m1\u001b[39m\u001b[38;5;124m'\u001b[39m:\u001b[38;5;124m'\u001b[39m\u001b[38;5;124mRolls royce\u001b[39m\u001b[38;5;124m'\u001b[39m,\u001b[38;5;124m'\u001b[39m\u001b[38;5;124m2\u001b[39m\u001b[38;5;124m'\u001b[39m:\u001b[38;5;124m'\u001b[39m\u001b[38;5;124mTesla\u001b[39m\u001b[38;5;124m'\u001b[39m,\u001b[38;5;124m'\u001b[39m\u001b[38;5;124m3\u001b[39m\u001b[38;5;124m'\u001b[39m:\u001b[38;5;124m'\u001b[39m\u001b[38;5;124mLambhorghini\u001b[39m\u001b[38;5;124m'\u001b[39m,\u001b[38;5;124m'\u001b[39m\u001b[38;5;124m4\u001b[39m\u001b[38;5;124m'\u001b[39m:\u001b[38;5;124m'\u001b[39m\u001b[38;5;124mBMW\u001b[39m\u001b[38;5;124m'\u001b[39m,\u001b[38;5;124m'\u001b[39m\u001b[38;5;124m5\u001b[39m\u001b[38;5;124m'\u001b[39m:\u001b[38;5;124m'\u001b[39m\u001b[38;5;124mMahendra\u001b[39m\u001b[38;5;124m'\u001b[39m}\n\u001b[0;32m      2\u001b[0m \u001b[38;5;28mprint\u001b[39m(dict2)\n\u001b[1;32m----> 3\u001b[0m \u001b[38;5;28mprint\u001b[39m(dict2\u001b[38;5;241m.\u001b[39mpop(\u001b[38;5;124m'\u001b[39m\u001b[38;5;124m10\u001b[39m\u001b[38;5;124m'\u001b[39m)) \u001b[38;5;66;03m#<dict>.pop(<key>,<to display>)\u001b[39;00m\n\u001b[0;32m      4\u001b[0m \u001b[38;5;28mprint\u001b[39m(dict2)\n",
      "\u001b[1;31mKeyError\u001b[0m: '10'"
     ]
    }
   ],
   "source": [
    "dict2={'1':'Rolls royce','2':'Tesla','3':'Lambhorghini','4':'BMW','5':'Mahendra'}\n",
    "print(dict2)\n",
    "print(dict2.pop('4')) #<dict>.pop(<key>,<to display>)\n",
    "print(dict2)"
   ]
  },
  {
   "cell_type": "code",
   "execution_count": 174,
   "id": "a80ebe54",
   "metadata": {},
   "outputs": [
    {
     "name": "stdout",
     "output_type": "stream",
     "text": [
      "{'1': 'Rolls royce', '2': 'Tesla', '3': 'Lambhorghini', '4': 'BMW', '5': 'Mahendra'}\n",
      "Tesla\n",
      "{'1': 'Rolls royce', '3': 'Lambhorghini', '4': 'BMW', '5': 'Mahendra'}\n"
     ]
    }
   ],
   "source": [
    "dict2={'1':'Rolls royce','2':'Tesla','3':'Lambhorghini','4':'BMW','5':'Mahendra'}\n",
    "print(dict2)\n",
    "print(dict2.pop('2',\"key not found\")) #<dict>.pop(<key>,<to display>)\n",
    "print(dict2)"
   ]
  },
  {
   "cell_type": "code",
   "execution_count": 176,
   "id": "8ef2be86",
   "metadata": {},
   "outputs": [
    {
     "name": "stdout",
     "output_type": "stream",
     "text": [
      "{'1': 'Rolls royce', '2': 'Tesla', '3': 'Lambhorghini', '4': 'BMW', '5': 'Mahendra'}\n",
      "Audi\n",
      "{'1': 'Rolls royce', '2': 'Tesla', '3': 'Lambhorghini', '4': 'BMW', '5': 'Mahendra', '6': 'Audi'}\n"
     ]
    }
   ],
   "source": [
    "dict2={'1':'Rolls royce','2':'Tesla','3':'Lambhorghini','4':'BMW','5':'Mahendra'}\n",
    "print(dict2)\n",
    "print(dict2.setdefault('6','Audi'))\n",
    "print(dict2)"
   ]
  },
  {
   "cell_type": "code",
   "execution_count": 177,
   "id": "8daf2b06",
   "metadata": {},
   "outputs": [
    {
     "name": "stdout",
     "output_type": "stream",
     "text": [
      "{'1': 'Rolls royce', '2': 'Tesla', '3': 'Lambhorghini', '4': 'BMW', '5': 'Mahendra'}\n",
      "Audiiiii\n",
      "{'1': 'Rolls royce', '2': 'Tesla', '3': 'Lambhorghini', '4': 'BMW', '5': 'Mahendra', '6': 'Audiiiii'}\n"
     ]
    }
   ],
   "source": [
    "dict2={'1':'Rolls royce','2':'Tesla','3':'Lambhorghini','4':'BMW','5':'Mahendra'}\n",
    "print(dict2)\n",
    "print(dict2.setdefault('6','Audiiiii'))\n",
    "print(dict2)"
   ]
  },
  {
   "cell_type": "code",
   "execution_count": 178,
   "id": "789d0308",
   "metadata": {
    "scrolled": true
   },
   "outputs": [
    {
     "name": "stdout",
     "output_type": "stream",
     "text": [
      "{'1': 'Rolls royce', '2': 'Tesla', '3': 'Lambhorghini', '4': 'BMW', '5': 'Mahendra', '6': 'Audiiiii'}\n"
     ]
    }
   ],
   "source": [
    "    print(dict2)"
   ]
  },
  {
   "cell_type": "code",
   "execution_count": 208,
   "id": "568824f1",
   "metadata": {},
   "outputs": [
    {
     "name": "stdout",
     "output_type": "stream",
     "text": [
      "{}\n",
      "{'1': 7, '2': 7, '3': 7}\n"
     ]
    }
   ],
   "source": [
    "dict3 = {}\n",
    "dict4 =dict3.fromkeys('123',7)\n",
    "print(dict3)\n",
    "print(dict4)"
   ]
  },
  {
   "cell_type": "code",
   "execution_count": 210,
   "id": "791e633c",
   "metadata": {},
   "outputs": [
    {
     "name": "stdout",
     "output_type": "stream",
     "text": [
      "dict2 {'1': 7, '2': 7, '3': 7, '4': 'BMW', '5': 'Mahendra', '6': 'Audiiiii', ',': 7}\n",
      "dict4 {'1': 7, '2': 7, '3': 7}\n"
     ]
    }
   ],
   "source": [
    "print(\"dict2\",dict2)\n",
    "print(\"dict4\",dict4)\n",
    "\n"
   ]
  },
  {
   "cell_type": "code",
   "execution_count": 211,
   "id": "98001462",
   "metadata": {},
   "outputs": [],
   "source": [
    "dict2={'1':'Rolls royce','2':'Tesla','3':'Lambhorghini','4':'BMW','5':'Mahendra'}\n",
    "dict4.update(dict2)"
   ]
  },
  {
   "cell_type": "code",
   "execution_count": 212,
   "id": "76321885",
   "metadata": {},
   "outputs": [
    {
     "name": "stdout",
     "output_type": "stream",
     "text": [
      "{'1': 'Rolls royce', '2': 'Tesla', '3': 'Lambhorghini', '4': 'BMW', '5': 'Mahendra'}\n"
     ]
    }
   ],
   "source": [
    "print(dict4)"
   ]
  },
  {
   "cell_type": "code",
   "execution_count": 207,
   "id": "895548d0",
   "metadata": {},
   "outputs": [
    {
     "name": "stdout",
     "output_type": "stream",
     "text": [
      "default key\n",
      "{'1': 7, '2': 7, '3': 7}\n"
     ]
    }
   ],
   "source": [
    "print(dict4.get('15',\"default key\"))\n",
    "print(dict4)"
   ]
  },
  {
   "cell_type": "code",
   "execution_count": 214,
   "id": "a70a12e2",
   "metadata": {},
   "outputs": [
    {
     "name": "stdout",
     "output_type": "stream",
     "text": [
      "{1: 'python', 2: 'java', 3: 'kali linux'}\n"
     ]
    }
   ],
   "source": [
    "dict_2={1:'python',2:'java',3:'kali linux'}\n",
    "print(dict_2)"
   ]
  },
  {
   "cell_type": "code",
   "execution_count": 215,
   "id": "50ccbe62",
   "metadata": {},
   "outputs": [
    {
     "name": "stdout",
     "output_type": "stream",
     "text": [
      "{1: 'python', 2: 'java', 3: 'kali linux'} {1: 'python', 2: 'java', 3: 'kali linux'}\n"
     ]
    }
   ],
   "source": [
    "dict_3=dict_2\n",
    "print(dict_2,dict_3)"
   ]
  },
  {
   "cell_type": "code",
   "execution_count": 3,
   "id": "3aeab772",
   "metadata": {},
   "outputs": [
    {
     "ename": "NameError",
     "evalue": "name 'dict_3' is not defined",
     "output_type": "error",
     "traceback": [
      "\u001b[1;31m---------------------------------------------------------------------------\u001b[0m",
      "\u001b[1;31mNameError\u001b[0m                                 Traceback (most recent call last)",
      "Cell \u001b[1;32mIn[3], line 1\u001b[0m\n\u001b[1;32m----> 1\u001b[0m \u001b[38;5;28mprint\u001b[39m(dict_3\u001b[38;5;241m.\u001b[39mupdate(dict_2))\n",
      "\u001b[1;31mNameError\u001b[0m: name 'dict_3' is not defined"
     ]
    }
   ],
   "source": [
    "print(dict_3.update(dict_2))"
   ]
  },
  {
   "cell_type": "code",
   "execution_count": 1,
   "id": "a811158c",
   "metadata": {},
   "outputs": [
    {
     "name": "stdout",
     "output_type": "stream",
     "text": [
      "{1: None, 2: None, 3: None}\n"
     ]
    }
   ],
   "source": [
    "dict2 = dict.fromkeys([1,2,3])\n",
    "print(dict2)"
   ]
  },
  {
   "cell_type": "code",
   "execution_count": 2,
   "id": "57646299",
   "metadata": {},
   "outputs": [
    {
     "name": "stdout",
     "output_type": "stream",
     "text": [
      "{1: 5000, 2: 5000, 3: 5000}\n"
     ]
    }
   ],
   "source": [
    "dict3 = dict.fromkeys([1,2,3],5000)\n",
    "print(dict3)"
   ]
  },
  {
   "cell_type": "code",
   "execution_count": null,
   "id": "2cb9775e",
   "metadata": {},
   "outputs": [],
   "source": []
  },
  {
   "cell_type": "markdown",
   "id": "b4f9296a",
   "metadata": {},
   "source": [
    "# user defined function\n"
   ]
  },
  {
   "cell_type": "code",
   "execution_count": 12,
   "id": "0f709bc0",
   "metadata": {},
   "outputs": [
    {
     "name": "stdout",
     "output_type": "stream",
     "text": [
      "Hello\n",
      "None\n"
     ]
    }
   ],
   "source": [
    "def student():\n",
    "    print(\"Hello\")\n",
    "print(student())"
   ]
  },
  {
   "cell_type": "code",
   "execution_count": 13,
   "id": "395a6cc3",
   "metadata": {},
   "outputs": [
    {
     "name": "stdout",
     "output_type": "stream",
     "text": [
      "Hello\n"
     ]
    }
   ],
   "source": [
    "def student():\n",
    "    return \"Hello\"\n",
    "print(student())"
   ]
  },
  {
   "cell_type": "code",
   "execution_count": 14,
   "id": "9b58841d",
   "metadata": {},
   "outputs": [],
   "source": [
    "def total(a,b):\n",
    "    c = a + b\n",
    "    return c\n"
   ]
  },
  {
   "cell_type": "code",
   "execution_count": 16,
   "id": "3f1bd2b2",
   "metadata": {},
   "outputs": [],
   "source": [
    "x = total(10,20)\n"
   ]
  },
  {
   "cell_type": "code",
   "execution_count": 17,
   "id": "5f22e248",
   "metadata": {},
   "outputs": [
    {
     "name": "stdout",
     "output_type": "stream",
     "text": [
      "30\n"
     ]
    }
   ],
   "source": [
    "print(x)"
   ]
  },
  {
   "cell_type": "code",
   "execution_count": 18,
   "id": "848b5d9f",
   "metadata": {},
   "outputs": [
    {
     "name": "stdout",
     "output_type": "stream",
     "text": [
      "80\n"
     ]
    }
   ],
   "source": [
    "print(total(30,50))"
   ]
  },
  {
   "cell_type": "code",
   "execution_count": null,
   "id": "f21bc94f",
   "metadata": {},
   "outputs": [],
   "source": [
    "def total(a,b):\n",
    "    c = a + b\n",
    "    return c\n",
    "a = 5\n",
    "b= 8\n",
    "print(total(a,b))"
   ]
  },
  {
   "cell_type": "code",
   "execution_count": 4,
   "id": "11633e07",
   "metadata": {},
   "outputs": [
    {
     "name": "stdout",
     "output_type": "stream",
     "text": [
      "25\n",
      "55555\n",
      "[1, 1, 1, 1, 1]\n",
      "(1, 1, 1, 1, 1)\n"
     ]
    }
   ],
   "source": [
    "i = 5 * 5\n",
    "print(i)\n",
    "j = '5' * 5\n",
    "print(j)\n",
    "k = [1]*5\n",
    "print(k)\n",
    "t = (1,)* 5\n",
    "print(t)\n",
    "\n"
   ]
  },
  {
   "cell_type": "code",
   "execution_count": 5,
   "id": "5bd7dbab",
   "metadata": {
    "scrolled": true
   },
   "outputs": [
    {
     "name": "stdout",
     "output_type": "stream",
     "text": [
      "10\n",
      "55\n",
      "[1, 5]\n",
      "(1, 5)\n"
     ]
    }
   ],
   "source": [
    "i = 5 + 5\n",
    "print(i)\n",
    "j = '5' + '5'\n",
    "print(j)\n",
    "k = [1]+[5]\n",
    "print(k)\n",
    "t = (1,)+ (5,)\n",
    "print(t)\n"
   ]
  },
  {
   "cell_type": "code",
   "execution_count": null,
   "id": "70786771",
   "metadata": {},
   "outputs": [],
   "source": []
  },
  {
   "cell_type": "code",
   "execution_count": null,
   "id": "8bc76d8f",
   "metadata": {},
   "outputs": [],
   "source": []
  },
  {
   "cell_type": "code",
   "execution_count": null,
   "id": "7b836931",
   "metadata": {},
   "outputs": [],
   "source": []
  },
  {
   "cell_type": "code",
   "execution_count": null,
   "id": "78d6f100",
   "metadata": {},
   "outputs": [],
   "source": []
  },
  {
   "cell_type": "code",
   "execution_count": null,
   "id": "4b9a9f39",
   "metadata": {},
   "outputs": [],
   "source": []
  },
  {
   "cell_type": "code",
   "execution_count": null,
   "id": "b3c6f25d",
   "metadata": {},
   "outputs": [],
   "source": []
  },
  {
   "cell_type": "code",
   "execution_count": null,
   "id": "f8d94489",
   "metadata": {},
   "outputs": [],
   "source": []
  }
 ],
 "metadata": {
  "kernelspec": {
   "display_name": "Python 3 (ipykernel)",
   "language": "python",
   "name": "python3"
  },
  "language_info": {
   "codemirror_mode": {
    "name": "ipython",
    "version": 3
   },
   "file_extension": ".py",
   "mimetype": "text/x-python",
   "name": "python",
   "nbconvert_exporter": "python",
   "pygments_lexer": "ipython3",
   "version": "3.11.3"
  }
 },
 "nbformat": 4,
 "nbformat_minor": 5
}
