{
 "cells": [
  {
   "cell_type": "code",
   "execution_count": 1,
   "id": "c5d4aa77",
   "metadata": {},
   "outputs": [],
   "source": [
    "def cube(x):\n",
    "    res = x ** 3\n",
    "    return res"
   ]
  },
  {
   "cell_type": "code",
   "execution_count": 2,
   "id": "8eeec710",
   "metadata": {},
   "outputs": [
    {
     "data": {
      "text/plain": [
       "64"
      ]
     },
     "execution_count": 2,
     "metadata": {},
     "output_type": "execute_result"
    }
   ],
   "source": [
    "cube(4)"
   ]
  },
  {
   "cell_type": "code",
   "execution_count": 2,
   "id": "6e3c61f6",
   "metadata": {},
   "outputs": [
    {
     "name": "stdout",
     "output_type": "stream",
     "text": [
      "Enter the n factorial to be computed:10\n",
      "3628800\n"
     ]
    }
   ],
   "source": [
    "def factorial(x):\n",
    "    f = 1\n",
    "    while x>0:\n",
    "        f = f * x\n",
    "        x = x- 1\n",
    "    return f\n",
    "\n",
    "n = int(input(\"Enter the n factorial to be computed:\"))\n",
    "print(factorial(n))"
   ]
  },
  {
   "cell_type": "code",
   "execution_count": 5,
   "id": "557f00c3",
   "metadata": {},
   "outputs": [
    {
     "name": "stdout",
     "output_type": "stream",
     "text": [
      "a:10\n",
      "b:5\n",
      "Function 15\n",
      "(10, 5)\n"
     ]
    }
   ],
   "source": [
    "def sum(c):\n",
    "    x,y = c\n",
    "    z = x + y\n",
    "    print(\"Function\",z)\n",
    "\n",
    "a = int(input(\"a:\"))\n",
    "b = int(input(\"b:\"))\n",
    "c = (a,b)\n",
    "sum(c)\n",
    "print(c)"
   ]
  },
  {
   "cell_type": "code",
   "execution_count": 12,
   "id": "0327b118",
   "metadata": {},
   "outputs": [
    {
     "name": "stdout",
     "output_type": "stream",
     "text": [
      "[10, 5]\n",
      "[10, 5]\n"
     ]
    }
   ],
   "source": [
    "def sum(t):\n",
    "    t[0] = t[0] +5\n",
    "    t[1]  = t[1] -1 \n",
    "    print(t)\n",
    "    \n",
    "t = [5,6]\n",
    "sum(t)\n",
    "print(t)"
   ]
  },
  {
   "cell_type": "code",
   "execution_count": 13,
   "id": "308997bd",
   "metadata": {},
   "outputs": [
    {
     "ename": "TypeError",
     "evalue": "greet() takes 0 positional arguments but 1 was given",
     "output_type": "error",
     "traceback": [
      "\u001b[1;31m---------------------------------------------------------------------------\u001b[0m",
      "\u001b[1;31mTypeError\u001b[0m                                 Traceback (most recent call last)",
      "Cell \u001b[1;32mIn[13], line 3\u001b[0m\n\u001b[0;32m      1\u001b[0m \u001b[38;5;28;01mdef\u001b[39;00m \u001b[38;5;21mgreet\u001b[39m():\n\u001b[0;32m      2\u001b[0m     \u001b[38;5;28mprint\u001b[39m(\u001b[38;5;124m\"\u001b[39m\u001b[38;5;124mWelcome to the world of coding\u001b[39m\u001b[38;5;124m\"\u001b[39m)\n\u001b[1;32m----> 3\u001b[0m greet(\u001b[38;5;241m1\u001b[39m)\n",
      "\u001b[1;31mTypeError\u001b[0m: greet() takes 0 positional arguments but 1 was given"
     ]
    }
   ],
   "source": [
    "def greet():\n",
    "    print(\"Welcome to the world of coding\")\n",
    "greet(1)"
   ]
  },
  {
   "cell_type": "code",
   "execution_count": 16,
   "id": "1e7ecee2",
   "metadata": {},
   "outputs": [
    {
     "ename": "RecursionError",
     "evalue": "maximum recursion depth exceeded",
     "output_type": "error",
     "traceback": [
      "\u001b[1;31m---------------------------------------------------------------------------\u001b[0m",
      "\u001b[1;31mRecursionError\u001b[0m                            Traceback (most recent call last)",
      "Cell \u001b[1;32mIn[16], line 3\u001b[0m\n\u001b[0;32m      1\u001b[0m \u001b[38;5;28;01mdef\u001b[39;00m \u001b[38;5;21mprint1\u001b[39m(x,y):\n\u001b[0;32m      2\u001b[0m     \u001b[38;5;28mprint\u001b[39m(x,y)\n\u001b[1;32m----> 3\u001b[0m print1(\u001b[38;5;241m2\u001b[39m,\u001b[38;5;241m3\u001b[39m)\n",
      "Cell \u001b[1;32mIn[16], line 2\u001b[0m, in \u001b[0;36mprint1\u001b[1;34m(x, y)\u001b[0m\n\u001b[0;32m      1\u001b[0m \u001b[38;5;28;01mdef\u001b[39;00m \u001b[38;5;21mprint1\u001b[39m(x,y):\n\u001b[1;32m----> 2\u001b[0m     \u001b[38;5;28mprint\u001b[39m(x,y)\n",
      "Cell \u001b[1;32mIn[14], line 2\u001b[0m, in \u001b[0;36mprint\u001b[1;34m(x, y)\u001b[0m\n\u001b[0;32m      1\u001b[0m \u001b[38;5;28;01mdef\u001b[39;00m \u001b[38;5;21mprint\u001b[39m(x,y):\n\u001b[1;32m----> 2\u001b[0m     \u001b[38;5;28mprint\u001b[39m(x,y)\n",
      "Cell \u001b[1;32mIn[14], line 2\u001b[0m, in \u001b[0;36mprint\u001b[1;34m(x, y)\u001b[0m\n\u001b[0;32m      1\u001b[0m \u001b[38;5;28;01mdef\u001b[39;00m \u001b[38;5;21mprint\u001b[39m(x,y):\n\u001b[1;32m----> 2\u001b[0m     \u001b[38;5;28mprint\u001b[39m(x,y)\n",
      "    \u001b[1;31m[... skipping similar frames: print at line 2 (2970 times)]\u001b[0m\n",
      "Cell \u001b[1;32mIn[14], line 2\u001b[0m, in \u001b[0;36mprint\u001b[1;34m(x, y)\u001b[0m\n\u001b[0;32m      1\u001b[0m \u001b[38;5;28;01mdef\u001b[39;00m \u001b[38;5;21mprint\u001b[39m(x,y):\n\u001b[1;32m----> 2\u001b[0m     \u001b[38;5;28mprint\u001b[39m(x,y)\n",
      "\u001b[1;31mRecursionError\u001b[0m: maximum recursion depth exceeded"
     ]
    }
   ],
   "source": [
    "def print1(x,y):\n",
    "    print(x,y)\n",
    "print1(2,3)"
   ]
  },
  {
   "cell_type": "code",
   "execution_count": 1,
   "id": "d1836fdf",
   "metadata": {},
   "outputs": [
    {
     "ename": "SyntaxError",
     "evalue": "invalid syntax (2114897320.py, line 1)",
     "output_type": "error",
     "traceback": [
      "\u001b[1;36m  Cell \u001b[1;32mIn[1], line 1\u001b[1;36m\u001b[0m\n\u001b[1;33m    def snacks(\"potato chips\"):\u001b[0m\n\u001b[1;37m               ^\u001b[0m\n\u001b[1;31mSyntaxError\u001b[0m\u001b[1;31m:\u001b[0m invalid syntax\n"
     ]
    }
   ],
   "source": [
    "def snacks(\"potato chips\"): # parameter should be identifiers\n",
    "    print(\"yummy!!!\")\n",
    "snacks(\"kitkat\")"
   ]
  },
  {
   "cell_type": "code",
   "execution_count": 4,
   "id": "a8a979ca",
   "metadata": {},
   "outputs": [
    {
     "ename": "TypeError",
     "evalue": "snacks() missing 1 required positional argument: 'y'",
     "output_type": "error",
     "traceback": [
      "\u001b[1;31m---------------------------------------------------------------------------\u001b[0m",
      "\u001b[1;31mTypeError\u001b[0m                                 Traceback (most recent call last)",
      "Cell \u001b[1;32mIn[4], line 3\u001b[0m\n\u001b[0;32m      1\u001b[0m \u001b[38;5;28;01mdef\u001b[39;00m \u001b[38;5;21msnacks\u001b[39m(x,y): \u001b[38;5;66;03m# parameter should be identifiers\u001b[39;00m\n\u001b[0;32m      2\u001b[0m     \u001b[38;5;28mprint\u001b[39m(\u001b[38;5;124m\"\u001b[39m\u001b[38;5;124myummy!!!\u001b[39m\u001b[38;5;124m\"\u001b[39m,x, y)\n\u001b[1;32m----> 3\u001b[0m snacks(\u001b[38;5;124m\"\u001b[39m\u001b[38;5;124mkitkat\u001b[39m\u001b[38;5;124m\"\u001b[39m)\n",
      "\u001b[1;31mTypeError\u001b[0m: snacks() missing 1 required positional argument: 'y'"
     ]
    }
   ],
   "source": [
    "def snacks(x,y): # parameter should be identifiers\n",
    "    print(\"yummy!!!\",x, y)\n",
    "snacks(\"kitkat\")#1 required positional argument"
   ]
  },
  {
   "cell_type": "code",
   "execution_count": 5,
   "id": "821afd74",
   "metadata": {},
   "outputs": [
    {
     "name": "stdout",
     "output_type": "stream",
     "text": [
      "yummy!!! kitkat potato chips\n"
     ]
    }
   ],
   "source": [
    "def snacks(x,y): # parameter should be identifiers\n",
    "    print(\"yummy!!!\",x, y)\n",
    "snacks(\"kitkat\",\"potato chips\")#1 required positional argument"
   ]
  },
  {
   "cell_type": "code",
   "execution_count": 7,
   "id": "ff979e33",
   "metadata": {},
   "outputs": [
    {
     "ename": "TypeError",
     "evalue": "snacks() takes 1 positional argument but 2 were given",
     "output_type": "error",
     "traceback": [
      "\u001b[1;31m---------------------------------------------------------------------------\u001b[0m",
      "\u001b[1;31mTypeError\u001b[0m                                 Traceback (most recent call last)",
      "Cell \u001b[1;32mIn[7], line 3\u001b[0m\n\u001b[0;32m      1\u001b[0m \u001b[38;5;28;01mdef\u001b[39;00m \u001b[38;5;21msnacks\u001b[39m(x): \u001b[38;5;66;03m# parameter should be identifiers\u001b[39;00m\n\u001b[0;32m      2\u001b[0m     \u001b[38;5;28mprint\u001b[39m(\u001b[38;5;124m\"\u001b[39m\u001b[38;5;124myummy!!!\u001b[39m\u001b[38;5;124m\"\u001b[39m,x, y)\n\u001b[1;32m----> 3\u001b[0m snacks(\u001b[38;5;124m\"\u001b[39m\u001b[38;5;124mkitkat\u001b[39m\u001b[38;5;124m\"\u001b[39m,\u001b[38;5;124m\"\u001b[39m\u001b[38;5;124mpotato chips\u001b[39m\u001b[38;5;124m\"\u001b[39m)\n",
      "\u001b[1;31mTypeError\u001b[0m: snacks() takes 1 positional argument but 2 were given"
     ]
    }
   ],
   "source": [
    "def snacks(x): # parameter should be identifiers\n",
    "    print(\"yummy!!!\",x, y)\n",
    "snacks(\"kitkat\",\"potato chips\")#TypeError: snacks() takes 1 positional argument but 2 were given"
   ]
  },
  {
   "cell_type": "code",
   "execution_count": 2,
   "id": "a689f0d3",
   "metadata": {},
   "outputs": [
    {
     "name": "stdout",
     "output_type": "stream",
     "text": [
      "Name\tAge\tGender\tSalary\n",
      "Prasadh\t17\tM\t70000\n"
     ]
    }
   ],
   "source": [
    "def biodata(name,age, gender, salary):\n",
    "    print(\"Name\",\"Age\",\"Gender\",'Salary',sep ='\\t')\n",
    "    print(name,age,gender,salary,sep ='\\t')\n",
    "biodata(\"Prasadh\",17,'M',70000)\n",
    "    "
   ]
  },
  {
   "cell_type": "code",
   "execution_count": 3,
   "id": "8ea6aff0",
   "metadata": {},
   "outputs": [
    {
     "name": "stdout",
     "output_type": "stream",
     "text": [
      "Name\tAge\tGender\tSalary\n",
      "Prasadh\t17\tM\t70000\n"
     ]
    },
    {
     "ename": "TypeError",
     "evalue": "biodata() missing 1 required positional argument: 'salary'",
     "output_type": "error",
     "traceback": [
      "\u001b[1;31m---------------------------------------------------------------------------\u001b[0m",
      "\u001b[1;31mTypeError\u001b[0m                                 Traceback (most recent call last)",
      "Cell \u001b[1;32mIn[3], line 5\u001b[0m\n\u001b[0;32m      3\u001b[0m     \u001b[38;5;28mprint\u001b[39m(name,age,gender,salary,sep \u001b[38;5;241m=\u001b[39m\u001b[38;5;124m'\u001b[39m\u001b[38;5;130;01m\\t\u001b[39;00m\u001b[38;5;124m'\u001b[39m)\n\u001b[0;32m      4\u001b[0m biodata(\u001b[38;5;124m\"\u001b[39m\u001b[38;5;124mPrasadh\u001b[39m\u001b[38;5;124m\"\u001b[39m,\u001b[38;5;241m17\u001b[39m,\u001b[38;5;124m'\u001b[39m\u001b[38;5;124mM\u001b[39m\u001b[38;5;124m'\u001b[39m,\u001b[38;5;241m70000\u001b[39m)\n\u001b[1;32m----> 5\u001b[0m biodata(\u001b[38;5;124m\"\u001b[39m\u001b[38;5;124mbavi\u001b[39m\u001b[38;5;124m\"\u001b[39m,\u001b[38;5;241m16\u001b[39m,\u001b[38;5;124m'\u001b[39m\u001b[38;5;124mF\u001b[39m\u001b[38;5;124m'\u001b[39m)\n",
      "\u001b[1;31mTypeError\u001b[0m: biodata() missing 1 required positional argument: 'salary'"
     ]
    }
   ],
   "source": [
    "def biodata(name,age, gender, salary):\n",
    "    print(\"Name\",\"Age\",\"Gender\",'Salary',sep ='\\t')\n",
    "    print(name,age,gender,salary,sep ='\\t')\n",
    "biodata(\"Prasadh\",17,'M',70000)\n",
    "biodata(\"bavi\",16,'F')"
   ]
  },
  {
   "cell_type": "code",
   "execution_count": 5,
   "id": "e8980b1c",
   "metadata": {},
   "outputs": [
    {
     "name": "stdout",
     "output_type": "stream",
     "text": [
      "Name\tAge\tGender\tSalary\n",
      "Prasadh\t17\tM\t70000\n",
      "bavi\t16\tF\t10000\n"
     ]
    }
   ],
   "source": [
    "def biodata(name,age, gender, salary=10000):\n",
    "    print(name,age,gender,salary,sep ='\\t')\n",
    "print(\"Name\",\"Age\",\"Gender\",'Salary',sep ='\\t')\n",
    "biodata(\"Prasadh\",17,'M',70000)\n",
    "biodata(\"bavi\",16,'F')"
   ]
  },
  {
   "cell_type": "code",
   "execution_count": 6,
   "id": "a782758b",
   "metadata": {},
   "outputs": [
    {
     "name": "stdout",
     "output_type": "stream",
     "text": [
      "Name\tAge\tGender\tSalary\n",
      "Prasadh\t17\tM\t70000\n",
      "bavi\t16\tF\t10000\n",
      "praveen\t17\tM\t10000\n"
     ]
    }
   ],
   "source": [
    "def biodata(name,age, gender=\"M\", salary=10000):\n",
    "    print(name,age,gender,salary,sep ='\\t')\n",
    "print(\"Name\",\"Age\",\"Gender\",'Salary',sep ='\\t')\n",
    "biodata(\"Prasadh\",17,'M',70000)\n",
    "biodata(\"bavi\",16,'F')\n",
    "biodata('praveen',17)"
   ]
  },
  {
   "cell_type": "code",
   "execution_count": 7,
   "id": "694b388a",
   "metadata": {},
   "outputs": [
    {
     "name": "stdout",
     "output_type": "stream",
     "text": [
      "Name\tAge\tGender\tSalary\n",
      "Prasadh\t17\tM\t70000\n",
      "bavi\t16\tF\t10000\n",
      "praveen\t17\tM\t10000\n",
      "sunil\t15\tM\t10000\n"
     ]
    }
   ],
   "source": [
    "def biodata(name,age=15, gender=\"M\", salary=10000):\n",
    "    print(name,age,gender,salary,sep ='\\t')\n",
    "print(\"Name\",\"Age\",\"Gender\",'Salary',sep ='\\t')\n",
    "biodata(\"Prasadh\",17,'M',70000)\n",
    "biodata(\"bavi\",16,'F')\n",
    "biodata('praveen',17)\n",
    "biodata('sunil')\n"
   ]
  },
  {
   "cell_type": "code",
   "execution_count": 8,
   "id": "5c7e19eb",
   "metadata": {},
   "outputs": [
    {
     "name": "stdout",
     "output_type": "stream",
     "text": [
      "Name\tAge\tGender\tSalary\n",
      "Prasadh\t17\tM\t70000\n",
      "bavi\t16\tF\t10000\n",
      "praveen\t17\tM\t10000\n",
      "sunil\t15\tM\t10000\n",
      "xxx\t15\tM\t10000\n"
     ]
    }
   ],
   "source": [
    "def biodata(name='xxx',age=15, gender=\"M\", salary=10000):\n",
    "    print(name,age,gender,salary,sep ='\\t')\n",
    "print(\"Name\",\"Age\",\"Gender\",'Salary',sep ='\\t')\n",
    "biodata(\"Prasadh\",17,'M',70000)\n",
    "biodata(\"bavi\",16,'F')\n",
    "biodata('praveen',17)\n",
    "biodata('sunil')\n",
    "biodata()"
   ]
  },
  {
   "cell_type": "code",
   "execution_count": 9,
   "id": "4e2b7b16",
   "metadata": {},
   "outputs": [
    {
     "name": "stdout",
     "output_type": "stream",
     "text": [
      "Name\tAge\tGender\tSalary\n",
      "Prasadh\t17\tM\t70000\n",
      "bavi\t16\tF\t10000\n",
      "praveen\t17\tM\t10000\n",
      "sunil\t15\tM\t10000\n",
      "pradeep\t21\tM\t100000\n"
     ]
    }
   ],
   "source": [
    "def biodata(name='xxx',age=15, gender=\"M\", salary=10000):\n",
    "    print(name,age,gender,salary,sep ='\\t')\n",
    "print(\"Name\",\"Age\",\"Gender\",'Salary',sep ='\\t')\n",
    "biodata(\"Prasadh\",17,'M',70000)\n",
    "biodata(\"bavi\",16,'F')\n",
    "biodata('praveen',17)\n",
    "biodata('sunil')\n",
    "biodata('pradeep',21,'M',100000)"
   ]
  },
  {
   "cell_type": "code",
   "execution_count": 10,
   "id": "c5dab9ea",
   "metadata": {},
   "outputs": [
    {
     "name": "stdout",
     "output_type": "stream",
     "text": [
      "Name\tAge\tGender\tSalary\n",
      "Prasadh\t17\tM\t70000\n",
      "bavi\t16\tF\t10000\n",
      "praveen\t17\tM\t10000\n",
      "sunil\t16\tM\t10000\n",
      "pradeep\t21\tM\t100000\n"
     ]
    }
   ],
   "source": [
    "def biodata(name='xxx',age=16, gender=\"M\", salary=10000):\n",
    "    print(name,age,gender,salary,sep ='\\t')\n",
    "print(\"Name\",\"Age\",\"Gender\",'Salary',sep ='\\t')\n",
    "biodata(\"Prasadh\",17,'M',70000)\n",
    "biodata(\"bavi\",16,'F')\n",
    "biodata('praveen',17)\n",
    "biodata('sunil')\n",
    "biodata('pradeep',21,'M',100000)"
   ]
  },
  {
   "cell_type": "code",
   "execution_count": 11,
   "id": "b5268270",
   "metadata": {},
   "outputs": [
    {
     "name": "stdout",
     "output_type": "stream",
     "text": [
      "100\n",
      "None\n"
     ]
    }
   ],
   "source": [
    "def sum(x,y,z,w):\n",
    "    print(x+y+z+w)\n",
    "print(sum(10,20,30,40))"
   ]
  },
  {
   "cell_type": "code",
   "execution_count": 12,
   "id": "4e356013",
   "metadata": {},
   "outputs": [
    {
     "name": "stdout",
     "output_type": "stream",
     "text": [
      "100\n"
     ]
    }
   ],
   "source": [
    "def sum(x,y,z,w):\n",
    "    return x+y+z+w\n",
    "print(sum(10,20,30,40))"
   ]
  },
  {
   "cell_type": "code",
   "execution_count": 13,
   "id": "35e6fcde",
   "metadata": {},
   "outputs": [
    {
     "name": "stdout",
     "output_type": "stream",
     "text": [
      "100\n",
      "None\n"
     ]
    }
   ],
   "source": [
    "def sum(x,y,z,w):\n",
    "    print(x+y+z+w)\n",
    "    return \n",
    "print(sum(10,20,30,40))"
   ]
  },
  {
   "cell_type": "code",
   "execution_count": 14,
   "id": "b5ad90e5",
   "metadata": {},
   "outputs": [
    {
     "ename": "SyntaxError",
     "evalue": "non-default argument follows default argument (1063700498.py, line 1)",
     "output_type": "error",
     "traceback": [
      "\u001b[1;36m  Cell \u001b[1;32mIn[14], line 1\u001b[1;36m\u001b[0m\n\u001b[1;33m    def sum(x =100,y,z= 60,w = 70):\u001b[0m\n\u001b[1;37m                   ^\u001b[0m\n\u001b[1;31mSyntaxError\u001b[0m\u001b[1;31m:\u001b[0m non-default argument follows default argument\n"
     ]
    }
   ],
   "source": [
    "def sum(x =100,y,z= 60,w = 70):\n",
    "    print(x+y+z+w)\n",
    "print(sum(10,20,30,40))"
   ]
  },
  {
   "cell_type": "code",
   "execution_count": 15,
   "id": "66789e46",
   "metadata": {},
   "outputs": [
    {
     "name": "stdout",
     "output_type": "stream",
     "text": [
      "100\n",
      "None\n"
     ]
    }
   ],
   "source": [
    "def sum(x ,y=100,z= 60,w = 70):\n",
    "    print(x+y+z+w)\n",
    "print(sum(10,20,30,40))"
   ]
  },
  {
   "cell_type": "code",
   "execution_count": 16,
   "id": "8c72acf4",
   "metadata": {},
   "outputs": [
    {
     "name": "stdout",
     "output_type": "stream",
     "text": [
      "240\n",
      "None\n"
     ]
    }
   ],
   "source": [
    "def sum(x ,y=100,z= 60,w = 70):\n",
    "    print(x+y+z+w)\n",
    "print(sum(10))"
   ]
  },
  {
   "cell_type": "code",
   "execution_count": 17,
   "id": "2b6f42f6",
   "metadata": {},
   "outputs": [
    {
     "name": "stdout",
     "output_type": "stream",
     "text": [
      "160\n",
      "None\n"
     ]
    }
   ],
   "source": [
    "def sum(x ,y,z= 60,w = 70):\n",
    "    print(x+y+z+w)\n",
    "print(sum(10,20))"
   ]
  },
  {
   "cell_type": "code",
   "execution_count": 18,
   "id": "b66538d1",
   "metadata": {},
   "outputs": [
    {
     "name": "stdout",
     "output_type": "stream",
     "text": [
      "x:250\n",
      "y:10\n",
      "2500\n"
     ]
    }
   ],
   "source": [
    "def multi(x,y):\n",
    "    res = x * y\n",
    "    return res\n",
    "x = int(input(\"x:\"))\n",
    "y = int(input(\"y:\"))\n",
    "r = multi(x,y)\n",
    "print(r)"
   ]
  },
  {
   "cell_type": "code",
   "execution_count": 19,
   "id": "37a26363",
   "metadata": {},
   "outputs": [
    {
     "name": "stdout",
     "output_type": "stream",
     "text": [
      "x:20\n",
      "y:70\n",
      "600\n"
     ]
    }
   ],
   "source": [
    "def multi(x,y):\n",
    "    res = x * y\n",
    "    return res\n",
    "x = int(input(\"x:\"))\n",
    "y = int(input(\"y:\"))\n",
    "r = multi(x = 20, y = 30)\n",
    "print(r)"
   ]
  },
  {
   "cell_type": "code",
   "execution_count": 20,
   "id": "80d727dd",
   "metadata": {},
   "outputs": [
    {
     "name": "stdout",
     "output_type": "stream",
     "text": [
      "2500\n"
     ]
    }
   ],
   "source": [
    "def multi(x,y):\n",
    "    res = x * y\n",
    "    return res\n",
    "#x = int(input(\"x:\"))\n",
    "#y = int(input(\"y:\"))\n",
    "r = multi(x = 250, y = 10)\n",
    "print(r)"
   ]
  },
  {
   "cell_type": "code",
   "execution_count": 21,
   "id": "185eca79",
   "metadata": {},
   "outputs": [
    {
     "name": "stdout",
     "output_type": "stream",
     "text": [
      "-240\n"
     ]
    }
   ],
   "source": [
    "def sub(x,y):\n",
    "    res = x - y\n",
    "    return res\n",
    "#x = int(input(\"x:\"))\n",
    "#y = int(input(\"y:\"))\n",
    "r = sub(y = 250, x = 10)\n",
    "print(r)"
   ]
  },
  {
   "cell_type": "code",
   "execution_count": 22,
   "id": "cb990f26",
   "metadata": {},
   "outputs": [
    {
     "name": "stdout",
     "output_type": "stream",
     "text": [
      "10\n"
     ]
    }
   ],
   "source": [
    "def sub(x,y,z ):\n",
    "    res = x +y -z\n",
    "    return res\n",
    "\n",
    "print(sub(20,30,40))\n",
    "    "
   ]
  },
  {
   "cell_type": "code",
   "execution_count": 24,
   "id": "c55f66f6",
   "metadata": {},
   "outputs": [
    {
     "name": "stdout",
     "output_type": "stream",
     "text": [
      "10\n"
     ]
    }
   ],
   "source": [
    "def sub(x,y=50,z=50):\n",
    "    res = x +y -z\n",
    "    return res\n",
    "\n",
    "print(sub(20,30,40))"
   ]
  },
  {
   "cell_type": "code",
   "execution_count": 37,
   "id": "e72f90d1",
   "metadata": {},
   "outputs": [
    {
     "name": "stdout",
     "output_type": "stream",
     "text": [
      "20\n",
      "\n",
      "    function to to check keyword arg\n",
      "    \n",
      "sub\n"
     ]
    }
   ],
   "source": [
    "def sub(x,y=50,z=50):\n",
    "    \"\"\"\n",
    "    function to to check keyword arg\n",
    "    \"\"\"\n",
    "    res = x +y -z\n",
    "    return res\n",
    "\n",
    "print(sub(50,z = 100, y = 70))\n",
    "print(sub.__doc__)\n",
    "print(sub.__name__)"
   ]
  },
  {
   "cell_type": "code",
   "execution_count": 27,
   "id": "309b4b79",
   "metadata": {},
   "outputs": [
    {
     "ename": "TypeError",
     "evalue": "sub() missing 1 required positional argument: 'x'",
     "output_type": "error",
     "traceback": [
      "\u001b[1;31m---------------------------------------------------------------------------\u001b[0m",
      "\u001b[1;31mTypeError\u001b[0m                                 Traceback (most recent call last)",
      "Cell \u001b[1;32mIn[27], line 5\u001b[0m\n\u001b[0;32m      2\u001b[0m     res \u001b[38;5;241m=\u001b[39m x \u001b[38;5;241m+\u001b[39my \u001b[38;5;241m-\u001b[39mz\n\u001b[0;32m      3\u001b[0m     \u001b[38;5;28;01mreturn\u001b[39;00m res\n\u001b[1;32m----> 5\u001b[0m \u001b[38;5;28mprint\u001b[39m(sub(z \u001b[38;5;241m=\u001b[39m \u001b[38;5;241m100\u001b[39m, y \u001b[38;5;241m=\u001b[39m \u001b[38;5;241m70\u001b[39m))\n",
      "\u001b[1;31mTypeError\u001b[0m: sub() missing 1 required positional argument: 'x'"
     ]
    }
   ],
   "source": [
    "def sub(x,y=50,z=50):\n",
    "    res = x +y -z\n",
    "    return res\n",
    "\n",
    "print(sub(z = 100, y = 70))"
   ]
  },
  {
   "cell_type": "code",
   "execution_count": 28,
   "id": "8319a979",
   "metadata": {},
   "outputs": [
    {
     "ename": "SyntaxError",
     "evalue": "positional argument follows keyword argument (1037130188.py, line 5)",
     "output_type": "error",
     "traceback": [
      "\u001b[1;36m  Cell \u001b[1;32mIn[28], line 5\u001b[1;36m\u001b[0m\n\u001b[1;33m    print(sub(z = 100, 70,y = 70))\u001b[0m\n\u001b[1;37m                                ^\u001b[0m\n\u001b[1;31mSyntaxError\u001b[0m\u001b[1;31m:\u001b[0m positional argument follows keyword argument\n"
     ]
    }
   ],
   "source": [
    "def sub(x,y=50,z=50):\n",
    "    res = x +y -z\n",
    "    return res\n",
    "\n",
    "print(sub(z = 100, 70,y = 70))"
   ]
  },
  {
   "cell_type": "code",
   "execution_count": 29,
   "id": "580df72a",
   "metadata": {},
   "outputs": [
    {
     "ename": "TypeError",
     "evalue": "sub() got an unexpected keyword argument 'a'",
     "output_type": "error",
     "traceback": [
      "\u001b[1;31m---------------------------------------------------------------------------\u001b[0m",
      "\u001b[1;31mTypeError\u001b[0m                                 Traceback (most recent call last)",
      "Cell \u001b[1;32mIn[29], line 5\u001b[0m\n\u001b[0;32m      2\u001b[0m     res \u001b[38;5;241m=\u001b[39m x \u001b[38;5;241m+\u001b[39my \u001b[38;5;241m-\u001b[39mz\n\u001b[0;32m      3\u001b[0m     \u001b[38;5;28;01mreturn\u001b[39;00m res\n\u001b[1;32m----> 5\u001b[0m \u001b[38;5;28mprint\u001b[39m(sub(a \u001b[38;5;241m=\u001b[39m \u001b[38;5;241m10\u001b[39m,b \u001b[38;5;241m=\u001b[39m \u001b[38;5;241m50\u001b[39m,c \u001b[38;5;241m=\u001b[39m \u001b[38;5;241m10\u001b[39m))\n",
      "\u001b[1;31mTypeError\u001b[0m: sub() got an unexpected keyword argument 'a'"
     ]
    }
   ],
   "source": [
    "def sub(x,y,z):\n",
    "    res = x +y -z\n",
    "    return res\n",
    "\n",
    "print(sub(a = 10,b = 50,c = 10))"
   ]
  },
  {
   "cell_type": "code",
   "execution_count": 32,
   "id": "b7269794",
   "metadata": {},
   "outputs": [
    {
     "name": "stdout",
     "output_type": "stream",
     "text": [
      "False\n"
     ]
    }
   ],
   "source": [
    "l = [1,2,3,4,0,'']\n",
    "print(all(l))"
   ]
  },
  {
   "cell_type": "code",
   "execution_count": 35,
   "id": "40bf742f",
   "metadata": {},
   "outputs": [
    {
     "name": "stdout",
     "output_type": "stream",
     "text": [
      "2.8284271247461903\n"
     ]
    }
   ],
   "source": [
    "from math import *\n",
    "print(sqrt(8))"
   ]
  },
  {
   "cell_type": "code",
   "execution_count": 38,
   "id": "3233389c",
   "metadata": {},
   "outputs": [
    {
     "ename": "SyntaxError",
     "evalue": "invalid syntax (2609162736.py, line 1)",
     "output_type": "error",
     "traceback": [
      "\u001b[1;36m  Cell \u001b[1;32mIn[38], line 1\u001b[1;36m\u001b[0m\n\u001b[1;33m    def add(a,b): c= a+b return c\u001b[0m\n\u001b[1;37m                         ^\u001b[0m\n\u001b[1;31mSyntaxError\u001b[0m\u001b[1;31m:\u001b[0m invalid syntax\n"
     ]
    }
   ],
   "source": [
    "def add(a,b): c= a+b return c\n",
    "print(add(3,4))"
   ]
  },
  {
   "cell_type": "code",
   "execution_count": 39,
   "id": "e81478c2",
   "metadata": {},
   "outputs": [
    {
     "name": "stdout",
     "output_type": "stream",
     "text": [
      "7\n"
     ]
    }
   ],
   "source": [
    "def add(a,b): c= a+b ;return c\n",
    "print(add(3,4))"
   ]
  },
  {
   "cell_type": "code",
   "execution_count": 40,
   "id": "64183efe",
   "metadata": {},
   "outputs": [
    {
     "name": "stdout",
     "output_type": "stream",
     "text": [
      "None\n"
     ]
    }
   ],
   "source": [
    "def you():\n",
    "    pass\n",
    "print(you())"
   ]
  },
  {
   "cell_type": "code",
   "execution_count": 41,
   "id": "0317a7c2",
   "metadata": {},
   "outputs": [
    {
     "name": "stdout",
     "output_type": "stream",
     "text": [
      "None\n"
     ]
    }
   ],
   "source": [
    "def me():\n",
    "    return\n",
    "print(me())"
   ]
  },
  {
   "cell_type": "code",
   "execution_count": 5,
   "id": "709ae5cf",
   "metadata": {},
   "outputs": [
    {
     "name": "stdout",
     "output_type": "stream",
     "text": [
      "P:3550\n",
      "N:2\n",
      "R:4\n",
      "3834.0\n"
     ]
    }
   ],
   "source": [
    "def si(p,n,r):\n",
    "    s = p*n*r/100\n",
    "    return s+p\n",
    "p = int(input(\"P:\"))\n",
    "n = int(input(\"N:\"))\n",
    "r = int(input(\"R:\"))\n",
    "result = si(p,n,r)\n",
    "print(result)"
   ]
  },
  {
   "cell_type": "code",
   "execution_count": 2,
   "id": "a3e9e8d4",
   "metadata": {},
   "outputs": [
    {
     "name": "stdout",
     "output_type": "stream",
     "text": [
      "P:100\n",
      "N:2\n",
      "R:3\n",
      "(100, 3, 6.0)\n"
     ]
    }
   ],
   "source": [
    "def si(p,n,r):\n",
    "    s = p*n*r/100\n",
    "    return p, r,s\n",
    "p = int(input(\"P:\"))\n",
    "n = int(input(\"N:\"))\n",
    "r = int(input(\"R:\"))\n",
    "result = si(p,n,r)\n",
    "print(result)"
   ]
  },
  {
   "cell_type": "code",
   "execution_count": 4,
   "id": "24a80de6",
   "metadata": {},
   "outputs": [
    {
     "name": "stdout",
     "output_type": "stream",
     "text": [
      "P:1000\n",
      "N:4\n",
      "R:6\n",
      "SI AMOUNT: 240.0\n",
      "Final Amount: 1240.0\n"
     ]
    }
   ],
   "source": [
    "def si(p,n,r):\n",
    "    s = p*n*r/100\n",
    "    return s ,p+s\n",
    "p = int(input(\"P:\"))\n",
    "n = int(input(\"N:\"))\n",
    "r = int(input(\"R:\"))\n",
    "si,total = si(p,n,r)\n",
    "print(\"SI AMOUNT:\",si)\n",
    "print(\"Final Amount:\",total)"
   ]
  },
  {
   "cell_type": "code",
   "execution_count": null,
   "id": "7da393ca",
   "metadata": {},
   "outputs": [],
   "source": [
    "def displaya():\n",
    "    \"\"\"\n",
    "    local and global program\n",
    "    \"\"\"\n",
    "    c = 30\n",
    "    print(\" local A:\",a)\n",
    "    def displayb():\n",
    "        print(\"local A:\",a)\n",
    "        print(\"local B:\",b)\n",
    "        print(\"local C:\",c)\n",
    "    displayb()\n",
    "a = 10\n",
    "b = 100\n",
    "print(__name__,__doc__)\n",
    "print(\"Global:\",a,b)\n",
    "print(\"C:\",c)\n",
    "displaya()\n"
   ]
  },
  {
   "cell_type": "code",
   "execution_count": 1,
   "id": "f11c3d94",
   "metadata": {},
   "outputs": [
    {
     "name": "stdout",
     "output_type": "stream",
     "text": [
      "xxx\n"
     ]
    }
   ],
   "source": [
    "#global\n",
    "def display(name):\n",
    "    print(name)\n",
    "    \n",
    "display('xxx')"
   ]
  },
  {
   "cell_type": "code",
   "execution_count": 3,
   "id": "c035de5c",
   "metadata": {},
   "outputs": [
    {
     "name": "stdout",
     "output_type": "stream",
     "text": [
      "Enter :bavi\n",
      "bavi\n"
     ]
    }
   ],
   "source": [
    "#global\n",
    "def display(name\n",
    "           ):\n",
    "    print(name)\n",
    "n = input(\"Enter :\")   \n",
    "display(n )"
   ]
  },
  {
   "cell_type": "code",
   "execution_count": 9,
   "id": "b85da0d1",
   "metadata": {},
   "outputs": [
    {
     "name": "stdout",
     "output_type": "stream",
     "text": [
      "Enter the name:taru\n",
      "tarupooja\n",
      "tarupooja\n"
     ]
    }
   ],
   "source": [
    "#global\n",
    "def display():\n",
    "    global name\n",
    "    name = name + \"pooja\"\n",
    "    print(name)\n",
    "\n",
    "name =input(\"Enter the name:\")\n",
    "display()\n",
    "print(name)"
   ]
  },
  {
   "cell_type": "code",
   "execution_count": 12,
   "id": "0de2e43d",
   "metadata": {},
   "outputs": [
    {
     "name": "stdout",
     "output_type": "stream",
     "text": [
      "Enter the name:taru\n",
      "tarupooja\n",
      "taru\n"
     ]
    }
   ],
   "source": [
    "#global\n",
    "def display():\n",
    "    \n",
    "    name1 = name + \"pooja\"\n",
    "    print(name1)\n",
    "\n",
    "name =input(\"Enter the name:\")\n",
    "display()\n",
    "print(name)"
   ]
  },
  {
   "cell_type": "code",
   "execution_count": 13,
   "id": "3182d264",
   "metadata": {},
   "outputs": [
    {
     "name": "stdout",
     "output_type": "stream",
     "text": [
      "Enter the name:taru\n"
     ]
    },
    {
     "ename": "UnboundLocalError",
     "evalue": "cannot access local variable 'name' where it is not associated with a value",
     "output_type": "error",
     "traceback": [
      "\u001b[1;31m---------------------------------------------------------------------------\u001b[0m",
      "\u001b[1;31mUnboundLocalError\u001b[0m                         Traceback (most recent call last)",
      "Cell \u001b[1;32mIn[13], line 8\u001b[0m\n\u001b[0;32m      5\u001b[0m     \u001b[38;5;28mprint\u001b[39m(name)\n\u001b[0;32m      7\u001b[0m name \u001b[38;5;241m=\u001b[39m\u001b[38;5;28minput\u001b[39m(\u001b[38;5;124m\"\u001b[39m\u001b[38;5;124mEnter the name:\u001b[39m\u001b[38;5;124m\"\u001b[39m)\n\u001b[1;32m----> 8\u001b[0m display()\n\u001b[0;32m      9\u001b[0m \u001b[38;5;28mprint\u001b[39m(name)\n",
      "Cell \u001b[1;32mIn[13], line 4\u001b[0m, in \u001b[0;36mdisplay\u001b[1;34m()\u001b[0m\n\u001b[0;32m      2\u001b[0m \u001b[38;5;28;01mdef\u001b[39;00m \u001b[38;5;21mdisplay\u001b[39m():\n\u001b[1;32m----> 4\u001b[0m     name \u001b[38;5;241m=\u001b[39m name \u001b[38;5;241m+\u001b[39m \u001b[38;5;124m\"\u001b[39m\u001b[38;5;124mpooja\u001b[39m\u001b[38;5;124m\"\u001b[39m\n\u001b[0;32m      5\u001b[0m     \u001b[38;5;28mprint\u001b[39m(name)\n",
      "\u001b[1;31mUnboundLocalError\u001b[0m: cannot access local variable 'name' where it is not associated with a value"
     ]
    }
   ],
   "source": [
    "#global\n",
    "def display():\n",
    "    \n",
    "    name = name + \"pooja\"\n",
    "    print(name)\n",
    "\n",
    "name =input(\"Enter the name:\")\n",
    "display()\n",
    "print(name)"
   ]
  },
  {
   "cell_type": "code",
   "execution_count": 14,
   "id": "5fc4e946",
   "metadata": {},
   "outputs": [
    {
     "name": "stdout",
     "output_type": "stream",
     "text": [
      "Enter the name:taru\n",
      "tarupooja\n",
      "tarupooja\n"
     ]
    }
   ],
   "source": [
    "#global\n",
    "def display():\n",
    "    global name\n",
    "    name = name + \"pooja\"\n",
    "    print(name)\n",
    "\n",
    "name =input(\"Enter the name:\")\n",
    "display()\n",
    "print(name)"
   ]
  },
  {
   "cell_type": "code",
   "execution_count": null,
   "id": "5cd20748",
   "metadata": {},
   "outputs": [],
   "source": []
  }
 ],
 "metadata": {
  "kernelspec": {
   "display_name": "Python 3 (ipykernel)",
   "language": "python",
   "name": "python3"
  },
  "language_info": {
   "codemirror_mode": {
    "name": "ipython",
    "version": 3
   },
   "file_extension": ".py",
   "mimetype": "text/x-python",
   "name": "python",
   "nbconvert_exporter": "python",
   "pygments_lexer": "ipython3",
   "version": "3.11.3"
  }
 },
 "nbformat": 4,
 "nbformat_minor": 5
}
