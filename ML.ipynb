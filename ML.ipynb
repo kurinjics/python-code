{
 "cells": [
  {
   "cell_type": "code",
   "execution_count": 1,
   "id": "214a4217",
   "metadata": {},
   "outputs": [
    {
     "ename": "SyntaxError",
     "evalue": "invalid syntax (1219632346.py, line 1)",
     "output_type": "error",
     "traceback": [
      "\u001b[1;36m  Cell \u001b[1;32mIn[1], line 1\u001b[1;36m\u001b[0m\n\u001b[1;33m    int a = 10\u001b[0m\n\u001b[1;37m        ^\u001b[0m\n\u001b[1;31mSyntaxError\u001b[0m\u001b[1;31m:\u001b[0m invalid syntax\n"
     ]
    }
   ],
   "source": [
    "int a = 10\n",
    "print(a)\n"
   ]
  },
  {
   "cell_type": "code",
   "execution_count": 2,
   "id": "8150c7e9",
   "metadata": {},
   "outputs": [
    {
     "name": "stdout",
     "output_type": "stream",
     "text": [
      "num2 = 4\n"
     ]
    },
    {
     "ename": "TypeError",
     "evalue": "unsupported operand type(s) for /: 'float' and 'str'",
     "output_type": "error",
     "traceback": [
      "\u001b[1;31m---------------------------------------------------------------------------\u001b[0m",
      "\u001b[1;31mTypeError\u001b[0m                                 Traceback (most recent call last)",
      "Cell \u001b[1;32mIn[2], line 3\u001b[0m\n\u001b[0;32m      1\u001b[0m num1 \u001b[38;5;241m=\u001b[39m \u001b[38;5;241m10.0\u001b[39m\n\u001b[0;32m      2\u001b[0m num2 \u001b[38;5;241m=\u001b[39m \u001b[38;5;28minput\u001b[39m(\u001b[38;5;124m\"\u001b[39m\u001b[38;5;124mnum2 = \u001b[39m\u001b[38;5;124m\"\u001b[39m) \n\u001b[1;32m----> 3\u001b[0m \u001b[38;5;28mprint\u001b[39m(num1\u001b[38;5;241m/\u001b[39mnum2)\n",
      "\u001b[1;31mTypeError\u001b[0m: unsupported operand type(s) for /: 'float' and 'str'"
     ]
    }
   ],
   "source": [
    "num1 = 10.0\n",
    "num2 = input(\"num2 = \") \n",
    "print(num1/num2)\n"
   ]
  },
  {
   "cell_type": "code",
   "execution_count": 4,
   "id": "d8c8abf8",
   "metadata": {
    "scrolled": true
   },
   "outputs": [
    {
     "name": "stdout",
     "output_type": "stream",
     "text": [
      "81\n"
     ]
    }
   ],
   "source": [
    "math = 26 //3/2+5 and not(4 and 5) or  (3**2**2)\n",
    "print(math)\n",
    "#print((((53)>10) and 4) + 6) == 11)\n"
   ]
  },
  {
   "cell_type": "code",
   "execution_count": 5,
   "id": "a646a04c",
   "metadata": {
    "scrolled": true
   },
   "outputs": [
    {
     "name": "stdout",
     "output_type": "stream",
     "text": [
      "125\n",
      "130\n",
      "120\n",
      "1200\n",
      "120.0\n",
      "0.0\n",
      "0.0\n",
      "0.0\n"
     ]
    }
   ],
   "source": [
    "a = 125\n",
    "print(a)\n",
    "a += 5  \n",
    "print(a)\n",
    "a -= 10  \n",
    "print(a)\n",
    "a *= 10  \n",
    "print(a)\n",
    "a /= 10\n",
    "print(a)\n",
    "a %= 10\n",
    "print(a)\n",
    "a **=10\n",
    "print(a)\n",
    "a //= 10 \n",
    "print(a)\n"
   ]
  },
  {
   "cell_type": "code",
   "execution_count": 6,
   "id": "8caf151b",
   "metadata": {},
   "outputs": [
    {
     "name": "stdout",
     "output_type": "stream",
     "text": [
      "False\n",
      "True\n"
     ]
    }
   ],
   "source": [
    "a=[10,25,45,88]\n",
    "print(22 in a)\n",
    "print(22 not in a)"
   ]
  },
  {
   "cell_type": "code",
   "execution_count": 7,
   "id": "fba27569",
   "metadata": {},
   "outputs": [
    {
     "name": "stdout",
     "output_type": "stream",
     "text": [
      "False\n",
      "True\n",
      "True\n"
     ]
    }
   ],
   "source": [
    "a = 25\n",
    "print(a >= 10 and a <= 20)\n",
    "print(a >= 10 or a <= 20)\n",
    "print(not(a >=  10 and a <= 20))\n"
   ]
  },
  {
   "cell_type": "code",
   "execution_count": 8,
   "id": "36fdf43c",
   "metadata": {},
   "outputs": [
    {
     "name": "stdout",
     "output_type": "stream",
     "text": [
      "(80, 60)\n"
     ]
    }
   ],
   "source": [
    "tup = (10,20,30,40,50,60,70,80,90,70)\n",
    "print(tup[-3:-7:-2])\n"
   ]
  },
  {
   "cell_type": "code",
   "execution_count": 9,
   "id": "50f2cb52",
   "metadata": {
    "collapsed": true
   },
   "outputs": [
    {
     "name": "stdout",
     "output_type": "stream",
     "text": [
      "4\n"
     ]
    }
   ],
   "source": [
    "import math\n",
    "a = math.ceil(20.5)\n",
    "b = a/5\n",
    "c= math.floor(b)\n",
    "print(c)\n"
   ]
  },
  {
   "cell_type": "code",
   "execution_count": 10,
   "id": "5a47c5f6",
   "metadata": {},
   "outputs": [
    {
     "name": "stdout",
     "output_type": "stream",
     "text": [
      "21\n"
     ]
    }
   ],
   "source": [
    "var = 10\n",
    "for i in range(10):\n",
    "    for j in range(2, 10, 1):\n",
    "        if var % 2 == 0:\n",
    "            continue\n",
    "            var += 1\n",
    "    var+=1\n",
    "else:\n",
    "    var+=1\n",
    "print(var)\n"
   ]
  },
  {
   "cell_type": "code",
   "execution_count": 11,
   "id": "415341c0",
   "metadata": {
    "scrolled": false
   },
   "outputs": [
    {
     "name": "stdout",
     "output_type": "stream",
     "text": [
      "-2, -3, -4, "
     ]
    }
   ],
   "source": [
    "for num in range(-2,-5,-1):\n",
    "    print(num, end=\", \")\n"
   ]
  },
  {
   "cell_type": "code",
   "execution_count": 13,
   "id": "c0ed8e2b",
   "metadata": {
    "scrolled": true
   },
   "outputs": [
    {
     "name": "stdout",
     "output_type": "stream",
     "text": [
      "('baz', 3)\n",
      "Done.\n"
     ]
    }
   ],
   "source": [
    "d = {'foo': 1, 'bar': 2, 'baz': 3}\n",
    "while len(d) >= 3:\n",
    "    print(d.popitem())\n",
    "    \n",
    "print('Done.')\n"
   ]
  },
  {
   "cell_type": "code",
   "execution_count": 14,
   "id": "9c29b74a",
   "metadata": {},
   "outputs": [
    {
     "name": "stdout",
     "output_type": "stream",
     "text": [
      "['Javascript', 'Python', 'Go', 'Java', 'Kotlin', 'C#', 'Kotlin', 'C#', 'Kotlin', 'C#', 'Kotlin', 'C#']\n"
     ]
    }
   ],
   "source": [
    "Lang =['Javascript','Python','Go','Java']\n",
    "for i in range(len(Lang)):\n",
    "    Lang1 =['Kotlin','PHP','C#']\n",
    "    for j in range(len(Lang1)-1):\n",
    "        x = Lang1.pop(j)\n",
    "        Lang.append(x)\n",
    "print(Lang)"
   ]
  },
  {
   "cell_type": "code",
   "execution_count": 15,
   "id": "f1bcd4b6",
   "metadata": {},
   "outputs": [
    {
     "name": "stdout",
     "output_type": "stream",
     "text": [
      "['Javascript', 'Python', 'Go', 'Java', ([(0, 'cpp'), (1, 'C#'), (2, 'PHP'), (3, 'Kotlin')], 3)]"
     ]
    }
   ],
   "source": [
    "Lang =['Javascript','Python','Go','Java']\n",
    "x =[]\n",
    "Lang1 =['Kotlin','PHP','C#','cpp']\n",
    "for i in range(len(Lang)):\n",
    "    x .append( (i,Lang1.pop()))\n",
    "Lang.append((x,i))\n",
    "print(Lang,sep= '*',end = '')\n"
   ]
  },
  {
   "cell_type": "code",
   "execution_count": 16,
   "id": "6f90e7e9",
   "metadata": {
    "scrolled": true
   },
   "outputs": [
    {
     "name": "stdout",
     "output_type": "stream",
     "text": [
      "['Javascript', 'Python', 'Go', 'Java', 'Swift', 'R', 'Ruby', 'C and C++']\n"
     ]
    }
   ],
   "source": [
    "Lang =['Javascript','Python','Go','Java']\n",
    "Lang2=['Swift','R','Ruby','C and C++']\n",
    "for i in range(len(Lang)):\n",
    "    Lang.extend(Lang2)\n",
    "    break\n",
    "print(Lang)\n"
   ]
  },
  {
   "cell_type": "code",
   "execution_count": 17,
   "id": "259d0621",
   "metadata": {},
   "outputs": [
    {
     "name": "stdout",
     "output_type": "stream",
     "text": [
      "The Web Does Not Just Connect Machines, It Connects People.\n"
     ]
    }
   ],
   "source": [
    "x= \"The Web does not just connect machines, it connects people.\"\n",
    "while x.istitle():\n",
    "    x = x.capitalize()\n",
    "    print(x)\n",
    "else:\n",
    "    x= x.title()\n",
    "    print(x)\n"
   ]
  },
  {
   "cell_type": "code",
   "execution_count": 18,
   "id": "a017ea55",
   "metadata": {},
   "outputs": [
    {
     "name": "stdout",
     "output_type": "stream",
     "text": [
      "-1\n",
      "3\n"
     ]
    }
   ],
   "source": [
    "x= \"The Web does not just connect machines, it connects people.\"\n",
    "print(x.find(\"web\"))\n",
    "print(x.count('o',2,30))\n"
   ]
  },
  {
   "cell_type": "code",
   "execution_count": 27,
   "id": "2945919a",
   "metadata": {},
   "outputs": [
    {
     "name": "stdout",
     "output_type": "stream",
     "text": [
      "The Web dooes noot just coonnect machines, it coonnects peoople.\n"
     ]
    }
   ],
   "source": [
    "x= \"The Web does not just connect machines, it connects people.\"\n",
    "if  i.isalpha():\n",
    "        pass\n",
    "else:\n",
    "        y =x.replace('o','oo')\n",
    "        \n",
    "print(y)"
   ]
  },
  {
   "cell_type": "code",
   "execution_count": 28,
   "id": "cdf7c96a",
   "metadata": {},
   "outputs": [
    {
     "name": "stdout",
     "output_type": "stream",
     "text": [
      "['The Web does not just connect machines, it connects people.']\n"
     ]
    }
   ],
   "source": [
    "s =\"James Arthur Gosling is a Canadian computer scientist\"\n",
    "word = x.split(\"is a\")\n",
    "print(word)\n"
   ]
  },
  {
   "cell_type": "code",
   "execution_count": 29,
   "id": "8ac97c13",
   "metadata": {
    "scrolled": true
   },
   "outputs": [
    {
     "name": "stdout",
     "output_type": "stream",
     "text": [
      "('The Web does not just connect machines, it connects people.', '', '')\n"
     ]
    }
   ],
   "source": [
    "programmer =\"Linus Benedict Torvalds is a engineer the development of the Linux kernel.\"\n",
    "print(x.partition('Linux'))\n"
   ]
  },
  {
   "cell_type": "code",
   "execution_count": 30,
   "id": "25f110fd",
   "metadata": {
    "scrolled": true
   },
   "outputs": [
    {
     "name": "stdout",
     "output_type": "stream",
     "text": [
      "1111"
     ]
    }
   ],
   "source": [
    "Manufacturer =['Toyota Group','Apple','Volkswagen Group of America','Samsung']\n",
    "for i in Manufacturer:\n",
    "    print(Manufacturer.index('Apple'),end= '')\n",
    "    continue\n"
   ]
  },
  {
   "cell_type": "code",
   "execution_count": 31,
   "id": "664366c4",
   "metadata": {},
   "outputs": [
    {
     "name": "stdout",
     "output_type": "stream",
     "text": [
      "None\n",
      "['Toyota Group', 'Apple', 'Volkswagen Group of America']\n"
     ]
    }
   ],
   "source": [
    "Manufacturer =['Toyota Group','Apple','Volkswagen Group of America','Samsung']\n",
    "print(Manufacturer.remove('Samsung'))\n",
    "print(Manufacturer)\n"
   ]
  },
  {
   "cell_type": "code",
   "execution_count": 33,
   "id": "e0d3b959",
   "metadata": {},
   "outputs": [
    {
     "name": "stdout",
     "output_type": "stream",
     "text": [
      "[[[1, 2], [3, 4]], [[5, 6], [7, 8]]]\n",
      "[1, 2]\n",
      "[[1, 2], [3, 4]]\n"
     ]
    }
   ],
   "source": [
    "m= [[[1,2],[3,4]],[[5,6],[7,8]]]\n",
    "print(m)\n",
    "v = m[0][0]\n",
    "print(v)\n",
    "for row in m:\n",
    "    for element in row:\n",
    "        if v < element:\n",
    "            v = element\n",
    "print(m[0])\n"
   ]
  },
  {
   "cell_type": "code",
   "execution_count": 34,
   "id": "f64d7000",
   "metadata": {},
   "outputs": [
    {
     "name": "stdout",
     "output_type": "stream",
     "text": [
      "PyCharm,Sublime Text,Pydev,Spyder,Jypter Notebook\n",
      "51\n"
     ]
    }
   ],
   "source": [
    "t = \"PyCharm,Sublime Text,Pydev,Spyder,Jypter Notebook\"\n",
    "print(t)\n",
    "count = 1\n",
    "for i in t:\n",
    "    c=t.index('y')\n",
    "    count +=1\n",
    "    \n",
    "print(count+c)\n"
   ]
  },
  {
   "cell_type": "code",
   "execution_count": 35,
   "id": "c0921159",
   "metadata": {},
   "outputs": [
    {
     "ename": "TypeError",
     "evalue": "unsupported operand type(s) for +: 'dict' and 'dict'",
     "output_type": "error",
     "traceback": [
      "\u001b[1;31m---------------------------------------------------------------------------\u001b[0m",
      "\u001b[1;31mTypeError\u001b[0m                                 Traceback (most recent call last)",
      "Cell \u001b[1;32mIn[35], line 3\u001b[0m\n\u001b[0;32m      1\u001b[0m dict_exam\u001b[38;5;241m=\u001b[39m{\u001b[38;5;124m\"\u001b[39m\u001b[38;5;124mExam\u001b[39m\u001b[38;5;124m\"\u001b[39m:\u001b[38;5;124m\"\u001b[39m\u001b[38;5;124mAISSCE\u001b[39m\u001b[38;5;124m\"\u001b[39m,\u001b[38;5;124m\"\u001b[39m\u001b[38;5;124mYear\u001b[39m\u001b[38;5;124m\"\u001b[39m:\u001b[38;5;241m2023\u001b[39m}\n\u001b[0;32m      2\u001b[0m dict_result \u001b[38;5;241m=\u001b[39m {\u001b[38;5;124m\"\u001b[39m\u001b[38;5;124mTotal\u001b[39m\u001b[38;5;124m\"\u001b[39m:\u001b[38;5;241m500\u001b[39m,\u001b[38;5;124m\"\u001b[39m\u001b[38;5;124mPass_Marks\u001b[39m\u001b[38;5;124m\"\u001b[39m:\u001b[38;5;241m165\u001b[39m}\n\u001b[1;32m----> 3\u001b[0m \u001b[38;5;28mprint\u001b[39m(dict_exam \u001b[38;5;241m+\u001b[39m dict_result, \u001b[38;5;28mlen\u001b[39m(dict_exam))\n",
      "\u001b[1;31mTypeError\u001b[0m: unsupported operand type(s) for +: 'dict' and 'dict'"
     ]
    }
   ],
   "source": [
    "dict_exam={\"Exam\":\"AISSCE\",\"Year\":2023}\n",
    "dict_result = {\"Total\":500,\"Pass_Marks\":165}\n",
    "print(dict_exam + dict_result, len(dict_exam))\n"
   ]
  },
  {
   "cell_type": "code",
   "execution_count": 36,
   "id": "bde694ad",
   "metadata": {},
   "outputs": [
    {
     "name": "stdout",
     "output_type": "stream",
     "text": [
      "[('I', 100), ('II', 35), ('III', 76), ('IV', 54), ('V', 70)]\n",
      "{'I': 100, 'II': 35, 'III': 76, 'IV': '50', 'V': 100}\n"
     ]
    }
   ],
   "source": [
    "std = ['I','II','III','IV','V']\n",
    "strength = [100,35,76,54,70]\n",
    "l = []\n",
    "for i in range(len(std)):\n",
    "    l.append((std[i],strength[i]))\n",
    "print(l)\n",
    "d = dict(l)\n",
    "d.update({'IV':'50','V':100})\n",
    "print(d)\n"
   ]
  },
  {
   "cell_type": "code",
   "execution_count": 38,
   "id": "1d14b82c",
   "metadata": {},
   "outputs": [
    {
     "name": "stdout",
     "output_type": "stream",
     "text": [
      "Maximum : 89\n",
      "Minimum : 35\n"
     ]
    }
   ],
   "source": [
    "marks={\"m1\":78 , \"m2\":89 , \"m3\":64 , \"m4\":35 , \"m5\":71}\n",
    "v = marks.values()\n",
    "maxi = max(v)\n",
    "mini = min(v)\n",
    "print(\"Maximum :\",maxi)\n",
    "print(\"Minimum :\",mini)\n"
   ]
  },
  {
   "cell_type": "code",
   "execution_count": 39,
   "id": "0fa4155b",
   "metadata": {},
   "outputs": [
    {
     "name": "stdout",
     "output_type": "stream",
     "text": [
      "Original string :  Computer Science programming Language in Kurinji Education Institution\n",
      "Replaced Strings :  Software  Science programming Language in Kurinji Solution Institution\n"
     ]
    }
   ],
   "source": [
    "val = \"Computer Science programming Language in Kurinji Education Institution\"\n",
    "print(\"Original string : \",val)\n",
    "dic = {\"Computer\" : \"Software \", \"Education\" : \"Solution\"}\n",
    "word = val.split()\n",
    "res = []\n",
    "for w in word:\n",
    "    res.append(dic.get(w, w))\n",
    "res = ' '.join(res)\n",
    "print(\"Replaced Strings : \" ,res)\n"
   ]
  },
  {
   "cell_type": "code",
   "execution_count": 40,
   "id": "c2fe9317",
   "metadata": {},
   "outputs": [
    {
     "name": "stdout",
     "output_type": "stream",
     "text": [
      "Descending Order : [('m5', 71), ('m4', 35), ('m3', 64), ('m2', 89), ('m1', 78)]\n",
      "('m5', 71) ('m4', 35) ('m3', 64) ('m2', 89) ('m1', 78) "
     ]
    }
   ],
   "source": [
    "d={\"m1\":78 , \"m2\":89 , \"m3\":64 , \"m4\":35 , \"m5\":71}\n",
    "des = sorted(d.items(),reverse=True)\n",
    "print(\"Descending Order :\",des)\n",
    "des = reversed(d.items())\n",
    "for i in des:\n",
    "    print(i,end = ' ')\n"
   ]
  },
  {
   "cell_type": "code",
   "execution_count": 41,
   "id": "18e7f853",
   "metadata": {},
   "outputs": [
    {
     "ename": "TypeError",
     "evalue": "'set' object is not subscriptable",
     "output_type": "error",
     "traceback": [
      "\u001b[1;31m---------------------------------------------------------------------------\u001b[0m",
      "\u001b[1;31mTypeError\u001b[0m                                 Traceback (most recent call last)",
      "Cell \u001b[1;32mIn[41], line 2\u001b[0m\n\u001b[0;32m      1\u001b[0m names\u001b[38;5;241m=\u001b[39m{\u001b[38;5;124m'\u001b[39m\u001b[38;5;124mRam\u001b[39m\u001b[38;5;124m'\u001b[39m,\u001b[38;5;124m'\u001b[39m\u001b[38;5;124mRam\u001b[39m\u001b[38;5;124m'\u001b[39m,\u001b[38;5;124m'\u001b[39m\u001b[38;5;124mSam\u001b[39m\u001b[38;5;124m'\u001b[39m,\u001b[38;5;124m'\u001b[39m\u001b[38;5;124mRavi\u001b[39m\u001b[38;5;124m'\u001b[39m,\u001b[38;5;124m'\u001b[39m\u001b[38;5;124mKumar\u001b[39m\u001b[38;5;124m'\u001b[39m,\u001b[38;5;124m'\u001b[39m\u001b[38;5;124mSundar\u001b[39m\u001b[38;5;124m'\u001b[39m,\u001b[38;5;124m'\u001b[39m\u001b[38;5;124mSuresh\u001b[39m\u001b[38;5;124m'\u001b[39m}\n\u001b[1;32m----> 2\u001b[0m \u001b[38;5;28mprint\u001b[39m(names[\u001b[38;5;241m1\u001b[39m])\n\u001b[0;32m      3\u001b[0m names[\u001b[38;5;241m1\u001b[39m]\u001b[38;5;241m=\u001b[39m\u001b[38;5;124m'\u001b[39m\u001b[38;5;124msai\u001b[39m\u001b[38;5;124m'\u001b[39m\n\u001b[0;32m      4\u001b[0m \u001b[38;5;28mprint\u001b[39m(names)\n",
      "\u001b[1;31mTypeError\u001b[0m: 'set' object is not subscriptable"
     ]
    }
   ],
   "source": [
    "names={'Ram','Ram','Sam','Ravi','Kumar','Sundar','Suresh'}\n",
    "print(names[1])\n",
    "names[1]='sai'\n",
    "print(names)\n"
   ]
  },
  {
   "cell_type": "code",
   "execution_count": 42,
   "id": "f8b7a2b9",
   "metadata": {},
   "outputs": [
    {
     "name": "stdout",
     "output_type": "stream",
     "text": [
      "30\n",
      "<class 'int'>\n",
      "30.0\n",
      "<class 'float'>\n"
     ]
    }
   ],
   "source": [
    "num1 = 10\n",
    "num2 = 20\n",
    "num3 = num1 + num2\n",
    "print(num3)\n",
    "print(type(num3))\n",
    "num4 = float(num1 + num2)\n",
    "print(num4)\n",
    "print(type(num4))\n"
   ]
  },
  {
   "cell_type": "code",
   "execution_count": null,
   "id": "dab775b4",
   "metadata": {},
   "outputs": [],
   "source": []
  }
 ],
 "metadata": {
  "kernelspec": {
   "display_name": "Python 3 (ipykernel)",
   "language": "python",
   "name": "python3"
  },
  "language_info": {
   "codemirror_mode": {
    "name": "ipython",
    "version": 3
   },
   "file_extension": ".py",
   "mimetype": "text/x-python",
   "name": "python",
   "nbconvert_exporter": "python",
   "pygments_lexer": "ipython3",
   "version": "3.11.3"
  }
 },
 "nbformat": 4,
 "nbformat_minor": 5
}
