{
 "cells": [
  {
   "cell_type": "code",
   "execution_count": 2,
   "id": "c94e8538",
   "metadata": {},
   "outputs": [
    {
     "name": "stdout",
     "output_type": "stream",
     "text": [
      "Enter the first number:.0001\n",
      "Enter the second number:.00003\n",
      "Close\n"
     ]
    }
   ],
   "source": [
    "x = float(input(\"Enter the first number:\"))\n",
    "y = float(input(\"Enter the second number:\"))\n",
    "if (x>0 and x<0.001) and (y >0 and y<0.001):\n",
    "    print(\"Close\")\n",
    "else:\n",
    "    print(\"Not close\")"
   ]
  },
  {
   "cell_type": "code",
   "execution_count": 7,
   "id": "74a8eb5c",
   "metadata": {},
   "outputs": [
    {
     "name": "stdout",
     "output_type": "stream",
     "text": [
      "Enter the number:5\n",
      "Prime\n"
     ]
    }
   ],
   "source": [
    "n = int(input(\"Enter the number:\"))\n",
    "c = 0\n",
    "for i in range(2,n+1):\n",
    "    if n%i == 0:\n",
    "        c+=1\n",
    "if c == 1:\n",
    "        print(\"Prime\")"
   ]
  },
  {
   "cell_type": "code",
   "execution_count": 13,
   "id": "2ba08466",
   "metadata": {},
   "outputs": [
    {
     "name": "stdout",
     "output_type": "stream",
     "text": [
      "Enter the number:45\n",
      "Number: 45 SQRT of n: 6\n",
      "6  Not Prime\n"
     ]
    }
   ],
   "source": [
    "import math\n",
    "n = int(input(\"Enter the number:\"))\n",
    "sqrt =int( math.sqrt(n))\n",
    "print(\"Number:\",n,\"SQRT of n:\",sqrt)\n",
    "c = 0\n",
    "for i in range(2,sqrt+1):\n",
    "    if sqrt%i == 0:\n",
    "        c+=1\n",
    "if c == 1:\n",
    "        print(sqrt,\" Prime\")\n",
    "else:\n",
    "    print(sqrt,\" Not Prime\")"
   ]
  },
  {
   "cell_type": "code",
   "execution_count": 15,
   "id": "b2c24379",
   "metadata": {},
   "outputs": [
    {
     "name": "stdout",
     "output_type": "stream",
     "text": [
      "Enter the values:5-2\n",
      "3\n"
     ]
    }
   ],
   "source": [
    "x = eval(input(\"Enter the values:\"))\n",
    "print(x)"
   ]
  },
  {
   "cell_type": "code",
   "execution_count": 16,
   "id": "7aff4196",
   "metadata": {},
   "outputs": [
    {
     "name": "stdout",
     "output_type": "stream",
     "text": [
      "Enter the values:1,2\n",
      "(1, 2)\n"
     ]
    }
   ],
   "source": [
    "x = eval(input(\"Enter the values:\"))\n",
    "print(x)"
   ]
  },
  {
   "cell_type": "code",
   "execution_count": 18,
   "id": "9372f0f2",
   "metadata": {},
   "outputs": [
    {
     "name": "stdout",
     "output_type": "stream",
     "text": [
      "Enter the values:[4,7,1,9,3,0,5]\n",
      "[4, 7, 1, 9, 3, 0, 5]\n",
      "9 Largest number in: [4, 7, 1, 9, 3, 0, 5]\n"
     ]
    }
   ],
   "source": [
    "x = eval(input(\"Enter the values:\"))\n",
    "print(x)\n",
    "c = 0\n",
    "for i in x:\n",
    "    if i> c:\n",
    "        c =  i\n",
    "print(c,\"Largest number in:\",x)"
   ]
  },
  {
   "cell_type": "code",
   "execution_count": 28,
   "id": "34efa5ec",
   "metadata": {},
   "outputs": [
    {
     "name": "stdout",
     "output_type": "stream",
     "text": [
      "Enter the values:[4,7,1,9,3,0,5]\n",
      "[4, 7, 1, 9, 3, 0, 5]\n",
      "9 Largest number in: [4, 7, 1, 9, 3, 0, 5] Second Largest number: 5\n"
     ]
    }
   ],
   "source": [
    "x = eval(input(\"Enter the values:\"))\n",
    "print(x)\n",
    "c = 0\n",
    "j =0\n",
    "for i in x:\n",
    "    \n",
    "    if i> c:\n",
    "        c =  i\n",
    "        if j = i\n",
    "    if c> j and j< i:\n",
    "        j = i\n",
    "\n",
    "\n",
    "print(c,\"Largest number in:\",x,\"Second Largest number:\",j)"
   ]
  },
  {
   "cell_type": "code",
   "execution_count": 29,
   "id": "93bec667",
   "metadata": {},
   "outputs": [
    {
     "name": "stdout",
     "output_type": "stream",
     "text": [
      "enter age of employees:27,30,32\n"
     ]
    },
    {
     "ename": "ValueError",
     "evalue": "invalid literal for int() with base 10: '27,30,32'",
     "output_type": "error",
     "traceback": [
      "\u001b[1;31m---------------------------------------------------------------------------\u001b[0m",
      "\u001b[1;31mValueError\u001b[0m                                Traceback (most recent call last)",
      "Cell \u001b[1;32mIn[29], line 1\u001b[0m\n\u001b[1;32m----> 1\u001b[0m n\u001b[38;5;241m=\u001b[39m\u001b[38;5;28mint\u001b[39m(\u001b[38;5;28minput\u001b[39m(\u001b[38;5;124m\"\u001b[39m\u001b[38;5;124menter age of employees:\u001b[39m\u001b[38;5;124m\"\u001b[39m))\n\u001b[0;32m      2\u001b[0m \u001b[38;5;28;01mfor\u001b[39;00m i \u001b[38;5;129;01min\u001b[39;00m n:\n\u001b[0;32m      3\u001b[0m     \u001b[38;5;28mprint\u001b[39m(i)\n",
      "\u001b[1;31mValueError\u001b[0m: invalid literal for int() with base 10: '27,30,32'"
     ]
    }
   ],
   "source": [
    "n=eval(input(\"enter age of employees:\"))\n",
    "c=0\n",
    "d=0\n",
    "e=0\n",
    "for i in n:\n",
    "    if i in range(26,36):\n",
    "        c+=1\n",
    "        \n",
    "    print(c)\n",
    "    elif i in range(36,46):\n",
    "    \n",
    "    \n",
    "    "
   ]
  },
  {
   "cell_type": "code",
   "execution_count": 54,
   "id": "fb6e941b",
   "metadata": {},
   "outputs": [
    {
     "name": "stdout",
     "output_type": "stream",
     "text": [
      "Enter the values:[100,60,40,10]\n",
      "[100, 60, 40, 10]\n",
      "c: 100\n",
      "k: 100\n",
      "k: 60\n",
      "k: 40\n",
      "100 Largest number in: [100, 60, 40, 10] Second Largest number: 40\n"
     ]
    }
   ],
   "source": [
    "x = eval(input(\"Enter the values:\"))\n",
    "print(x)\n",
    "c = 0\n",
    "j =0\n",
    "k = 0\n",
    "for i in range (len(x)):\n",
    "    \n",
    "    \n",
    "    \n",
    "    for j in range(len(x)):\n",
    "        if x[j]> c:\n",
    "            c = x[i]\n",
    "            print(\"c:\",c)\n",
    "    if x[i] > x[j]:\n",
    "            k = x[i]\n",
    "            print(\"k:\",k)\n",
    "\n",
    "print(c,\"Largest number in:\",x,\"Second Largest number:\",k)"
   ]
  },
  {
   "cell_type": "code",
   "execution_count": 68,
   "id": "0dd5470c",
   "metadata": {},
   "outputs": [
    {
     "name": "stdout",
     "output_type": "stream",
     "text": [
      "40 30\n",
      "70 30\n",
      "90 30\n",
      "90 30\n",
      "[40, 70, 90, 30] ; 90 : 30\n"
     ]
    }
   ],
   "source": [
    "x = [40,70,90,30];c = 0;j = 0\n",
    "for i in x:\n",
    "    if i > c:\n",
    "        c = i\n",
    "for j in x:\n",
    "        if j < c and j > i:\n",
    "            j   = i\n",
    "            continue\n",
    "    print(c,j)\n",
    "print(x,\";\",c,\":\",j)"
   ]
  },
  {
   "cell_type": "code",
   "execution_count": null,
   "id": "fc2f9824",
   "metadata": {},
   "outputs": [],
   "source": []
  },
  {
   "cell_type": "code",
   "execution_count": null,
   "id": "998b3ce5",
   "metadata": {},
   "outputs": [],
   "source": []
  },
  {
   "cell_type": "code",
   "execution_count": null,
   "id": "1d0d287f",
   "metadata": {},
   "outputs": [],
   "source": []
  }
 ],
 "metadata": {
  "kernelspec": {
   "display_name": "Python 3 (ipykernel)",
   "language": "python",
   "name": "python3"
  },
  "language_info": {
   "codemirror_mode": {
    "name": "ipython",
    "version": 3
   },
   "file_extension": ".py",
   "mimetype": "text/x-python",
   "name": "python",
   "nbconvert_exporter": "python",
   "pygments_lexer": "ipython3",
   "version": "3.11.3"
  }
 },
 "nbformat": 4,
 "nbformat_minor": 5
}
