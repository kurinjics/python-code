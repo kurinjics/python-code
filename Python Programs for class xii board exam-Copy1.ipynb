{
 "cells": [
  {
   "cell_type": "markdown",
   "id": "af757867",
   "metadata": {},
   "source": [
    "'''\n",
    "Text File Name: William.txt-OUTPUT Finding\n",
    "These beauteous forms, \n",
    "Through a long absence, have not been to me \n",
    "As is a landscape to a blind man’s eye: \n",
    "But oft, in lonely rooms, and ’mid the din \n",
    "Of towns and cities, I have owed to them, \n",
    "In hours of weariness, sensations sweet\n",
    "\n",
    "\n",
    "\n",
    "Find the output of the following code?'''\n",
    "\n",
    "\n"
   ]
  },
  {
   "cell_type": "code",
   "execution_count": 9,
   "id": "de6b2c73",
   "metadata": {},
   "outputs": [
    {
     "name": "stdout",
     "output_type": "stream",
     "text": [
      "These beauteous forms,\n",
      "Through a long absence, have not been to me \n",
      "As is a landscape to a blind man's eye: \n",
      "But oft, in lonely rooms, and mid the din \n",
      "Of towns and cities, I have owed to them, \n",
      "In hours of weariness, sensations sweet\n"
     ]
    }
   ],
   "source": [
    "file = open(\"life.txt\",'r')\n",
    "print(file.read())\n",
    "file.close()"
   ]
  },
  {
   "cell_type": "code",
   "execution_count": 11,
   "id": "703f43eb",
   "metadata": {},
   "outputs": [
    {
     "name": "stdout",
     "output_type": "stream",
     "text": [
      "These beauteous forms,\n",
      "\n",
      "Through a long absence, have not been to me \n",
      "\n"
     ]
    }
   ],
   "source": [
    "file = open(\"life.txt\",'r')\n",
    "print(file.readline())\n",
    "print(file.readline())\n",
    "file.close()"
   ]
  },
  {
   "cell_type": "code",
   "execution_count": 12,
   "id": "bf112244",
   "metadata": {},
   "outputs": [
    {
     "name": "stdout",
     "output_type": "stream",
     "text": [
      "['These beauteous forms,\\n', 'Through a long absence, have not been to me \\n', \"As is a landscape to a blind man's eye: \\n\", 'But oft, in lonely rooms, and mid the din \\n', 'Of towns and cities, I have owed to them, \\n', 'In hours of weariness, sensations sweet']\n",
      "\n"
     ]
    }
   ],
   "source": [
    "file = open(\"life.txt\",'r')\n",
    "print(file.readlines())\n",
    "print(file.readline())\n",
    "file.close()"
   ]
  },
  {
   "cell_type": "markdown",
   "id": "4cca7c88",
   "metadata": {},
   "source": [
    "#Write a python user defined function countword() to count number of words in a text file life.txt"
   ]
  },
  {
   "cell_type": "code",
   "execution_count": 14,
   "id": "1fbb77eb",
   "metadata": {},
   "outputs": [
    {
     "name": "stdout",
     "output_type": "stream",
     "text": [
      "The total number of word is: 45\n"
     ]
    }
   ],
   "source": [
    "def countword():\n",
    "    file = open('life.txt','r')\n",
    "    word = 0\n",
    "    r = file.read()\n",
    "    w = r.split()\n",
    "    for i in w:\n",
    "        word += 1\n",
    "    print(\"The total number of word is:\",word)\n",
    "    file.close()\n",
    "countword()\n",
    "        \n",
    "        \n"
   ]
  },
  {
   "cell_type": "markdown",
   "id": "f85aa540",
   "metadata": {},
   "source": [
    "#Write a python user defined function countspace() to count number of whitespaces in a text file life.txt"
   ]
  },
  {
   "cell_type": "code",
   "execution_count": 17,
   "id": "bfdcb4d8",
   "metadata": {},
   "outputs": [
    {
     "name": "stdout",
     "output_type": "stream",
     "text": [
      "The total number of whitespace is: 48\n"
     ]
    }
   ],
   "source": [
    "def countspace():\n",
    "    file = open('life.txt','r')\n",
    "    space = 0\n",
    "    r = file.read()\n",
    "    for i in r:\n",
    "        if i . isspace():\n",
    "            space += 1\n",
    "    print(\"The total number of whitespace is:\",space)\n",
    "    file.close()\n",
    "countspace()\n",
    "        "
   ]
  },
  {
   "cell_type": "code",
   "execution_count": null,
   "id": "1543a51d",
   "metadata": {},
   "outputs": [],
   "source": [
    "#Write a python user defined function countspace() to count number of whitespaces other than newline characters in a text file life.txt"
   ]
  },
  {
   "cell_type": "code",
   "execution_count": 20,
   "id": "47b1595b",
   "metadata": {},
   "outputs": [
    {
     "name": "stdout",
     "output_type": "stream",
     "text": [
      "The total number of whitespace other than newline characters is: 43\n"
     ]
    }
   ],
   "source": [
    "def countspace():\n",
    "    file = open('life.txt','r')\n",
    "    space = 0\n",
    "    r = file.read()\n",
    "    for i in r:\n",
    "        if i . isspace() and i != '\\n' :\n",
    "            space += 1\n",
    "    print(\"The total number of whitespace other than newline characters is:\",space)\n",
    "    file.close()\n",
    "countspace()\n",
    "        "
   ]
  },
  {
   "cell_type": "markdown",
   "id": "ee404fbc",
   "metadata": {},
   "source": [
    "#Write a python user defined function countnewline() to count number of newline character in a text file life.txt"
   ]
  },
  {
   "cell_type": "code",
   "execution_count": 23,
   "id": "b17091c7",
   "metadata": {},
   "outputs": [
    {
     "name": "stdout",
     "output_type": "stream",
     "text": [
      "The total number of whitespace other than newline characters is: 5\n"
     ]
    }
   ],
   "source": [
    "def countEOL():\n",
    "    file = open('life.txt','r')\n",
    "    space = 0\n",
    "    r = file.read()\n",
    "    for i in r:\n",
    "        if i in ['\\r','\\n','\\r\\n']:\n",
    "            space += 1\n",
    "    print(\"The total number of EOL is:\",space)\n",
    "    file.close()\n",
    "countEOL()"
   ]
  },
  {
   "cell_type": "markdown",
   "id": "701b8d7a",
   "metadata": {},
   "source": [
    "#Write a user defined function to count  the frequency of each alphabet in the file life.txt"
   ]
  },
  {
   "cell_type": "code",
   "execution_count": 25,
   "id": "8c4c9a79",
   "metadata": {},
   "outputs": [
    {
     "name": "stdout",
     "output_type": "stream",
     "text": [
      "['A', 'B', 'I', 'O', 'T', 'a', 'b', 'c', 'd', 'e', 'f', 'g', 'h', 'i', 'l', 'm', 'n', 'o', 'p', 'r', 's', 't', 'u', 'v', 'w', 'y']\n"
     ]
    }
   ],
   "source": [
    "def countalphafreq():\n",
    "    file = open('life.txt','r')\n",
    "    d ={}\n",
    "    alpha = []\n",
    "    incre = 0\n",
    "    r = file.read()\n",
    "    for i in r:\n",
    "        if i .isalpha():\n",
    "            alpha.append(i)\n",
    "    for i in alpha:\n",
    "        d[i] =alpha.count(i)\n",
    "            \n",
    "    print(sorted(d))\n",
    "    file.close()\n",
    "countalphafreq()"
   ]
  },
  {
   "cell_type": "code",
   "execution_count": null,
   "id": "88acacd8",
   "metadata": {},
   "outputs": [],
   "source": []
  }
 ],
 "metadata": {
  "kernelspec": {
   "display_name": "Python 3 (ipykernel)",
   "language": "python",
   "name": "python3"
  },
  "language_info": {
   "codemirror_mode": {
    "name": "ipython",
    "version": 3
   },
   "file_extension": ".py",
   "mimetype": "text/x-python",
   "name": "python",
   "nbconvert_exporter": "python",
   "pygments_lexer": "ipython3",
   "version": "3.11.3"
  }
 },
 "nbformat": 4,
 "nbformat_minor": 5
}
