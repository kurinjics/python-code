{
 "cells": [
  {
   "cell_type": "code",
   "execution_count": 12,
   "id": "66d94861",
   "metadata": {
    "scrolled": true
   },
   "outputs": [
    {
     "name": "stdout",
     "output_type": "stream",
     "text": [
      "Input Integers:\n",
      "35 45 55 65  \n",
      "Average is:\n",
      "50.0\n"
     ]
    }
   ],
   "source": [
    "def list_avg(lst):\n",
    "    l = len(lst)\n",
    "    sum = 0\n",
    "    for i in lst:\n",
    "        sum += i\n",
    "    return sum/l\n",
    "print(\"Input Integers:\")\n",
    "a = input()\n",
    "a = a.split()\n",
    "for i in range(len(a)):\n",
    "    a[i] = int(a[i])\n",
    "avg = list_avg(a)\n",
    "print(\"Average is:\")\n",
    "print(round(avg,2))"
   ]
  },
  {
   "cell_type": "code",
   "execution_count": 4,
   "id": "79bf45bf",
   "metadata": {
    "scrolled": true
   },
   "outputs": [
    {
     "name": "stdout",
     "output_type": "stream",
     "text": [
      "7\n"
     ]
    }
   ],
   "source": [
    "\n",
    "a = 2\n",
    "def f(x):\n",
    "    y = x + a\n",
    "    return y\n",
    "p = f(5)\n",
    "print(p)"
   ]
  },
  {
   "cell_type": "code",
   "execution_count": 6,
   "id": "a4c555a8",
   "metadata": {},
   "outputs": [
    {
     "name": "stdout",
     "output_type": "stream",
     "text": [
      "7\n"
     ]
    }
   ],
   "source": [
    "a = 2\n",
    "def f(x):\n",
    "    global a\n",
    "    a = x + a\n",
    "    return a\n",
    "p = f(5)\n",
    "print(a)"
   ]
  },
  {
   "cell_type": "code",
   "execution_count": 7,
   "id": "45d6169f",
   "metadata": {
    "scrolled": true
   },
   "outputs": [
    {
     "name": "stdout",
     "output_type": "stream",
     "text": [
      "The sum= 0\n",
      "The sum= 20\n",
      "The sum= 50\n",
      "The sum= 100\n"
     ]
    }
   ],
   "source": [
    "def sum(*n):\n",
    "    total = 0\n",
    "    for i in n:\n",
    "        total = total +i\n",
    "    print(\"The sum=\",total)\n",
    "sum()\n",
    "sum(20)\n",
    "sum(20,30)\n",
    "sum(10,20,30,40)"
   ]
  },
  {
   "cell_type": "code",
   "execution_count": 9,
   "id": "8fb386c5",
   "metadata": {},
   "outputs": [
    {
     "ename": "SyntaxError",
     "evalue": "positional argument follows keyword argument (973413078.py, line 5)",
     "output_type": "error",
     "traceback": [
      "\u001b[1;36m  Cell \u001b[1;32mIn[9], line 5\u001b[1;36m\u001b[0m\n\u001b[1;33m    greet_msg(name='Radhika','bonne soiree')\u001b[0m\n\u001b[1;37m                                           ^\u001b[0m\n\u001b[1;31mSyntaxError\u001b[0m\u001b[1;31m:\u001b[0m positional argument follows keyword argument\n"
     ]
    }
   ],
   "source": [
    "def greet_msg(mname,msg):\n",
    "    print(\"Hello\",name,msg)\n",
    "greet_msg(name = \"Vinay\",msg=\"bonjour!\")\n",
    "greet_msg(msg = \"bonne soiree\",name = 'sonnia')\n",
    "greet_msg(name='Radhika','bonne soiree')"
   ]
  },
  {
   "cell_type": "code",
   "execution_count": 10,
   "id": "a0d92955",
   "metadata": {},
   "outputs": [
    {
     "name": "stdout",
     "output_type": "stream",
     "text": [
      "[33, 2, 3]\n"
     ]
    }
   ],
   "source": [
    "def var(var,lst):\n",
    "    lst[0] = var\n",
    "k = 33\n",
    "a = [1,2,3]\n",
    "var(k,a)\n",
    "print(a)\n"
   ]
  },
  {
   "cell_type": "code",
   "execution_count": 12,
   "id": "3a9efcaa",
   "metadata": {},
   "outputs": [
    {
     "name": "stdout",
     "output_type": "stream",
     "text": [
      "B#B#B#B#B#"
     ]
    }
   ],
   "source": [
    "def disp(m = 'A' , t = 1):\n",
    "    for i in range(t):\n",
    "        print(m*1,end ='#')\n",
    "        t+= 1\n",
    "disp('B',5)"
   ]
  },
  {
   "cell_type": "code",
   "execution_count": 13,
   "id": "c69c5d61",
   "metadata": {},
   "outputs": [
    {
     "name": "stdout",
     "output_type": "stream",
     "text": [
      "15\n"
     ]
    }
   ],
   "source": [
    "f = open(\"test.txt\",\"w\")\n",
    "print(f.write(\"File \\n#Handling\"))"
   ]
  },
  {
   "cell_type": "code",
   "execution_count": 14,
   "id": "0e9dd04d",
   "metadata": {},
   "outputs": [
    {
     "ename": "TypeError",
     "evalue": "write() argument must be str, not int",
     "output_type": "error",
     "traceback": [
      "\u001b[1;31m---------------------------------------------------------------------------\u001b[0m",
      "\u001b[1;31mTypeError\u001b[0m                                 Traceback (most recent call last)",
      "Cell \u001b[1;32mIn[14], line 2\u001b[0m\n\u001b[0;32m      1\u001b[0m f \u001b[38;5;241m=\u001b[39m \u001b[38;5;28mopen\u001b[39m(\u001b[38;5;124m\"\u001b[39m\u001b[38;5;124mtest.txt\u001b[39m\u001b[38;5;124m\"\u001b[39m,\u001b[38;5;124m\"\u001b[39m\u001b[38;5;124mw\u001b[39m\u001b[38;5;124m\"\u001b[39m)\n\u001b[1;32m----> 2\u001b[0m \u001b[38;5;28mprint\u001b[39m(f\u001b[38;5;241m.\u001b[39mwrite(\u001b[38;5;241m345\u001b[39m))\n",
      "\u001b[1;31mTypeError\u001b[0m: write() argument must be str, not int"
     ]
    }
   ],
   "source": [
    "f = open(\"test.txt\",\"w\")\n",
    "print(f.write(345))"
   ]
  },
  {
   "cell_type": "code",
   "execution_count": 24,
   "id": "5da9c143",
   "metadata": {},
   "outputs": [
    {
     "name": "stdout",
     "output_type": "stream",
     "text": [
      "string\n"
     ]
    }
   ],
   "source": [
    "import pickle \n",
    "f = open(\"binary.dat\",\"wb+\")\n",
    "x = pickle.dump(\"string\",f)\n",
    "f.flush()\n",
    "f.seek(0)\n",
    "x =f.tell()\n",
    "f.seek(x)\n",
    "y = pickle.load(f)\n",
    "print(y)\n"
   ]
  },
  {
   "cell_type": "code",
   "execution_count": 26,
   "id": "b94f0d0b",
   "metadata": {},
   "outputs": [],
   "source": [
    "import csv\n",
    "f = open(\"csvfile.csv\",'x')\n",
    "wr = csv.writer(f, delimiter ='|')\n",
    "product_sales = [['t-shirts', 9.99, 342], ['hoodies', 24.99, 118], ['jeans', 29.99, 612]]\n",
    "wr.writerow(product_sales)\n",
    "f.close()"
   ]
  },
  {
   "cell_type": "code",
   "execution_count": 30,
   "id": "90da62c7",
   "metadata": {},
   "outputs": [
    {
     "name": "stdout",
     "output_type": "stream",
     "text": [
      "<_csv.reader object at 0x000001C9796AFD60>\n",
      "[\"['t-shirts'\", ' 9.99', \" 342]|['hoodies'\", ' 24.99', \" 118]|['jeans'\", ' 29.99', ' 612]']\n",
      "[]\n"
     ]
    }
   ],
   "source": [
    "#['t-shirts', 9.99, 342]|['hoodies', 24.99, 118]|['jeans', 29.99, 612]\n",
    "import csv\n",
    "f = open(\"csvfile.csv\",'r')\n",
    "cr = csv.reader(f)\n",
    "print(cr)\n",
    "for i in cr:\n",
    "    print(i)\n"
   ]
  },
  {
   "cell_type": "code",
   "execution_count": 37,
   "id": "37aeece6",
   "metadata": {},
   "outputs": [],
   "source": [
    "import csv\n",
    "f = open(\"csvfiles.csv\",'w',newline ='')\n",
    "wr = csv.writer(f, delimiter ='|')\n",
    "product_sales = [['t-shirts', 9.99, 342], ['hoodies', 24.99, 118], ['jeans', 29.99, 612]]\n",
    "wr.writerows(product_sales)\n",
    "f.close()"
   ]
  },
  {
   "cell_type": "code",
   "execution_count": 38,
   "id": "abb9b115",
   "metadata": {},
   "outputs": [
    {
     "name": "stdout",
     "output_type": "stream",
     "text": [
      "<_csv.reader object at 0x000001C97A58D9C0>\n",
      "['t-shirts|9.99|342']\n",
      "['hoodies|24.99|118']\n",
      "['jeans|29.99|612']\n"
     ]
    }
   ],
   "source": [
    "import csv\n",
    "f = open(\"csvfiles.csv\",'r')\n",
    "cr = csv.reader(f)\n",
    "print(cr)\n",
    "for i in cr:\n",
    "    print(i)\n"
   ]
  },
  {
   "cell_type": "code",
   "execution_count": 35,
   "id": "cbb7fee7",
   "metadata": {},
   "outputs": [
    {
     "name": "stdout",
     "output_type": "stream",
     "text": [
      "<_csv.reader object at 0x000001C9796AFD60>\n",
      "['t-shirts|9.99|342']\n",
      "[]\n",
      "['hoodies|24.99|118']\n",
      "[]\n",
      "['jeans|29.99|612']\n",
      "[]\n"
     ]
    }
   ],
   "source": [
    "import csv\n",
    "f = open(\"csvfiles.csv\",'r',newline='')\n",
    "cr = csv.reader(f)\n",
    "print(cr)\n",
    "for i in cr:\n",
    "    print(i)\n"
   ]
  },
  {
   "cell_type": "code",
   "execution_count": 46,
   "id": "acafd236",
   "metadata": {},
   "outputs": [],
   "source": [
    "with open(\"Contest.txt\",\"w\") as f:\n",
    "    f.writelines([\"Don't tell me\\n\",\"you slaved for hours\\n\",\"On the project\\n\",\"that's due today,And you would...\"])\n"
   ]
  },
  {
   "cell_type": "code",
   "execution_count": 47,
   "id": "7c37cf1b",
   "metadata": {},
   "outputs": [
    {
     "name": "stdout",
     "output_type": "stream",
     "text": [
      "you slaved for hours\n",
      "\n"
     ]
    },
    {
     "ename": "IndexError",
     "evalue": "list index out of range",
     "output_type": "error",
     "traceback": [
      "\u001b[1;31m---------------------------------------------------------------------------\u001b[0m",
      "\u001b[1;31mIndexError\u001b[0m                                Traceback (most recent call last)",
      "Cell \u001b[1;32mIn[47], line 4\u001b[0m\n\u001b[0;32m      2\u001b[0m x \u001b[38;5;241m=\u001b[39mf\u001b[38;5;241m.\u001b[39mreadlines()\n\u001b[0;32m      3\u001b[0m \u001b[38;5;28mprint\u001b[39m(x[\u001b[38;5;241m1\u001b[39m])\n\u001b[1;32m----> 4\u001b[0m \u001b[38;5;28mprint\u001b[39m(f\u001b[38;5;241m.\u001b[39mreadlines()[\u001b[38;5;241m2\u001b[39m])\n",
      "\u001b[1;31mIndexError\u001b[0m: list index out of range"
     ]
    }
   ],
   "source": [
    "with open(\"contest.txt\",\"r+\") as f:\n",
    "    x =f.readlines()\n",
    "    print(x[1])\n",
    "    print(f.readlines()[2])"
   ]
  },
  {
   "cell_type": "code",
   "execution_count": 4,
   "id": "f3d887de",
   "metadata": {},
   "outputs": [
    {
     "name": "stdout",
     "output_type": "stream",
     "text": [
      "{'c': 1000, 'java': 300, 'go': 4000, 'r': 700}\n",
      "[1002, 302, 4002, 702] 4002 302 6008\n"
     ]
    }
   ],
   "source": [
    "def arbitrary(**arg):\n",
    "    x = []\n",
    "    for i in arg:\n",
    "        x.append(arg[i]+2)\n",
    "    print(arg)\n",
    "    print(x, max(x), min(x),sum(x))\n",
    "\n",
    "arbitrary(c=1000,java=300,go=4000,r=700)"
   ]
  },
  {
   "cell_type": "code",
   "execution_count": 3,
   "id": "d7a8cf97",
   "metadata": {},
   "outputs": [
    {
     "name": "stdout",
     "output_type": "stream",
     "text": [
      "string\n"
     ]
    },
    {
     "ename": "EOFError",
     "evalue": "Ran out of input",
     "output_type": "error",
     "traceback": [
      "\u001b[1;31m---------------------------------------------------------------------------\u001b[0m",
      "\u001b[1;31mEOFError\u001b[0m                                  Traceback (most recent call last)",
      "Cell \u001b[1;32mIn[3], line 9\u001b[0m\n\u001b[0;32m      7\u001b[0m y\u001b[38;5;241m=\u001b[39mpickle\u001b[38;5;241m.\u001b[39mload(f)\n\u001b[0;32m      8\u001b[0m \u001b[38;5;28mprint\u001b[39m(y)\n\u001b[1;32m----> 9\u001b[0m y\u001b[38;5;241m=\u001b[39mpickle\u001b[38;5;241m.\u001b[39mload(f)\n\u001b[0;32m     10\u001b[0m \u001b[38;5;28mprint\u001b[39m(y)\n\u001b[0;32m     11\u001b[0m y\u001b[38;5;241m=\u001b[39mpickle\u001b[38;5;241m.\u001b[39mload(f)\n",
      "\u001b[1;31mEOFError\u001b[0m: Ran out of input"
     ]
    }
   ],
   "source": [
    "import pickle\n",
    "f=open('binary.dat','wb+')\n",
    "pickle.dump('string',f)\n",
    "f.flush()\n",
    "\n",
    "f.seek(0)\n",
    "y=pickle.load(f)\n",
    "print(y)\n",
    "y=pickle.load(f)\n",
    "print(y)\n",
    "y=pickle.load(f)\n",
    "print(y)"
   ]
  },
  {
   "cell_type": "code",
   "execution_count": 10,
   "id": "9dab90d1",
   "metadata": {},
   "outputs": [
    {
     "name": "stdout",
     "output_type": "stream",
     "text": [
      "[]\n"
     ]
    }
   ],
   "source": [
    "f = open(\"text1.txt\",\"w\")\n",
    "f.writelines(['aaa\\n','bbbb'])\n",
    "f.close()\n",
    "f = open(\"text1.txt\")\n",
    "y = f.readlines()\n",
    "x =f.readlines()\n",
    "print(x)"
   ]
  },
  {
   "cell_type": "code",
   "execution_count": 11,
   "id": "8fc05ca6",
   "metadata": {},
   "outputs": [
    {
     "name": "stdout",
     "output_type": "stream",
     "text": [
      "1\n"
     ]
    }
   ],
   "source": [
    "def s(*a):\n",
    "    print(1)\n",
    "s()"
   ]
  },
  {
   "cell_type": "code",
   "execution_count": null,
   "id": "308dcec9",
   "metadata": {},
   "outputs": [],
   "source": []
  }
 ],
 "metadata": {
  "kernelspec": {
   "display_name": "Python 3 (ipykernel)",
   "language": "python",
   "name": "python3"
  },
  "language_info": {
   "codemirror_mode": {
    "name": "ipython",
    "version": 3
   },
   "file_extension": ".py",
   "mimetype": "text/x-python",
   "name": "python",
   "nbconvert_exporter": "python",
   "pygments_lexer": "ipython3",
   "version": "3.11.3"
  }
 },
 "nbformat": 4,
 "nbformat_minor": 5
}
