{
 "cells": [
  {
   "cell_type": "code",
   "execution_count": 7,
   "id": "c1a210c2",
   "metadata": {},
   "outputs": [
    {
     "name": "stdout",
     "output_type": "stream",
     "text": [
      "AINABLE DEVELOPMENT#SUSTAINABLE DEVELO\n"
     ]
    }
   ],
   "source": [
    "#What is the output of the following code?\n",
    "\n",
    "str1 = \"SUSTAINABLE DEVELOPMENT\"\n",
    "str2 = \"SUPPLEMENT\"\n",
    "print(str1.lstrip(str2), str1.rstrip(str2),sep = '#')"
   ]
  },
  {
   "cell_type": "code",
   "execution_count": 9,
   "id": "f3a27815",
   "metadata": {},
   "outputs": [
    {
     "name": "stdout",
     "output_type": "stream",
     "text": [
      "re republic d ay\n",
      "public   d i\n"
     ]
    }
   ],
   "source": [
    "#What will be the output produced by following code fragments?\n",
    "\n",
    "x = \"republic day\"\n",
    "print (x[:2], x[:-2], x[-2:])\n",
    "print (x[2:-3], x[-4:-2],x[6])"
   ]
  },
  {
   "cell_type": "code",
   "execution_count": 10,
   "id": "6bdb6e24",
   "metadata": {},
   "outputs": [
    {
     "name": "stdout",
     "output_type": "stream",
     "text": [
      "Enter integer:3\n",
      "Welco\n",
      "ome Feb  with Hope\n",
      "4\n",
      "3\n"
     ]
    }
   ],
   "source": [
    "testStr = \"Welcome Feb  with Hope\"                    \n",
    "inputStr = input (\"Enter integer:\")      \n",
    "inputlnt = int(inputStr)                 \n",
    "count = 2                                \n",
    "newStr = ''                               \n",
    "while count <= inputlnt :                \n",
    "    newStr = newStr + testStr[0 : count]\n",
    "    testStr = testStr[2:]      #Line 1   \n",
    "    count = count + 1                    \n",
    "print (newStr)                 # Line 2\n",
    "print (testStr)                # Line 3  \n",
    "print (count)                  # Line 4  \n",
    "print (inputlnt)               # Line 5  "
   ]
  },
  {
   "cell_type": "code",
   "execution_count": 17,
   "id": "0cca3989",
   "metadata": {},
   "outputs": [
    {
     "name": "stdout",
     "output_type": "stream",
     "text": [
      "helflo\n"
     ]
    }
   ],
   "source": [
    "s1 =\"helflo\"\n",
    "for i in s1:\n",
    "    if i in 'aeiou':\n",
    "        s1= s1.replace('i','*')\n",
    "print(s1)"
   ]
  },
  {
   "cell_type": "code",
   "execution_count": 14,
   "id": "747d8f3a",
   "metadata": {},
   "outputs": [
    {
     "name": "stdout",
     "output_type": "stream",
     "text": [
      "h*llo\n"
     ]
    }
   ],
   "source": [
    "s ='hello'\n",
    "print(s.replace('e','*'))"
   ]
  },
  {
   "cell_type": "code",
   "execution_count": null,
   "id": "022eae8e",
   "metadata": {},
   "outputs": [],
   "source": []
  }
 ],
 "metadata": {
  "kernelspec": {
   "display_name": "Python 3 (ipykernel)",
   "language": "python",
   "name": "python3"
  },
  "language_info": {
   "codemirror_mode": {
    "name": "ipython",
    "version": 3
   },
   "file_extension": ".py",
   "mimetype": "text/x-python",
   "name": "python",
   "nbconvert_exporter": "python",
   "pygments_lexer": "ipython3",
   "version": "3.11.3"
  }
 },
 "nbformat": 4,
 "nbformat_minor": 5
}
