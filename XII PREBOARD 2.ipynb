{
 "cells": [
  {
   "cell_type": "code",
   "execution_count": 1,
   "id": "43255b3d",
   "metadata": {},
   "outputs": [
    {
     "name": "stdout",
     "output_type": "stream",
     "text": [
      "-a-ssistance\n"
     ]
    }
   ],
   "source": [
    "a = \"assistance\"\n",
    "a = a.partition('a')\n",
    "b = a[0] + \"-\" + a[1] + \"-\" + a[2]\n",
    "print (b)"
   ]
  },
  {
   "cell_type": "code",
   "execution_count": 2,
   "id": "d7b5c30d",
   "metadata": {},
   "outputs": [
    {
     "name": "stdout",
     "output_type": "stream",
     "text": [
      "4.0\n"
     ]
    }
   ],
   "source": [
    "print(27 % 7 // (3 / 2))"
   ]
  },
  {
   "cell_type": "code",
   "execution_count": 3,
   "id": "8ce9c08f",
   "metadata": {},
   "outputs": [
    {
     "name": "stdout",
     "output_type": "stream",
     "text": [
      "Year . 0.  at All the best\n"
     ]
    }
   ],
   "source": [
    "a= \"Year 2022 at All the best\"\n",
    "a = a.split('2')\n",
    "b = a[0] + \". \" + a[1] + \". \" + a[3]\n",
    "print (b)"
   ]
  },
  {
   "cell_type": "code",
   "execution_count": 4,
   "id": "f821218e",
   "metadata": {},
   "outputs": [
    {
     "name": "stdout",
     "output_type": "stream",
     "text": [
      "2 3 4 5 5 "
     ]
    }
   ],
   "source": [
    "a=[1,2,3,4,5]\n",
    "for i in range(1,5):\n",
    "    a[i-1]=a[i]\n",
    "for i in range(0,5):\n",
    "    print(a[i],end=\" \")"
   ]
  },
  {
   "cell_type": "code",
   "execution_count": 5,
   "id": "d61307ee",
   "metadata": {},
   "outputs": [
    {
     "name": "stdout",
     "output_type": "stream",
     "text": [
      "-88.0\n"
     ]
    }
   ],
   "source": [
    "print(3-10**2+99/11)"
   ]
  },
  {
   "cell_type": "code",
   "execution_count": 6,
   "id": "68321a47",
   "metadata": {},
   "outputs": [
    {
     "name": "stdout",
     "output_type": "stream",
     "text": [
      "['XX', 'Y', '88', 3]\n"
     ]
    }
   ],
   "source": [
    "str1=list(\"Xy82\")\n",
    "for i in range(len(str1)):\n",
    "    if i==3:\n",
    "        x=int(i)\n",
    "        x+=x-3\n",
    "        str1[i]=x\n",
    "    elif (str1[i].islower()):\n",
    "        str1[i]=str1[i].upper()\n",
    "    else:\n",
    "        str1[i]=str1[i]*2\n",
    "print(str1)"
   ]
  },
  {
   "cell_type": "code",
   "execution_count": 7,
   "id": "7eb83b26",
   "metadata": {},
   "outputs": [
    {
     "name": "stdout",
     "output_type": "stream",
     "text": [
      "z is: 100\n",
      "New value of global z is: 50\n",
      "Value of z is: 50\n"
     ]
    }
   ],
   "source": [
    "z= 100\n",
    "def f( ):\n",
    "    global z\n",
    "    print('z is:', z)\n",
    "    z=50\n",
    "    print('New value of global z is:', z)\n",
    "f( )\n",
    "print('Value of z is:', z)"
   ]
  },
  {
   "cell_type": "code",
   "execution_count": 8,
   "id": "7fe302f5",
   "metadata": {},
   "outputs": [],
   "source": [
    "l = []\n",
    "l += range(1,2)"
   ]
  },
  {
   "cell_type": "code",
   "execution_count": 9,
   "id": "23e7266c",
   "metadata": {},
   "outputs": [
    {
     "name": "stdout",
     "output_type": "stream",
     "text": [
      "[1]\n"
     ]
    }
   ],
   "source": [
    "print(l)"
   ]
  },
  {
   "cell_type": "code",
   "execution_count": null,
   "id": "75a369b3",
   "metadata": {},
   "outputs": [],
   "source": []
  }
 ],
 "metadata": {
  "kernelspec": {
   "display_name": "Python 3 (ipykernel)",
   "language": "python",
   "name": "python3"
  },
  "language_info": {
   "codemirror_mode": {
    "name": "ipython",
    "version": 3
   },
   "file_extension": ".py",
   "mimetype": "text/x-python",
   "name": "python",
   "nbconvert_exporter": "python",
   "pygments_lexer": "ipython3",
   "version": "3.11.3"
  }
 },
 "nbformat": 4,
 "nbformat_minor": 5
}
