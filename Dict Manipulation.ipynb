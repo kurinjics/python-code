{
 "cells": [
  {
   "cell_type": "code",
   "execution_count": 18,
   "id": "1d198446",
   "metadata": {},
   "outputs": [
    {
     "name": "stdout",
     "output_type": "stream",
     "text": [
      "{} 0 <class 'dict'>\n"
     ]
    }
   ],
   "source": [
    "d = {}\n",
    "print(d,len(d),type(d))"
   ]
  },
  {
   "cell_type": "code",
   "execution_count": 19,
   "id": "235c06c7",
   "metadata": {},
   "outputs": [
    {
     "name": "stdout",
     "output_type": "stream",
     "text": [
      "{} 0 <class 'dict'>\n"
     ]
    }
   ],
   "source": [
    "dd = dict()\n",
    "print(dd, len(dd), type(dd))"
   ]
  },
  {
   "cell_type": "code",
   "execution_count": 20,
   "id": "79fcb706",
   "metadata": {},
   "outputs": [],
   "source": [
    "ddd = dict(zip((1,2,3,4,5),('a','e','i','o','u')))"
   ]
  },
  {
   "cell_type": "code",
   "execution_count": 21,
   "id": "1d17fdaf",
   "metadata": {},
   "outputs": [
    {
     "name": "stdout",
     "output_type": "stream",
     "text": [
      "{1: 'a', 2: 'e', 3: 'i', 4: 'o', 5: 'u'}\n"
     ]
    }
   ],
   "source": [
    "print(ddd)"
   ]
  },
  {
   "cell_type": "code",
   "execution_count": 22,
   "id": "ad816cdd",
   "metadata": {},
   "outputs": [
    {
     "name": "stdout",
     "output_type": "stream",
     "text": [
      "[(1, 3), (2, 4)]\n"
     ]
    }
   ],
   "source": [
    "print(list(zip((1,2),(3,4))))"
   ]
  },
  {
   "cell_type": "code",
   "execution_count": 23,
   "id": "bf393e24",
   "metadata": {},
   "outputs": [
    {
     "name": "stdout",
     "output_type": "stream",
     "text": [
      "{2: 3, 3: 4}\n"
     ]
    }
   ],
   "source": [
    "dddd = dict(([2,3],[3,4]))\n",
    "print(dddd)"
   ]
  },
  {
   "cell_type": "code",
   "execution_count": 24,
   "id": "dce6570b",
   "metadata": {},
   "outputs": [
    {
     "ename": "ValueError",
     "evalue": "dictionary update sequence element #0 has length 3; 2 is required",
     "output_type": "error",
     "traceback": [
      "\u001b[1;31m---------------------------------------------------------------------------\u001b[0m",
      "\u001b[1;31mValueError\u001b[0m                                Traceback (most recent call last)",
      "Cell \u001b[1;32mIn[24], line 1\u001b[0m\n\u001b[1;32m----> 1\u001b[0m dddd \u001b[38;5;241m=\u001b[39m \u001b[38;5;28mdict\u001b[39m(([\u001b[38;5;241m2\u001b[39m,\u001b[38;5;241m3\u001b[39m,\u001b[38;5;241m5\u001b[39m],[\u001b[38;5;241m3\u001b[39m,\u001b[38;5;241m4\u001b[39m]))\n\u001b[0;32m      2\u001b[0m \u001b[38;5;28mprint\u001b[39m(dddd)\n",
      "\u001b[1;31mValueError\u001b[0m: dictionary update sequence element #0 has length 3; 2 is required"
     ]
    }
   ],
   "source": [
    "dddd = dict(([2,3,5],[3,4]))\n",
    "print(dddd)"
   ]
  },
  {
   "cell_type": "code",
   "execution_count": 25,
   "id": "ab7c3b06",
   "metadata": {},
   "outputs": [],
   "source": [
    "student = dict(name = \"sumi\",mark = 500, grade = 'o+')"
   ]
  },
  {
   "cell_type": "code",
   "execution_count": 26,
   "id": "f17fe300",
   "metadata": {},
   "outputs": [
    {
     "name": "stdout",
     "output_type": "stream",
     "text": [
      "{'name': 'sumi', 'mark': 500, 'grade': 'o+'}\n"
     ]
    }
   ],
   "source": [
    "print(student)"
   ]
  },
  {
   "cell_type": "code",
   "execution_count": 27,
   "id": "628d5859",
   "metadata": {},
   "outputs": [
    {
     "name": "stdout",
     "output_type": "stream",
     "text": [
      "500\n"
     ]
    }
   ],
   "source": [
    "print(student['mark'\n",
    "             ])"
   ]
  },
  {
   "cell_type": "code",
   "execution_count": 28,
   "id": "f6994fc3",
   "metadata": {},
   "outputs": [
    {
     "ename": "IndexError",
     "evalue": "list assignment index out of range",
     "output_type": "error",
     "traceback": [
      "\u001b[1;31m---------------------------------------------------------------------------\u001b[0m",
      "\u001b[1;31mIndexError\u001b[0m                                Traceback (most recent call last)",
      "Cell \u001b[1;32mIn[28], line 2\u001b[0m\n\u001b[0;32m      1\u001b[0m l \u001b[38;5;241m=\u001b[39m []\n\u001b[1;32m----> 2\u001b[0m l[\u001b[38;5;241m0\u001b[39m] \u001b[38;5;241m=\u001b[39m \u001b[38;5;241m6\u001b[39m\n\u001b[0;32m      3\u001b[0m \u001b[38;5;28mprint\u001b[39m(l)\n",
      "\u001b[1;31mIndexError\u001b[0m: list assignment index out of range"
     ]
    }
   ],
   "source": [
    "\n",
    "\n",
    "l = []\n",
    "l[0] = 6\n",
    "print(l)"
   ]
  },
  {
   "cell_type": "code",
   "execution_count": 29,
   "id": "93bc5479",
   "metadata": {},
   "outputs": [
    {
     "name": "stdout",
     "output_type": "stream",
     "text": [
      "{'name': 'sumi', 'mark': 500, 'grade': 'o+'}\n"
     ]
    }
   ],
   "source": [
    "print(student)\n"
   ]
  },
  {
   "cell_type": "code",
   "execution_count": 30,
   "id": "3b92442d",
   "metadata": {},
   "outputs": [],
   "source": [
    "student['rollno'] = 1"
   ]
  },
  {
   "cell_type": "code",
   "execution_count": 31,
   "id": "50e622f6",
   "metadata": {},
   "outputs": [
    {
     "name": "stdout",
     "output_type": "stream",
     "text": [
      "{'name': 'sumi', 'mark': 500, 'grade': 'o+', 'rollno': 1}\n"
     ]
    }
   ],
   "source": [
    "print(student)"
   ]
  },
  {
   "cell_type": "code",
   "execution_count": 32,
   "id": "e7c55b3b",
   "metadata": {},
   "outputs": [
    {
     "name": "stdout",
     "output_type": "stream",
     "text": [
      "sumi\n"
     ]
    }
   ],
   "source": [
    "print(student['name'])"
   ]
  },
  {
   "cell_type": "code",
   "execution_count": 33,
   "id": "8186f0af",
   "metadata": {},
   "outputs": [
    {
     "name": "stdout",
     "output_type": "stream",
     "text": [
      "{'Empno': 101, 'Name': 'sushma', 'salary': 35000}\n"
     ]
    }
   ],
   "source": [
    "employee = {'Empno':101,'Name' : 'suseel','salary': 35000,'Name' :'sushma'}\n",
    "print(employee)"
   ]
  },
  {
   "cell_type": "code",
   "execution_count": 34,
   "id": "7259c6fa",
   "metadata": {},
   "outputs": [
    {
     "name": "stdout",
     "output_type": "stream",
     "text": [
      "{'name': 'emi'}\n"
     ]
    }
   ],
   "source": [
    "s = {}\n",
    "s['name'] = 'emi'\n",
    "print(s)"
   ]
  },
  {
   "cell_type": "code",
   "execution_count": 35,
   "id": "9e6f70fa",
   "metadata": {},
   "outputs": [
    {
     "ename": "TypeError",
     "evalue": "unhashable type: 'list'",
     "output_type": "error",
     "traceback": [
      "\u001b[1;31m---------------------------------------------------------------------------\u001b[0m",
      "\u001b[1;31mTypeError\u001b[0m                                 Traceback (most recent call last)",
      "Cell \u001b[1;32mIn[35], line 2\u001b[0m\n\u001b[0;32m      1\u001b[0m s \u001b[38;5;241m=\u001b[39m {}\n\u001b[1;32m----> 2\u001b[0m s[[\u001b[38;5;241m1\u001b[39m,\u001b[38;5;241m2\u001b[39m]] \u001b[38;5;241m=\u001b[39m (\u001b[38;5;124m'\u001b[39m\u001b[38;5;124madhi\u001b[39m\u001b[38;5;124m'\u001b[39m,\u001b[38;5;124m'\u001b[39m\u001b[38;5;124marjun\u001b[39m\u001b[38;5;124m'\u001b[39m)\n\u001b[0;32m      3\u001b[0m \u001b[38;5;28mprint\u001b[39m(s)\n",
      "\u001b[1;31mTypeError\u001b[0m: unhashable type: 'list'"
     ]
    }
   ],
   "source": [
    "s = {}\n",
    "s[[1,2]] = ('adhi','arjun')\n",
    "print(s)"
   ]
  },
  {
   "cell_type": "code",
   "execution_count": 36,
   "id": "f84c700c",
   "metadata": {},
   "outputs": [
    {
     "name": "stdout",
     "output_type": "stream",
     "text": [
      "{(1, 2): ('adhi', 'arjun')}\n"
     ]
    }
   ],
   "source": [
    "s = {}\n",
    "s[(1,2)] = ('adhi','arjun')\n",
    "print(s)"
   ]
  },
  {
   "cell_type": "code",
   "execution_count": 37,
   "id": "8039ecc4",
   "metadata": {},
   "outputs": [
    {
     "name": "stdout",
     "output_type": "stream",
     "text": [
      "{(1, 2): ('adhi', 'arjun'), (2, 1): ('ajay', 'akash')}\n"
     ]
    }
   ],
   "source": [
    "\n",
    "s[(2,1)] = ('ajay','akash')\n",
    "print(s)"
   ]
  },
  {
   "cell_type": "code",
   "execution_count": 38,
   "id": "c838d4a0",
   "metadata": {},
   "outputs": [
    {
     "name": "stdout",
     "output_type": "stream",
     "text": [
      "{(1, 2): ('adhi', 'arjun'), (2, 1): ('ajay', 'akash'), 1: ('an',)}\n"
     ]
    }
   ],
   "source": [
    "\n",
    "s[1] = ('an',)\n",
    "print(s)"
   ]
  },
  {
   "cell_type": "code",
   "execution_count": 39,
   "id": "c90fdc5d",
   "metadata": {},
   "outputs": [
    {
     "ename": "TypeError",
     "evalue": "unhashable type: 'set'",
     "output_type": "error",
     "traceback": [
      "\u001b[1;31m---------------------------------------------------------------------------\u001b[0m",
      "\u001b[1;31mTypeError\u001b[0m                                 Traceback (most recent call last)",
      "Cell \u001b[1;32mIn[39], line 1\u001b[0m\n\u001b[1;32m----> 1\u001b[0m s[{\u001b[38;5;124m'\u001b[39m\u001b[38;5;124ma\u001b[39m\u001b[38;5;124m'\u001b[39m,\u001b[38;5;124m'\u001b[39m\u001b[38;5;124mb\u001b[39m\u001b[38;5;124m'\u001b[39m}] \u001b[38;5;241m=\u001b[39m \u001b[38;5;124m'\u001b[39m\u001b[38;5;124malpha\u001b[39m\u001b[38;5;124m'\u001b[39m\n",
      "\u001b[1;31mTypeError\u001b[0m: unhashable type: 'set'"
     ]
    }
   ],
   "source": [
    "s[{'a','b'}] = 'alpha'"
   ]
  },
  {
   "cell_type": "code",
   "execution_count": 40,
   "id": "0633ec13",
   "metadata": {},
   "outputs": [
    {
     "ename": "TypeError",
     "evalue": "unhashable type: 'list'",
     "output_type": "error",
     "traceback": [
      "\u001b[1;31m---------------------------------------------------------------------------\u001b[0m",
      "\u001b[1;31mTypeError\u001b[0m                                 Traceback (most recent call last)",
      "Cell \u001b[1;32mIn[40], line 1\u001b[0m\n\u001b[1;32m----> 1\u001b[0m s[[\u001b[38;5;124m'\u001b[39m\u001b[38;5;124ma\u001b[39m\u001b[38;5;124m'\u001b[39m,\u001b[38;5;124m'\u001b[39m\u001b[38;5;124mb\u001b[39m\u001b[38;5;124m'\u001b[39m] ]\u001b[38;5;241m=\u001b[39m \u001b[38;5;124m'\u001b[39m\u001b[38;5;124malpha\u001b[39m\u001b[38;5;124m'\u001b[39m\n",
      "\u001b[1;31mTypeError\u001b[0m: unhashable type: 'list'"
     ]
    }
   ],
   "source": [
    "s[['a','b'] ]= 'alpha'"
   ]
  },
  {
   "cell_type": "code",
   "execution_count": 41,
   "id": "bd55f4a7",
   "metadata": {},
   "outputs": [
    {
     "ename": "TypeError",
     "evalue": "unhashable type: 'dict'",
     "output_type": "error",
     "traceback": [
      "\u001b[1;31m---------------------------------------------------------------------------\u001b[0m",
      "\u001b[1;31mTypeError\u001b[0m                                 Traceback (most recent call last)",
      "Cell \u001b[1;32mIn[41], line 1\u001b[0m\n\u001b[1;32m----> 1\u001b[0m s[{\u001b[38;5;124m'\u001b[39m\u001b[38;5;124ma\u001b[39m\u001b[38;5;124m'\u001b[39m:\u001b[38;5;241m1\u001b[39m,\u001b[38;5;124m'\u001b[39m\u001b[38;5;124mb\u001b[39m\u001b[38;5;124m'\u001b[39m:\u001b[38;5;241m6\u001b[39m}] \u001b[38;5;241m=\u001b[39m \u001b[38;5;124m'\u001b[39m\u001b[38;5;124malpha\u001b[39m\u001b[38;5;124m'\u001b[39m\n",
      "\u001b[1;31mTypeError\u001b[0m: unhashable type: 'dict'"
     ]
    }
   ],
   "source": [
    "s[{'a':1,'b':6}] = 'alpha'"
   ]
  },
  {
   "cell_type": "code",
   "execution_count": 42,
   "id": "ab1ecffb",
   "metadata": {},
   "outputs": [
    {
     "name": "stdout",
     "output_type": "stream",
     "text": [
      "{(1, 2): ('adhi', 'arjun'), (2, 1): ('ajay', 'akash'), 1: ('an',), (4+5j): 'im complex'}\n"
     ]
    }
   ],
   "source": [
    "s[4+5j] = 'im complex'\n",
    "print(s)"
   ]
  },
  {
   "cell_type": "code",
   "execution_count": 43,
   "id": "d88c2521",
   "metadata": {},
   "outputs": [
    {
     "name": "stdout",
     "output_type": "stream",
     "text": [
      "{(1, 2): ('adhi', 'arjun'), (2, 1): ('ajay', 'akash'), 1: ('an',), (4+5j): 'im complex', (2, 3): [100, 200]}\n"
     ]
    }
   ],
   "source": [
    "s[(2,3)] = [100,200]\n",
    "print(s)"
   ]
  },
  {
   "cell_type": "code",
   "execution_count": 44,
   "id": "fe773df2",
   "metadata": {},
   "outputs": [
    {
     "ename": "TypeError",
     "evalue": "unhashable type: 'list'",
     "output_type": "error",
     "traceback": [
      "\u001b[1;31m---------------------------------------------------------------------------\u001b[0m",
      "\u001b[1;31mTypeError\u001b[0m                                 Traceback (most recent call last)",
      "Cell \u001b[1;32mIn[44], line 1\u001b[0m\n\u001b[1;32m----> 1\u001b[0m s[(\u001b[38;5;241m2\u001b[39m,\u001b[38;5;241m3\u001b[39m,[\u001b[38;5;241m1\u001b[39m,\u001b[38;5;241m2\u001b[39m])] \u001b[38;5;241m=\u001b[39m [\u001b[38;5;241m100\u001b[39m,\u001b[38;5;241m200\u001b[39m]\n\u001b[0;32m      2\u001b[0m \u001b[38;5;28mprint\u001b[39m(s)\n",
      "\u001b[1;31mTypeError\u001b[0m: unhashable type: 'list'"
     ]
    }
   ],
   "source": [
    "s[(2,3,[1,2])] = [100,200]\n",
    "print(s)"
   ]
  },
  {
   "cell_type": "code",
   "execution_count": 45,
   "id": "36c17656",
   "metadata": {},
   "outputs": [
    {
     "ename": "TypeError",
     "evalue": "unhashable type: 'list'",
     "output_type": "error",
     "traceback": [
      "\u001b[1;31m---------------------------------------------------------------------------\u001b[0m",
      "\u001b[1;31mTypeError\u001b[0m                                 Traceback (most recent call last)",
      "Cell \u001b[1;32mIn[45], line 1\u001b[0m\n\u001b[1;32m----> 1\u001b[0m ss \u001b[38;5;241m=\u001b[39m {\u001b[38;5;241m2\u001b[39m,\u001b[38;5;241m3\u001b[39m,[\u001b[38;5;241m6\u001b[39m,\u001b[38;5;241m7\u001b[39m]}\n\u001b[0;32m      2\u001b[0m \u001b[38;5;28mprint\u001b[39m(ss)\n",
      "\u001b[1;31mTypeError\u001b[0m: unhashable type: 'list'"
     ]
    }
   ],
   "source": [
    "ss = {2,3,[6,7]}\n",
    "print(ss)"
   ]
  },
  {
   "cell_type": "code",
   "execution_count": 46,
   "id": "b54a4c30",
   "metadata": {},
   "outputs": [
    {
     "name": "stdout",
     "output_type": "stream",
     "text": [
      "{(1, 2): ('adhi', 'arjun'), (2, 1): ('ajay', 'akash'), 1: ('an',), (4+5j): 'im complex', (2, 3): [100, 200]}\n"
     ]
    }
   ],
   "source": [
    "print(s)"
   ]
  },
  {
   "cell_type": "code",
   "execution_count": 47,
   "id": "303c23de",
   "metadata": {},
   "outputs": [
    {
     "name": "stdout",
     "output_type": "stream",
     "text": [
      "5\n"
     ]
    }
   ],
   "source": [
    "print(len(s))"
   ]
  },
  {
   "cell_type": "code",
   "execution_count": 48,
   "id": "c0c514f6",
   "metadata": {},
   "outputs": [
    {
     "name": "stdout",
     "output_type": "stream",
     "text": [
      "dict_keys([(1, 2), (2, 1), 1, (4+5j), (2, 3)])\n"
     ]
    }
   ],
   "source": [
    "print(s.keys())"
   ]
  },
  {
   "cell_type": "code",
   "execution_count": 49,
   "id": "30994aa6",
   "metadata": {},
   "outputs": [
    {
     "name": "stdout",
     "output_type": "stream",
     "text": [
      "<class 'dict_keys'>\n"
     ]
    }
   ],
   "source": [
    "print(type(s.keys()))"
   ]
  },
  {
   "cell_type": "code",
   "execution_count": 50,
   "id": "868c460c",
   "metadata": {},
   "outputs": [
    {
     "name": "stdout",
     "output_type": "stream",
     "text": [
      "dict_values([('adhi', 'arjun'), ('ajay', 'akash'), ('an',), 'im complex', [100, 200]])\n"
     ]
    }
   ],
   "source": [
    "print(s.values())"
   ]
  },
  {
   "cell_type": "code",
   "execution_count": 51,
   "id": "65ddbd5b",
   "metadata": {},
   "outputs": [
    {
     "name": "stdout",
     "output_type": "stream",
     "text": [
      "<class 'dict_values'>\n"
     ]
    }
   ],
   "source": [
    "print(type(s.values()))"
   ]
  },
  {
   "cell_type": "code",
   "execution_count": 52,
   "id": "67298bb7",
   "metadata": {},
   "outputs": [
    {
     "name": "stdout",
     "output_type": "stream",
     "text": [
      "dict_items([((1, 2), ('adhi', 'arjun')), ((2, 1), ('ajay', 'akash')), (1, ('an',)), ((4+5j), 'im complex'), ((2, 3), [100, 200])])\n"
     ]
    }
   ],
   "source": [
    "print(s.items())"
   ]
  },
  {
   "cell_type": "code",
   "execution_count": 53,
   "id": "066bd81d",
   "metadata": {},
   "outputs": [
    {
     "name": "stdout",
     "output_type": "stream",
     "text": [
      "{(1, 2): ('adhi', 'arjun'), (2, 1): ('ajay', 'akash'), 1: ('an',), (4+5j): 'im complex', (2, 3): [100, 200]}\n"
     ]
    }
   ],
   "source": [
    " print(s)"
   ]
  },
  {
   "cell_type": "code",
   "execution_count": 54,
   "id": "9936cacd",
   "metadata": {},
   "outputs": [
    {
     "name": "stdout",
     "output_type": "stream",
     "text": [
      "[100, 200]\n"
     ]
    }
   ],
   "source": [
    "print(s.get((2,3)))"
   ]
  },
  {
   "cell_type": "code",
   "execution_count": 55,
   "id": "fe2e609a",
   "metadata": {},
   "outputs": [
    {
     "name": "stdout",
     "output_type": "stream",
     "text": [
      "[100, 200]\n"
     ]
    }
   ],
   "source": [
    "print(s[(2,3)])"
   ]
  },
  {
   "cell_type": "code",
   "execution_count": 56,
   "id": "35acac25",
   "metadata": {},
   "outputs": [
    {
     "name": "stdout",
     "output_type": "stream",
     "text": [
      "None\n"
     ]
    }
   ],
   "source": [
    "print(s.get((1,2,3)))"
   ]
  },
  {
   "cell_type": "code",
   "execution_count": 57,
   "id": "f88d10a1",
   "metadata": {},
   "outputs": [
    {
     "ename": "KeyError",
     "evalue": "(1, 2, 3)",
     "output_type": "error",
     "traceback": [
      "\u001b[1;31m---------------------------------------------------------------------------\u001b[0m",
      "\u001b[1;31mKeyError\u001b[0m                                  Traceback (most recent call last)",
      "Cell \u001b[1;32mIn[57], line 1\u001b[0m\n\u001b[1;32m----> 1\u001b[0m \u001b[38;5;28mprint\u001b[39m(s[(\u001b[38;5;241m1\u001b[39m,\u001b[38;5;241m2\u001b[39m,\u001b[38;5;241m3\u001b[39m)])\n",
      "\u001b[1;31mKeyError\u001b[0m: (1, 2, 3)"
     ]
    }
   ],
   "source": [
    "print(s[(1,2,3)])"
   ]
  },
  {
   "cell_type": "code",
   "execution_count": 58,
   "id": "ccab25d4",
   "metadata": {},
   "outputs": [
    {
     "name": "stdout",
     "output_type": "stream",
     "text": [
      "sorry\n"
     ]
    }
   ],
   "source": [
    "print(s.get((1,2,3),\"sorry\"))"
   ]
  },
  {
   "cell_type": "code",
   "execution_count": 59,
   "id": "ad1e1eb1",
   "metadata": {},
   "outputs": [
    {
     "name": "stdout",
     "output_type": "stream",
     "text": [
      "[100, 200]\n"
     ]
    }
   ],
   "source": [
    "print(s.get((2,3),\"sorry\"))"
   ]
  },
  {
   "cell_type": "code",
   "execution_count": 60,
   "id": "f6497c89",
   "metadata": {},
   "outputs": [
    {
     "name": "stdout",
     "output_type": "stream",
     "text": [
      "{'Empno': 101, 'Name': 'sushma', 'salary': 35000}\n"
     ]
    }
   ],
   "source": [
    "print(employee)\n"
   ]
  },
  {
   "cell_type": "code",
   "execution_count": 61,
   "id": "7dd68267",
   "metadata": {},
   "outputs": [
    {
     "ename": "NameError",
     "evalue": "name 'dept' is not defined",
     "output_type": "error",
     "traceback": [
      "\u001b[1;31m---------------------------------------------------------------------------\u001b[0m",
      "\u001b[1;31mNameError\u001b[0m                                 Traceback (most recent call last)",
      "Cell \u001b[1;32mIn[61], line 1\u001b[0m\n\u001b[1;32m----> 1\u001b[0m dept \u001b[38;5;241m=\u001b[39m dept\u001b[38;5;241m.\u001b[39mfromkeys([\u001b[38;5;241m1\u001b[39m,\u001b[38;5;241m2\u001b[39m,\u001b[38;5;241m3\u001b[39m],[\u001b[38;5;124m'\u001b[39m\u001b[38;5;124mcs\u001b[39m\u001b[38;5;124m'\u001b[39m,\u001b[38;5;124m'\u001b[39m\u001b[38;5;124mbio\u001b[39m\u001b[38;5;124m'\u001b[39m,\u001b[38;5;124m'\u001b[39m\u001b[38;5;124mmat\u001b[39m\u001b[38;5;124m'\u001b[39m])\n",
      "\u001b[1;31mNameError\u001b[0m: name 'dept' is not defined"
     ]
    }
   ],
   "source": [
    "dept = dept.fromkeys([1,2,3],['cs','bio','mat'])"
   ]
  },
  {
   "cell_type": "code",
   "execution_count": 62,
   "id": "006aba24",
   "metadata": {},
   "outputs": [],
   "source": [
    "dept = {}\n",
    "dept = dept.fromkeys([1,2,3],['cs','bio','mat'])"
   ]
  },
  {
   "cell_type": "code",
   "execution_count": 63,
   "id": "8567ea2f",
   "metadata": {},
   "outputs": [
    {
     "name": "stdout",
     "output_type": "stream",
     "text": [
      "{1: ['cs', 'bio', 'mat'], 2: ['cs', 'bio', 'mat'], 3: ['cs', 'bio', 'mat']}\n"
     ]
    }
   ],
   "source": [
    "print(dept)"
   ]
  },
  {
   "cell_type": "code",
   "execution_count": 64,
   "id": "39c57192",
   "metadata": {},
   "outputs": [
    {
     "name": "stdout",
     "output_type": "stream",
     "text": [
      "{'Empno': 101, 'Name': 'sushma', 'salary': 35000}\n"
     ]
    }
   ],
   "source": [
    "print(employee)"
   ]
  },
  {
   "cell_type": "code",
   "execution_count": 65,
   "id": "576221ec",
   "metadata": {},
   "outputs": [],
   "source": [
    "emp  ={103:'ramki',102:\"varun\",107:\"aarzoo kurana\",104:'Sudhir shivam'}"
   ]
  },
  {
   "cell_type": "code",
   "execution_count": 66,
   "id": "009a45c1",
   "metadata": {},
   "outputs": [
    {
     "name": "stdout",
     "output_type": "stream",
     "text": [
      "[102, 103, 104, 107]\n"
     ]
    }
   ],
   "source": [
    "print(sorted(emp))"
   ]
  },
  {
   "cell_type": "code",
   "execution_count": 67,
   "id": "add017d3",
   "metadata": {},
   "outputs": [
    {
     "name": "stdout",
     "output_type": "stream",
     "text": [
      "102\n"
     ]
    }
   ],
   "source": [
    "print(min(emp))"
   ]
  },
  {
   "cell_type": "code",
   "execution_count": 68,
   "id": "7acdbbe9",
   "metadata": {},
   "outputs": [
    {
     "name": "stdout",
     "output_type": "stream",
     "text": [
      "107\n"
     ]
    }
   ],
   "source": [
    "print(max(emp))"
   ]
  },
  {
   "cell_type": "code",
   "execution_count": 69,
   "id": "8d36fcf0",
   "metadata": {},
   "outputs": [
    {
     "name": "stdout",
     "output_type": "stream",
     "text": [
      "416\n"
     ]
    }
   ],
   "source": [
    "print(sum(emp))"
   ]
  },
  {
   "cell_type": "code",
   "execution_count": 70,
   "id": "09a51b11",
   "metadata": {},
   "outputs": [],
   "source": [
    "max_mark = max(emp)"
   ]
  },
  {
   "cell_type": "code",
   "execution_count": 71,
   "id": "418f5fc4",
   "metadata": {},
   "outputs": [
    {
     "name": "stdout",
     "output_type": "stream",
     "text": [
      "aarzoo kurana\n"
     ]
    }
   ],
   "source": [
    "print(emp[max_mark])"
   ]
  },
  {
   "cell_type": "code",
   "execution_count": 72,
   "id": "4b2efd96",
   "metadata": {},
   "outputs": [
    {
     "ename": "KeyError",
     "evalue": "0",
     "output_type": "error",
     "traceback": [
      "\u001b[1;31m---------------------------------------------------------------------------\u001b[0m",
      "\u001b[1;31mKeyError\u001b[0m                                  Traceback (most recent call last)",
      "Cell \u001b[1;32mIn[72], line 1\u001b[0m\n\u001b[1;32m----> 1\u001b[0m \u001b[38;5;28mprint\u001b[39m(emp[\u001b[38;5;241m0\u001b[39m])\n",
      "\u001b[1;31mKeyError\u001b[0m: 0"
     ]
    }
   ],
   "source": [
    "print(emp[0])"
   ]
  },
  {
   "cell_type": "code",
   "execution_count": 73,
   "id": "5433d2fd",
   "metadata": {},
   "outputs": [
    {
     "name": "stdout",
     "output_type": "stream",
     "text": [
      "{103: 'ramki', 102: 'varun', 107: 'aarzoo kurana', 104: 'Sudhir shivam'}\n"
     ]
    }
   ],
   "source": [
    "print(emp)"
   ]
  },
  {
   "cell_type": "code",
   "execution_count": 80,
   "id": "57d147a2",
   "metadata": {},
   "outputs": [
    {
     "name": "stdout",
     "output_type": "stream",
     "text": [
      "varun\n",
      "{103: 'ramki', 107: 'aarzoo kurana', 104: 'Sudhir shivam'}\n"
     ]
    }
   ],
   "source": [
    "print(emp.pop(102,\"Sorry\"))\n",
    "print(emp)"
   ]
  },
  {
   "cell_type": "code",
   "execution_count": 81,
   "id": "a75fbb55",
   "metadata": {},
   "outputs": [
    {
     "name": "stdout",
     "output_type": "stream",
     "text": [
      "(104, 'Sudhir shivam')\n"
     ]
    }
   ],
   "source": [
    "print(emp.popitem())"
   ]
  },
  {
   "cell_type": "code",
   "execution_count": 82,
   "id": "ed9559d2",
   "metadata": {},
   "outputs": [
    {
     "name": "stdout",
     "output_type": "stream",
     "text": [
      "{103: 'ramki', 107: 'aarzoo kurana'}\n"
     ]
    }
   ],
   "source": [
    "print(emp)"
   ]
  },
  {
   "cell_type": "code",
   "execution_count": 83,
   "id": "0ed72513",
   "metadata": {},
   "outputs": [],
   "source": [
    "emp.clear()"
   ]
  },
  {
   "cell_type": "code",
   "execution_count": 84,
   "id": "43b811fb",
   "metadata": {},
   "outputs": [
    {
     "name": "stdout",
     "output_type": "stream",
     "text": [
      "{}\n"
     ]
    }
   ],
   "source": [
    "print(emp)"
   ]
  },
  {
   "cell_type": "code",
   "execution_count": 85,
   "id": "58f8fc9f",
   "metadata": {},
   "outputs": [],
   "source": [
    "emp  ={103:'ramki',102:\"varun\",107:\"aarzoo kurana\",104:'Sudhir shivam'}"
   ]
  },
  {
   "cell_type": "code",
   "execution_count": 86,
   "id": "cc066b46",
   "metadata": {},
   "outputs": [],
   "source": [
    "del emp[103]"
   ]
  },
  {
   "cell_type": "code",
   "execution_count": 87,
   "id": "54f4b5c1",
   "metadata": {},
   "outputs": [
    {
     "name": "stdout",
     "output_type": "stream",
     "text": [
      "{102: 'varun', 107: 'aarzoo kurana', 104: 'Sudhir shivam'}\n"
     ]
    }
   ],
   "source": [
    "print(emp)"
   ]
  },
  {
   "cell_type": "code",
   "execution_count": 88,
   "id": "cbf75dde",
   "metadata": {},
   "outputs": [],
   "source": [
    "del emp"
   ]
  },
  {
   "cell_type": "code",
   "execution_count": 89,
   "id": "12f65151",
   "metadata": {},
   "outputs": [
    {
     "ename": "NameError",
     "evalue": "name 'emp' is not defined",
     "output_type": "error",
     "traceback": [
      "\u001b[1;31m---------------------------------------------------------------------------\u001b[0m",
      "\u001b[1;31mNameError\u001b[0m                                 Traceback (most recent call last)",
      "Cell \u001b[1;32mIn[89], line 1\u001b[0m\n\u001b[1;32m----> 1\u001b[0m \u001b[38;5;28mprint\u001b[39m(emp)\n",
      "\u001b[1;31mNameError\u001b[0m: name 'emp' is not defined"
     ]
    }
   ],
   "source": [
    "print(emp)"
   ]
  },
  {
   "cell_type": "code",
   "execution_count": 1,
   "id": "dac32160",
   "metadata": {},
   "outputs": [
    {
     "name": "stdout",
     "output_type": "stream",
     "text": [
      "dict_items([('January', 31), ('February', 28), ('March', 31), ('April', 30), ('May', 31), ('June', 30), ('July', 31), ('August', 31), ('September', 30), ('October', 31), ('November', 30), ('December', 31)])\n"
     ]
    }
   ],
   "source": [
    "m = {\n",
    "    \"January\": 31,\n",
    "    \"February\": 28,\n",
    "    \"March\": 31,\n",
    "    \"April\": 30,\n",
    "    \"May\": 31,\n",
    "    \"June\": 30,\n",
    "    \"July\": 31,\n",
    "    \"August\": 31,\n",
    "    \"September\": 30,\n",
    "    \"October\": 31,\n",
    "    \"November\": 30,\n",
    "    \"December\": 31\n",
    "}\n",
    "y = m.items()\n",
    "print(y)"
   ]
  },
  {
   "cell_type": "code",
   "execution_count": 2,
   "id": "8b67cbd7",
   "metadata": {},
   "outputs": [
    {
     "name": "stdout",
     "output_type": "stream",
     "text": [
      "[('April', 30), ('August', 31), ('December', 31), ('February', 28), ('January', 31), ('July', 31), ('June', 30), ('March', 31), ('May', 31), ('November', 30), ('October', 31), ('September', 30)]\n"
     ]
    }
   ],
   "source": [
    "print(sorted(y))\n"
   ]
  },
  {
   "cell_type": "code",
   "execution_count": 3,
   "id": "ee1c1b8e",
   "metadata": {},
   "outputs": [
    {
     "name": "stdout",
     "output_type": "stream",
     "text": [
      "['April', 'August', 'December', 'February', 'January', 'July', 'June', 'March', 'May', 'November', 'October', 'September']\n"
     ]
    }
   ],
   "source": [
    "k = sorted(m .keys())\n",
    "print(k)"
   ]
  },
  {
   "cell_type": "code",
   "execution_count": 4,
   "id": "77c23e5b",
   "metadata": {},
   "outputs": [
    {
     "name": "stdout",
     "output_type": "stream",
     "text": [
      "[28, 30, 30, 30, 30, 31, 31, 31, 31, 31, 31, 31]\n"
     ]
    }
   ],
   "source": [
    "v = sorted(m.values())\n",
    "print(v)"
   ]
  },
  {
   "cell_type": "code",
   "execution_count": 7,
   "id": "0d3641c6",
   "metadata": {},
   "outputs": [
    {
     "name": "stdout",
     "output_type": "stream",
     "text": [
      "[('February', 28), ('April', 30), ('June', 30), ('September', 30), ('November', 30), ('April', 30), ('June', 30), ('September', 30), ('November', 30), ('April', 30), ('June', 30), ('September', 30), ('November', 30), ('April', 30), ('June', 30), ('September', 30), ('November', 30), ('January', 31), ('March', 31), ('May', 31), ('July', 31), ('August', 31), ('October', 31), ('December', 31), ('January', 31), ('March', 31), ('May', 31), ('July', 31), ('August', 31), ('October', 31), ('December', 31), ('January', 31), ('March', 31), ('May', 31), ('July', 31), ('August', 31), ('October', 31), ('December', 31), ('January', 31), ('March', 31), ('May', 31), ('July', 31), ('August', 31), ('October', 31), ('December', 31), ('January', 31), ('March', 31), ('May', 31), ('July', 31), ('August', 31), ('October', 31), ('December', 31), ('January', 31), ('March', 31), ('May', 31), ('July', 31), ('August', 31), ('October', 31), ('December', 31), ('January', 31), ('March', 31), ('May', 31), ('July', 31), ('August', 31), ('October', 31), ('December', 31)]\n"
     ]
    }
   ],
   "source": [
    "new = []\n",
    "for i in v:\n",
    "    for j in y:\n",
    "        if i in j:\n",
    "            if j not in new:\n",
    "                new.append(j)\n",
    "print(new)\n",
    "        \n",
    "        \n",
    "    "
   ]
  },
  {
   "cell_type": "code",
   "execution_count": 9,
   "id": "7d033e80",
   "metadata": {},
   "outputs": [
    {
     "name": "stdout",
     "output_type": "stream",
     "text": [
      "A 45.45454545454545\n",
      "B 50.0\n",
      "C 0.0\n",
      "D 10.0\n"
     ]
    }
   ],
   "source": [
    "tt = {'A':[5,6],'B':[5,5],'C':[0,10],'D':[1,9]}\n",
    "w = 0\n",
    "t = 0\n",
    "for i in tt:\n",
    "    w = tt[i][0]\n",
    "    t = sum(tt[i])\n",
    "    s = (w /t)* 100\n",
    "    print(i,s)\n",
    "    \n"
   ]
  },
  {
   "cell_type": "code",
   "execution_count": null,
   "id": "cd0de45c",
   "metadata": {},
   "outputs": [],
   "source": []
  }
 ],
 "metadata": {
  "kernelspec": {
   "display_name": "Python 3 (ipykernel)",
   "language": "python",
   "name": "python3"
  },
  "language_info": {
   "codemirror_mode": {
    "name": "ipython",
    "version": 3
   },
   "file_extension": ".py",
   "mimetype": "text/x-python",
   "name": "python",
   "nbconvert_exporter": "python",
   "pygments_lexer": "ipython3",
   "version": "3.11.3"
  }
 },
 "nbformat": 4,
 "nbformat_minor": 5
}
