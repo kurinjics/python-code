{
 "cells": [
  {
   "cell_type": "code",
   "execution_count": 3,
   "id": "5cdfbb82",
   "metadata": {
    "scrolled": true
   },
   "outputs": [],
   "source": [
    "import tkinter\n",
    "from tkinter import filedialog\n",
    "from path import Path\n",
    "from PyPDF4.pdf import PdfFileReader , PdfFileWriter\n",
    "import pyttsx3\n",
    "from speech_recognition import Recognizer, AudioFile\n",
    "from pydub import AudioSegment\n",
    "import os"
   ]
  },
  {
   "cell_type": "code",
   "execution_count": 4,
   "id": "cf7b065a",
   "metadata": {},
   "outputs": [
    {
     "ename": "IndentationError",
     "evalue": "expected an indented block after function definition on line 5 (339448378.py, line 6)",
     "output_type": "error",
     "traceback": [
      "\u001b[1;36m  Cell \u001b[1;32mIn[4], line 6\u001b[1;36m\u001b[0m\n\u001b[1;33m    path = filedialog.askopenfilename() #Get the path of the PDF based on the user's location selection\u001b[0m\n\u001b[1;37m    ^\u001b[0m\n\u001b[1;31mIndentationError\u001b[0m\u001b[1;31m:\u001b[0m expected an indented block after function definition on line 5\n"
     ]
    }
   ],
   "source": [
    "#Declaring global variables related to PDF to Speech conversion\n",
    "global end_pgNo ,start_pgNo\n",
    "\n",
    "#Function to open the PDF selected and read text from it\n",
    "def read():\n",
    "path = filedialog.askopenfilename() #Get the path of the PDF based on the user's location selection\n",
    "pdfLoc = open(path, 'rb') #Opening the PDF\n",
    "pdfreader = PdfFileReader(pdfLoc) # Creating a PDF reader object for the opened PDF\n",
    "speaker = pyttsx3.init() #Initiating a speaker object\n",
    "\n",
    "start=start_pgNo.get() # Getting the starting page number input\n",
    "end=end_pgNo.get() # Getting the ending page number input\n",
    "\n",
    "#Reading all the pages from start to end page number\n",
    "for i in range(start,end+1):\n",
    "    page = pdfreader.getPage(i) #Getting the page\n",
    "    txt = page.extractText() #Extracting the text\n",
    "    speaker.say(txt) #Getting the audio output of the text\n",
    "    speaker.runAndWait() # Processing the voice commands"
   ]
  },
  {
   "cell_type": "code",
   "execution_count": null,
   "id": "b293882c",
   "metadata": {},
   "outputs": [],
   "source": []
  },
  {
   "cell_type": "code",
   "execution_count": null,
   "id": "557d7d20",
   "metadata": {},
   "outputs": [],
   "source": []
  }
 ],
 "metadata": {
  "kernelspec": {
   "display_name": "Python 3 (ipykernel)",
   "language": "python",
   "name": "python3"
  },
  "language_info": {
   "codemirror_mode": {
    "name": "ipython",
    "version": 3
   },
   "file_extension": ".py",
   "mimetype": "text/x-python",
   "name": "python",
   "nbconvert_exporter": "python",
   "pygments_lexer": "ipython3",
   "version": "3.11.3"
  }
 },
 "nbformat": 4,
 "nbformat_minor": 5
}
