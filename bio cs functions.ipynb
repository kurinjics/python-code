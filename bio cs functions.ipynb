{
 "cells": [
  {
   "cell_type": "markdown",
   "id": "e0a7622c",
   "metadata": {},
   "source": [
    "def <func_name>([variables,...]):\n",
    "    <statement>\n",
    "    ..\n",
    "    [<return>]\n",
    "<func_name>([value])"
   ]
  },
  {
   "cell_type": "code",
   "execution_count": 1,
   "id": "0b126552",
   "metadata": {},
   "outputs": [
    {
     "name": "stdout",
     "output_type": "stream",
     "text": [
      "Welcome to the world of admire\n"
     ]
    }
   ],
   "source": [
    "def greet():\n",
    "    print(\"Welcome to the world of admire\")\n",
    "    \n",
    "greet()"
   ]
  },
  {
   "cell_type": "code",
   "execution_count": 6,
   "id": "f77b8af0",
   "metadata": {},
   "outputs": [
    {
     "name": "stdout",
     "output_type": "stream",
     "text": [
      "Name:raj\n",
      "Welcome to the world of admire raj\n",
      "Name:vimal\n",
      "Welcome to the world of admire vimal\n",
      "Name:suman\n",
      "Welcome to the world of admire suman\n",
      "Name:litta\n",
      "Welcome to the world of admire litta\n",
      "Name:liza\n",
      "Welcome to the world of admire liza\n"
     ]
    }
   ],
   "source": [
    "def greet1(name):\n",
    "    print(\"Welcome to the world of admire\",name)\n",
    "    \n",
    "\n",
    "\n",
    "for i in range(5):\n",
    "    name = input(\"Name:\")\n",
    "    greet1(name)"
   ]
  },
  {
   "cell_type": "code",
   "execution_count": 1,
   "id": "39d2ce17",
   "metadata": {},
   "outputs": [
    {
     "name": "stdout",
     "output_type": "stream",
     "text": [
      "18\n"
     ]
    }
   ],
   "source": [
    "def calculate(x,y,z):\n",
    "    ca = x+y+z\n",
    "    print(ca)\n",
    "    #return ca\n",
    "print(calculate(5,6,7))"
   ]
  },
  {
   "cell_type": "code",
   "execution_count": 2,
   "id": "f0693251",
   "metadata": {},
   "outputs": [
    {
     "name": "stdout",
     "output_type": "stream",
     "text": [
      "A:10\n",
      "B:20\n",
      "C:30\n",
      "60\n",
      "None\n",
      "__main__\n"
     ]
    }
   ],
   "source": [
    "def calculate(x,y,z):\n",
    "    ca = x+y+z\n",
    "    print(ca)\n",
    "    #return ca\n",
    "a = int(input(\"A:\"))\n",
    "b = int(input(\"B:\"))\n",
    "c = int(input(\"C:\"))\n",
    "print(calculate(a,b,c))\n",
    "print(__name__)"
   ]
  },
  {
   "cell_type": "code",
   "execution_count": 8,
   "id": "6d3ca739",
   "metadata": {},
   "outputs": [
    {
     "name": "stdout",
     "output_type": "stream",
     "text": [
      "27\n",
      "15\n",
      "40\n"
     ]
    }
   ],
   "source": [
    "def calculate(x,y,z):\n",
    "    ca = x+y+z\n",
    "    #print(ca)\n",
    "    return ca\n",
    "\"\"\"\n",
    "a = int(input(\"A:\"))\n",
    "b = int(input(\"B:\"))\n",
    "c = int(input(\"C:\"))\n",
    "\"\"\"\n",
    "a = 6\n",
    "b = 10\n",
    "c = 11\n",
    "\n",
    "print(calculate(a,b,c))\n",
    "print(calculate(4,5,6))\n",
    "print(calculate(a +1,b +5,c+7))"
   ]
  },
  {
   "cell_type": "code",
   "execution_count": null,
   "id": "39c3ea7b",
   "metadata": {},
   "outputs": [],
   "source": []
  },
  {
   "cell_type": "code",
   "execution_count": 9,
   "id": "3b228468",
   "metadata": {},
   "outputs": [
    {
     "name": "stdout",
     "output_type": "stream",
     "text": [
      "P:10000\n",
      "R:10\n",
      "N:2\n",
      "12000.0 Total Amount to be received\n"
     ]
    }
   ],
   "source": [
    "def si(p,n,r):\n",
    "    s = (p * n * r)/100\n",
    "    return s\n",
    "p = int(input(\"P:\"))\n",
    "r = int(input(\"R:\"))\n",
    "n = int(input(\"N:\"))\n",
    "res  = si(p,n,r)\n",
    "print(p,\"principal amount\")\n",
    "print(res,\"Interest\")\n",
    "print(p + res , \"Total Amount to be received\")\n"
   ]
  },
  {
   "cell_type": "code",
   "execution_count": 11,
   "id": "9f31f634",
   "metadata": {},
   "outputs": [
    {
     "name": "stdout",
     "output_type": "stream",
     "text": [
      "P:50000\n",
      "50000 principal amount\n",
      "2500.0 Interest\n",
      "52500.0 Total Amount to be received\n"
     ]
    }
   ],
   "source": [
    "def si(p,n= 1,r= 5):\n",
    "    s = (p * n * r)/100\n",
    "    return s\n",
    "p = int(input(\"P:\"))\n",
    "#r = int(input(\"R:\"))\n",
    "#n = int(input(\"N:\"))\n",
    "res  = si(p)\n",
    "print(p,\"principal amount\")\n",
    "print(res,\"Interest\")\n",
    "print(p + res , \"Total Amount to be received\")"
   ]
  },
  {
   "cell_type": "code",
   "execution_count": 13,
   "id": "5d93f08c",
   "metadata": {},
   "outputs": [
    {
     "name": "stdout",
     "output_type": "stream",
     "text": [
      "P:100000\n",
      "N:3\n",
      "R:2\n",
      "100000 principal amount\n",
      "6000.0 Interest\n",
      "106000.0 Total Amount to be received\n",
      "5000.0\n"
     ]
    }
   ],
   "source": [
    "def si(p,n= 1,r= 5):\n",
    "    s = (p * n * r)/100\n",
    "    return s\n",
    "p = int(input(\"P:\"))\n",
    "\n",
    "n = int(input(\"N:\"))\n",
    "r = int(input(\"R:\"))\n",
    "res  = si(p,n,r)\n",
    "\n",
    "print(p,\"principal amount\")\n",
    "print(res,\"Interest\")\n",
    "print(p + res , \"Total Amount to be received\")\n"
   ]
  },
  {
   "cell_type": "code",
   "execution_count": null,
   "id": "115e47c3",
   "metadata": {},
   "outputs": [],
   "source": [
    "def si(p,n= 1,r= 5):\n",
    "    s = (p * n * r)/100\n",
    "    return s\n",
    "p = int(input(\"P:\"))\n",
    "\n",
    "n = int(input(\"N:\"))\n",
    "r = int(input(\"R:\"))\n",
    "res  = si(p,n,r)\n",
    "\n",
    "print(p,\"principal amount\")\n",
    "print(res,\"Interest\")\n",
    "print(p + res , \"Total Amount to be received\")\n"
   ]
  },
  {
   "cell_type": "code",
   "execution_count": 14,
   "id": "a5443e44",
   "metadata": {},
   "outputs": [
    {
     "name": "stdout",
     "output_type": "stream",
     "text": [
      "3.36\n"
     ]
    }
   ],
   "source": [
    "def si(p= 1000,n= 1,r= 5):\n",
    "    s = (p * n * r)/100\n",
    "    return s\n",
    "print(si(6,7,8))"
   ]
  },
  {
   "cell_type": "code",
   "execution_count": 15,
   "id": "2b590aba",
   "metadata": {},
   "outputs": [
    {
     "ename": "SyntaxError",
     "evalue": "non-default argument follows default argument (736729465.py, line 1)",
     "output_type": "error",
     "traceback": [
      "\u001b[1;36m  Cell \u001b[1;32mIn[15], line 1\u001b[1;36m\u001b[0m\n\u001b[1;33m    def si(p= 1000,n,r= 5):\u001b[0m\n\u001b[1;37m                   ^\u001b[0m\n\u001b[1;31mSyntaxError\u001b[0m\u001b[1;31m:\u001b[0m non-default argument follows default argument\n"
     ]
    }
   ],
   "source": [
    "def si(p= 1000,n,r= 5):\n",
    "    s = (p * n * r)/100\n",
    "    return s\n",
    "print(si(6,7,8))"
   ]
  },
  {
   "cell_type": "code",
   "execution_count": 16,
   "id": "a6e3ce3a",
   "metadata": {},
   "outputs": [
    {
     "name": "stdout",
     "output_type": "stream",
     "text": [
      "3.36\n"
     ]
    }
   ],
   "source": [
    "def si(p,n,r= 5):\n",
    "    s = (p * n * r)/100\n",
    "    return s\n",
    "print(si(6,7,8))"
   ]
  },
  {
   "cell_type": "code",
   "execution_count": null,
   "id": "37ad5376",
   "metadata": {},
   "outputs": [],
   "source": [
    "def si(p,n=\n",
    "       7,r= 5):\n",
    "    s = (p * n * r)/100\n",
    "    return s\n",
    "print(si(6,7,8))"
   ]
  },
  {
   "cell_type": "code",
   "execution_count": 5,
   "id": "66cee78b",
   "metadata": {},
   "outputs": [
    {
     "ename": "TypeError",
     "evalue": "si() got an unexpected keyword argument 'rr'",
     "output_type": "error",
     "traceback": [
      "\u001b[1;31m---------------------------------------------------------------------------\u001b[0m",
      "\u001b[1;31mTypeError\u001b[0m                                 Traceback (most recent call last)",
      "Cell \u001b[1;32mIn[5], line 4\u001b[0m\n\u001b[0;32m      2\u001b[0m     s \u001b[38;5;241m=\u001b[39m (p \u001b[38;5;241m*\u001b[39m n \u001b[38;5;241m*\u001b[39m r)\u001b[38;5;241m/\u001b[39m\u001b[38;5;241m100\u001b[39m\n\u001b[0;32m      3\u001b[0m     \u001b[38;5;28;01mreturn\u001b[39;00m s\n\u001b[1;32m----> 4\u001b[0m \u001b[38;5;28mprint\u001b[39m(si(rr \u001b[38;5;241m=\u001b[39m \u001b[38;5;241m6\u001b[39m,n \u001b[38;5;241m=\u001b[39m \u001b[38;5;241m2\u001b[39m, p \u001b[38;5;241m=\u001b[39m \u001b[38;5;241m100\u001b[39m))\n",
      "\u001b[1;31mTypeError\u001b[0m: si() got an unexpected keyword argument 'rr'"
     ]
    }
   ],
   "source": [
    "def si(p,n,r):\n",
    "    s = (p * n * r)/100\n",
    "    return s\n",
    "print(si(rr = 6,n = 2, p = 100))"
   ]
  },
  {
   "cell_type": "code",
   "execution_count": 6,
   "id": "63192c9e",
   "metadata": {},
   "outputs": [
    {
     "name": "stdout",
     "output_type": "stream",
     "text": [
      "P: 100\n",
      "N: 2\n",
      "R: 5\n",
      "10.0\n"
     ]
    }
   ],
   "source": [
    "def si(p,n,r):\n",
    "    print(\"P:\",p)\n",
    "    print(\"N:\",n)\n",
    "    print(\"R:\",r)\n",
    "    s = (p * n * r)/100\n",
    "    return s\n",
    "print(si(100,2,5))"
   ]
  },
  {
   "cell_type": "code",
   "execution_count": 7,
   "id": "20517109",
   "metadata": {},
   "outputs": [
    {
     "ename": "TypeError",
     "evalue": "si() missing 2 required positional arguments: 'n' and 'r'",
     "output_type": "error",
     "traceback": [
      "\u001b[1;31m---------------------------------------------------------------------------\u001b[0m",
      "\u001b[1;31mTypeError\u001b[0m                                 Traceback (most recent call last)",
      "Cell \u001b[1;32mIn[7], line 1\u001b[0m\n\u001b[1;32m----> 1\u001b[0m \u001b[38;5;28mprint\u001b[39m(si(\u001b[38;5;241m1000\u001b[39m))\n",
      "\u001b[1;31mTypeError\u001b[0m: si() missing 2 required positional arguments: 'n' and 'r'"
     ]
    }
   ],
   "source": [
    "print(si(1000))"
   ]
  },
  {
   "cell_type": "code",
   "execution_count": 10,
   "id": "61fc3ed0",
   "metadata": {},
   "outputs": [
    {
     "name": "stdout",
     "output_type": "stream",
     "text": [
      "P: 1000\n",
      "N: 2\n",
      "R: 5\n",
      "100.0\n"
     ]
    }
   ],
   "source": [
    "print(si(r =5,p =1000,n =2))"
   ]
  },
  {
   "cell_type": "code",
   "execution_count": 11,
   "id": "1c88ca81",
   "metadata": {},
   "outputs": [
    {
     "ename": "TypeError",
     "evalue": "si() got an unexpected keyword argument 'rr'",
     "output_type": "error",
     "traceback": [
      "\u001b[1;31m---------------------------------------------------------------------------\u001b[0m",
      "\u001b[1;31mTypeError\u001b[0m                                 Traceback (most recent call last)",
      "Cell \u001b[1;32mIn[11], line 1\u001b[0m\n\u001b[1;32m----> 1\u001b[0m \u001b[38;5;28mprint\u001b[39m(si(rr \u001b[38;5;241m=\u001b[39m\u001b[38;5;241m5\u001b[39m,p \u001b[38;5;241m=\u001b[39m\u001b[38;5;241m1000\u001b[39m,n \u001b[38;5;241m=\u001b[39m\u001b[38;5;241m2\u001b[39m))\n",
      "\u001b[1;31mTypeError\u001b[0m: si() got an unexpected keyword argument 'rr'"
     ]
    }
   ],
   "source": [
    "print(si(rr =5,p =1000,n =2))"
   ]
  },
  {
   "cell_type": "code",
   "execution_count": 12,
   "id": "fc397b00",
   "metadata": {},
   "outputs": [
    {
     "ename": "TypeError",
     "evalue": "si() got multiple values for argument 'p'",
     "output_type": "error",
     "traceback": [
      "\u001b[1;31m---------------------------------------------------------------------------\u001b[0m",
      "\u001b[1;31mTypeError\u001b[0m                                 Traceback (most recent call last)",
      "Cell \u001b[1;32mIn[12], line 1\u001b[0m\n\u001b[1;32m----> 1\u001b[0m \u001b[38;5;28mprint\u001b[39m(si(\u001b[38;5;241m5000\u001b[39m,r \u001b[38;5;241m=\u001b[39m\u001b[38;5;241m5\u001b[39m,p \u001b[38;5;241m=\u001b[39m\u001b[38;5;241m1000\u001b[39m,n \u001b[38;5;241m=\u001b[39m\u001b[38;5;241m2\u001b[39m))\n",
      "\u001b[1;31mTypeError\u001b[0m: si() got multiple values for argument 'p'"
     ]
    }
   ],
   "source": [
    "print(si(5000,r =5,p =1000,n =2))"
   ]
  },
  {
   "cell_type": "code",
   "execution_count": 3,
   "id": "46abe293",
   "metadata": {},
   "outputs": [
    {
     "name": "stdout",
     "output_type": "stream",
     "text": [
      "a:50\n",
      "OPerator:*\n",
      "b:80\n",
      "Result: 4000.0\n"
     ]
    }
   ],
   "source": [
    "def calculator(x,op,y):\n",
    "    if op == '+':\n",
    "        return x + y\n",
    "    elif op == '-':\n",
    "        return x - y\n",
    "    elif op == '*':\n",
    "        return x * y\n",
    "    elif op == '/':\n",
    "        return x/y\n",
    "\n",
    "a= float(input(\"a:\"))\n",
    "op = input(\"OPerator:\")\n",
    "b = float(input(\"b:\"))\n",
    "print(\"Result:\",calculator(a,op,b))"
   ]
  },
  {
   "cell_type": "code",
   "execution_count": 4,
   "id": "9855e46d",
   "metadata": {},
   "outputs": [
    {
     "name": "stdout",
     "output_type": "stream",
     "text": [
      "(92, 98, 95)\n"
     ]
    }
   ],
   "source": [
    "def calc(x,y,z):\n",
    "    return x +2, y + 3, z +5\n",
    "print(calc(90,95,90))"
   ]
  },
  {
   "cell_type": "code",
   "execution_count": 5,
   "id": "417dec06",
   "metadata": {},
   "outputs": [
    {
     "name": "stdout",
     "output_type": "stream",
     "text": [
      "92\n",
      "98\n",
      "95\n"
     ]
    }
   ],
   "source": [
    "def calc(x,y,z):\n",
    "    return x +2, y + 3, z +5\n",
    "t1,t2,t3 =calc(90,95,90)\n",
    "print(t1)\n",
    "print(t2)\n",
    "print(t3)"
   ]
  },
  {
   "cell_type": "code",
   "execution_count": null,
   "id": "9436cf55",
   "metadata": {},
   "outputs": [],
   "source": [
    "def enclosed():\n",
    "    ea = 5\n",
    "    print(x)\n",
    "    def local():\n",
    "        lx = 10\n",
    "        print(\"Enclosed:\",ea)\n",
    "        print('local',lx)\n",
    "    local()\n",
    "x = 20\n",
    "enclosed()\n",
    "print(\"Global:\",x)\n",
    "print(__name__)"
   ]
  }
 ],
 "metadata": {
  "kernelspec": {
   "display_name": "Python 3 (ipykernel)",
   "language": "python",
   "name": "python3"
  },
  "language_info": {
   "codemirror_mode": {
    "name": "ipython",
    "version": 3
   },
   "file_extension": ".py",
   "mimetype": "text/x-python",
   "name": "python",
   "nbconvert_exporter": "python",
   "pygments_lexer": "ipython3",
   "version": "3.11.3"
  }
 },
 "nbformat": 4,
 "nbformat_minor": 5
}
