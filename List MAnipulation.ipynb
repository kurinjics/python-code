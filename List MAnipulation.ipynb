{
 "cells": [
  {
   "cell_type": "code",
   "execution_count": 2,
   "id": "610b2542",
   "metadata": {},
   "outputs": [
    {
     "name": "stdout",
     "output_type": "stream",
     "text": [
      "[1, 2, 3, 5, 6]\n"
     ]
    }
   ],
   "source": [
    "x = [1,2,3]\n",
    "y = [5,6]\n",
    "z =x + y\n",
    "print(z)"
   ]
  },
  {
   "cell_type": "code",
   "execution_count": 3,
   "id": "30855425",
   "metadata": {},
   "outputs": [
    {
     "name": "stdout",
     "output_type": "stream",
     "text": [
      "[1, 2, 3, 1, 2, 3, 1, 2, 3, 1, 2, 3, 1, 2, 3]\n"
     ]
    }
   ],
   "source": [
    "print(x * 5)"
   ]
  },
  {
   "cell_type": "code",
   "execution_count": 4,
   "id": "3f82bee5",
   "metadata": {},
   "outputs": [
    {
     "name": "stdout",
     "output_type": "stream",
     "text": [
      "None\n"
     ]
    }
   ],
   "source": [
    "L = []\n",
    "print(L.append(10))"
   ]
  },
  {
   "cell_type": "code",
   "execution_count": 5,
   "id": "94481e61",
   "metadata": {},
   "outputs": [
    {
     "name": "stdout",
     "output_type": "stream",
     "text": [
      "[10]\n"
     ]
    }
   ],
   "source": [
    "print(L)"
   ]
  },
  {
   "cell_type": "code",
   "execution_count": null,
   "id": "81953430",
   "metadata": {},
   "outputs": [],
   "source": [
    "L.append(9)\n",
    "print(L)"
   ]
  },
  {
   "cell_type": "code",
   "execution_count": null,
   "id": "3e463653",
   "metadata": {},
   "outputs": [],
   "source": [
    "for i in range(11,100,10):\n",
    "    L.append(i)\n",
    "print(L)"
   ]
  },
  {
   "cell_type": "code",
   "execution_count": null,
   "id": "c91f617b",
   "metadata": {},
   "outputs": [],
   "source": [
    "L.append([100,10])"
   ]
  },
  {
   "cell_type": "code",
   "execution_count": null,
   "id": "f8dff4eb",
   "metadata": {},
   "outputs": [],
   "source": [
    "print(L)"
   ]
  },
  {
   "cell_type": "code",
   "execution_count": null,
   "id": "19bf9a7d",
   "metadata": {},
   "outputs": [],
   "source": [
    "L.extend([100])"
   ]
  },
  {
   "cell_type": "code",
   "execution_count": null,
   "id": "0cebebd6",
   "metadata": {},
   "outputs": [],
   "source": [
    "print(L)"
   ]
  },
  {
   "cell_type": "code",
   "execution_count": null,
   "id": "813de6b9",
   "metadata": {},
   "outputs": [],
   "source": [
    "x = []\n",
    "x.extend([\"Raj\",\"Sumi\",\"Saran\",[10,20,30]])\n",
    "print(x)"
   ]
  },
  {
   "cell_type": "code",
   "execution_count": null,
   "id": "86ad0762",
   "metadata": {},
   "outputs": [],
   "source": [
    "x.extend([70,30,60,100])"
   ]
  },
  {
   "cell_type": "code",
   "execution_count": null,
   "id": "604ed54a",
   "metadata": {},
   "outputs": [],
   "source": [
    "print(x)"
   ]
  },
  {
   "cell_type": "code",
   "execution_count": null,
   "id": "57671911",
   "metadata": {},
   "outputs": [],
   "source": [
    "x.extend('abcd')\n",
    "print(x)"
   ]
  },
  {
   "cell_type": "code",
   "execution_count": null,
   "id": "627ec185",
   "metadata": {},
   "outputs": [],
   "source": [
    "x.insert(2, 100)\n",
    "print(x)"
   ]
  },
  {
   "cell_type": "code",
   "execution_count": null,
   "id": "a02d1d02",
   "metadata": {},
   "outputs": [],
   "source": [
    "x.insert(3,1,2)"
   ]
  },
  {
   "cell_type": "code",
   "execution_count": null,
   "id": "535f0423",
   "metadata": {},
   "outputs": [],
   "source": [
    "x[3] = [1,2]"
   ]
  },
  {
   "cell_type": "code",
   "execution_count": null,
   "id": "9e756a91",
   "metadata": {},
   "outputs": [],
   "source": [
    "print(x)"
   ]
  },
  {
   "cell_type": "code",
   "execution_count": null,
   "id": "d6c6e9d4",
   "metadata": {},
   "outputs": [],
   "source": [
    "x[3]. extend({2,3})"
   ]
  },
  {
   "cell_type": "code",
   "execution_count": null,
   "id": "9d667274",
   "metadata": {},
   "outputs": [],
   "source": [
    "print(x)"
   ]
  },
  {
   "cell_type": "code",
   "execution_count": null,
   "id": "b0cb8e3e",
   "metadata": {},
   "outputs": [],
   "source": [
    "y = x\n",
    "print(x)\n",
    "print(y)"
   ]
  },
  {
   "cell_type": "code",
   "execution_count": null,
   "id": "dae84c9e",
   "metadata": {},
   "outputs": [],
   "source": [
    "y.append(100)\n",
    "print(x)\n",
    "print(y)"
   ]
  },
  {
   "cell_type": "code",
   "execution_count": null,
   "id": "0ef5c838",
   "metadata": {},
   "outputs": [],
   "source": [
    "z = y.copy()\n",
    "print(x)\n",
    "print(y),print(z)"
   ]
  },
  {
   "cell_type": "code",
   "execution_count": null,
   "id": "a03303ea",
   "metadata": {},
   "outputs": [],
   "source": [
    "y.extend([7,8])"
   ]
  },
  {
   "cell_type": "code",
   "execution_count": null,
   "id": "e279b198",
   "metadata": {},
   "outputs": [],
   "source": [
    "print(\"x:\",id(x),x)\n",
    "print(\"y:\",id(y),y)\n",
    "print(\"z:\",id(z),z)"
   ]
  },
  {
   "cell_type": "code",
   "execution_count": null,
   "id": "3e947d44",
   "metadata": {},
   "outputs": [],
   "source": [
    "r = x.pop() # delete an ele from the end of the list - return \n",
    "print(r)\n",
    "print(x)\n"
   ]
  },
  {
   "cell_type": "code",
   "execution_count": null,
   "id": "a311e428",
   "metadata": {},
   "outputs": [],
   "source": [
    "re = x.pop(3)\n",
    "print(x)\n",
    "print(re)"
   ]
  },
  {
   "cell_type": "code",
   "execution_count": null,
   "id": "1cbc9c05",
   "metadata": {},
   "outputs": [],
   "source": [
    "ll = [2,3,4,5,3,2,3,6]\n",
    "ree = ll.remove(2)\n",
    "print(ree)\n",
    "print(ll)"
   ]
  },
  {
   "cell_type": "code",
   "execution_count": null,
   "id": "1b700f5a",
   "metadata": {},
   "outputs": [],
   "source": [
    "ree = ll.remove(21)\n",
    "print(ree)\n",
    "print(ll)"
   ]
  },
  {
   "cell_type": "code",
   "execution_count": 1,
   "id": "0d014fb4",
   "metadata": {},
   "outputs": [
    {
     "name": "stdout",
     "output_type": "stream",
     "text": [
      "None\n"
     ]
    }
   ],
   "source": [
    "l = ['RAM','SUNDAR','RAVI']\n",
    "print(l.clear())"
   ]
  },
  {
   "cell_type": "code",
   "execution_count": 2,
   "id": "2bee6f2d",
   "metadata": {},
   "outputs": [
    {
     "name": "stdout",
     "output_type": "stream",
     "text": [
      "[]\n"
     ]
    }
   ],
   "source": [
    "print(l)"
   ]
  },
  {
   "cell_type": "code",
   "execution_count": 7,
   "id": "5f2e92c3",
   "metadata": {},
   "outputs": [
    {
     "name": "stdout",
     "output_type": "stream",
     "text": [
      "Original list before sort: [400, 480, 500, 300, 100, 350, 300] 1801604216960\n",
      "After sort: [100, 300, 300, 350, 400, 480, 500] 1801604216960\n"
     ]
    }
   ],
   "source": [
    "l = [400, 480,500,300 ,100,350,300]\n",
    "print(\"Original list before sort:\",l,id(l))\n",
    "l.sort()\n",
    "print(\"After sort:\",l,id(l))"
   ]
  },
  {
   "cell_type": "code",
   "execution_count": 4,
   "id": "8e1c751b",
   "metadata": {},
   "outputs": [
    {
     "name": "stdout",
     "output_type": "stream",
     "text": [
      "[100, 300, 300, 350, 400, 480, 500]\n"
     ]
    }
   ],
   "source": [
    "print(l)"
   ]
  },
  {
   "cell_type": "code",
   "execution_count": 8,
   "id": "3aaa8b80",
   "metadata": {},
   "outputs": [
    {
     "name": "stdout",
     "output_type": "stream",
     "text": [
      "[400, 480, 500, 300, 100, 350, 300] 1801604215680\n",
      "[100, 300, 300, 350, 400, 480, 500]\n",
      "[400, 480, 500, 300, 100, 350, 300] 1801604215680\n",
      "1801605352384\n"
     ]
    }
   ],
   "source": [
    "l1 = [400, 480,500,300 ,100,350,300]\n",
    "print(l1,id(l1))\n",
    "print(sorted(l1))\n",
    "print(l1,id(l1))\n",
    "print(id(sorted(l1)))"
   ]
  },
  {
   "cell_type": "code",
   "execution_count": null,
   "id": "6b057732",
   "metadata": {},
   "outputs": [],
   "source": []
  }
 ],
 "metadata": {
  "kernelspec": {
   "display_name": "Python 3 (ipykernel)",
   "language": "python",
   "name": "python3"
  },
  "language_info": {
   "codemirror_mode": {
    "name": "ipython",
    "version": 3
   },
   "file_extension": ".py",
   "mimetype": "text/x-python",
   "name": "python",
   "nbconvert_exporter": "python",
   "pygments_lexer": "ipython3",
   "version": "3.11.3"
  }
 },
 "nbformat": 4,
 "nbformat_minor": 5
}
