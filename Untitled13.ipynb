{
 "cells": [
  {
   "cell_type": "code",
   "execution_count": null,
   "id": "80f5e7e2",
   "metadata": {},
   "outputs": [],
   "source": [
    "# Importing Image class from PIL module\n",
    "from PIL import Image\n",
    " \n",
    "# Opens a image in RGB mode\n",
    "im = Image.open(r\"C:\\Users\\Admin\\Pictures\\geeks.png\")\n",
    " \n",
    "# Size of the image in pixels (size of original image)\n",
    "# (This is not mandatory)\n",
    "width, height = im.size\n",
    " \n",
    "# Setting the points for cropped image\n",
    "left = 5\n",
    "top = height / 4\n",
    "right = 164\n",
    "bottom = 3 * height / 4\n",
    " \n",
    "# Cropped image of above dimension\n",
    "# (It will not change original image)\n",
    "im1 = im.crop((left, top, right, bottom))\n",
    " \n",
    "# Shows the image in image viewer\n",
    "im1.show()"
   ]
  },
  {
   "cell_type": "code",
   "execution_count": 2,
   "id": "1dc754a4",
   "metadata": {},
   "outputs": [
    {
     "name": "stdout",
     "output_type": "stream",
     "text": [
      "['this', 'is', 'am', 'i', 'wont', 'react', 'too', 'much', 'take', 'it', 'easy']\n"
     ]
    }
   ],
   "source": [
    "s = \"this is am i wont react too much take it easy\"\n",
    "print(s.split())"
   ]
  },
  {
   "cell_type": "code",
   "execution_count": 4,
   "id": "0de4da6e",
   "metadata": {},
   "outputs": [
    {
     "name": "stdout",
     "output_type": "stream",
     "text": [
      "['this is ', 'm i wont re', 'ct too much t', 'ke it e', 'sy']\n"
     ]
    }
   ],
   "source": [
    "print(s.split('a'))"
   ]
  },
  {
   "cell_type": "code",
   "execution_count": 5,
   "id": "e58dd35c",
   "metadata": {},
   "outputs": [
    {
     "name": "stdout",
     "output_type": "stream",
     "text": [
      "('this is ', 'am', ' i wont react too much take it easy')\n"
     ]
    }
   ],
   "source": [
    "print(s.partition('am'))"
   ]
  },
  {
   "cell_type": "code",
   "execution_count": 6,
   "id": "5fca74ae",
   "metadata": {},
   "outputs": [
    {
     "name": "stdout",
     "output_type": "stream",
     "text": [
      "('this is am i wont react too much take it easy', '', '')\n"
     ]
    }
   ],
   "source": [
    "print(s.partition('ammmm'))"
   ]
  },
  {
   "cell_type": "code",
   "execution_count": null,
   "id": "6553bc71",
   "metadata": {},
   "outputs": [],
   "source": []
  }
 ],
 "metadata": {
  "kernelspec": {
   "display_name": "Python 3 (ipykernel)",
   "language": "python",
   "name": "python3"
  },
  "language_info": {
   "codemirror_mode": {
    "name": "ipython",
    "version": 3
   },
   "file_extension": ".py",
   "mimetype": "text/x-python",
   "name": "python",
   "nbconvert_exporter": "python",
   "pygments_lexer": "ipython3",
   "version": "3.11.3"
  }
 },
 "nbformat": 4,
 "nbformat_minor": 5
}
