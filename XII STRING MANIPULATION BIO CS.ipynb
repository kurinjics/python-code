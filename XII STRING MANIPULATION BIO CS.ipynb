{
 "cells": [
  {
   "cell_type": "code",
   "execution_count": 1,
   "id": "71dae714",
   "metadata": {},
   "outputs": [],
   "source": [
    "Motivate = \"Believe in Yourself\""
   ]
  },
  {
   "cell_type": "code",
   "execution_count": 2,
   "id": "900e39b1",
   "metadata": {},
   "outputs": [
    {
     "name": "stdout",
     "output_type": "stream",
     "text": [
      "Believe in Yourself <class 'str'> 19\n"
     ]
    }
   ],
   "source": [
    "print(Motivate,type(Motivate),len(Motivate))"
   ]
  },
  {
   "cell_type": "code",
   "execution_count": 5,
   "id": "f44e553f",
   "metadata": {},
   "outputs": [
    {
     "name": "stdout",
     "output_type": "stream",
     "text": [
      "never 19\n"
     ]
    }
   ],
   "source": [
    "x = \"never stop learning\"\n",
    "print(x[0:5],len(x)) #String Slicing <identifier>[[<start:]<stop>[:<Step>]]"
   ]
  },
  {
   "cell_type": "code",
   "execution_count": 4,
   "id": "b478b232",
   "metadata": {},
   "outputs": [
    {
     "name": "stdout",
     "output_type": "stream",
     "text": [
      "nvr\n"
     ]
    }
   ],
   "source": [
    "print(x[0:5:2])"
   ]
  },
  {
   "cell_type": "code",
   "execution_count": 7,
   "id": "27f1b7d2",
   "metadata": {},
   "outputs": [
    {
     "name": "stdout",
     "output_type": "stream",
     "text": [
      "gninrael pots reve\n"
     ]
    }
   ],
   "source": [
    "print(x[len(x):0:-1])"
   ]
  },
  {
   "cell_type": "code",
   "execution_count": 8,
   "id": "265f01a9",
   "metadata": {},
   "outputs": [
    {
     "name": "stdout",
     "output_type": "stream",
     "text": [
      "gninrael pots reven\n"
     ]
    }
   ],
   "source": [
    "print(x[len(x)::-1])"
   ]
  },
  {
   "cell_type": "code",
   "execution_count": 10,
   "id": "4b8834d6",
   "metadata": {},
   "outputs": [
    {
     "name": "stdout",
     "output_type": "stream",
     "text": [
      "malayalam\n"
     ]
    }
   ],
   "source": [
    "x =\"malayalam\"\n",
    "print(x[::-1])"
   ]
  },
  {
   "cell_type": "code",
   "execution_count": 11,
   "id": "7fbc3e6d",
   "metadata": {},
   "outputs": [
    {
     "name": "stdout",
     "output_type": "stream",
     "text": [
      "malayalam\n"
     ]
    }
   ],
   "source": [
    "print(x[0:25])"
   ]
  },
  {
   "cell_type": "code",
   "execution_count": 12,
   "id": "b29e5bb4",
   "metadata": {},
   "outputs": [
    {
     "name": "stdout",
     "output_type": "stream",
     "text": [
      "malayalam\n"
     ]
    }
   ],
   "source": [
    "print(x[-25:20])"
   ]
  },
  {
   "cell_type": "code",
   "execution_count": 14,
   "id": "5edf9839",
   "metadata": {},
   "outputs": [
    {
     "name": "stdout",
     "output_type": "stream",
     "text": [
      "Tamilnadu\n"
     ]
    }
   ],
   "source": [
    "print(\"Tamil\"+\"nadu\")"
   ]
  },
  {
   "cell_type": "code",
   "execution_count": 16,
   "id": "4986e7e4",
   "metadata": {},
   "outputs": [
    {
     "name": "stdout",
     "output_type": "stream",
     "text": [
      "Tamilnadu Tamilnadu Tamilnadu Tamilnadu Tamilnadu Tamilnadu Tamilnadu Tamilnadu Tamilnadu Tamilnadu Tamilnadu Tamilnadu Tamilnadu Tamilnadu Tamilnadu \n"
     ]
    }
   ],
   "source": [
    "print(\"Tamilnadu \"*15)"
   ]
  },
  {
   "cell_type": "code",
   "execution_count": 17,
   "id": "251c7522",
   "metadata": {},
   "outputs": [
    {
     "name": "stdout",
     "output_type": "stream",
     "text": [
      "True\n"
     ]
    }
   ],
   "source": [
    "x =\"In cs lab 25 system were in working condition\"\n",
    "print(\"cs\" in x)"
   ]
  },
  {
   "cell_type": "code",
   "execution_count": 18,
   "id": "17018d55",
   "metadata": {},
   "outputs": [
    {
     "name": "stdout",
     "output_type": "stream",
     "text": [
      "False\n"
     ]
    }
   ],
   "source": [
    "print(\"BIO\" in x)"
   ]
  },
  {
   "cell_type": "code",
   "execution_count": 19,
   "id": "6c53b0ae",
   "metadata": {},
   "outputs": [
    {
     "name": "stdout",
     "output_type": "stream",
     "text": [
      "True\n"
     ]
    }
   ],
   "source": [
    "print(\"Bio\" not in x)"
   ]
  },
  {
   "cell_type": "code",
   "execution_count": 20,
   "id": "12240101",
   "metadata": {},
   "outputs": [
    {
     "name": "stdout",
     "output_type": "stream",
     "text": [
      "True\n"
     ]
    }
   ],
   "source": [
    "print(\"CS\" not in x)"
   ]
  },
  {
   "cell_type": "code",
   "execution_count": 21,
   "id": "cd289ba9",
   "metadata": {},
   "outputs": [
    {
     "name": "stdout",
     "output_type": "stream",
     "text": [
      "False\n"
     ]
    }
   ],
   "source": [
    "print(\"cs\" not in x)"
   ]
  },
  {
   "cell_type": "code",
   "execution_count": 22,
   "id": "6dce4323",
   "metadata": {},
   "outputs": [
    {
     "name": "stdout",
     "output_type": "stream",
     "text": [
      "True\n"
     ]
    }
   ],
   "source": [
    "print('a' == 'a')"
   ]
  },
  {
   "cell_type": "code",
   "execution_count": 23,
   "id": "7756c90d",
   "metadata": {},
   "outputs": [
    {
     "name": "stdout",
     "output_type": "stream",
     "text": [
      "False\n"
     ]
    }
   ],
   "source": [
    "print('a' == \"A\")"
   ]
  },
  {
   "cell_type": "code",
   "execution_count": 24,
   "id": "a0c7aa35",
   "metadata": {},
   "outputs": [
    {
     "name": "stdout",
     "output_type": "stream",
     "text": [
      "True\n"
     ]
    }
   ],
   "source": [
    "print('AB' < 'B')"
   ]
  },
  {
   "cell_type": "code",
   "execution_count": 25,
   "id": "c7780f02",
   "metadata": {},
   "outputs": [
    {
     "name": "stdout",
     "output_type": "stream",
     "text": [
      "True\n"
     ]
    }
   ],
   "source": [
    "print('AB'<'BA')"
   ]
  },
  {
   "cell_type": "code",
   "execution_count": 26,
   "id": "05c53d49",
   "metadata": {},
   "outputs": [
    {
     "name": "stdout",
     "output_type": "stream",
     "text": [
      "False\n"
     ]
    }
   ],
   "source": [
    "print('CB'<'BA')"
   ]
  },
  {
   "cell_type": "code",
   "execution_count": 1,
   "id": "e143999e",
   "metadata": {},
   "outputs": [
    {
     "name": "stdout",
     "output_type": "stream",
     "text": [
      "True\n"
     ]
    }
   ],
   "source": [
    "print('aaad' >= 'aaac')"
   ]
  },
  {
   "cell_type": "code",
   "execution_count": 32,
   "id": "fbb2803e",
   "metadata": {},
   "outputs": [
    {
     "name": "stdout",
     "output_type": "stream",
     "text": [
      "False\n"
     ]
    }
   ],
   "source": [
    "print('aaab' <= 'aaa')"
   ]
  },
  {
   "cell_type": "code",
   "execution_count": 34,
   "id": "fcd42df7",
   "metadata": {},
   "outputs": [
    {
     "name": "stdout",
     "output_type": "stream",
     "text": [
      "True\n"
     ]
    }
   ],
   "source": [
    "print('aaab' >= 'aaaa')"
   ]
  },
  {
   "cell_type": "code",
   "execution_count": 38,
   "id": "ec0050c0",
   "metadata": {},
   "outputs": [
    {
     "name": "stdout",
     "output_type": "stream",
     "text": [
      "w\n",
      "i\n",
      "n\n",
      "-\n",
      "w\n",
      "i\n",
      "n\n"
     ]
    }
   ],
   "source": [
    "habit4 = 'win-win'\n",
    "for i in habit4:\n",
    "    print(i)"
   ]
  },
  {
   "cell_type": "code",
   "execution_count": 39,
   "id": "8d167024",
   "metadata": {},
   "outputs": [
    {
     "name": "stdout",
     "output_type": "stream",
     "text": [
      "Win-win\n"
     ]
    }
   ],
   "source": [
    "print(habit4.capitalize())"
   ]
  },
  {
   "cell_type": "code",
   "execution_count": 40,
   "id": "22824982",
   "metadata": {},
   "outputs": [
    {
     "name": "stdout",
     "output_type": "stream",
     "text": [
      "Never stop learning\n"
     ]
    }
   ],
   "source": [
    "life  = \"never Stop learning\"\n",
    "print(life.capitalize())"
   ]
  },
  {
   "cell_type": "code",
   "execution_count": 41,
   "id": "0a4d7aaf",
   "metadata": {},
   "outputs": [
    {
     "name": "stdout",
     "output_type": "stream",
     "text": [
      "Never Stop Learning\n"
     ]
    }
   ],
   "source": [
    "print(life.title())"
   ]
  },
  {
   "cell_type": "code",
   "execution_count": 42,
   "id": "3818b743",
   "metadata": {},
   "outputs": [
    {
     "name": "stdout",
     "output_type": "stream",
     "text": [
      "NEVER STOP LEARNING\n"
     ]
    }
   ],
   "source": [
    "print(life.upper())"
   ]
  },
  {
   "cell_type": "code",
   "execution_count": 43,
   "id": "0e6fe167",
   "metadata": {},
   "outputs": [
    {
     "name": "stdout",
     "output_type": "stream",
     "text": [
      "never stop learning\n"
     ]
    }
   ],
   "source": [
    "print(life.lower())"
   ]
  },
  {
   "cell_type": "code",
   "execution_count": 1,
   "id": "c5851a5b",
   "metadata": {},
   "outputs": [],
   "source": [
    "poem = \"The poet’s own body is at the center of the book.\""
   ]
  },
  {
   "cell_type": "markdown",
   "id": "b5ed081c",
   "metadata": {},
   "source": [
    "print(poem.find('the'))"
   ]
  },
  {
   "cell_type": "code",
   "execution_count": 3,
   "id": "e75a11bd",
   "metadata": {},
   "outputs": [
    {
     "name": "stdout",
     "output_type": "stream",
     "text": [
      "0 T\n",
      "1 h\n",
      "2 e\n",
      "3  \n",
      "4 p\n",
      "5 o\n",
      "6 e\n",
      "7 t\n",
      "8 ’\n",
      "9 s\n",
      "10  \n",
      "11 o\n",
      "12 w\n",
      "13 n\n",
      "14  \n",
      "15 b\n",
      "16 o\n",
      "17 d\n",
      "18 y\n",
      "19  \n",
      "20 i\n",
      "21 s\n",
      "22  \n",
      "23 a\n",
      "24 t\n",
      "25  \n",
      "26 t\n",
      "27 h\n",
      "28 e\n",
      "29  \n",
      "30 c\n",
      "31 e\n",
      "32 n\n",
      "33 t\n",
      "34 e\n",
      "35 r\n",
      "36  \n",
      "37 o\n",
      "38 f\n",
      "39  \n",
      "40 t\n",
      "41 h\n",
      "42 e\n",
      "43  \n",
      "44 b\n",
      "45 o\n",
      "46 o\n",
      "47 k\n",
      "48 .\n"
     ]
    }
   ],
   "source": [
    "for i in range(len(poem)):\n",
    "    print(i, poem[i])"
   ]
  },
  {
   "cell_type": "code",
   "execution_count": 4,
   "id": "81637658",
   "metadata": {},
   "outputs": [
    {
     "name": "stdout",
     "output_type": "stream",
     "text": [
      "26\n"
     ]
    }
   ],
   "source": [
    "print(poem.find('the',26))"
   ]
  },
  {
   "cell_type": "code",
   "execution_count": 5,
   "id": "cebff504",
   "metadata": {},
   "outputs": [
    {
     "name": "stdout",
     "output_type": "stream",
     "text": [
      "40\n"
     ]
    }
   ],
   "source": [
    "print(poem.find('the',27))"
   ]
  },
  {
   "cell_type": "code",
   "execution_count": 6,
   "id": "794d318c",
   "metadata": {},
   "outputs": [
    {
     "name": "stdout",
     "output_type": "stream",
     "text": [
      "-1\n"
     ]
    }
   ],
   "source": [
    "print(poem.find('the',40,42))"
   ]
  },
  {
   "cell_type": "code",
   "execution_count": 7,
   "id": "031cb26e",
   "metadata": {},
   "outputs": [
    {
     "name": "stdout",
     "output_type": "stream",
     "text": [
      "-1\n"
     ]
    }
   ],
   "source": [
    "print(poem.find('hello',26))"
   ]
  },
  {
   "cell_type": "code",
   "execution_count": 8,
   "id": "33463ae6",
   "metadata": {},
   "outputs": [
    {
     "name": "stdout",
     "output_type": "stream",
     "text": [
      "The poet’s own body is at the center of the book.\n"
     ]
    }
   ],
   "source": [
    "print(poem)\n"
   ]
  },
  {
   "cell_type": "code",
   "execution_count": 9,
   "id": "9654d7f8",
   "metadata": {},
   "outputs": [
    {
     "name": "stdout",
     "output_type": "stream",
     "text": [
      "26\n"
     ]
    }
   ],
   "source": [
    "print(poem.index(\"the\"))"
   ]
  },
  {
   "cell_type": "code",
   "execution_count": 10,
   "id": "bce2f7ef",
   "metadata": {},
   "outputs": [
    {
     "name": "stdout",
     "output_type": "stream",
     "text": [
      "40\n"
     ]
    }
   ],
   "source": [
    "print(poem.index(\"the\",27))"
   ]
  },
  {
   "cell_type": "code",
   "execution_count": 11,
   "id": "11fef45e",
   "metadata": {},
   "outputs": [
    {
     "ename": "ValueError",
     "evalue": "substring not found",
     "output_type": "error",
     "traceback": [
      "\u001b[1;31m---------------------------------------------------------------------------\u001b[0m",
      "\u001b[1;31mValueError\u001b[0m                                Traceback (most recent call last)",
      "Cell \u001b[1;32mIn[11], line 1\u001b[0m\n\u001b[1;32m----> 1\u001b[0m \u001b[38;5;28mprint\u001b[39m(poem\u001b[38;5;241m.\u001b[39mindex(\u001b[38;5;124m\"\u001b[39m\u001b[38;5;124mthe\u001b[39m\u001b[38;5;124m\"\u001b[39m,\u001b[38;5;241m27\u001b[39m,\u001b[38;5;241m42\u001b[39m))\n",
      "\u001b[1;31mValueError\u001b[0m: substring not found"
     ]
    }
   ],
   "source": [
    "print(poem.index(\"the\",27,42))"
   ]
  },
  {
   "cell_type": "code",
   "execution_count": 13,
   "id": "3a9beda6",
   "metadata": {},
   "outputs": [
    {
     "name": "stdout",
     "output_type": "stream",
     "text": [
      "40\n"
     ]
    }
   ],
   "source": [
    "print(poem.index(\"the\",27,43))"
   ]
  },
  {
   "cell_type": "code",
   "execution_count": 16,
   "id": "76f01a97",
   "metadata": {},
   "outputs": [
    {
     "name": "stdout",
     "output_type": "stream",
     "text": [
      "The poet’s own body is at the center of the book.\n"
     ]
    }
   ],
   "source": [
    "print(poem)"
   ]
  },
  {
   "cell_type": "code",
   "execution_count": 15,
   "id": "1b002ce6",
   "metadata": {},
   "outputs": [
    {
     "name": "stdout",
     "output_type": "stream",
     "text": [
      "2\n"
     ]
    }
   ],
   "source": [
    "print(poem.count('the'))"
   ]
  },
  {
   "cell_type": "code",
   "execution_count": 20,
   "id": "20143d6b",
   "metadata": {},
   "outputs": [
    {
     "name": "stdout",
     "output_type": "stream",
     "text": [
      "3\n"
     ]
    }
   ],
   "source": [
    "print((poem.lower()).count(\"the\"))"
   ]
  },
  {
   "cell_type": "code",
   "execution_count": 19,
   "id": "d97d0e2e",
   "metadata": {},
   "outputs": [
    {
     "name": "stdout",
     "output_type": "stream",
     "text": [
      "3\n"
     ]
    }
   ],
   "source": [
    "print((poem.title()).count(\"The\"))"
   ]
  },
  {
   "cell_type": "code",
   "execution_count": 21,
   "id": "d0c9829a",
   "metadata": {},
   "outputs": [
    {
     "name": "stdout",
     "output_type": "stream",
     "text": [
      "2\n"
     ]
    }
   ],
   "source": [
    "print((poem.title()).count(\"The\",20))"
   ]
  },
  {
   "cell_type": "code",
   "execution_count": 22,
   "id": "3cf6c48d",
   "metadata": {},
   "outputs": [
    {
     "name": "stdout",
     "output_type": "stream",
     "text": [
      "1\n"
     ]
    }
   ],
   "source": [
    "print((poem.title()).count(\"The\",20,40))"
   ]
  },
  {
   "cell_type": "code",
   "execution_count": 23,
   "id": "dc0527cd",
   "metadata": {},
   "outputs": [
    {
     "name": "stdout",
     "output_type": "stream",
     "text": [
      "0\n"
     ]
    }
   ],
   "source": [
    "print((poem.title()).count(\"The\",20,25))"
   ]
  },
  {
   "cell_type": "code",
   "execution_count": 25,
   "id": "f35a740a",
   "metadata": {},
   "outputs": [
    {
     "name": "stdout",
     "output_type": "stream",
     "text": [
      "True\n"
     ]
    }
   ],
   "source": [
    "print(\"Muruga\".isalpha())"
   ]
  },
  {
   "cell_type": "code",
   "execution_count": 31,
   "id": "efa45da2",
   "metadata": {},
   "outputs": [
    {
     "name": "stdout",
     "output_type": "stream",
     "text": [
      "False\n"
     ]
    }
   ],
   "source": [
    "print(\"son and daughter\".isalpha())"
   ]
  },
  {
   "cell_type": "code",
   "execution_count": 33,
   "id": "f66af6d4",
   "metadata": {},
   "outputs": [
    {
     "name": "stdout",
     "output_type": "stream",
     "text": [
      "True\n"
     ]
    }
   ],
   "source": [
    "print(\"123\".isdigit())"
   ]
  },
  {
   "cell_type": "code",
   "execution_count": 34,
   "id": "323ff3b7",
   "metadata": {},
   "outputs": [
    {
     "name": "stdout",
     "output_type": "stream",
     "text": [
      "False\n"
     ]
    }
   ],
   "source": [
    "print(\"1 2 3\".isdigit())"
   ]
  },
  {
   "cell_type": "code",
   "execution_count": 35,
   "id": "8bb3d4c6",
   "metadata": {},
   "outputs": [
    {
     "name": "stdout",
     "output_type": "stream",
     "text": [
      "False\n"
     ]
    }
   ],
   "source": [
    "print(\"12%3\".isdigit())"
   ]
  },
  {
   "cell_type": "code",
   "execution_count": null,
   "id": "6b5fc26a",
   "metadata": {},
   "outputs": [],
   "source": [
    "print(\"123\".isdigit())\n"
   ]
  },
  {
   "cell_type": "code",
   "execution_count": 37,
   "id": "0895e8a8",
   "metadata": {},
   "outputs": [
    {
     "name": "stdout",
     "output_type": "stream",
     "text": [
      "True\n"
     ]
    }
   ],
   "source": [
    "print(\" \".isspace())"
   ]
  },
  {
   "cell_type": "code",
   "execution_count": 1,
   "id": "eecf7936",
   "metadata": {},
   "outputs": [
    {
     "name": "stdout",
     "output_type": "stream",
     "text": [
      "True\n"
     ]
    }
   ],
   "source": [
    "\n",
    "print(\"Neha123\".isalnum())"
   ]
  },
  {
   "cell_type": "code",
   "execution_count": 2,
   "id": "c1bd1552",
   "metadata": {},
   "outputs": [
    {
     "name": "stdout",
     "output_type": "stream",
     "text": [
      "True\n"
     ]
    }
   ],
   "source": [
    "print(\"Srinivas\".isalnum())"
   ]
  },
  {
   "cell_type": "code",
   "execution_count": 3,
   "id": "c5fafc65",
   "metadata": {},
   "outputs": [
    {
     "name": "stdout",
     "output_type": "stream",
     "text": [
      "True\n"
     ]
    }
   ],
   "source": [
    "print(\"123\".isalnum())"
   ]
  },
  {
   "cell_type": "code",
   "execution_count": 4,
   "id": "4a1b3a75",
   "metadata": {},
   "outputs": [
    {
     "name": "stdout",
     "output_type": "stream",
     "text": [
      "False\n"
     ]
    }
   ],
   "source": [
    "print(\"Preeti Arora123\".isalnum())"
   ]
  },
  {
   "cell_type": "code",
   "execution_count": 7,
   "id": "a4afa3aa",
   "metadata": {},
   "outputs": [
    {
     "name": "stdout",
     "output_type": "stream",
     "text": [
      "The Department Of Higher Education, Ministry Of Education, Government Of India\n"
     ]
    }
   ],
   "source": [
    "exam = \"The Department Of Higher Education, Ministry Of Education, Government Of India\"\n",
    "print(exam)"
   ]
  },
  {
   "cell_type": "code",
   "execution_count": 8,
   "id": "5bf7cb8d",
   "metadata": {},
   "outputs": [
    {
     "name": "stdout",
     "output_type": "stream",
     "text": [
      "True\n"
     ]
    }
   ],
   "source": [
    "print(exam.istitle())"
   ]
  },
  {
   "cell_type": "code",
   "execution_count": null,
   "id": "ebf5fb10",
   "metadata": {},
   "outputs": [],
   "source": [
    "x = \"e-mail address and Mobile Number\""
   ]
  },
  {
   "cell_type": "code",
   "execution_count": 10,
   "id": "5cfe8b48",
   "metadata": {},
   "outputs": [
    {
     "name": "stdout",
     "output_type": "stream",
     "text": [
      "                               technology                                     \n"
     ]
    }
   ],
   "source": [
    "print(\"                               technology                                     \")"
   ]
  },
  {
   "cell_type": "code",
   "execution_count": 11,
   "id": "6aabb3dd",
   "metadata": {},
   "outputs": [
    {
     "name": "stdout",
     "output_type": "stream",
     "text": [
      "technology\n"
     ]
    }
   ],
   "source": [
    "print(\"                                technology                                \".strip())"
   ]
  },
  {
   "cell_type": "code",
   "execution_count": 12,
   "id": "dff5d9fb",
   "metadata": {},
   "outputs": [
    {
     "name": "stdout",
     "output_type": "stream",
     "text": [
      "                                technology\n"
     ]
    }
   ],
   "source": [
    "print(\"                                technology                                \".rstrip())"
   ]
  },
  {
   "cell_type": "code",
   "execution_count": 13,
   "id": "bd71fc4d",
   "metadata": {},
   "outputs": [
    {
     "name": "stdout",
     "output_type": "stream",
     "text": [
      "technology                                \n"
     ]
    }
   ],
   "source": [
    "print(\"                                technology                                \".lstrip())"
   ]
  },
  {
   "cell_type": "code",
   "execution_count": 14,
   "id": "bb98d270",
   "metadata": {},
   "outputs": [
    {
     "name": "stdout",
     "output_type": "stream",
     "text": [
      "Techniqu\n"
     ]
    }
   ],
   "source": [
    "x = \"the\"\n",
    "print(\"Technique\".strip(x))"
   ]
  },
  {
   "cell_type": "code",
   "execution_count": 15,
   "id": "f8f0791a",
   "metadata": {},
   "outputs": [
    {
     "name": "stdout",
     "output_type": "stream",
     "text": [
      "chniqu\n"
     ]
    }
   ],
   "source": [
    "x = \"the\"\n",
    "print(\"technique\".strip(x))"
   ]
  },
  {
   "cell_type": "code",
   "execution_count": 16,
   "id": "2d9407d9",
   "metadata": {},
   "outputs": [
    {
     "name": "stdout",
     "output_type": "stream",
     "text": [
      "techn\n"
     ]
    }
   ],
   "source": [
    "x = 'zoology'\n",
    "print(\"technology\".strip(x))"
   ]
  },
  {
   "cell_type": "code",
   "execution_count": 17,
   "id": "15748418",
   "metadata": {},
   "outputs": [
    {
     "name": "stdout",
     "output_type": "stream",
     "text": [
      "\n"
     ]
    }
   ],
   "source": [
    "print('eeeeeeeeeeeeeteeeeeeeeeeeeeee'.strip('the'))"
   ]
  },
  {
   "cell_type": "code",
   "execution_count": 18,
   "id": "b74a0f37",
   "metadata": {},
   "outputs": [
    {
     "name": "stdout",
     "output_type": "stream",
     "text": [
      "ieeeeteeeeeej\n"
     ]
    }
   ],
   "source": [
    "print('eeeeeeeeeieeeeteeeeeejeeeeeeeee'.strip('the'))"
   ]
  },
  {
   "cell_type": "code",
   "execution_count": 19,
   "id": "50d96db0",
   "metadata": {},
   "outputs": [
    {
     "name": "stdout",
     "output_type": "stream",
     "text": [
      "\n"
     ]
    }
   ],
   "source": [
    "print('eeeeeeeeeeeeeteeeeeeeeeeeeeee'.lstrip('the'))"
   ]
  },
  {
   "cell_type": "code",
   "execution_count": 20,
   "id": "450bdbd4",
   "metadata": {},
   "outputs": [
    {
     "name": "stdout",
     "output_type": "stream",
     "text": [
      "layal\n"
     ]
    }
   ],
   "source": [
    "print(\"malayalam\".strip('am'))"
   ]
  },
  {
   "cell_type": "code",
   "execution_count": 21,
   "id": "cbc8cc6b",
   "metadata": {},
   "outputs": [
    {
     "name": "stdout",
     "output_type": "stream",
     "text": [
      "layalam\n"
     ]
    }
   ],
   "source": [
    "print(\"malayalam\".lstrip('am'))"
   ]
  },
  {
   "cell_type": "code",
   "execution_count": 22,
   "id": "385e5703",
   "metadata": {},
   "outputs": [
    {
     "name": "stdout",
     "output_type": "stream",
     "text": [
      "malayal\n"
     ]
    }
   ],
   "source": [
    "print(\"malayalam\".rstrip('am'))"
   ]
  },
  {
   "cell_type": "code",
   "execution_count": 23,
   "id": "c1580c21",
   "metadata": {},
   "outputs": [],
   "source": [
    "s = \"Success rely on your focus\""
   ]
  },
  {
   "cell_type": "code",
   "execution_count": 24,
   "id": "4b46c1e1",
   "metadata": {},
   "outputs": [
    {
     "name": "stdout",
     "output_type": "stream",
     "text": [
      "['Success', 'rely', 'on', 'your', 'focus']\n"
     ]
    }
   ],
   "source": [
    "print(s.split())"
   ]
  },
  {
   "cell_type": "code",
   "execution_count": 25,
   "id": "c4d86031",
   "metadata": {},
   "outputs": [
    {
     "name": "stdout",
     "output_type": "stream",
     "text": [
      "['Success rely ', ' your focus']\n"
     ]
    }
   ],
   "source": [
    "print(s.split(\"on\"))"
   ]
  },
  {
   "cell_type": "code",
   "execution_count": 26,
   "id": "dc37d67c",
   "metadata": {},
   "outputs": [
    {
     "name": "stdout",
     "output_type": "stream",
     "text": [
      "['Success rely ', 'n y', 'ur f', 'cus']\n"
     ]
    }
   ],
   "source": [
    "print(s.split(\"o\"))"
   ]
  },
  {
   "cell_type": "code",
   "execution_count": 27,
   "id": "19765da7",
   "metadata": {},
   "outputs": [
    {
     "name": "stdout",
     "output_type": "stream",
     "text": [
      "['Succe', '', ' rely on your focu', '']\n"
     ]
    }
   ],
   "source": [
    "print(s.split(\"s\"))"
   ]
  },
  {
   "cell_type": "code",
   "execution_count": 28,
   "id": "5eefcb02",
   "metadata": {},
   "outputs": [
    {
     "name": "stdout",
     "output_type": "stream",
     "text": [
      "['Succe', ' rely on your focus']\n"
     ]
    }
   ],
   "source": [
    "print(s.split(\"ss\"))"
   ]
  },
  {
   "cell_type": "code",
   "execution_count": 29,
   "id": "a26c3fa5",
   "metadata": {},
   "outputs": [
    {
     "name": "stdout",
     "output_type": "stream",
     "text": [
      "['Success rely on your focus']\n"
     ]
    }
   ],
   "source": [
    "print(s.split(\"she\"))"
   ]
  },
  {
   "cell_type": "code",
   "execution_count": 30,
   "id": "9e4c03e4",
   "metadata": {},
   "outputs": [
    {
     "name": "stdout",
     "output_type": "stream",
     "text": [
      "Success rely on your focus\n"
     ]
    }
   ],
   "source": [
    "print(s)"
   ]
  },
  {
   "cell_type": "code",
   "execution_count": 31,
   "id": "eb3d7918",
   "metadata": {},
   "outputs": [
    {
     "name": "stdout",
     "output_type": "stream",
     "text": [
      "('Success rely ', 'on', ' your focus')\n"
     ]
    }
   ],
   "source": [
    "print(s.partition(\"on\"))"
   ]
  },
  {
   "cell_type": "code",
   "execution_count": 32,
   "id": "4975cce8",
   "metadata": {},
   "outputs": [
    {
     "name": "stdout",
     "output_type": "stream",
     "text": [
      "('Success rely on your focus', '', '')\n"
     ]
    }
   ],
   "source": [
    "print(s.partition(\"onn\"))"
   ]
  },
  {
   "cell_type": "code",
   "execution_count": 33,
   "id": "093d1d08",
   "metadata": {},
   "outputs": [
    {
     "name": "stdout",
     "output_type": "stream",
     "text": [
      "('', 'Success', ' rely on your focus')\n"
     ]
    }
   ],
   "source": [
    "print(s.partition(\"Success\"))"
   ]
  },
  {
   "cell_type": "code",
   "execution_count": 34,
   "id": "96cbed5c",
   "metadata": {},
   "outputs": [
    {
     "name": "stdout",
     "output_type": "stream",
     "text": [
      "('Success rely on your ', 'focus', '')\n"
     ]
    }
   ],
   "source": [
    "print(s.partition(\"focus\"))"
   ]
  },
  {
   "cell_type": "code",
   "execution_count": 35,
   "id": "6ffa0be6",
   "metadata": {},
   "outputs": [
    {
     "name": "stdout",
     "output_type": "stream",
     "text": [
      "Success rely on your focus\n"
     ]
    }
   ],
   "source": [
    "print(s)"
   ]
  },
  {
   "cell_type": "code",
   "execution_count": 36,
   "id": "5c81ca77",
   "metadata": {},
   "outputs": [
    {
     "name": "stdout",
     "output_type": "stream",
     "text": [
      "Succe** rely on your focu*\n"
     ]
    }
   ],
   "source": [
    "print(s.replace('s','*'))"
   ]
  },
  {
   "cell_type": "code",
   "execution_count": 37,
   "id": "f4ac19b3",
   "metadata": {},
   "outputs": [
    {
     "name": "stdout",
     "output_type": "stream",
     "text": [
      "Success rely on your focus\n"
     ]
    }
   ],
   "source": [
    "print(s)"
   ]
  },
  {
   "cell_type": "code",
   "execution_count": 38,
   "id": "dffa9ce3",
   "metadata": {},
   "outputs": [
    {
     "name": "stdout",
     "output_type": "stream",
     "text": [
      "Succe** rely on your focu*\n"
     ]
    }
   ],
   "source": [
    "s = s.replace('s','*')\n",
    "print(s)"
   ]
  },
  {
   "cell_type": "code",
   "execution_count": 39,
   "id": "31c6516b",
   "metadata": {},
   "outputs": [
    {
     "name": "stdout",
     "output_type": "stream",
     "text": [
      "S->u->c->c->e->*->*-> ->r->e->l->y-> ->o->n-> ->y->o->u->r-> ->f->o->c->u->*\n"
     ]
    }
   ],
   "source": [
    "print(\"->\".join(s))"
   ]
  },
  {
   "cell_type": "code",
   "execution_count": 40,
   "id": "a88b7079",
   "metadata": {},
   "outputs": [
    {
     "name": "stdout",
     "output_type": "stream",
     "text": [
      "S*u*n*m*a*t*h*i\n"
     ]
    }
   ],
   "source": [
    "print(\"*\".join(\"Sunmathi\"))"
   ]
  },
  {
   "cell_type": "code",
   "execution_count": 41,
   "id": "74f7f6fa",
   "metadata": {},
   "outputs": [
    {
     "ename": "TypeError",
     "evalue": "sequence item 0: expected str instance, int found",
     "output_type": "error",
     "traceback": [
      "\u001b[1;31m---------------------------------------------------------------------------\u001b[0m",
      "\u001b[1;31mTypeError\u001b[0m                                 Traceback (most recent call last)",
      "Cell \u001b[1;32mIn[41], line 1\u001b[0m\n\u001b[1;32m----> 1\u001b[0m \u001b[38;5;28mprint\u001b[39m(\u001b[38;5;124m\"\u001b[39m\u001b[38;5;124m*\u001b[39m\u001b[38;5;124m\"\u001b[39m\u001b[38;5;241m.\u001b[39mjoin([\u001b[38;5;241m1\u001b[39m,\u001b[38;5;241m2\u001b[39m,\u001b[38;5;241m3\u001b[39m]))\n",
      "\u001b[1;31mTypeError\u001b[0m: sequence item 0: expected str instance, int found"
     ]
    }
   ],
   "source": [
    "print(\"*\".join([1,2,3]))"
   ]
  },
  {
   "cell_type": "code",
   "execution_count": 42,
   "id": "4059fd53",
   "metadata": {},
   "outputs": [
    {
     "name": "stdout",
     "output_type": "stream",
     "text": [
      "1*2*3\n"
     ]
    }
   ],
   "source": [
    "print(\"*\".join(['1','2','3']))"
   ]
  },
  {
   "cell_type": "code",
   "execution_count": 43,
   "id": "1c69598d",
   "metadata": {},
   "outputs": [
    {
     "name": "stdout",
     "output_type": "stream",
     "text": [
      "sUCCE** RELY ON YOUR FOCU*\n"
     ]
    }
   ],
   "source": [
    "print(s.swapcase())"
   ]
  },
  {
   "cell_type": "code",
   "execution_count": 44,
   "id": "35115b74",
   "metadata": {},
   "outputs": [],
   "source": [
    "import string\n"
   ]
  },
  {
   "cell_type": "code",
   "execution_count": 46,
   "id": "d6118815",
   "metadata": {},
   "outputs": [
    {
     "name": "stdout",
     "output_type": "stream",
     "text": [
      "Succe** Rely On Your Focu*\n"
     ]
    }
   ],
   "source": [
    "print(string.capwords(s))"
   ]
  },
  {
   "cell_type": "code",
   "execution_count": 47,
   "id": "45446a9c",
   "metadata": {},
   "outputs": [
    {
     "name": "stdout",
     "output_type": "stream",
     "text": [
      "True\n"
     ]
    }
   ],
   "source": [
    "print(\"technology\".startswith(\"tech\"))"
   ]
  },
  {
   "cell_type": "code",
   "execution_count": 48,
   "id": "724187f8",
   "metadata": {},
   "outputs": [
    {
     "name": "stdout",
     "output_type": "stream",
     "text": [
      "False\n"
     ]
    }
   ],
   "source": [
    "print(\"technology\".startswith(\"Tech\"))"
   ]
  },
  {
   "cell_type": "code",
   "execution_count": 49,
   "id": "3472e5dc",
   "metadata": {},
   "outputs": [
    {
     "name": "stdout",
     "output_type": "stream",
     "text": [
      "True\n"
     ]
    }
   ],
   "source": [
    "print(\"technology\".endswith(\"logy\"))"
   ]
  },
  {
   "cell_type": "code",
   "execution_count": 50,
   "id": "fa3c2c28",
   "metadata": {},
   "outputs": [
    {
     "name": "stdout",
     "output_type": "stream",
     "text": [
      "False\n"
     ]
    }
   ],
   "source": [
    "print(\"technology\".endswith(\"logys\"))"
   ]
  },
  {
   "cell_type": "code",
   "execution_count": null,
   "id": "ea92d432",
   "metadata": {},
   "outputs": [],
   "source": []
  }
 ],
 "metadata": {
  "kernelspec": {
   "display_name": "Python 3 (ipykernel)",
   "language": "python",
   "name": "python3"
  },
  "language_info": {
   "codemirror_mode": {
    "name": "ipython",
    "version": 3
   },
   "file_extension": ".py",
   "mimetype": "text/x-python",
   "name": "python",
   "nbconvert_exporter": "python",
   "pygments_lexer": "ipython3",
   "version": "3.11.3"
  }
 },
 "nbformat": 4,
 "nbformat_minor": 5
}
