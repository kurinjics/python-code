{
 "cells": [
  {
   "cell_type": "code",
   "execution_count": 1,
   "id": "2093924a",
   "metadata": {},
   "outputs": [
    {
     "name": "stdout",
     "output_type": "stream",
     "text": [
      "100 105\n"
     ]
    }
   ],
   "source": [
    "X = 100\n",
    "Y = X  + 5\n",
    "print(X,Y)"
   ]
  },
  {
   "cell_type": "code",
   "execution_count": 2,
   "id": "faff530c",
   "metadata": {},
   "outputs": [
    {
     "ename": "NameError",
     "evalue": "name 'y' is not defined",
     "output_type": "error",
     "traceback": [
      "\u001b[1;31m---------------------------------------------------------------------------\u001b[0m",
      "\u001b[1;31mNameError\u001b[0m                                 Traceback (most recent call last)",
      "Cell \u001b[1;32mIn[2], line 4\u001b[0m\n\u001b[0;32m      2\u001b[0m \u001b[38;5;28;01mif\u001b[39;00m x \u001b[38;5;241m>\u001b[39m \u001b[38;5;241m15\u001b[39m:\n\u001b[0;32m      3\u001b[0m     y \u001b[38;5;241m=\u001b[39m x \u001b[38;5;241m+\u001b[39m \u001b[38;5;241m5\u001b[39m\n\u001b[1;32m----> 4\u001b[0m \u001b[38;5;28mprint\u001b[39m(x,y)\n",
      "\u001b[1;31mNameError\u001b[0m: name 'y' is not defined"
     ]
    }
   ],
   "source": [
    "x = 10\n",
    "if x > 15:\n",
    "    y = x + 5\n",
    "print(x,y)"
   ]
  },
  {
   "cell_type": "code",
   "execution_count": 3,
   "id": "0cbe2c3c",
   "metadata": {},
   "outputs": [
    {
     "name": "stdout",
     "output_type": "stream",
     "text": [
      "100 105\n"
     ]
    }
   ],
   "source": [
    "x = 100\n",
    "if x > 15:\n",
    "    y = x + 5\n",
    "print(x,y)"
   ]
  },
  {
   "cell_type": "code",
   "execution_count": 5,
   "id": "5d6b7dac",
   "metadata": {},
   "outputs": [
    {
     "name": "stdout",
     "output_type": "stream",
     "text": [
      "Done\n"
     ]
    }
   ],
   "source": [
    "x = 10\n",
    "if x > 15:\n",
    "    y = x + 5\n",
    "    print(x,y)\n",
    "print(\"Done\")"
   ]
  },
  {
   "cell_type": "code",
   "execution_count": null,
   "id": "f3610f33",
   "metadata": {},
   "outputs": [],
   "source": [
    "x = 10\n",
    "if x > 15:\n",
    "    y = x + 5\n",
    "    print(x,y)\n",
    "print(\"Done\")"
   ]
  },
  {
   "cell_type": "code",
   "execution_count": 2,
   "id": "6d667c10",
   "metadata": {},
   "outputs": [
    {
     "ename": "SyntaxError",
     "evalue": "incomplete input (353107268.py, line 3)",
     "output_type": "error",
     "traceback": [
      "\u001b[1;36m  Cell \u001b[1;32mIn[2], line 3\u001b[1;36m\u001b[0m\n\u001b[1;33m    \u001b[0m\n\u001b[1;37m    ^\u001b[0m\n\u001b[1;31mSyntaxError\u001b[0m\u001b[1;31m:\u001b[0m incomplete input\n"
     ]
    }
   ],
   "source": [
    "x = \"a\"\n",
    "if x == 'a':\n",
    "    pass"
   ]
  },
  {
   "cell_type": "code",
   "execution_count": null,
   "id": "d7e32a71",
   "metadata": {},
   "outputs": [],
   "source": [
    "\n"
   ]
  },
  {
   "cell_type": "markdown",
   "id": "2adcb28b",
   "metadata": {},
   "source": [
    "i) sequence - one by one line\n",
    "ii)selection - \n",
    "iii) repetition\n",
    "\n"
   ]
  },
  {
   "cell_type": "code",
   "execution_count": 1,
   "id": "97b08ed4",
   "metadata": {},
   "outputs": [
    {
     "name": "stdout",
     "output_type": "stream",
     "text": [
      "Heat the pan\n",
      "spread batter on the flat pan\n",
      "Flip the dosa after 20 seconds\n",
      "Flip the dosa after 20 seconds\n",
      "Take it off from pan\n"
     ]
    }
   ],
   "source": [
    "print(\"Heat the pan\")\n",
    "print(\"spread batter on the flat pan\")\n",
    "print(\"Flip the dosa after 20 seconds\")\n",
    "print(\"Flip the dosa after 20 seconds\")\n",
    "print(\"Take it off from pan\")"
   ]
  },
  {
   "cell_type": "markdown",
   "id": "c4359b09",
   "metadata": {},
   "source": [
    "if <condition_test>:\n",
    "    <statement>\n",
    "    ..."
   ]
  },
  {
   "cell_type": "code",
   "execution_count": 5,
   "id": "f9a2a9fd",
   "metadata": {},
   "outputs": [
    {
     "name": "stdout",
     "output_type": "stream",
     "text": [
      "enter the dinnerdosa\n",
      "Heat the pan\n",
      "spread batter on the flat pan\n",
      "Flip the dosa after 20 seconds\n",
      "Flip the dosa after 20 seconds\n",
      "Take it off from pan\n"
     ]
    }
   ],
   "source": [
    "dinner = input(\"enter the dinner\")\n",
    "if dinner == 'dosa':\n",
    "    print(\"Heat the pan\")\n",
    "    print(\"spread batter on the flat pan\")\n",
    "    print(\"Flip the dosa after 20 seconds\")\n",
    "    print(\"Flip the dosa after 20 seconds\")\n",
    "    print(\"Take it off from pan\")\n",
    "if dinner == 'idly':\n",
    "    print(\"boil the water in the idly cooker\")\n",
    "    print(\"keep the idly plat with batter in the cooker \")\n",
    "    print(\"Wait fo 10 min\")\n",
    "    print(\"After that serve it\")\n",
    "    "
   ]
  },
  {
   "cell_type": "code",
   "execution_count": 6,
   "id": "97dd6c35",
   "metadata": {},
   "outputs": [
    {
     "name": "stdout",
     "output_type": "stream",
     "text": [
      "enter the dinneridly\n",
      "No of idly:3\n",
      "boil the water in the idly cooker\n",
      "keep the idly plat with batter in the cooker \n",
      "Wait fo 10 min\n",
      "After that serve it\n",
      "boil the water in the idly cooker\n",
      "keep the idly plat with batter in the cooker \n",
      "Wait fo 10 min\n",
      "After that serve it\n",
      "boil the water in the idly cooker\n",
      "keep the idly plat with batter in the cooker \n",
      "Wait fo 10 min\n",
      "After that serve it\n",
      "Bye.....\n"
     ]
    }
   ],
   "source": [
    "dinner = input(\"enter the dinner\")\n",
    "if dinner == 'dosa':\n",
    "    x = int(input(\"No of dosa:\"))\n",
    "    for i in range(x):\n",
    "        \n",
    "        print(\"Heat the pan\")\n",
    "        print(\"spread batter on the flat pan\")\n",
    "        print(\"Flip the dosa after 20 seconds\")\n",
    "        print(\"Flip the dosa after 20 seconds\")\n",
    "        print(\"Take it off from pan\")\n",
    "if dinner == 'idly':\n",
    "    x = int(input(\"No of idly:\"))\n",
    "    for i in range(x):\n",
    "        print(\"boil the water in the idly cooker\")\n",
    "        print(\"keep the idly plat with batter in the cooker \")\n",
    "        print(\"Wait fo 10 min\")\n",
    "        print(\"After that serve it\")\n",
    "print(\"Bye.....\")"
   ]
  },
  {
   "cell_type": "code",
   "execution_count": 7,
   "id": "29b081ca",
   "metadata": {},
   "outputs": [
    {
     "name": "stdout",
     "output_type": "stream",
     "text": [
      "Enter the number:38\n",
      "38  Even Number\n",
      "Program Over\n"
     ]
    }
   ],
   "source": [
    "'''\n",
    "Simple if\n",
    "if <condition_test>:\n",
    "    <statement>\n",
    "    \n",
    "'''\n",
    "x = int (input(\"Enter the number:\"))\n",
    "if x%2 == 0:\n",
    "    print(x,\" Even Number\")\n",
    "print(\"Program Over\")"
   ]
  },
  {
   "cell_type": "code",
   "execution_count": 8,
   "id": "c0719877",
   "metadata": {},
   "outputs": [
    {
     "name": "stdout",
     "output_type": "stream",
     "text": [
      "Enter the number:35\n",
      "Program Over\n"
     ]
    }
   ],
   "source": [
    "'''\n",
    "Simple if\n",
    "if <condition_test>:\n",
    "    <statement>\n",
    "    \n",
    "'''\n",
    "x = int (input(\"Enter the number:\"))\n",
    "if x%2 == 0:\n",
    "    print(x,\" Even Number\")\n",
    "print(\"Program Over\")"
   ]
  },
  {
   "cell_type": "code",
   "execution_count": 9,
   "id": "02c9c996",
   "metadata": {},
   "outputs": [
    {
     "name": "stdout",
     "output_type": "stream",
     "text": [
      "Enter the number:35\n",
      "35  Odd Number\n",
      "Program Over\n"
     ]
    }
   ],
   "source": [
    "'''\n",
    "Simple if\n",
    "if <condition_test>:\n",
    "    <statement>\n",
    "    \n",
    "'''\n",
    "x = int (input(\"Enter the number:\"))\n",
    "if x%2 == 0:\n",
    "    print(x,\" Even Number\")\n",
    "if x%2 != 0:\n",
    "    print(x,\" Odd Number\")\n",
    "print(\"Program Over\")"
   ]
  },
  {
   "cell_type": "code",
   "execution_count": 10,
   "id": "773e95c6",
   "metadata": {},
   "outputs": [
    {
     "name": "stdout",
     "output_type": "stream",
     "text": [
      "Enter the number:54\n",
      "54  Even Number\n",
      "Program Over\n"
     ]
    }
   ],
   "source": [
    "'''\n",
    "Simple if\n",
    "if <condition_test>:\n",
    "    <statement>\n",
    "    \n",
    "'''\n",
    "x = int (input(\"Enter the number:\"))\n",
    "if x%2 == 0:\n",
    "    print(x,\" Even Number\")\n",
    "if x%2 != 0:\n",
    "    print(x,\" Odd Number\")\n",
    "print(\"Program Over\")"
   ]
  },
  {
   "cell_type": "code",
   "execution_count": 14,
   "id": "877ca2cd",
   "metadata": {},
   "outputs": [
    {
     "name": "stdout",
     "output_type": "stream",
     "text": [
      "Enter the number:35\n",
      "35  divisible by 5\n",
      "35  divisible by 7\n",
      "Program Over\n"
     ]
    }
   ],
   "source": [
    "'''\n",
    "Simple if\n",
    "if <condition_test>:\n",
    "    <statement>\n",
    "    \n",
    "'''\n",
    "x = int (input(\"Enter the number:\"))\n",
    "if x%5 == 0:\n",
    "    print(x,\" divisible by 5\")\n",
    "if x%7 == 0:\n",
    "    print(x,\" divisible by 7\")\n",
    "print(\"Program Over\")"
   ]
  },
  {
   "cell_type": "code",
   "execution_count": 15,
   "id": "dfc75cee",
   "metadata": {},
   "outputs": [
    {
     "name": "stdout",
     "output_type": "stream",
     "text": [
      "Enter the number:45\n",
      "Program Over\n"
     ]
    }
   ],
   "source": [
    "x = int (input(\"Enter the number:\"))\n",
    "if x%5 == 0 and x%7 == 0:\n",
    "    print(x,\" divisible by 5 and 7\")\n",
    "\n",
    "print(\"Program Over\")"
   ]
  },
  {
   "cell_type": "code",
   "execution_count": 16,
   "id": "7414cf1a",
   "metadata": {},
   "outputs": [
    {
     "name": "stdout",
     "output_type": "stream",
     "text": [
      "Enter the number:35\n",
      "35  divisible by 5 and 7\n",
      "Program Over\n"
     ]
    }
   ],
   "source": [
    "x = int (input(\"Enter the number:\"))\n",
    "if x%5 == 0 and x%7 == 0:\n",
    "    print(x,\" divisible by 5 and 7\")\n",
    "\n",
    "print(\"Program Over\")"
   ]
  },
  {
   "cell_type": "code",
   "execution_count": 19,
   "id": "e7379854",
   "metadata": {},
   "outputs": [
    {
     "name": "stdout",
     "output_type": "stream",
     "text": [
      "Enter the number:35\n",
      "35  divisible by 5 or 7\n",
      "Program Over\n"
     ]
    }
   ],
   "source": [
    "x = int (input(\"Enter the number:\"))\n",
    "if x%5 == 0 or x%7 == 0:\n",
    "    print(x,\" divisible by 5 or 7\")\n",
    "\n",
    "print(\"Program Over\")"
   ]
  },
  {
   "cell_type": "code",
   "execution_count": 20,
   "id": "80573f90",
   "metadata": {},
   "outputs": [
    {
     "name": "stdout",
     "output_type": "stream",
     "text": [
      "Enter the number:2\n",
      "Program Over\n"
     ]
    }
   ],
   "source": [
    "x = int (input(\"Enter the number:\"))\n",
    "if x%5 == 0 or x%7 == 0:\n",
    "    print(x,\" divisible by 5 or 7\")\n",
    "\n",
    "print(\"Program Over\")"
   ]
  },
  {
   "cell_type": "code",
   "execution_count": 21,
   "id": "5b01fd33",
   "metadata": {},
   "outputs": [
    {
     "name": "stdout",
     "output_type": "stream",
     "text": [
      "Enter the number:31\n",
      "31  Odd Number\n",
      "Program Over\n"
     ]
    }
   ],
   "source": [
    "\n",
    "x = int (input(\"Enter the number:\"))\n",
    "if x%2 == 0:\n",
    "    print(x,\" Even Number\")\n",
    "else:\n",
    "    print(x,\" Odd Number\")\n",
    "print(\"Program Over\")"
   ]
  },
  {
   "cell_type": "code",
   "execution_count": 22,
   "id": "a73836f5",
   "metadata": {},
   "outputs": [
    {
     "name": "stdout",
     "output_type": "stream",
     "text": [
      "Enter the number:44\n",
      "44  Even Number\n",
      "Program Over\n"
     ]
    }
   ],
   "source": [
    "\n",
    "x = int (input(\"Enter the number:\"))\n",
    "if x%2 == 0:\n",
    "    print(x,\" Even Number\")\n",
    "else:\n",
    "    print(x,\" Odd Number\")\n",
    "print(\"Program Over\")"
   ]
  },
  {
   "cell_type": "code",
   "execution_count": 24,
   "id": "ceb2ccf1",
   "metadata": {},
   "outputs": [
    {
     "name": "stdout",
     "output_type": "stream",
     "text": [
      "Enter:300\n",
      "Theatre\n"
     ]
    }
   ],
   "source": [
    "amount = int(input(\"Enter:\"))\n",
    "if amount >500:\n",
    "    print(\"Mall\")\n",
    "else:\n",
    "    print(\"Theatre\")"
   ]
  },
  {
   "cell_type": "code",
   "execution_count": 25,
   "id": "70d623e2",
   "metadata": {},
   "outputs": [
    {
     "name": "stdout",
     "output_type": "stream",
     "text": [
      "enter the mark:450\n",
      "CS\n"
     ]
    }
   ],
   "source": [
    "mark = int(input(\"enter the mark:\"))\n",
    "if mark > 450:\n",
    "    print(\"Biology\")\n",
    "elif mark >350:\n",
    "    print(\"CS\")\n",
    "elif mark > 250:\n",
    "    print(\"Commerce\")"
   ]
  },
  {
   "cell_type": "code",
   "execution_count": 26,
   "id": "38c33747",
   "metadata": {},
   "outputs": [
    {
     "name": "stdout",
     "output_type": "stream",
     "text": [
      "enter the mark:450\n",
      "Biology\n"
     ]
    }
   ],
   "source": [
    "mark = int(input(\"enter the mark:\"))\n",
    "if mark >= 450:\n",
    "    print(\"Biology\")\n",
    "elif mark >350:\n",
    "    print(\"CS\")\n",
    "elif mark > 250:\n",
    "    print(\"Commerce\")"
   ]
  },
  {
   "cell_type": "code",
   "execution_count": 28,
   "id": "4d2ec358",
   "metadata": {},
   "outputs": [
    {
     "name": "stdout",
     "output_type": "stream",
     "text": [
      "enter the mark:1000\n",
      "Biology\n"
     ]
    }
   ],
   "source": [
    "mark = int(input(\"enter the mark:\"))\n",
    "if mark >= 450:\n",
    "    print(\"Biology\")\n",
    "elif mark >=350:\n",
    "    print(\"CS\")\n",
    "elif mark >= 250:\n",
    "    print(\"Commerce\")"
   ]
  },
  {
   "cell_type": "code",
   "execution_count": 1,
   "id": "06f2cfdb",
   "metadata": {},
   "outputs": [
    {
     "name": "stdout",
     "output_type": "stream",
     "text": [
      "Enter the value:2\n",
      "Two\n",
      "Program ends\n"
     ]
    }
   ],
   "source": [
    "n = int(input(\"Enter the value:\"))\n",
    "if n == 0:\n",
    "    print(\"zero\")\n",
    "if n == 1:\n",
    "    print(\"One\")\n",
    "if n == 2:\n",
    "    print(\"Two\")\n",
    "if n == 3:\n",
    "    print(\"Three\")\n",
    "print(\"Program ends\")"
   ]
  },
  {
   "cell_type": "code",
   "execution_count": 4,
   "id": "4a74a4ce",
   "metadata": {},
   "outputs": [
    {
     "name": "stdout",
     "output_type": "stream",
     "text": [
      "Enter the value:7\n",
      "Enter the value 0 to 3\n",
      "Program ends\n"
     ]
    }
   ],
   "source": [
    "n = int(input(\"Enter the value:\"))\n",
    "if n == 0:\n",
    "    print(\"zero\")\n",
    "elif n == 1:\n",
    "    print(\"One\")\n",
    "elif n == 2:\n",
    "    print(\"Two\")\n",
    "elif n == 3:\n",
    "    print(\"Three\")\n",
    "else:\n",
    "    print(\"Enter the value 0 to 3\")\n",
    "print(\"Program ends\")"
   ]
  },
  {
   "cell_type": "code",
   "execution_count": 6,
   "id": "2f5716d1",
   "metadata": {},
   "outputs": [
    {
     "name": "stdout",
     "output_type": "stream",
     "text": [
      "Enter the age:12\n",
      "Age: 12\n",
      "Child marriage is prohibited in india \n"
     ]
    }
   ],
   "source": [
    "age = int(input(\"Enter the age:\"))\n",
    "\n",
    "print(\"Age:\",age)\n",
    "if age >= 18:\n",
    "    gender = input(\"enter the gender\")\n",
    "    if gender == \"Female\":\n",
    "        print(\"Can get married\")\n",
    "    else:\n",
    "        if gender == \"Male\":\n",
    "            if age>=21:\n",
    "                print(\"Male can get married\")\n",
    "else:\n",
    "    print(\"Child marriage is prohibited in india \")\n",
    "            "
   ]
  },
  {
   "cell_type": "code",
   "execution_count": 10,
   "id": "390cf69a",
   "metadata": {},
   "outputs": [
    {
     "name": "stdout",
     "output_type": "stream",
     "text": [
      "Enter the age:20\n",
      "Age: 20\n",
      "enter the genderMale\n"
     ]
    }
   ],
   "source": [
    "age = int(input(\"Enter the age:\"))\n",
    "\n",
    "print(\"Age:\",age)\n",
    "if age >= 18:\n",
    "    gender = input(\"enter the gender\")\n",
    "    if gender == \"Female\":\n",
    "        print(\"Female Can get married\")\n",
    "    else:\n",
    "        if gender == \"Male\":\n",
    "            if age>=21:\n",
    "                print(\"Male can get married\")\n",
    "else:\n",
    "    print(\"Child marriage is prohibited in india \")"
   ]
  },
  {
   "cell_type": "code",
   "execution_count": 11,
   "id": "fee9e774",
   "metadata": {},
   "outputs": [
    {
     "name": "stdout",
     "output_type": "stream",
     "text": [
      "Enter the age:20\n",
      "Age: 20\n",
      "enter the genderMale\n",
      "Sorry not allowed to get marriage \n"
     ]
    }
   ],
   "source": [
    "age = int(input(\"Enter the age:\"))\n",
    "\n",
    "print(\"Age:\",age)\n",
    "if age >= 18:\n",
    "    gender = input(\"enter the gender\")\n",
    "    if gender == \"Female\":\n",
    "        print(\"Female Can get married\")\n",
    "    else:\n",
    "        if gender == \"Male\":\n",
    "            if age>=21:\n",
    "                print(\"Male can get married\")\n",
    "            else:\n",
    "                print(\"Sorry not allowed to get marriage \")\n",
    "else:\n",
    "    print(\"Child marriage is prohibited in india \")"
   ]
  },
  {
   "cell_type": "markdown",
   "id": "5ddf3de3",
   "metadata": {},
   "source": [
    "\"\"\"\n",
    "for <iterable_variable> in <seq>:\n",
    "    <statement>\n",
    "\"\"\""
   ]
  },
  {
   "cell_type": "code",
   "execution_count": 12,
   "id": "c409514a",
   "metadata": {},
   "outputs": [
    {
     "name": "stdout",
     "output_type": "stream",
     "text": [
      "f\n",
      "l\n",
      "o\n",
      "w\n"
     ]
    }
   ],
   "source": [
    "for i in \"flow\":\n",
    "    print(i)"
   ]
  },
  {
   "cell_type": "code",
   "execution_count": null,
   "id": "87066559",
   "metadata": {},
   "outputs": [],
   "source": [
    "j = 10\n",
    "while j>0:\n",
    "    print(j)\n",
    "    j  = j - 1"
   ]
  },
  {
   "cell_type": "code",
   "execution_count": null,
   "id": "f072aa16",
   "metadata": {},
   "outputs": [],
   "source": [
    "i = 4\n",
    "j = -1\n",
    "while i < 4:\n",
    "    print(i)\n",
    "    "
   ]
  },
  {
   "cell_type": "code",
   "execution_count": 2,
   "id": "04a7244d",
   "metadata": {},
   "outputs": [
    {
     "name": "stdout",
     "output_type": "stream",
     "text": [
      "Enter the table number:2500\n",
      "1 * 2500 = 2500\n",
      "2 * 2500 = 5000\n",
      "3 * 2500 = 7500\n",
      "4 * 2500 = 10000\n",
      "5 * 2500 = 12500\n",
      "6 * 2500 = 15000\n",
      "7 * 2500 = 17500\n",
      "8 * 2500 = 20000\n",
      "9 * 2500 = 22500\n",
      "10 * 2500 = 25000\n",
      "11 * 2500 = 27500\n",
      "12 * 2500 = 30000\n",
      "13 * 2500 = 32500\n",
      "14 * 2500 = 35000\n",
      "15 * 2500 = 37500\n",
      "16 * 2500 = 40000\n",
      "17 * 2500 = 42500\n",
      "18 * 2500 = 45000\n",
      "19 * 2500 = 47500\n",
      "20 * 2500 = 50000\n"
     ]
    }
   ],
   "source": [
    "n = int(input(\"Enter the table number:\"))\n",
    "i = 1\n",
    "while i <= 20:\n",
    "    print( i,'*',n,'=',i*n)\n",
    "    i = i+ 1"
   ]
  },
  {
   "cell_type": "code",
   "execution_count": 6,
   "id": "bb55f757",
   "metadata": {},
   "outputs": [
    {
     "name": "stdout",
     "output_type": "stream",
     "text": [
      "Enter the table number:25\n",
      "1 * 25 = 25\n",
      "2 * 25 = 50\n",
      "3 * 25 = 75\n",
      "4 * 25 = 100\n"
     ]
    },
    {
     "ename": "KeyboardInterrupt",
     "evalue": "",
     "output_type": "error",
     "traceback": [
      "\u001b[1;31m---------------------------------------------------------------------------\u001b[0m",
      "\u001b[1;31mKeyboardInterrupt\u001b[0m                         Traceback (most recent call last)",
      "Cell \u001b[1;32mIn[6], line 5\u001b[0m\n\u001b[0;32m      3\u001b[0m \u001b[38;5;28;01mwhile\u001b[39;00m i \u001b[38;5;241m<\u001b[39m\u001b[38;5;241m=\u001b[39m \u001b[38;5;241m20\u001b[39m:\n\u001b[0;32m      4\u001b[0m     \u001b[38;5;28;01mif\u001b[39;00m i \u001b[38;5;241m==\u001b[39m \u001b[38;5;241m5\u001b[39m:\n\u001b[1;32m----> 5\u001b[0m        \u001b[38;5;28;01mcontinue\u001b[39;00m\n\u001b[0;32m      6\u001b[0m     \u001b[38;5;28mprint\u001b[39m( i,\u001b[38;5;124m'\u001b[39m\u001b[38;5;124m*\u001b[39m\u001b[38;5;124m'\u001b[39m,n,\u001b[38;5;124m'\u001b[39m\u001b[38;5;124m=\u001b[39m\u001b[38;5;124m'\u001b[39m,i\u001b[38;5;241m*\u001b[39mn)\n\u001b[0;32m      7\u001b[0m     i \u001b[38;5;241m=\u001b[39m i\u001b[38;5;241m+\u001b[39m \u001b[38;5;241m1\u001b[39m\n",
      "\u001b[1;31mKeyboardInterrupt\u001b[0m: "
     ]
    }
   ],
   "source": [
    "n = int(input(\"Enter the table number:\"))\n",
    "i = 1\n",
    "while i <= 20:\n",
    "    if i == 5:\n",
    "       continue\n",
    "    print( i,'*',n,'=',i*n)\n",
    "    i = i+ 1\n",
    "else:\n",
    "    print(\"Over\")"
   ]
  },
  {
   "cell_type": "code",
   "execution_count": 7,
   "id": "0c222d84",
   "metadata": {},
   "outputs": [
    {
     "name": "stdout",
     "output_type": "stream",
     "text": [
      "*&\n"
     ]
    }
   ],
   "source": [
    "print('*'+'&')"
   ]
  },
  {
   "cell_type": "code",
   "execution_count": 8,
   "id": "20ec35b6",
   "metadata": {},
   "outputs": [
    {
     "name": "stdout",
     "output_type": "stream",
     "text": [
      "********************************************************************************************************************************************************************************************************\n"
     ]
    }
   ],
   "source": [
    "print('*' * 200)"
   ]
  },
  {
   "cell_type": "code",
   "execution_count": 9,
   "id": "62f049c1",
   "metadata": {},
   "outputs": [
    {
     "name": "stdout",
     "output_type": "stream",
     "text": [
      "* * * * "
     ]
    }
   ],
   "source": [
    "for i in range(1,5):\n",
    "    print('*',end = ' ')"
   ]
  },
  {
   "cell_type": "code",
   "execution_count": 11,
   "id": "a290a2b0",
   "metadata": {},
   "outputs": [
    {
     "name": "stdout",
     "output_type": "stream",
     "text": [
      "* * * * "
     ]
    }
   ],
   "source": [
    "for i in range(1,5):\n",
    "    for j in range(i,i+1):\n",
    "        print('*',end = ' ')\n",
    "    "
   ]
  },
  {
   "cell_type": "code",
   "execution_count": 13,
   "id": "892d9b0a",
   "metadata": {},
   "outputs": [
    {
     "name": "stdout",
     "output_type": "stream",
     "text": [
      "* * \n",
      "* * * \n",
      "* * * * \n",
      "* * * * * \n"
     ]
    }
   ],
   "source": [
    "for i in range(1,5):\n",
    "    for j in range(0,i+1):\n",
    "        print('*',end = ' ')\n",
    "    print()"
   ]
  },
  {
   "cell_type": "code",
   "execution_count": 14,
   "id": "58d46c68",
   "metadata": {},
   "outputs": [
    {
     "name": "stdout",
     "output_type": "stream",
     "text": [
      "* \n",
      "* * \n",
      "* * * \n",
      "* * * * \n"
     ]
    }
   ],
   "source": [
    "for i in range(1,5):\n",
    "    for j in range(1,i+1):\n",
    "        print('*',end = ' ')\n",
    "    print()"
   ]
  },
  {
   "cell_type": "code",
   "execution_count": 19,
   "id": "97bf1de4",
   "metadata": {},
   "outputs": [
    {
     "name": "stdout",
     "output_type": "stream",
     "text": [
      "A \n",
      "B B \n",
      "C C C \n",
      "D D D D \n",
      "E E E E E \n",
      "F F F F F F \n",
      "G G G G G G G \n",
      "H H H H H H H H \n",
      "I I I I I I I I I \n",
      "J J J J J J J J J J \n",
      "122\n"
     ]
    }
   ],
   "source": [
    "for i in range(65,75):\n",
    "    for j in range(65,i+1):\n",
    "        print(chr(i),end = ' ')\n",
    "    print()\n",
    "print(ord('z'))"
   ]
  },
  {
   "cell_type": "code",
   "execution_count": 20,
   "id": "f712ae84",
   "metadata": {},
   "outputs": [
    {
     "name": "stdout",
     "output_type": "stream",
     "text": [
      "\n",
      "\n",
      "\n",
      "\n",
      "\n",
      "\n",
      "\n",
      "\n",
      "\n",
      "\n",
      "122\n"
     ]
    }
   ],
   "source": [
    "for i in range(75,65,-1):\n",
    "    for j in range(i,i-1):\n",
    "        print(chr(i),end = ' ')\n",
    "    print()\n",
    "print(ord('z'))"
   ]
  },
  {
   "cell_type": "code",
   "execution_count": null,
   "id": "abc756aa",
   "metadata": {},
   "outputs": [],
   "source": []
  },
  {
   "cell_type": "code",
   "execution_count": null,
   "id": "a2f6fd6f",
   "metadata": {},
   "outputs": [],
   "source": []
  },
  {
   "cell_type": "code",
   "execution_count": null,
   "id": "8890c0d7",
   "metadata": {},
   "outputs": [],
   "source": []
  },
  {
   "cell_type": "code",
   "execution_count": null,
   "id": "464d4e2b",
   "metadata": {},
   "outputs": [],
   "source": []
  },
  {
   "cell_type": "code",
   "execution_count": null,
   "id": "5e3e64f8",
   "metadata": {},
   "outputs": [],
   "source": []
  },
  {
   "cell_type": "code",
   "execution_count": null,
   "id": "487abba1",
   "metadata": {},
   "outputs": [],
   "source": []
  },
  {
   "cell_type": "code",
   "execution_count": null,
   "id": "6313878d",
   "metadata": {},
   "outputs": [],
   "source": []
  }
 ],
 "metadata": {
  "kernelspec": {
   "display_name": "Python 3 (ipykernel)",
   "language": "python",
   "name": "python3"
  },
  "language_info": {
   "codemirror_mode": {
    "name": "ipython",
    "version": 3
   },
   "file_extension": ".py",
   "mimetype": "text/x-python",
   "name": "python",
   "nbconvert_exporter": "python",
   "pygments_lexer": "ipython3",
   "version": "3.11.3"
  }
 },
 "nbformat": 4,
 "nbformat_minor": 5
}
