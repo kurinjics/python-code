{
 "cells": [
  {
   "cell_type": "code",
   "execution_count": 1,
   "id": "8be8a1f8",
   "metadata": {},
   "outputs": [
    {
     "name": "stdout",
     "output_type": "stream",
     "text": [
      "() <class 'tuple'> 0\n"
     ]
    }
   ],
   "source": [
    "#creating tuple\n",
    "x = ()\n",
    "print(x, type(x),len(x))"
   ]
  },
  {
   "cell_type": "code",
   "execution_count": 2,
   "id": "f1def013",
   "metadata": {},
   "outputs": [
    {
     "name": "stdout",
     "output_type": "stream",
     "text": [
      "() <class 'tuple'> 0\n"
     ]
    }
   ],
   "source": [
    "y  = tuple()\n",
    "print(y, type(y),len(y))"
   ]
  },
  {
   "cell_type": "code",
   "execution_count": 3,
   "id": "b008a742",
   "metadata": {},
   "outputs": [
    {
     "ename": "TypeError",
     "evalue": "object of type 'int' has no len()",
     "output_type": "error",
     "traceback": [
      "\u001b[1;31m---------------------------------------------------------------------------\u001b[0m",
      "\u001b[1;31mTypeError\u001b[0m                                 Traceback (most recent call last)",
      "Cell \u001b[1;32mIn[3], line 2\u001b[0m\n\u001b[0;32m      1\u001b[0m ele \u001b[38;5;241m=\u001b[39m (\u001b[38;5;241m1\u001b[39m)\n\u001b[1;32m----> 2\u001b[0m \u001b[38;5;28mprint\u001b[39m(ele, \u001b[38;5;28mtype\u001b[39m(ele),\u001b[38;5;28mlen\u001b[39m(ele))\n",
      "\u001b[1;31mTypeError\u001b[0m: object of type 'int' has no len()"
     ]
    }
   ],
   "source": [
    "ele = (1)\n",
    "print(ele, type(ele),len(ele))"
   ]
  },
  {
   "cell_type": "code",
   "execution_count": 4,
   "id": "12eafe1e",
   "metadata": {},
   "outputs": [
    {
     "name": "stdout",
     "output_type": "stream",
     "text": [
      "(1,) <class 'tuple'>\n"
     ]
    }
   ],
   "source": [
    "ele = (1,)\n",
    "print(ele, type(ele))"
   ]
  },
  {
   "cell_type": "code",
   "execution_count": 4,
   "id": "7177940a",
   "metadata": {},
   "outputs": [
    {
     "name": "stdout",
     "output_type": "stream",
     "text": [
      "(1,) <class 'tuple'> 1\n"
     ]
    }
   ],
   "source": [
    "ele2 = 1,\n",
    "print(ele2, type(ele2),len(ele2))"
   ]
  },
  {
   "cell_type": "code",
   "execution_count": 6,
   "id": "59cd1ba4",
   "metadata": {},
   "outputs": [
    {
     "name": "stdout",
     "output_type": "stream",
     "text": [
      "1 2 3 5\n"
     ]
    }
   ],
   "source": [
    "print(1,2,3,+5)"
   ]
  },
  {
   "cell_type": "code",
   "execution_count": 7,
   "id": "1eaf0a6e",
   "metadata": {},
   "outputs": [
    {
     "name": "stdout",
     "output_type": "stream",
     "text": [
      "1 2 8\n"
     ]
    }
   ],
   "source": [
    "print(1,2,3+5)"
   ]
  },
  {
   "cell_type": "code",
   "execution_count": 8,
   "id": "21dbb3c2",
   "metadata": {},
   "outputs": [
    {
     "ename": "TypeError",
     "evalue": "can only concatenate tuple (not \"int\") to tuple",
     "output_type": "error",
     "traceback": [
      "\u001b[1;31m---------------------------------------------------------------------------\u001b[0m",
      "\u001b[1;31mTypeError\u001b[0m                                 Traceback (most recent call last)",
      "Cell \u001b[1;32mIn[8], line 1\u001b[0m\n\u001b[1;32m----> 1\u001b[0m \u001b[38;5;28mprint\u001b[39m((\u001b[38;5;241m1\u001b[39m,\u001b[38;5;241m2\u001b[39m,\u001b[38;5;241m3\u001b[39m)\u001b[38;5;241m+\u001b[39m\u001b[38;5;241m5\u001b[39m)\n",
      "\u001b[1;31mTypeError\u001b[0m: can only concatenate tuple (not \"int\") to tuple"
     ]
    }
   ],
   "source": [
    "print((1,2,3)+5)"
   ]
  },
  {
   "cell_type": "code",
   "execution_count": 9,
   "id": "9dc5c870",
   "metadata": {},
   "outputs": [
    {
     "ename": "TypeError",
     "evalue": "can only concatenate tuple (not \"int\") to tuple",
     "output_type": "error",
     "traceback": [
      "\u001b[1;31m---------------------------------------------------------------------------\u001b[0m",
      "\u001b[1;31mTypeError\u001b[0m                                 Traceback (most recent call last)",
      "Cell \u001b[1;32mIn[9], line 1\u001b[0m\n\u001b[1;32m----> 1\u001b[0m \u001b[38;5;28mprint\u001b[39m((\u001b[38;5;241m1\u001b[39m,\u001b[38;5;241m2\u001b[39m,\u001b[38;5;241m3\u001b[39m)\u001b[38;5;241m+\u001b[39m(\u001b[38;5;241m5\u001b[39m))\n",
      "\u001b[1;31mTypeError\u001b[0m: can only concatenate tuple (not \"int\") to tuple"
     ]
    }
   ],
   "source": [
    "print((1,2,3)+(5))"
   ]
  },
  {
   "cell_type": "code",
   "execution_count": 10,
   "id": "b159eb8f",
   "metadata": {},
   "outputs": [
    {
     "name": "stdout",
     "output_type": "stream",
     "text": [
      "(1, 2, 3, 5)\n"
     ]
    }
   ],
   "source": [
    "print((1,2,3)+(5,))"
   ]
  },
  {
   "cell_type": "code",
   "execution_count": 14,
   "id": "03198aa4",
   "metadata": {},
   "outputs": [
    {
     "name": "stdout",
     "output_type": "stream",
     "text": [
      "(1, 2, 3, 4) ('shami', 'virat', 'Dhoni') (85.0, 99.0, 100) ('o', 'a', 'b') (5, 'Gill', 88.8)\n"
     ]
    }
   ],
   "source": [
    "rollno = (1,2,3,4)\n",
    "name = (\"shami\",\"virat\",\"Dhoni\")\n",
    "mark = (85.,99.0,100)\n",
    "grade = (\"o\",\"a\",\"b\")\n",
    "remark = (5,\"Gill\",88.8)\n",
    "print(rollno, name, mark,grade,remark)"
   ]
  },
  {
   "cell_type": "code",
   "execution_count": 12,
   "id": "18e2bf22",
   "metadata": {},
   "outputs": [
    {
     "name": "stdout",
     "output_type": "stream",
     "text": [
      "5\n",
      "Gill\n",
      "88.8\n"
     ]
    }
   ],
   "source": [
    "for i in remark:\n",
    "    print(i)"
   ]
  },
  {
   "cell_type": "code",
   "execution_count": 13,
   "id": "5612c572",
   "metadata": {},
   "outputs": [
    {
     "name": "stdout",
     "output_type": "stream",
     "text": [
      "5\n",
      "Gill\n",
      "88.8\n"
     ]
    }
   ],
   "source": [
    "for i in range(len(remark)):\n",
    "    print(remark[i])"
   ]
  },
  {
   "cell_type": "code",
   "execution_count": 14,
   "id": "8b946049",
   "metadata": {},
   "outputs": [
    {
     "name": "stdout",
     "output_type": "stream",
     "text": [
      "Elon Musk\n",
      "('E', 'l', 'o', 'n', ' ', 'M', 'u', 's', 'k')\n"
     ]
    }
   ],
   "source": [
    "x = \"Elon Musk\"\n",
    "t = tuple(x)\n",
    "print(x)\n",
    "print(t)"
   ]
  },
  {
   "cell_type": "code",
   "execution_count": 15,
   "id": "5a1da836",
   "metadata": {},
   "outputs": [
    {
     "name": "stdout",
     "output_type": "stream",
     "text": [
      "[1, 2, 3] (1, 2, 3)\n"
     ]
    }
   ],
   "source": [
    "l = [1,2,3]\n",
    "print(l, tuple(l))"
   ]
  },
  {
   "cell_type": "code",
   "execution_count": 17,
   "id": "5b587f1c",
   "metadata": {},
   "outputs": [
    {
     "name": "stdout",
     "output_type": "stream",
     "text": [
      "{'a': 7, 'e': 10, 'i': 12} ('a', 'e', 'i')\n"
     ]
    }
   ],
   "source": [
    "d = {'a':7,\"e\": 10,\"i\": 12}\n",
    "print(d, tuple(d))"
   ]
  },
  {
   "cell_type": "code",
   "execution_count": 18,
   "id": "86376b2f",
   "metadata": {},
   "outputs": [
    {
     "name": "stdout",
     "output_type": "stream",
     "text": [
      "{'abc', 'xyz'} ('abc', 'xyz')\n"
     ]
    }
   ],
   "source": [
    "s = {'abc','xyz'}\n",
    "print(s, tuple(s))"
   ]
  },
  {
   "cell_type": "code",
   "execution_count": 19,
   "id": "0475e438",
   "metadata": {},
   "outputs": [
    {
     "name": "stdout",
     "output_type": "stream",
     "text": [
      "{'abc', 'xyz'} ('abc', 'xyz')\n"
     ]
    }
   ],
   "source": [
    "s = {'abc','xyz','abc'}\n",
    "print(s, tuple(s))"
   ]
  },
  {
   "cell_type": "markdown",
   "id": "18483ec8",
   "metadata": {},
   "source": [
    "#eval() function\n",
    "help(eval)\n",
    "Help on built-in function eval in module builtins:\n",
    "\n",
    "eval(source, globals=None, locals=None, /)\n",
    "    Evaluate the given source in the context of globals and locals.\n",
    "    \n",
    "    The source may be a string representing a Python expression\n",
    "    or a code object as returned by compile().\n",
    "    The globals must be a dictionary and locals can be any mapping,\n",
    "    defaulting to the current globals and locals.\n",
    "    If only globals is given, locals defaults to"
   ]
  },
  {
   "cell_type": "code",
   "execution_count": 20,
   "id": "94411b70",
   "metadata": {},
   "outputs": [
    {
     "ename": "TypeError",
     "evalue": "eval() arg 1 must be a string, bytes or code object",
     "output_type": "error",
     "traceback": [
      "\u001b[1;31m---------------------------------------------------------------------------\u001b[0m",
      "\u001b[1;31mTypeError\u001b[0m                                 Traceback (most recent call last)",
      "Cell \u001b[1;32mIn[20], line 1\u001b[0m\n\u001b[1;32m----> 1\u001b[0m x \u001b[38;5;241m=\u001b[39m \u001b[38;5;28meval\u001b[39m(\u001b[38;5;241m5\u001b[39m\u001b[38;5;241m+\u001b[39m\u001b[38;5;241m6\u001b[39m)\n\u001b[0;32m      2\u001b[0m \u001b[38;5;28mprint\u001b[39m(x)\n",
      "\u001b[1;31mTypeError\u001b[0m: eval() arg 1 must be a string, bytes or code object"
     ]
    }
   ],
   "source": [
    "x = eval(5+6)\n",
    "print(x)"
   ]
  },
  {
   "cell_type": "code",
   "execution_count": 10,
   "id": "35a116c2",
   "metadata": {},
   "outputs": [
    {
     "name": "stdout",
     "output_type": "stream",
     "text": [
      "[11.0] <class 'list'>\n"
     ]
    }
   ],
   "source": [
    "x = eval('[5+6.0,]')\n",
    "print(x,type(x))"
   ]
  },
  {
   "cell_type": "code",
   "execution_count": 22,
   "id": "9bffaaa2",
   "metadata": {},
   "outputs": [
    {
     "name": "stdout",
     "output_type": "stream",
     "text": [
      "Enter the expression to be evaluate:4*7\n",
      "28\n"
     ]
    }
   ],
   "source": [
    "x = eval(input(\"Enter the expression to be evaluate:\"))\n",
    "print(x)"
   ]
  },
  {
   "cell_type": "code",
   "execution_count": 23,
   "id": "0f4b8e51",
   "metadata": {},
   "outputs": [
    {
     "name": "stdout",
     "output_type": "stream",
     "text": [
      "Enter the expression to be evaluate:573888888888888888888/ 36444444\n",
      "15746951411548.188\n"
     ]
    }
   ],
   "source": [
    "x = eval(input(\"Enter the expression to be evaluate:\"))\n",
    "print(x)"
   ]
  },
  {
   "cell_type": "code",
   "execution_count": 25,
   "id": "80815578",
   "metadata": {},
   "outputs": [
    {
     "name": "stdout",
     "output_type": "stream",
     "text": [
      "Enter the sequence:12345\n",
      "12345 <class 'int'>\n"
     ]
    }
   ],
   "source": [
    "x = eval(input(\"Enter the sequence:\"))\n",
    "print(x,type(x))"
   ]
  },
  {
   "cell_type": "code",
   "execution_count": 27,
   "id": "44f98da9",
   "metadata": {},
   "outputs": [
    {
     "name": "stdout",
     "output_type": "stream",
     "text": [
      "Enter the sequence:(1,2,3,)\n",
      "(1, 2, 3) <class 'tuple'>\n"
     ]
    }
   ],
   "source": [
    "x = eval(input(\"Enter the sequence:\"))\n",
    "print(x,type(x))"
   ]
  },
  {
   "cell_type": "code",
   "execution_count": 28,
   "id": "f2053c12",
   "metadata": {},
   "outputs": [
    {
     "name": "stdout",
     "output_type": "stream",
     "text": [
      "Enter the sequence:[1,2,3]\n",
      "[1, 2, 3] <class 'list'>\n"
     ]
    }
   ],
   "source": [
    "x = eval(input(\"Enter the sequence:\"))\n",
    "print(x,type(x))"
   ]
  },
  {
   "cell_type": "code",
   "execution_count": 30,
   "id": "11d146fc",
   "metadata": {},
   "outputs": [
    {
     "name": "stdout",
     "output_type": "stream",
     "text": [
      "Enter the sequence:{1:2,2:4}\n",
      "{1: 2, 2: 4} <class 'dict'>\n"
     ]
    }
   ],
   "source": [
    "x = eval(input(\"Enter the sequence:\"))\n",
    "print(x,type(x))"
   ]
  },
  {
   "cell_type": "code",
   "execution_count": 11,
   "id": "0641b00b",
   "metadata": {},
   "outputs": [
    {
     "name": "stdout",
     "output_type": "stream",
     "text": [
      "Enter the sequence:'abc'\n",
      "abc <class 'str'>\n"
     ]
    }
   ],
   "source": [
    "x = eval(input(\"Enter the sequence:\"))\n",
    "print(x,type(x))"
   ]
  },
  {
   "cell_type": "code",
   "execution_count": 12,
   "id": "d52e97e5",
   "metadata": {},
   "outputs": [
    {
     "name": "stdout",
     "output_type": "stream",
     "text": [
      "Enter the sequence:'6+7'\n",
      "6+7 <class 'str'>\n"
     ]
    }
   ],
   "source": [
    "x = eval(input(\"Enter the sequence:\"))\n",
    "print(x,type(x))"
   ]
  },
  {
   "cell_type": "code",
   "execution_count": 36,
   "id": "b648eddd",
   "metadata": {},
   "outputs": [
    {
     "name": "stdout",
     "output_type": "stream",
     "text": [
      "list before pass [12, 67, 90]\n",
      "list inside the function:  [12, 67, 90, [25, 89], [25, 89]]\n",
      "list outside the function [12, 67, 90, [25, 89], [25, 89]]\n"
     ]
    }
   ],
   "source": [
    "def outer(list1):\n",
    "    def ref(list1):\n",
    "        x = []\n",
    "        if list1:\n",
    "            l = [23,87]\n",
    "            for i in l:\n",
    "                x .append(i+2)\n",
    "                list1.extend([x])\n",
    "    \n",
    "        print (\"list inside the function: \",list1 )\n",
    "    ref(list1)\n",
    "list1 = [12,67,90]\n",
    "print(\"list before pass\", list1)\n",
    "outer(list1)\n",
    "print (\"list outside the function\", list1)\n"
   ]
  },
  {
   "cell_type": "code",
   "execution_count": 37,
   "id": "f4c79e0c",
   "metadata": {},
   "outputs": [
    {
     "name": "stdout",
     "output_type": "stream",
     "text": [
      "{'P': 1, 'r': 2, 'e': 1, '-': 1, 'B': 1, 'o': 1, 'a': 1, 'd': 1, ' ': 1, '2': 2, '0': 1, '3': 1}\n",
      "{'P': 1, 'r': 2, 'e': 1, '-': 1, 'B': 1, 'o': 1, 'a': 1, 'd': 1, ' ': 1, '2': 2, '0': 1, '3': 1}\n"
     ]
    }
   ],
   "source": [
    "def dictlist():\n",
    "    global d\n",
    "    x = \"Pre-Board 2023\"\n",
    "    for i in x:\n",
    "        d[i] = x.count(i)\n",
    "    return d\n",
    "d = {}\n",
    "print(dictlist())\n",
    "print(d)\n"
   ]
  },
  {
   "cell_type": "code",
   "execution_count": 15,
   "id": "69be57e0",
   "metadata": {},
   "outputs": [
    {
     "name": "stdout",
     "output_type": "stream",
     "text": [
      "(5, 'Gill', 88.8)\n"
     ]
    }
   ],
   "source": [
    "print(remark)"
   ]
  },
  {
   "cell_type": "code",
   "execution_count": 16,
   "id": "5f763785",
   "metadata": {},
   "outputs": [
    {
     "name": "stdout",
     "output_type": "stream",
     "text": [
      "5\n"
     ]
    }
   ],
   "source": [
    "print(remark[0])"
   ]
  },
  {
   "cell_type": "code",
   "execution_count": 17,
   "id": "433b2c4d",
   "metadata": {},
   "outputs": [
    {
     "name": "stdout",
     "output_type": "stream",
     "text": [
      "88.8\n"
     ]
    }
   ],
   "source": [
    "print(remark[-1])"
   ]
  },
  {
   "cell_type": "code",
   "execution_count": 41,
   "id": "c199cc55",
   "metadata": {},
   "outputs": [
    {
     "name": "stdout",
     "output_type": "stream",
     "text": [
      "(5, 'Gill', 88.8)\n"
     ]
    }
   ],
   "source": [
    "print(remark[0:])"
   ]
  },
  {
   "cell_type": "code",
   "execution_count": 42,
   "id": "cf468e2b",
   "metadata": {},
   "outputs": [
    {
     "name": "stdout",
     "output_type": "stream",
     "text": [
      "(5, 88.8)\n"
     ]
    }
   ],
   "source": [
    "print(remark[0::2])"
   ]
  },
  {
   "cell_type": "code",
   "execution_count": 18,
   "id": "adf64862",
   "metadata": {},
   "outputs": [
    {
     "name": "stdout",
     "output_type": "stream",
     "text": [
      "('Nyra', 'emily', 'Rita', 'riya') 4\n"
     ]
    }
   ],
   "source": [
    "y = (\"Nyra\",\"emily\")+(\"Rita\",\"riya\")\n",
    "print(y, len(y))"
   ]
  },
  {
   "cell_type": "code",
   "execution_count": 19,
   "id": "c96c190f",
   "metadata": {},
   "outputs": [
    {
     "name": "stdout",
     "output_type": "stream",
     "text": [
      "('hungam', 'hungam', 'hungam', 'hungam', 'hungam', 'hungam', 'hungam', 'hungam', 'hungam', 'hungam') 10\n"
     ]
    }
   ],
   "source": [
    "y = (\"hungam\", )* 10\n",
    "print(y, len(y))"
   ]
  },
  {
   "cell_type": "code",
   "execution_count": 20,
   "id": "3a732e46",
   "metadata": {},
   "outputs": [
    {
     "ename": "TypeError",
     "evalue": "'tuple' object does not support item assignment",
     "output_type": "error",
     "traceback": [
      "\u001b[1;31m---------------------------------------------------------------------------\u001b[0m",
      "\u001b[1;31mTypeError\u001b[0m                                 Traceback (most recent call last)",
      "Cell \u001b[1;32mIn[20], line 2\u001b[0m\n\u001b[0;32m      1\u001b[0m t \u001b[38;5;241m=\u001b[39m (\u001b[38;5;241m28\u001b[39m,\u001b[38;5;241m21\u001b[39m,\u001b[38;5;241m15\u001b[39m,\u001b[38;5;241m14\u001b[39m,\u001b[38;5;241m28\u001b[39m)\n\u001b[1;32m----> 2\u001b[0m t[\u001b[38;5;241m0\u001b[39m] \u001b[38;5;241m=\u001b[39m \u001b[38;5;241m5\u001b[39m\n\u001b[0;32m      3\u001b[0m \u001b[38;5;28mprint\u001b[39m(t)\n",
      "\u001b[1;31mTypeError\u001b[0m: 'tuple' object does not support item assignment"
     ]
    }
   ],
   "source": [
    "t = (28,21,15,14,28)\n",
    "t[0] = 5\n",
    "print(t)"
   ]
  },
  {
   "cell_type": "code",
   "execution_count": 21,
   "id": "21e83fd8",
   "metadata": {},
   "outputs": [
    {
     "ename": "TypeError",
     "evalue": "'tuple' object does not support item assignment",
     "output_type": "error",
     "traceback": [
      "\u001b[1;31m---------------------------------------------------------------------------\u001b[0m",
      "\u001b[1;31mTypeError\u001b[0m                                 Traceback (most recent call last)",
      "Cell \u001b[1;32mIn[21], line 2\u001b[0m\n\u001b[0;32m      1\u001b[0m t \u001b[38;5;241m=\u001b[39m ([\u001b[38;5;241m28\u001b[39m,\u001b[38;5;241m21\u001b[39m],[\u001b[38;5;241m15\u001b[39m,\u001b[38;5;241m14\u001b[39m],\u001b[38;5;241m28\u001b[39m)\n\u001b[1;32m----> 2\u001b[0m t[\u001b[38;5;241m0\u001b[39m] \u001b[38;5;241m=\u001b[39m \u001b[38;5;241m5\u001b[39m\n\u001b[0;32m      3\u001b[0m \u001b[38;5;28mprint\u001b[39m(t)\n",
      "\u001b[1;31mTypeError\u001b[0m: 'tuple' object does not support item assignment"
     ]
    }
   ],
   "source": [
    "t = ([28,21],[15,14],28)\n",
    "t[0] = 5\n",
    "print(t)"
   ]
  },
  {
   "cell_type": "code",
   "execution_count": 22,
   "id": "c1053f92",
   "metadata": {},
   "outputs": [
    {
     "name": "stdout",
     "output_type": "stream",
     "text": [
      "([5, 21], [15, 14], 28)\n"
     ]
    }
   ],
   "source": [
    "t = ([28,21],[15,14],28)\n",
    "t[0][0] = 5\n",
    "print(t)"
   ]
  },
  {
   "cell_type": "code",
   "execution_count": 23,
   "id": "942fd600",
   "metadata": {},
   "outputs": [
    {
     "name": "stdout",
     "output_type": "stream",
     "text": [
      "(1, 2, 3, 4)\n"
     ]
    }
   ],
   "source": [
    "# tuple comparision\n",
    "print(rollno)"
   ]
  },
  {
   "cell_type": "code",
   "execution_count": 24,
   "id": "4ad40e73",
   "metadata": {},
   "outputs": [
    {
     "name": "stdout",
     "output_type": "stream",
     "text": [
      "True\n"
     ]
    }
   ],
   "source": [
    "print(rollno ==(1,2,3,4))"
   ]
  },
  {
   "cell_type": "code",
   "execution_count": 25,
   "id": "323b8dc2",
   "metadata": {},
   "outputs": [
    {
     "name": "stdout",
     "output_type": "stream",
     "text": [
      "True\n"
     ]
    }
   ],
   "source": [
    "print((1,2)>(-1,))"
   ]
  },
  {
   "cell_type": "code",
   "execution_count": 26,
   "id": "603f1d3f",
   "metadata": {},
   "outputs": [
    {
     "name": "stdout",
     "output_type": "stream",
     "text": [
      "False\n"
     ]
    }
   ],
   "source": [
    "print((11,2)<(1,))"
   ]
  },
  {
   "cell_type": "code",
   "execution_count": 27,
   "id": "5f66d5e5",
   "metadata": {},
   "outputs": [
    {
     "name": "stdout",
     "output_type": "stream",
     "text": [
      "True\n"
     ]
    }
   ],
   "source": [
    "print(('A','B')!= ('a','b'))"
   ]
  },
  {
   "cell_type": "code",
   "execution_count": 55,
   "id": "b1a481e2",
   "metadata": {},
   "outputs": [
    {
     "name": "stdout",
     "output_type": "stream",
     "text": [
      "False\n"
     ]
    }
   ],
   "source": [
    "print(('A','B','C')> ('a','b'))"
   ]
  },
  {
   "cell_type": "code",
   "execution_count": 56,
   "id": "f9007cf0",
   "metadata": {},
   "outputs": [
    {
     "name": "stdout",
     "output_type": "stream",
     "text": [
      "True\n"
     ]
    }
   ],
   "source": [
    "print(('A','B','C')< ('a','b'))"
   ]
  },
  {
   "cell_type": "code",
   "execution_count": 57,
   "id": "00984f83",
   "metadata": {},
   "outputs": [
    {
     "ename": "SyntaxError",
     "evalue": "invalid syntax (908238785.py, line 2)",
     "output_type": "error",
     "traceback": [
      "\u001b[1;36m  Cell \u001b[1;32mIn[57], line 2\u001b[1;36m\u001b[0m\n\u001b[1;33m    print(del t[0])\u001b[0m\n\u001b[1;37m          ^\u001b[0m\n\u001b[1;31mSyntaxError\u001b[0m\u001b[1;31m:\u001b[0m invalid syntax\n"
     ]
    }
   ],
   "source": [
    "rollno = [10,12,12,13,10]\n",
    "print(del t[0])"
   ]
  },
  {
   "cell_type": "code",
   "execution_count": 28,
   "id": "b888fa06",
   "metadata": {},
   "outputs": [
    {
     "name": "stdout",
     "output_type": "stream",
     "text": [
      "[12, 12, 13, 10]\n"
     ]
    }
   ],
   "source": [
    "t = [10,12,12,13,10]\n",
    "del t[0]\n",
    "print(t)"
   ]
  },
  {
   "cell_type": "code",
   "execution_count": 62,
   "id": "597401a9",
   "metadata": {},
   "outputs": [
    {
     "ename": "TypeError",
     "evalue": "'tuple' object doesn't support item deletion",
     "output_type": "error",
     "traceback": [
      "\u001b[1;31m---------------------------------------------------------------------------\u001b[0m",
      "\u001b[1;31mTypeError\u001b[0m                                 Traceback (most recent call last)",
      "Cell \u001b[1;32mIn[62], line 2\u001b[0m\n\u001b[0;32m      1\u001b[0m t \u001b[38;5;241m=\u001b[39m (\u001b[38;5;241m10\u001b[39m,\u001b[38;5;241m12\u001b[39m,\u001b[38;5;241m12\u001b[39m,\u001b[38;5;241m13\u001b[39m,\u001b[38;5;241m10\u001b[39m)\n\u001b[1;32m----> 2\u001b[0m \u001b[38;5;28;01mdel\u001b[39;00m t[\u001b[38;5;241m0\u001b[39m]\n\u001b[0;32m      3\u001b[0m \u001b[38;5;28mprint\u001b[39m(t)\n",
      "\u001b[1;31mTypeError\u001b[0m: 'tuple' object doesn't support item deletion"
     ]
    }
   ],
   "source": [
    "t = (10,12,12,13,10)\n",
    "del t[0]\n",
    "print(t)"
   ]
  },
  {
   "cell_type": "code",
   "execution_count": 30,
   "id": "acac6923",
   "metadata": {},
   "outputs": [
    {
     "ename": "NameError",
     "evalue": "name 't' is not defined",
     "output_type": "error",
     "traceback": [
      "\u001b[1;31m---------------------------------------------------------------------------\u001b[0m",
      "\u001b[1;31mNameError\u001b[0m                                 Traceback (most recent call last)",
      "Cell \u001b[1;32mIn[30], line 3\u001b[0m\n\u001b[0;32m      1\u001b[0m t \u001b[38;5;241m=\u001b[39m (\u001b[38;5;241m10\u001b[39m,\u001b[38;5;241m12\u001b[39m,\u001b[38;5;241m12\u001b[39m,\u001b[38;5;241m13\u001b[39m,\u001b[38;5;241m10\u001b[39m)\n\u001b[0;32m      2\u001b[0m \u001b[38;5;28;01mdel\u001b[39;00m t\n\u001b[1;32m----> 3\u001b[0m \u001b[38;5;28mprint\u001b[39m(t)\n",
      "\u001b[1;31mNameError\u001b[0m: name 't' is not defined"
     ]
    }
   ],
   "source": [
    "t = (10,12,12,13,10)\n",
    "del t\n",
    "print(t)"
   ]
  },
  {
   "cell_type": "code",
   "execution_count": 31,
   "id": "0fa39a68",
   "metadata": {},
   "outputs": [
    {
     "name": "stdout",
     "output_type": "stream",
     "text": [
      "False\n"
     ]
    }
   ],
   "source": [
    "print('rita' in y)"
   ]
  },
  {
   "cell_type": "code",
   "execution_count": 32,
   "id": "fb68f558",
   "metadata": {},
   "outputs": [
    {
     "name": "stdout",
     "output_type": "stream",
     "text": [
      "('hungam', 'hungam', 'hungam', 'hungam', 'hungam', 'hungam', 'hungam', 'hungam', 'hungam', 'hungam')\n"
     ]
    }
   ],
   "source": [
    "print(y)"
   ]
  },
  {
   "cell_type": "code",
   "execution_count": 65,
   "id": "d7099e32",
   "metadata": {},
   "outputs": [
    {
     "name": "stdout",
     "output_type": "stream",
     "text": [
      "('hungam', 'hungam', 'hungam', 'hungam', 'hungam', 'hungam', 'hungam', 'hungam', 'hungam', 'hungam')\n"
     ]
    }
   ],
   "source": [
    "print(y)"
   ]
  },
  {
   "cell_type": "code",
   "execution_count": 33,
   "id": "467b0059",
   "metadata": {},
   "outputs": [
    {
     "name": "stdout",
     "output_type": "stream",
     "text": [
      "virat\n"
     ]
    }
   ],
   "source": [
    "print('virat')"
   ]
  },
  {
   "cell_type": "code",
   "execution_count": 34,
   "id": "146e9b5e",
   "metadata": {},
   "outputs": [
    {
     "name": "stdout",
     "output_type": "stream",
     "text": [
      "3\n"
     ]
    }
   ],
   "source": [
    "t = (2,3,4,5,6,7,2,3,4,2)\n",
    "print(t.count(2))"
   ]
  },
  {
   "cell_type": "code",
   "execution_count": 35,
   "id": "3a297b27",
   "metadata": {},
   "outputs": [
    {
     "ename": "TypeError",
     "evalue": "tuple.count() takes exactly one argument (2 given)",
     "output_type": "error",
     "traceback": [
      "\u001b[1;31m---------------------------------------------------------------------------\u001b[0m",
      "\u001b[1;31mTypeError\u001b[0m                                 Traceback (most recent call last)",
      "Cell \u001b[1;32mIn[35], line 1\u001b[0m\n\u001b[1;32m----> 1\u001b[0m \u001b[38;5;28mprint\u001b[39m(t\u001b[38;5;241m.\u001b[39mcount(\u001b[38;5;241m2\u001b[39m,\u001b[38;5;241m0\u001b[39m))\n",
      "\u001b[1;31mTypeError\u001b[0m: tuple.count() takes exactly one argument (2 given)"
     ]
    }
   ],
   "source": [
    "print(t.count(2,0))"
   ]
  },
  {
   "cell_type": "code",
   "execution_count": 36,
   "id": "a6988f69",
   "metadata": {},
   "outputs": [
    {
     "name": "stdout",
     "output_type": "stream",
     "text": [
      "0\n"
     ]
    }
   ],
   "source": [
    "print(t.index(2))"
   ]
  },
  {
   "cell_type": "code",
   "execution_count": 37,
   "id": "dc59cbfe",
   "metadata": {},
   "outputs": [
    {
     "name": "stdout",
     "output_type": "stream",
     "text": [
      "6\n"
     ]
    }
   ],
   "source": [
    "print(t.index(2,1))"
   ]
  },
  {
   "cell_type": "code",
   "execution_count": 38,
   "id": "382c5dbb",
   "metadata": {},
   "outputs": [
    {
     "name": "stdout",
     "output_type": "stream",
     "text": [
      "9\n"
     ]
    }
   ],
   "source": [
    "print(t.index(2,7))"
   ]
  },
  {
   "cell_type": "code",
   "execution_count": 6,
   "id": "abc8dbe2",
   "metadata": {},
   "outputs": [
    {
     "name": "stdout",
     "output_type": "stream",
     "text": [
      "6\n"
     ]
    }
   ],
   "source": [
    "print(t.index(2,1,7))"
   ]
  },
  {
   "cell_type": "code",
   "execution_count": 7,
   "id": "c575da9b",
   "metadata": {},
   "outputs": [
    {
     "name": "stdout",
     "output_type": "stream",
     "text": [
      "(2, 3, 4, 5, 6, 7, 2, 3, 4, 2)\n"
     ]
    }
   ],
   "source": [
    "print(t)"
   ]
  },
  {
   "cell_type": "code",
   "execution_count": 39,
   "id": "97a0521d",
   "metadata": {},
   "outputs": [
    {
     "ename": "ValueError",
     "evalue": "tuple.index(x): x not in tuple",
     "output_type": "error",
     "traceback": [
      "\u001b[1;31m---------------------------------------------------------------------------\u001b[0m",
      "\u001b[1;31mValueError\u001b[0m                                Traceback (most recent call last)",
      "Cell \u001b[1;32mIn[39], line 1\u001b[0m\n\u001b[1;32m----> 1\u001b[0m \u001b[38;5;28mprint\u001b[39m(t\u001b[38;5;241m.\u001b[39mindex(\u001b[38;5;241m20\u001b[39m,\u001b[38;5;241m1\u001b[39m))\n",
      "\u001b[1;31mValueError\u001b[0m: tuple.index(x): x not in tuple"
     ]
    }
   ],
   "source": [
    "print(t.index(20,1))"
   ]
  },
  {
   "cell_type": "code",
   "execution_count": 40,
   "id": "233ca22c",
   "metadata": {},
   "outputs": [
    {
     "name": "stdout",
     "output_type": "stream",
     "text": [
      "38\n"
     ]
    }
   ],
   "source": [
    "print(sum(t))"
   ]
  },
  {
   "cell_type": "code",
   "execution_count": 42,
   "id": "16b45001",
   "metadata": {},
   "outputs": [
    {
     "ename": "SyntaxError",
     "evalue": "incomplete input (477960344.py, line 1)",
     "output_type": "error",
     "traceback": [
      "\u001b[1;36m  Cell \u001b[1;32mIn[42], line 1\u001b[1;36m\u001b[0m\n\u001b[1;33m    print(sum(('a','b','c'))\u001b[0m\n\u001b[1;37m                            ^\u001b[0m\n\u001b[1;31mSyntaxError\u001b[0m\u001b[1;31m:\u001b[0m incomplete input\n"
     ]
    }
   ],
   "source": [
    "print(sum(('a','b','c'))"
   ]
  },
  {
   "cell_type": "code",
   "execution_count": 43,
   "id": "6086d790",
   "metadata": {},
   "outputs": [
    {
     "name": "stdout",
     "output_type": "stream",
     "text": [
      "2\n"
     ]
    }
   ],
   "source": [
    "print(min(t))"
   ]
  },
  {
   "cell_type": "code",
   "execution_count": 47,
   "id": "6831e503",
   "metadata": {},
   "outputs": [
    {
     "name": "stdout",
     "output_type": "stream",
     "text": [
      "1\n"
     ]
    }
   ],
   "source": [
    "print(min('sunmathi','udhya','neenu','1'),ord('1'))"
   ]
  },
  {
   "cell_type": "code",
   "execution_count": 44,
   "id": "6c274de3",
   "metadata": {},
   "outputs": [
    {
     "name": "stdout",
     "output_type": "stream",
     "text": [
      "7\n"
     ]
    }
   ],
   "source": [
    "print(max(t))"
   ]
  },
  {
   "cell_type": "code",
   "execution_count": 12,
   "id": "af6fb108",
   "metadata": {},
   "outputs": [
    {
     "name": "stdout",
     "output_type": "stream",
     "text": [
      "(2, 3, 4, 5, 6, 7, 2, 3, 4, 2)\n"
     ]
    }
   ],
   "source": [
    "print(t)"
   ]
  },
  {
   "cell_type": "code",
   "execution_count": 13,
   "id": "611e3f14",
   "metadata": {},
   "outputs": [
    {
     "name": "stdout",
     "output_type": "stream",
     "text": [
      "(1, 2, 34, 1, 2)\n"
     ]
    }
   ],
   "source": [
    "print((1,2,34)+(1,2))"
   ]
  },
  {
   "cell_type": "code",
   "execution_count": 14,
   "id": "f42cc633",
   "metadata": {},
   "outputs": [
    {
     "name": "stdout",
     "output_type": "stream",
     "text": [
      "(3, 4, 3, 4, 3, 4, 3, 4, 3, 4, 3, 4, 3, 4, 3, 4, 3, 4, 3, 4)\n"
     ]
    }
   ],
   "source": [
    "print((3,4)*10)"
   ]
  },
  {
   "cell_type": "code",
   "execution_count": null,
   "id": "e4f5d34e",
   "metadata": {},
   "outputs": [],
   "source": []
  }
 ],
 "metadata": {
  "kernelspec": {
   "display_name": "Python 3 (ipykernel)",
   "language": "python",
   "name": "python3"
  },
  "language_info": {
   "codemirror_mode": {
    "name": "ipython",
    "version": 3
   },
   "file_extension": ".py",
   "mimetype": "text/x-python",
   "name": "python",
   "nbconvert_exporter": "python",
   "pygments_lexer": "ipython3",
   "version": "3.11.3"
  }
 },
 "nbformat": 4,
 "nbformat_minor": 5
}
