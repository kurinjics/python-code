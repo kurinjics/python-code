{
 "cells": [
  {
   "cell_type": "code",
   "execution_count": 1,
   "id": "70c6fc73",
   "metadata": {},
   "outputs": [
    {
     "name": "stdout",
     "output_type": "stream",
     "text": [
      "Enter the value:-6\n",
      "Program ends\n"
     ]
    }
   ],
   "source": [
    "n = int(input(\"Enter the value:\"))\n",
    "if n > 0:\n",
    "    print(\"Positive\")\n",
    "print(\"Program ends\")"
   ]
  },
  {
   "cell_type": "code",
   "execution_count": 3,
   "id": "ec5cde72",
   "metadata": {},
   "outputs": [
    {
     "name": "stdout",
     "output_type": "stream",
     "text": [
      "Enter the value:60\n",
      "Positive\n",
      "Program ends\n"
     ]
    }
   ],
   "source": [
    "n = int(input(\"Enter the value:\"))\n",
    "if n > 0:\n",
    "    print(\"Positive\")\n",
    "print(\"Program ends\")"
   ]
  },
  {
   "cell_type": "code",
   "execution_count": 4,
   "id": "51cdb352",
   "metadata": {},
   "outputs": [
    {
     "name": "stdout",
     "output_type": "stream",
     "text": [
      "Enter the value:-1\n",
      "Negative\n",
      "Program ends\n"
     ]
    }
   ],
   "source": [
    "n = int(input(\"Enter the value:\"))\n",
    "if n > 0:\n",
    "    print(\"Positive\")\n",
    "else:\n",
    "    print(\"Negative\")\n",
    "print(\"Program ends\")"
   ]
  },
  {
   "cell_type": "code",
   "execution_count": 6,
   "id": "7e3ea017",
   "metadata": {},
   "outputs": [
    {
     "name": "stdout",
     "output_type": "stream",
     "text": [
      "Enter the value:0\n",
      "Nor Positive or Negative,Zero\n",
      "Program ends\n"
     ]
    }
   ],
   "source": [
    "n = int(input(\"Enter the value:\"))\n",
    "if n > 0:\n",
    "    print(\"Positive\")\n",
    "else:\n",
    "    if n == 0:\n",
    "        print(\"Nor Positive or Negative,Zero\")\n",
    "    else:\n",
    "        print(\"Negative\")\n",
    "print(\"Program ends\")"
   ]
  },
  {
   "cell_type": "code",
   "execution_count": 8,
   "id": "d5c507af",
   "metadata": {},
   "outputs": [
    {
     "name": "stdout",
     "output_type": "stream",
     "text": [
      "Enter the value:2\n",
      "Two\n",
      "Program ends\n"
     ]
    }
   ],
   "source": [
    "n = int(input(\"Enter the value:\"))\n",
    "if n == 0:\n",
    "    print(\"zero\")\n",
    "if n == 1:\n",
    "    print(\"One\")\n",
    "if n == 2:\n",
    "    print(\"Two\")\n",
    "if n == 3:\n",
    "    print(\"Three\")\n",
    "print(\"Program ends\")"
   ]
  },
  {
   "cell_type": "code",
   "execution_count": 10,
   "id": "eeff2062",
   "metadata": {},
   "outputs": [
    {
     "name": "stdout",
     "output_type": "stream",
     "text": [
      "Enter the value:1\n",
      "One\n",
      "Program ends\n"
     ]
    }
   ],
   "source": [
    "n = int(input(\"Enter the value:\"))\n",
    "if n == 0:\n",
    "    print(\"zero\")\n",
    "elif n == 1:\n",
    "    print(\"One\")\n",
    "elif n == 2:\n",
    "    print(\"Two\")\n",
    "elif n == 3:\n",
    "    print(\"Three\")\n",
    "print(\"Program ends\")"
   ]
  },
  {
   "cell_type": "code",
   "execution_count": 11,
   "id": "8e4034b6",
   "metadata": {},
   "outputs": [
    {
     "name": "stdout",
     "output_type": "stream",
     "text": [
      "Enter the value:10\n",
      "No value matched\n",
      "Program end\n"
     ]
    }
   ],
   "source": [
    "n = int(input(\"Enter the value:\"))\n",
    "if n == 0:\n",
    "    print(\"zero\")\n",
    "elif n == 1:\n",
    "    print(\"One\")\n",
    "elif n == 2:\n",
    "    print(\"Two\")\n",
    "elif n == 3:\n",
    "    print(\"Three\")\n",
    "else:\n",
    "    print(\"No value matched\")\n",
    "print(\"Program end\")"
   ]
  },
  {
   "cell_type": "code",
   "execution_count": 15,
   "id": "8c9209a6",
   "metadata": {},
   "outputs": [
    {
     "name": "stdout",
     "output_type": "stream",
     "text": [
      "Enter the value:35.9\n",
      "31-40\n",
      "Program end\n"
     ]
    }
   ],
   "source": [
    "n = float(input(\"Enter the value:\"))\n",
    "if n > 0 and n <= 10:\n",
    "    print(\"1-10\")\n",
    "elif n >10 and n <= 20:\n",
    "    print(\"11-20\")\n",
    "elif n > 20 and n <= 30:\n",
    "    print(\"21-30\")\n",
    "elif n > 30 and n <= 40:\n",
    "    print(\"31-40\")\n",
    "else:\n",
    "    print(\"No value matched\")\n",
    "print(\"Program end\")"
   ]
  },
  {
   "cell_type": "markdown",
   "id": "a74bfb3b",
   "metadata": {},
   "source": [
    "\"\"\"\n",
    "for <iterable variable> in <seq>:\n",
    "    <statement>\n",
    "\"\"\""
   ]
  },
  {
   "cell_type": "code",
   "execution_count": 16,
   "id": "fad02749",
   "metadata": {},
   "outputs": [
    {
     "name": "stdout",
     "output_type": "stream",
     "text": [
      "0\n",
      "1\n",
      "2\n",
      "3\n",
      "4\n"
     ]
    }
   ],
   "source": [
    "for i in range(0,5):#[0,1,2,3,4]\n",
    "    print(i)"
   ]
  },
  {
   "cell_type": "code",
   "execution_count": 17,
   "id": "eac01754",
   "metadata": {},
   "outputs": [
    {
     "name": "stdout",
     "output_type": "stream",
     "text": [
      "Taaha\n",
      "Taaha\n",
      "Taaha\n",
      "Taaha\n",
      "Taaha\n",
      "Taaha\n",
      "Taaha\n",
      "Taaha\n",
      "Taaha\n",
      "Taaha\n"
     ]
    }
   ],
   "source": [
    "for i in range(10):\n",
    "    print(\"Taaha\")"
   ]
  },
  {
   "cell_type": "code",
   "execution_count": 18,
   "id": "e47849e8",
   "metadata": {},
   "outputs": [
    {
     "name": "stdout",
     "output_type": "stream",
     "text": [
      "Taaha\n",
      "Taaha\n",
      "Taaha\n",
      "Taaha\n",
      "Taaha\n",
      "Taaha\n",
      "Taaha\n",
      "Taaha\n",
      "Taaha\n",
      "Taaha\n",
      "10\n"
     ]
    }
   ],
   "source": [
    "c =0\n",
    "for i in range(10):\n",
    "    print(\"Taaha\")\n",
    "    c += 1\n",
    "print(c)"
   ]
  },
  {
   "cell_type": "code",
   "execution_count": null,
   "id": "a5f1c03f",
   "metadata": {},
   "outputs": [],
   "source": [
    "\"\"\"\n",
    "<initialization>\n",
    "while <condition>:\n",
    "    <body of loop>\n",
    "    <incrementation/Decrementation>\n",
    "    \n",
    "\"\"\""
   ]
  },
  {
   "cell_type": "code",
   "execution_count": 19,
   "id": "83e70409",
   "metadata": {},
   "outputs": [
    {
     "name": "stdout",
     "output_type": "stream",
     "text": [
      "0:Taaha\n",
      "1:Taaha\n",
      "2:Taaha\n",
      "3:Taaha\n",
      "4:Taaha\n",
      "5:Taaha\n",
      "6:Taaha\n",
      "7:Taaha\n",
      "8:Taaha\n",
      "9:Taaha\n"
     ]
    }
   ],
   "source": [
    "c = 0\n",
    "while c< 10:\n",
    "    print(c,\"Taaha\",sep =\":\")\n",
    "    c+= 1"
   ]
  },
  {
   "cell_type": "code",
   "execution_count": 20,
   "id": "7a20229d",
   "metadata": {},
   "outputs": [
    {
     "name": "stdout",
     "output_type": "stream",
     "text": [
      "p\n",
      "y\n",
      "t\n",
      "h\n",
      "o\n",
      "n\n"
     ]
    }
   ],
   "source": [
    "for i in \"python\":\n",
    "    print(i)"
   ]
  },
  {
   "cell_type": "code",
   "execution_count": null,
   "id": "e0fb01f5",
   "metadata": {},
   "outputs": [],
   "source": [
    "for i in \"python\":\n",
    "    print(i)\n",
    "else:\n",
    "    print(\"Over\")"
   ]
  },
  {
   "cell_type": "code",
   "execution_count": 1,
   "id": "27ee8454",
   "metadata": {},
   "outputs": [
    {
     "name": "stdout",
     "output_type": "stream",
     "text": [
      "1\n",
      "2\n",
      "4\n"
     ]
    }
   ],
   "source": [
    "if 'bar' in {'foo': 1, 'bar': 2, 'baz': 3}:\n",
    "    print(1)\n",
    "    print(2)\n",
    "    if 'a' in 'qux':\n",
    "        print(3)\n",
    "print(4)"
   ]
  },
  {
   "cell_type": "code",
   "execution_count": 4,
   "id": "86c51a4b",
   "metadata": {},
   "outputs": [
    {
     "name": "stdout",
     "output_type": "stream",
     "text": [
      "ok\n"
     ]
    }
   ],
   "source": [
    "d = {'a': 0, 'b': 1, 'c': 0}\n",
    "d['d']=0\n",
    "\n",
    "if d['a'] > 0:\n",
    "    print('ok')\n",
    "elif d['b'] > 0:\n",
    "    print('ok')\n",
    "elif d['c'] > 0:\n",
    "    print('ok')\n",
    "elif d['d'] > 0:\n",
    "    print('ok')\n",
    "else:\n",
    "    print('not ok')"
   ]
  },
  {
   "cell_type": "code",
   "execution_count": 2,
   "id": "27547fa6",
   "metadata": {},
   "outputs": [
    {
     "name": "stdout",
     "output_type": "stream",
     "text": [
      "cmue\n",
      "cmue\n"
     ]
    }
   ],
   "source": [
    "x = 'computer'\n",
    "print(x[0:len(x):2])\n",
    "print(x[0:8:2])\n"
   ]
  },
  {
   "cell_type": "markdown",
   "id": "fb1c1429",
   "metadata": {},
   "source": [
    "list(range(-5,5))\n",
    "[-5, -4, -3, -2, -1, 0, 1, 2, 3, 4]\n",
    "list(range(-5,5,3))\n",
    "[-5, -2, 1, 4]\n",
    "list(range(-5,5,-3))\n",
    "[]\n",
    "list(range(10,1))\n",
    "[]\n",
    "list(range(10,1,-1))\n",
    "[10, 9, 8, 7, 6, 5, 4, 3, 2]\n"
   ]
  },
  {
   "cell_type": "code",
   "execution_count": 3,
   "id": "a310e2fe",
   "metadata": {},
   "outputs": [
    {
     "name": "stdout",
     "output_type": "stream",
     "text": [
      "0\n",
      "1\n",
      "2\n",
      "3\n",
      "4\n",
      "5\n",
      "6\n",
      "7\n",
      "8\n",
      "9\n"
     ]
    }
   ],
   "source": [
    "for i  in range(10):\n",
    "    print(i)"
   ]
  },
  {
   "cell_type": "code",
   "execution_count": null,
   "id": "bfc2c6fa",
   "metadata": {},
   "outputs": [],
   "source": [
    "i = 0\n",
    "while i < 10:\n",
    "    print(i)\n",
    "    i = i + 1"
   ]
  },
  {
   "cell_type": "code",
   "execution_count": null,
   "id": "494e551d",
   "metadata": {},
   "outputs": [],
   "source": []
  },
  {
   "cell_type": "code",
   "execution_count": null,
   "id": "1b84700e",
   "metadata": {},
   "outputs": [],
   "source": []
  },
  {
   "cell_type": "code",
   "execution_count": null,
   "id": "6f240ff2",
   "metadata": {},
   "outputs": [],
   "source": []
  }
 ],
 "metadata": {
  "kernelspec": {
   "display_name": "Python 3 (ipykernel)",
   "language": "python",
   "name": "python3"
  },
  "language_info": {
   "codemirror_mode": {
    "name": "ipython",
    "version": 3
   },
   "file_extension": ".py",
   "mimetype": "text/x-python",
   "name": "python",
   "nbconvert_exporter": "python",
   "pygments_lexer": "ipython3",
   "version": "3.11.3"
  }
 },
 "nbformat": 4,
 "nbformat_minor": 5
}
