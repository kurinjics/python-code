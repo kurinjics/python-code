{
 "cells": [
  {
   "cell_type": "code",
   "execution_count": 8,
   "id": "6fb18c5a",
   "metadata": {},
   "outputs": [
    {
     "name": "stdout",
     "output_type": "stream",
     "text": [
      "Enter any number :1\n",
      "Factorial of  1  is : 1\n"
     ]
    }
   ],
   "source": [
    "num = int(input(\"Enter any number :\"))\n",
    "fact = 1\n",
    "n = num # storing num in n for printing\n",
    "while num>1: # loop to iterate from n to 2\n",
    "    fact = fact * num\n",
    "    num-=1\n",
    "print(\"Factorial of \", n , \" is :\",fact)\n"
   ]
  },
  {
   "cell_type": "code",
   "execution_count": 10,
   "id": "b5120a48",
   "metadata": {},
   "outputs": [
    {
     "name": "stdout",
     "output_type": "stream",
     "text": [
      "Enter any number :17\n",
      "## Number is Prime ##\n"
     ]
    }
   ],
   "source": [
    "import math\n",
    "num = int(input(\"Enter any number :\"))\n",
    "isPrime=True\n",
    "for i in range(2,int(math.sqrt(num))+1):\n",
    "    if num % i == 0:\n",
    "        isPrime=False\n",
    "if isPrime:\n",
    "    print(\"## Number is Prime ##\")\n",
    "else:\n",
    "    print(\"## Number is not Prime ##\")\n"
   ]
  },
  {
   "cell_type": "code",
   "execution_count": 11,
   "id": "add3b550",
   "metadata": {},
   "outputs": [
    {
     "name": "stdout",
     "output_type": "stream",
     "text": [
      "How many terms? 10\n",
      "Fibonacci Series :  [0, 1, 1, 2, 3, 5, 8, 13, 21, 34]\n"
     ]
    }
   ],
   "source": [
    "def fibo(num):\n",
    "    a=0\n",
    "    b=1\n",
    "    fib=[a,b]\n",
    "    for i in range(3,num+1):\n",
    "        c=a+b\n",
    "        fib.append(c)\n",
    "        a=b\n",
    "        b=c\n",
    "    return fib \n",
    "num = int(input(\"How many terms? \")) \n",
    "print(\"Fibonacci Series : \",fibo(num))\n"
   ]
  },
  {
   "cell_type": "code",
   "execution_count": 15,
   "id": "8f9562d8",
   "metadata": {},
   "outputs": [
    {
     "name": "stdout",
     "output_type": "stream",
     "text": [
      "Enter the principal amount :10000\n",
      "Enter the time period :5\n",
      "Enter the rate of interest :3\n",
      "The principal is 10000\n",
      "The time period is 5\n",
      "The rate of interest is 3\n",
      "The Simple Interest is 1500.0\n"
     ]
    }
   ],
   "source": [
    "# Python3 program to find simple interest\n",
    "# principal amount, time and\n",
    "# rate of interest taken from user.\n",
    "\n",
    "def simple_interest(p,t,r):\n",
    "    print('The principal is', p)\n",
    "    print('The time period is', t)\n",
    "    print('The rate of interest is',r)\n",
    "    return (p * t * r)/100\n",
    "# main program\n",
    "P = int(input(\"Enter the principal amount :\"))\n",
    "T = int(input(\"Enter the time period :\"))\n",
    "R = int(input(\"Enter the rate of interest :\"))\n",
    "si =simple_interest(P,T,R)\n",
    "print('The Simple Interest is', si)\n",
    "\n"
   ]
  },
  {
   "cell_type": "code",
   "execution_count": 2,
   "id": "0a8383d3",
   "metadata": {},
   "outputs": [
    {
     "name": "stdout",
     "output_type": "stream",
     "text": [
      "Enter the number: 2000\n",
      "Leap year for the next 10 years (2000, 2001, 2002, 2003, 2004, 2005, 2006, 2007, 2008, 2009)\n"
     ]
    }
   ],
   "source": [
    "def CheckLeap(Year):\n",
    "    global t\n",
    "    for i in range(Year,Year+10):\n",
    "        if (Year % 400 == 0) or  ((Year % 100 != 0) and (Year % 4 == 0)):\n",
    "            t += (i,)  \n",
    "        \n",
    "    return t\n",
    "t = ()\n",
    "Year = int(input(\"Enter the number: \"))  \n",
    "result =CheckLeap(Year)  \n",
    "if len(t) > 0:\n",
    "    print(\"Leap year for the next 10 years\",result)\n",
    "else:\n",
    "    print(\"No Leap year\")"
   ]
  },
  {
   "cell_type": "code",
   "execution_count": 5,
   "id": "4110171b",
   "metadata": {},
   "outputs": [
    {
     "name": "stdout",
     "output_type": "stream",
     "text": [
      "Enter Celsius value : 30\n",
      "30 degree celsius is equal to: 86.0 Fahrenheit\n",
      "Enter Fahrenheit value : 86\n",
      "86 Fahrenheit is equal to: 30.0 degree celsius\n"
     ]
    }
   ],
   "source": [
    "def Celsius_to_Fahrenheit(c) : \n",
    "    f = (9/5)*c + 32 \n",
    "    return f \n",
    "def Fahrenheit_to_Celsius(f) : \n",
    "    c = (5/9)*(f - 32) \n",
    "    return c \n",
    "if __name__ == \"__main__\" : \n",
    "    c = int(input(\"Enter Celsius value : \")) \n",
    "    print(c, \"degree celsius is equal to:\",Celsius_to_Fahrenheit(c), \"Fahrenheit\") \n",
    "    f = int(input(\"Enter Fahrenheit value : \")) \n",
    "    print(f,\"Fahrenheit is equal to:\",Fahrenheit_to_Celsius(f),\"degree celsius\") \n"
   ]
  },
  {
   "cell_type": "code",
   "execution_count": null,
   "id": "bb7ad679",
   "metadata": {},
   "outputs": [],
   "source": [
    " \n",
    "def add(x, y): \n",
    "    return x + y \n",
    "def subtract(x, y): \n",
    " \n",
    "    return x - y \n",
    "def multiply(x, y): \n",
    "    return x * y \n",
    "def divide(x, y): \n",
    "     return x / y \n",
    "def floordiv(x, y): \n",
    "     return x // y \n",
    "def moddiv(x, y): \n",
    "     return x % y \n",
    "print(\"Select operation.\") \n",
    "print(\"1.Add\") \n",
    "print(\"2.Subtract\") \n",
    "print(\"3.Multiply\") \n",
    "print(\"4.Divide\") \n",
    "print(\"5.Floor Division\") \n",
    "print(\"6.Modulo Division\") \n",
    "choice = input(\"Enter choice(1/2/3/4/5/6):\") \n",
    "while choice<'7': \n",
    "    num1 = int(input(\"Enter first number: \")) \n",
    "    num2 = int(input(\"Enter second number: \")) \n",
    "    if choice == '1': \n",
    "        print(num1,\"+\",num2,\"=\", add(num1,num2)) \n",
    "    elif choice == '2': \n",
    "        print(num1,\"-\",num2,\"=\", subtract(num1,num2)) \n",
    "    elif choice == '3': \n",
    "        print(num1,\"*\",num2,\"=\", multiply(num1,num2)) \n",
    "    elif choice == '4': \n",
    "        print(num1,\"/\",num2,\"=\", divide(num1,num2)) \n",
    "    elif choice=='5': \n",
    "        print(num1,\"//\",num2,\"=\",floordiv(num1,num2)) \n",
    "    elif choice=='6': \n",
    "        print(num1,\"%\",num2,\"=\",moddiv(num1,num2)) \n",
    "    choice = input(\"Enter choice(1/2/3/4/5/6):\") \n",
    "print(\"Exited\") \n"
   ]
  },
  {
   "cell_type": "code",
   "execution_count": 10,
   "id": "c3360af5",
   "metadata": {},
   "outputs": [
    {
     "name": "stdout",
     "output_type": "stream",
     "text": [
      "Enter any sentence :Susie works in a shoeshine shop. Where she shines she sits, and where she sits she shines.\n",
      "Enter word to search in sentence :work\n",
      "Sorry!  work  not present \n"
     ]
    }
   ],
   "source": [
    "def countWord(str1,word): \n",
    "    s = str1.split() \n",
    "    count=0 \n",
    "    for w in s: \n",
    "        if w==word: \n",
    "            count+=1 \n",
    "    return count \n",
    "str1 = input(\"Enter any sentence :\") \n",
    "word = input(\"Enter word to search in sentence :\") \n",
    "count = countWord(str1,word) \n",
    "if count==0: \n",
    "    print(\"Sorry! \",word,\" not present \") \n",
    "else: \n",
    "    print(word,\" occurs \",count,\" times \") \n"
   ]
  },
  {
   "cell_type": "code",
   "execution_count": null,
   "id": "94542c01",
   "metadata": {},
   "outputs": [],
   "source": []
  }
 ],
 "metadata": {
  "kernelspec": {
   "display_name": "Python 3 (ipykernel)",
   "language": "python",
   "name": "python3"
  },
  "language_info": {
   "codemirror_mode": {
    "name": "ipython",
    "version": 3
   },
   "file_extension": ".py",
   "mimetype": "text/x-python",
   "name": "python",
   "nbconvert_exporter": "python",
   "pygments_lexer": "ipython3",
   "version": "3.11.3"
  }
 },
 "nbformat": 4,
 "nbformat_minor": 5
}
