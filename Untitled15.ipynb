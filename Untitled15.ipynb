{
 "cells": [
  {
   "cell_type": "code",
   "execution_count": 3,
   "id": "900391c4",
   "metadata": {},
   "outputs": [
    {
     "name": "stdout",
     "output_type": "stream",
     "text": [
      "Total number of records fetched: 0\n"
     ]
    }
   ],
   "source": [
    "import pymysql\n",
    "def insertrecord(db,tbl):\n",
    "    con =pymysql.connect(host = 'localhost',user =\"root\",password =\"root\",database = db)\n",
    "    cursor = con. cursor()\n",
    "    \n",
    "    cursor.execute(\"SELECT * FROM Faculty\")\n",
    "    con.commit()\n",
    "    data = cursor.fetchall()\n",
    "    for row in data:\n",
    "        print(row)\n",
    "    print(\"Total number of records fetched:\",cursor.rowcount)\n",
    "    con.close()\n",
    "insertrecord(\"Institution\",\"Faculty\")"
   ]
  },
  {
   "cell_type": "code",
   "execution_count": null,
   "id": "79e94234",
   "metadata": {},
   "outputs": [],
   "source": []
  }
 ],
 "metadata": {
  "kernelspec": {
   "display_name": "Python 3 (ipykernel)",
   "language": "python",
   "name": "python3"
  },
  "language_info": {
   "codemirror_mode": {
    "name": "ipython",
    "version": 3
   },
   "file_extension": ".py",
   "mimetype": "text/x-python",
   "name": "python",
   "nbconvert_exporter": "python",
   "pygments_lexer": "ipython3",
   "version": "3.11.3"
  }
 },
 "nbformat": 4,
 "nbformat_minor": 5
}
