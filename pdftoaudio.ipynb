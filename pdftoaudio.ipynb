{
 "cells": [
  {
   "cell_type": "code",
   "execution_count": 6,
   "id": "aa7b5f41",
   "metadata": {},
   "outputs": [
    {
     "ename": "AttributeError",
     "evalue": "'PdfReader' object has no attribute 'Pages'",
     "output_type": "error",
     "traceback": [
      "\u001b[1;31m---------------------------------------------------------------------------\u001b[0m",
      "\u001b[1;31mAttributeError\u001b[0m                            Traceback (most recent call last)",
      "Cell \u001b[1;32mIn[6], line 13\u001b[0m\n\u001b[0;32m      9\u001b[0m pdfReader \u001b[38;5;241m=\u001b[39m PyPDF2\u001b[38;5;241m.\u001b[39mPdfReader(path)\n\u001b[0;32m     11\u001b[0m \u001b[38;5;66;03m# the page with which you want to start\u001b[39;00m\n\u001b[0;32m     12\u001b[0m \u001b[38;5;66;03m# this will read the page of 25th page.\u001b[39;00m\n\u001b[1;32m---> 13\u001b[0m from_page \u001b[38;5;241m=\u001b[39m pdfReader\u001b[38;5;241m.\u001b[39mPages[\u001b[38;5;241m24\u001b[39m]\n\u001b[0;32m     15\u001b[0m \u001b[38;5;66;03m# extracting the text from the PDF\u001b[39;00m\n\u001b[0;32m     16\u001b[0m text \u001b[38;5;241m=\u001b[39m from_page\u001b[38;5;241m.\u001b[39mextractText()\n",
      "\u001b[1;31mAttributeError\u001b[0m: 'PdfReader' object has no attribute 'Pages'"
     ]
    }
   ],
   "source": [
    "# importing the modules\n",
    "import PyPDF2\n",
    "import pyttsx3\n",
    "\n",
    "# path of the PDF file\n",
    "path = open(r'C:/Users/SERVER/Downloads/Pythonsupplement.pdf', 'rb')\n",
    "\n",
    "# creating a PdfFileReader object\n",
    "pdfReader = PyPDF2.PdfReader(path)\n",
    "\n",
    "# the page with which you want to start\n",
    "# this will read the page of 25th page.\n",
    "from_page = pdfReader.Pages[24]\n",
    "\n",
    "# extracting the text from the PDF\n",
    "text = from_page.extractText()\n",
    "\n",
    "# reading the text\n",
    "speak = pyttsx3.init()\n",
    "speak.say(text)\n",
    "speak.runAndWait()\n"
   ]
  },
  {
   "cell_type": "code",
   "execution_count": null,
   "id": "15124550",
   "metadata": {},
   "outputs": [],
   "source": [
    "pdf."
   ]
  }
 ],
 "metadata": {
  "kernelspec": {
   "display_name": "Python 3 (ipykernel)",
   "language": "python",
   "name": "python3"
  },
  "language_info": {
   "codemirror_mode": {
    "name": "ipython",
    "version": 3
   },
   "file_extension": ".py",
   "mimetype": "text/x-python",
   "name": "python",
   "nbconvert_exporter": "python",
   "pygments_lexer": "ipython3",
   "version": "3.11.3"
  }
 },
 "nbformat": 4,
 "nbformat_minor": 5
}
