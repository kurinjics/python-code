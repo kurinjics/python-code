{
 "cells": [
  {
   "cell_type": "code",
   "execution_count": 2,
   "id": "8dff3d3b",
   "metadata": {
    "scrolled": false
   },
   "outputs": [
    {
     "name": "stdout",
     "output_type": "stream",
     "text": [
      "[13, 26, 39, 52, 65, 78, 91, 104, 117, 130]\n"
     ]
    }
   ],
   "source": [
    "l = []\n",
    "for i in range(1,11):\n",
    "    l.append(i*13)\n",
    "print(l)"
   ]
  },
  {
   "cell_type": "code",
   "execution_count": 20,
   "id": "b105f3c6",
   "metadata": {
    "scrolled": true
   },
   "outputs": [
    {
     "ename": "TypeError",
     "evalue": "can only assign an iterable",
     "output_type": "error",
     "traceback": [
      "\u001b[1;31m---------------------------------------------------------------------------\u001b[0m",
      "\u001b[1;31mTypeError\u001b[0m                                 Traceback (most recent call last)",
      "Cell \u001b[1;32mIn[20], line 2\u001b[0m\n\u001b[0;32m      1\u001b[0m L \u001b[38;5;241m=\u001b[39m[\u001b[38;5;241m13\u001b[39m, \u001b[38;5;241m26\u001b[39m, \u001b[38;5;241m39\u001b[39m, \u001b[38;5;241m52\u001b[39m, \u001b[38;5;241m65\u001b[39m, \u001b[38;5;241m78\u001b[39m, \u001b[38;5;241m91\u001b[39m, \u001b[38;5;241m104\u001b[39m, \u001b[38;5;241m117\u001b[39m, \u001b[38;5;241m130\u001b[39m]\n\u001b[1;32m----> 2\u001b[0m L[\u001b[38;5;241m2\u001b[39m:\u001b[38;5;241m4\u001b[39m] \u001b[38;5;241m=\u001b[39m \u001b[38;5;241m59\u001b[39m\n\u001b[0;32m      3\u001b[0m \u001b[38;5;28mprint\u001b[39m(L)\n",
      "\u001b[1;31mTypeError\u001b[0m: can only assign an iterable"
     ]
    }
   ],
   "source": [
    "L =[13, 26, 39, 52, 65, 78, 91, 104, 117, 130]\n",
    "L[2:4] = 59\n",
    "print(L)\n"
   ]
  },
  {
   "cell_type": "code",
   "execution_count": 1,
   "id": "ac186c6e",
   "metadata": {
    "scrolled": true
   },
   "outputs": [
    {
     "name": "stdout",
     "output_type": "stream",
     "text": [
      "[13, 26, 59, 65, 78, 91, 104, 117, 130]\n"
     ]
    }
   ],
   "source": [
    "L =[13, 26, 39, 52, 65, 78, 91, 104, 117, 130]\n",
    "L[2:4] = [59]\n",
    "print(L)"
   ]
  },
  {
   "cell_type": "code",
   "execution_count": 4,
   "id": "ddbc82ee",
   "metadata": {},
   "outputs": [
    {
     "name": "stdout",
     "output_type": "stream",
     "text": [
      "{'name': 'Naveen', 'Dept': 'neuroscience', 'month_credit': [10, 8, 9, 10, 10]}\n"
     ]
    }
   ],
   "source": [
    "employee = {'name' : \"Naveen\",'Dept': \"neuroscience\",'month_credit':[10,8,9,10]}\n",
    "dept = employee.copy()\n",
    "dept['name']= 'Sudeep'\n",
    "dept['month_credit'].append(10)\n",
    "print(employee)"
   ]
  },
  {
   "cell_type": "code",
   "execution_count": 7,
   "id": "d04ab09f",
   "metadata": {},
   "outputs": [
    {
     "name": "stdout",
     "output_type": "stream",
     "text": [
      " on time, emit no \n"
     ]
    }
   ],
   "source": [
    "line = \"live on time, emit no evil\"\n",
    "print(line.strip('vile'))"
   ]
  },
  {
   "cell_type": "code",
   "execution_count": 19,
   "id": "d793b975",
   "metadata": {},
   "outputs": [
    {
     "name": "stdout",
     "output_type": "stream",
     "text": [
      "[45, 46, 49]\n",
      "(55, 49, 54)\n"
     ]
    }
   ],
   "source": [
    "import random\n",
    "tickets_list = []\n",
    "winners =()\n",
    "for i in range(3):\n",
    "    tickets_list.append(random.randrange(40, 50))\n",
    "print(tickets_list)\n",
    "for j in tickets_list:\n",
    "    winners += (random.randint(j,55),)\n",
    "print(winners)"
   ]
  },
  {
   "cell_type": "code",
   "execution_count": 22,
   "id": "c6e81989",
   "metadata": {
    "scrolled": true
   },
   "outputs": [
    {
     "name": "stdout",
     "output_type": "stream",
     "text": [
      "['Shri Hans Raj Verma', 'Shri Jatindra Nath Swain', 'Shri Shiv Das Meena']\n"
     ]
    }
   ],
   "source": [
    "IAS_OFFICERS = (\"Shri Jatindra Nath Swain\",\"Shri Shiv Das Meena\",\"Shri Hans Raj Verma\")\n",
    "TN = sorted(IAS_OFFICERS)\n",
    "print(TN)\n"
   ]
  },
  {
   "cell_type": "code",
   "execution_count": 30,
   "id": "930fc40f",
   "metadata": {},
   "outputs": [
    {
     "name": "stdout",
     "output_type": "stream",
     "text": [
      "25.0#625\n"
     ]
    }
   ],
   "source": [
    "import math\n",
    "print(math.pow(5,2),end = '#')\n",
    "print(pow(25,2))"
   ]
  },
  {
   "cell_type": "code",
   "execution_count": 1,
   "id": "c9a22517",
   "metadata": {},
   "outputs": [
    {
     "name": "stdout",
     "output_type": "stream",
     "text": [
      "129\n"
     ]
    }
   ],
   "source": [
    "print(2**3 + (5+6) ** (1+1))"
   ]
  },
  {
   "cell_type": "code",
   "execution_count": 4,
   "id": "afc2f6ac",
   "metadata": {},
   "outputs": [
    {
     "name": "stdout",
     "output_type": "stream",
     "text": [
      "10#10\n"
     ]
    }
   ],
   "source": [
    "x=20\n",
    "def output (num):\n",
    "    global x\n",
    "    x=28\n",
    "    if num % 5==0:\n",
    "        x=x+num\n",
    "    else:\n",
    "        x=x-num\n",
    "    print(x, end=\"#\")\n",
    "output (18)\n",
    "print(x)\n"
   ]
  },
  {
   "cell_type": "code",
   "execution_count": 5,
   "id": "305cffa6",
   "metadata": {},
   "outputs": [
    {
     "name": "stdout",
     "output_type": "stream",
     "text": [
      "['Shri Hans Raj Verma', 'Shri JatindraNathSwain', 'Shri Shiv Das Meena']\n"
     ]
    }
   ],
   "source": [
    "IAS_OFFICERS = (\"Shri JatindraNathSwain\",\"Shri Shiv Das Meena\",\"Shri Hans Raj Verma\")\n",
    "TN = sorted(IAS_OFFICERS)\n",
    "print(TN)\n"
   ]
  },
  {
   "cell_type": "code",
   "execution_count": 14,
   "id": "7bc40df0",
   "metadata": {},
   "outputs": [
    {
     "name": "stdout",
     "output_type": "stream",
     "text": [
      "1\n"
     ]
    }
   ],
   "source": [
    "import pymysql\n",
    "db=pymysql.connect(user=\"root\",passwd=\"root\",host=\"localhost\") \n",
    "my_cursor=db.cursor()\n",
    "#my_cursor.execute(\"create database db\")\n",
    "my_cursor.execute(\"use db\")\n",
    "#query=\"CREATE TABLE tb(cl1 INT(10),cl2 VARCHAR(255), cl3 INT(10))\"\n",
    "#my_cursor.execute(query) \n",
    "my_cursor.execute(\"INSERT INTO tb(cl1,cl2,cl3) VALUES(1,'a',6)\")\n",
    "my_cursor.execute(\"INSERT INTO tb(cl1,cl2,cl3) VALUES(1,'a',6)\")\n",
    "db.commit()\n",
    "print(my_cursor.rowcount)\n"
   ]
  },
  {
   "cell_type": "code",
   "execution_count": 16,
   "id": "6f0a4a48",
   "metadata": {},
   "outputs": [
    {
     "name": "stdout",
     "output_type": "stream",
     "text": [
      "['apple', 'banana', 'cherry']\n"
     ]
    }
   ],
   "source": [
    "import pickle\n",
    "data = [\"apple\", \"banana\", \"cherry\"]\n",
    "with open(\"fruits.p\", \"wb\") as f:\n",
    "    pickle.dump(data, f)\n",
    "with open(\"fruits.p\", \"rb\") as f:\n",
    "    loaded_data = pickle.load(f)\n",
    "print(loaded_data)\n"
   ]
  },
  {
   "cell_type": "code",
   "execution_count": 19,
   "id": "f0fc04f4",
   "metadata": {},
   "outputs": [
    {
     "name": "stdout",
     "output_type": "stream",
     "text": [
      "ytsenoHollEHDLROWREDNOW"
     ]
    }
   ],
   "source": [
    "for i in reversed(list(\"WONDER WORLD\\nHEllo\\nHonesty\")):\n",
    "    print(i.rstrip(),end='')"
   ]
  },
  {
   "cell_type": "code",
   "execution_count": null,
   "id": "8a1f23f6",
   "metadata": {},
   "outputs": [],
   "source": []
  }
 ],
 "metadata": {
  "kernelspec": {
   "display_name": "Python 3 (ipykernel)",
   "language": "python",
   "name": "python3"
  },
  "language_info": {
   "codemirror_mode": {
    "name": "ipython",
    "version": 3
   },
   "file_extension": ".py",
   "mimetype": "text/x-python",
   "name": "python",
   "nbconvert_exporter": "python",
   "pygments_lexer": "ipython3",
   "version": "3.11.3"
  }
 },
 "nbformat": 4,
 "nbformat_minor": 5
}
