{
 "cells": [
  {
   "cell_type": "markdown",
   "id": "1d4a36b8",
   "metadata": {},
   "source": [
    "'''\n",
    "Text File Name: William.txt-OUTPUT Finding\n",
    "These beauteous forms, \n",
    "Through a long absence, have not been to me \n",
    "As is a landscape to a blind man’s eye: \n",
    "But oft, in lonely rooms, and ’mid the din \n",
    "Of towns and cities, I have owed to them, \n",
    "In hours of weariness, sensations sweet\n",
    "\n",
    "\n",
    "\n",
    "Find the output of the following code?'''\n",
    "\n",
    "\n"
   ]
  },
  {
   "cell_type": "markdown",
   "id": "3752ea43",
   "metadata": {},
   "source": [
    "'' Text File Name: William.txt-OUTPUT Finding These beauteous forms, Through a long absence, have not been to me As is a landscape to a blind man’s eye: But oft, in lonely rooms, and ’mid the din Of towns and cities, I have owed to them, In hours of weariness, sensations sweet\n",
    "\n",
    "Find the output of the following code?'''"
   ]
  },
  {
   "cell_type": "code",
   "execution_count": 9,
   "id": "d0e687f4",
   "metadata": {},
   "outputs": [
    {
     "name": "stdout",
     "output_type": "stream",
     "text": [
      "These beauteous forms,\n",
      "Through a long absence, have not been to me \n",
      "As is a landscape to a blind man's eye: \n",
      "But oft, in lonely rooms, and mid the din \n",
      "Of towns and cities, I have owed to them, \n",
      "In hours of weariness, sensations sweet\n"
     ]
    }
   ],
   "source": [
    "file = open(\"life.txt\",'r')\n",
    "print(file.read())\n",
    "file.close()"
   ]
  },
  {
   "cell_type": "code",
   "execution_count": 11,
   "id": "57746617",
   "metadata": {},
   "outputs": [
    {
     "name": "stdout",
     "output_type": "stream",
     "text": [
      "These beauteous forms,\n",
      "\n",
      "Through a long absence, have not been to me \n",
      "\n"
     ]
    }
   ],
   "source": [
    "file = open(\"life.txt\",'r')\n",
    "print(file.readline())\n",
    "print(file.readline())\n",
    "file.close()"
   ]
  },
  {
   "cell_type": "code",
   "execution_count": 12,
   "id": "58b2b6b6",
   "metadata": {},
   "outputs": [
    {
     "name": "stdout",
     "output_type": "stream",
     "text": [
      "['These beauteous forms,\\n', 'Through a long absence, have not been to me \\n', \"As is a landscape to a blind man's eye: \\n\", 'But oft, in lonely rooms, and mid the din \\n', 'Of towns and cities, I have owed to them, \\n', 'In hours of weariness, sensations sweet']\n",
      "\n"
     ]
    }
   ],
   "source": [
    "file = open(\"life.txt\",'r')\n",
    "print(file.readlines())\n",
    "print(file.readline())\n",
    "file.close()"
   ]
  },
  {
   "cell_type": "markdown",
   "id": "4c4b0875",
   "metadata": {},
   "source": [
    "#Write a python user defined function countword() to count number of words in a text file life.txt"
   ]
  },
  {
   "cell_type": "code",
   "execution_count": 14,
   "id": "f9ffdb13",
   "metadata": {},
   "outputs": [
    {
     "name": "stdout",
     "output_type": "stream",
     "text": [
      "The total number of word is: 45\n"
     ]
    }
   ],
   "source": [
    "def countword():\n",
    "    file = open('life.txt','r')\n",
    "    word = 0\n",
    "    r = file.read()\n",
    "    w = r.split()\n",
    "    for i in w:\n",
    "        word += 1\n",
    "    print(\"The total number of word is:\",word)\n",
    "    file.close()\n",
    "countword()\n",
    "        \n",
    "        \n"
   ]
  },
  {
   "cell_type": "markdown",
   "id": "ff547c13",
   "metadata": {},
   "source": [
    "#Write a python user defined function countspace() to count number of whitespaces in a text file life.txt"
   ]
  },
  {
   "cell_type": "code",
   "execution_count": 17,
   "id": "17497a67",
   "metadata": {},
   "outputs": [
    {
     "name": "stdout",
     "output_type": "stream",
     "text": [
      "The total number of whitespace is: 48\n"
     ]
    }
   ],
   "source": [
    "def countspace():\n",
    "    file = open('life.txt','r')\n",
    "    space = 0\n",
    "    r = file.read()\n",
    "    for i in r:\n",
    "        if i . isspace():\n",
    "            space += 1\n",
    "    print(\"The total number of whitespace is:\",space)\n",
    "    file.close()\n",
    "countspace()\n",
    "        "
   ]
  },
  {
   "cell_type": "code",
   "execution_count": null,
   "id": "478e7021",
   "metadata": {},
   "outputs": [],
   "source": [
    "#Write a python user defined function countspace() to count number of whitespaces other than newline characters in a text file life.txt"
   ]
  },
  {
   "cell_type": "code",
   "execution_count": 20,
   "id": "d3c2c8e9",
   "metadata": {},
   "outputs": [
    {
     "name": "stdout",
     "output_type": "stream",
     "text": [
      "The total number of whitespace other than newline characters is: 43\n"
     ]
    }
   ],
   "source": [
    "def countspace():\n",
    "    file = open('life.txt','r')\n",
    "    space = 0\n",
    "    r = file.read()\n",
    "    for i in r:\n",
    "        if i . isspace() and i != '\\n' :\n",
    "            space += 1\n",
    "    print(\"The total number of whitespace other than newline characters is:\",space)\n",
    "    file.close()\n",
    "countspace()\n",
    "        "
   ]
  },
  {
   "cell_type": "markdown",
   "id": "62376071",
   "metadata": {},
   "source": [
    "#Write a python user defined function countnewline() to count number of newline character in a text file life.txt"
   ]
  },
  {
   "cell_type": "code",
   "execution_count": 23,
   "id": "c8a9e50a",
   "metadata": {},
   "outputs": [
    {
     "name": "stdout",
     "output_type": "stream",
     "text": [
      "The total number of whitespace other than newline characters is: 5\n"
     ]
    }
   ],
   "source": [
    "def countEOL():\n",
    "    file = open('life.txt','r')\n",
    "    space = 0\n",
    "    r = file.read()\n",
    "    for i in r:\n",
    "        if i in ['\\r','\\n','\\r\\n']:\n",
    "            space += 1\n",
    "    print(\"The total number of EOL is:\",space)\n",
    "    file.close()\n",
    "countEOL()"
   ]
  },
  {
   "cell_type": "markdown",
   "id": "9582d5ab",
   "metadata": {},
   "source": [
    "#Write a user defined function to count  the frequency of each alphabet in the file life.txt"
   ]
  },
  {
   "cell_type": "code",
   "execution_count": 27,
   "id": "5b85de98",
   "metadata": {},
   "outputs": [
    {
     "name": "stdout",
     "output_type": "stream",
     "text": [
      "{'T': 2, 'h': 8, 'e': 24, 's': 18, 'b': 4, 'a': 14, 'u': 5, 't': 13, 'o': 17, 'f': 4, 'r': 5, 'm': 6, 'g': 2, 'l': 5, 'n': 17, 'c': 3, 'v': 2, 'A': 1, 'i': 9, 'd': 7, 'p': 1, 'y': 2, 'B': 1, 'O': 1, 'w': 4, 'I': 2}\n"
     ]
    }
   ],
   "source": [
    "def countalphafreq():\n",
    "    file = open('life.txt','r')\n",
    "    d ={}\n",
    "    alpha = []\n",
    "    r = file.read()\n",
    "    for i in r:\n",
    "        if i .isalpha():\n",
    "            alpha.append(i)\n",
    "    for i in alpha:\n",
    "        d[i] =alpha.count(i)\n",
    "            \n",
    "    print(d)\n",
    "    file.close()\n",
    "countalphafreq()"
   ]
  },
  {
   "cell_type": "code",
   "execution_count": null,
   "id": "a496c61f",
   "metadata": {},
   "outputs": [],
   "source": [
    "#Write a user defined function to count  the frequency of each alphabet in the file life.txt"
   ]
  },
  {
   "cell_type": "code",
   "execution_count": 28,
   "id": "f5e12edb",
   "metadata": {},
   "outputs": [
    {
     "name": "stdout",
     "output_type": "stream",
     "text": [
      "{' ': 43, ',': 7, '\\n': 5, \"'\": 1, ':': 1}\n"
     ]
    }
   ],
   "source": [
    "def countalphafreq():\n",
    "    file = open('life.txt','r')\n",
    "    d ={}\n",
    "    alpha = []\n",
    "    incre = 0\n",
    "    r = file.read()\n",
    "    for i in r:\n",
    "        if not i .isalnum():\n",
    "            alpha.append(i)\n",
    "    for i in alpha:\n",
    "        d[i] =alpha.count(i)\n",
    "            \n",
    "    print(d)\n",
    "    file.close()\n",
    "countalphafreq()"
   ]
  },
  {
   "cell_type": "code",
   "execution_count": null,
   "id": "7c9a7bf4",
   "metadata": {},
   "outputs": [],
   "source": [
    "#Write the user defined function wordTt() to count and display number of words starts with T or t in file life .txt"
   ]
  },
  {
   "cell_type": "code",
   "execution_count": 31,
   "id": "f5ed18fc",
   "metadata": {},
   "outputs": [
    {
     "name": "stdout",
     "output_type": "stream",
     "text": [
      "These Through to to the towns to them, \n",
      "8 number of words starts with T or t\n"
     ]
    }
   ],
   "source": [
    "def wordTt():\n",
    "    file = open('life.txt','r')\n",
    "    r = file.read().split()\n",
    "    t = 0\n",
    "    for i in r:\n",
    "        if i[0] in 'Tt':\n",
    "            print(i,end = ' ')\n",
    "            t += 1\n",
    "    print()              \n",
    "    print(t,\"number of words starts with T or t\")\n",
    "    file.close()\n",
    "wordTt()"
   ]
  },
  {
   "cell_type": "code",
   "execution_count": 32,
   "id": "3dd9a3a7",
   "metadata": {},
   "outputs": [
    {
     "name": "stdout",
     "output_type": "stream",
     "text": [
      "These Through to to the towns to them, \n",
      "8 number of words starts with T or t\n"
     ]
    }
   ],
   "source": [
    "def wordTt():\n",
    "    file = open('life.txt','r')\n",
    "    r = file.read().split()\n",
    "    t = 0\n",
    "    for i in r:\n",
    "        if i[0]=='T' or i[0] =='t':\n",
    "            print(i,end = ' ')\n",
    "            t += 1\n",
    "    print()              \n",
    "    print(t,\"number of words starts with T or t\")\n",
    "    file.close()\n",
    "wordTt()"
   ]
  },
  {
   "cell_type": "code",
   "execution_count": 33,
   "id": "855b0a40",
   "metadata": {},
   "outputs": [
    {
     "name": "stdout",
     "output_type": "stream",
     "text": [
      "These Through to to the towns to them, \n",
      "8 number of words starts with T or t\n"
     ]
    }
   ],
   "source": [
    "def wordTt():\n",
    "    file = open('life.txt','r')\n",
    "    r = file.read().split()\n",
    "    t = 0\n",
    "    for i in r:\n",
    "        if i[0].lower() =='t':\n",
    "            print(i,end = ' ')\n",
    "            t += 1\n",
    "    print()              \n",
    "    print(t,\"number of words starts with T or t\")\n",
    "    file.close()\n",
    "wordTt()"
   ]
  },
  {
   "cell_type": "code",
   "execution_count": 36,
   "id": "16194020",
   "metadata": {},
   "outputs": [
    {
     "name": "stdout",
     "output_type": "stream",
     "text": [
      "These Through to to the towns to them, \n",
      "8 number of words starts with T or t\n"
     ]
    }
   ],
   "source": [
    "def wordTt():\n",
    "    file = open('life.txt','r')\n",
    "    r = file.read().split()\n",
    "    t = 0\n",
    "    for i in r:\n",
    "        if (i.upper()).startswith('T'):\n",
    "            print(i,end = ' ')\n",
    "            t += 1\n",
    "    print()              \n",
    "    print(t,\"number of words starts with T or t\")\n",
    "    file.close()\n",
    "wordTt()"
   ]
  },
  {
   "cell_type": "code",
   "execution_count": null,
   "id": "dbebd069",
   "metadata": {},
   "outputs": [],
   "source": [
    "#write the python user defined function lineA() to display line begins with 's' from the file shami.txt"
   ]
  },
  {
   "cell_type": "code",
   "execution_count": 1,
   "id": "de7f5c5a",
   "metadata": {},
   "outputs": [
    {
     "name": "stdout",
     "output_type": "stream",
     "text": [
      "It is the courage to continue that counts\n"
     ]
    }
   ],
   "source": [
    "def lineA():\n",
    "    file = open('shami.txt','r')\n",
    "    read = ' '\n",
    "    while read:\n",
    "        read = file.readline()\n",
    "        if read.endswith('s'):\n",
    "            print(read)\n",
    "    file.close()\n",
    "lineA()"
   ]
  },
  {
   "cell_type": "code",
   "execution_count": null,
   "id": "18a81a1e",
   "metadata": {},
   "outputs": [],
   "source": [
    "#Write the user defined function to find the shortest line in a file"
   ]
  },
  {
   "cell_type": "code",
   "execution_count": 8,
   "id": "d2dc4f45",
   "metadata": {},
   "outputs": [
    {
     "name": "stdout",
     "output_type": "stream",
     "text": [
      "Of towns and cities, I have owed to them, \n",
      "\n"
     ]
    }
   ],
   "source": [
    "def lineA():\n",
    "    file = open('life.txt','r')\n",
    "    read = file.readlines()\n",
    "    r = ''\n",
    "    s = 0\n",
    "    for i in range(len(read)-1):\n",
    "        if len(read[i])>= len(read[i+1]):\n",
    "            r = read[i]\n",
    "    print(r)\n",
    "    file.close()\n",
    "lineA()"
   ]
  },
  {
   "cell_type": "markdown",
   "id": "48ad3efe",
   "metadata": {},
   "source": [
    "#Write a user defined function createIIT(college)  to write the content into a file IIT.dat\n",
    "\n",
    "['RANK','INSITITUTION','CITY']\n",
    "[1,'IIT BOMBAY','MUMBAI']\n",
    "[2,'IIT DELHI','DELHI']\n",
    "[3,'IIT MADARAS','CHENNAI']\n",
    "[4,'IIT KHARAGPUR','KHARAGPUR']"
   ]
  },
  {
   "cell_type": "code",
   "execution_count": 9,
   "id": "9af3f6be",
   "metadata": {},
   "outputs": [
    {
     "name": "stdout",
     "output_type": "stream",
     "text": [
      "Enter the number of records to be read:4\n",
      "Enter the college Rank:1\n",
      "Enter the insitution name: IIT BOMBAY\n",
      "Enter the city:BOMBAY\n",
      "Enter the college Rank:2\n",
      "Enter the insitution name: IIT DELHI\n",
      "Enter the city:DELHI\n",
      "Enter the college Rank:3\n",
      "Enter the insitution name: IIT MADARAS\n",
      "Enter the city:MADARAS\n",
      "Enter the college Rank:4\n",
      "Enter the insitution name: IIT KHARAGPUR\n",
      "Enter the city:KHARAGPUR\n"
     ]
    }
   ],
   "source": [
    "import pickle\n",
    "def createIIT(college):\n",
    "    f = open(\"IITcollege.dat\",\"wb\")\n",
    "    n = int(input(\"Enter the number of records to be read:\"))\n",
    "    for i in range(n):\n",
    "            rank = int(input(\"Enter the college Rank:\"))\n",
    "            institution = input(\"Enter the insitution name: \")\n",
    "            city = input(\"Enter the city:\")\n",
    "            college = [rank, institution,city]\n",
    "            pickle.dump(college,f)\n",
    "    f.close()\n",
    "college =[]\n",
    "createIIT(college)\n",
    "    \n",
    "    "
   ]
  },
  {
   "cell_type": "code",
   "execution_count": 11,
   "id": "ca716a5e",
   "metadata": {},
   "outputs": [
    {
     "name": "stdout",
     "output_type": "stream",
     "text": [
      "[1, 'IIT BOMBAY', 'BOMBAY']\n",
      "[2, 'IIT DELHI', 'DELHI']\n",
      "[3, 'IIT MADARAS', 'MADARAS']\n",
      "[4, 'IIT KHARAGPUR', 'KHARAGPUR']\n"
     ]
    }
   ],
   "source": [
    "import pickle\n",
    "def readIIT():\n",
    "    f = open(\"IITcollege.dat\",\"rb\")\n",
    "    try :\n",
    "        while True:\n",
    "            r = pickle.load(f)\n",
    "            print(r)\n",
    "    except EOFError:\n",
    "        f.close()\n",
    "    \n",
    "readIIT()"
   ]
  },
  {
   "cell_type": "code",
   "execution_count": 12,
   "id": "b42e65fc",
   "metadata": {},
   "outputs": [
    {
     "name": "stdout",
     "output_type": "stream",
     "text": [
      "Enter the number of records to be read:2\n",
      "Enter the college Rank:5\n",
      "Enter the insitution name: IIT GUWAHATHI\n",
      "Enter the city:GUWAHATI\n",
      "Enter the college Rank:6\n",
      "Enter the insitution name: IIT KANPUR\n",
      "Enter the city:KANPUR\n"
     ]
    }
   ],
   "source": [
    "import pickle\n",
    "def createIIT(college):\n",
    "    f = open(\"IITcollege.dat\",\"ab\")\n",
    "    n = int(input(\"Enter the number of records to be read:\"))\n",
    "    for i in range(n):\n",
    "            rank = int(input(\"Enter the college Rank:\"))\n",
    "            institution = input(\"Enter the insitution name: \")\n",
    "            city = input(\"Enter the city:\")\n",
    "            college = [rank, institution,city]\n",
    "            pickle.dump(college,f)\n",
    "    f.close()\n",
    "college =[]\n",
    "createIIT(college)\n",
    "    "
   ]
  },
  {
   "cell_type": "code",
   "execution_count": 14,
   "id": "8ae874a4",
   "metadata": {},
   "outputs": [
    {
     "name": "stdout",
     "output_type": "stream",
     "text": [
      "[1, 'IIT BOMBAY', 'BOMBAY']\n",
      "[2, 'IIT DELHI', 'DELHI']\n",
      "[3, 'IIT MADARAS', 'MADARAS']\n",
      "[4, 'IIT KHARAGPUR', 'KHARAGPUR']\n",
      "[5, 'IIT GUWAHATHI', 'GUWAHATI']\n",
      "[6, 'IIT KANPUR', 'KANPUR']\n"
     ]
    }
   ],
   "source": [
    "import pickle\n",
    "def readIIT():\n",
    "    f = open(\"IITcollege.dat\",\"rb\")\n",
    "    try :\n",
    "        while True:\n",
    "            r = pickle.load(f)\n",
    "            print(r)\n",
    "    except EOFError:\n",
    "        f.close()\n",
    "    \n",
    "readIIT()"
   ]
  },
  {
   "cell_type": "code",
   "execution_count": 17,
   "id": "f3172e25",
   "metadata": {},
   "outputs": [
    {
     "name": "stdout",
     "output_type": "stream",
     "text": [
      "[1, 'IIT BOMBAY', 'MUMBAI']\n",
      "[2, 'IIT DELHI', 'DELHI']\n",
      "[3, 'IIT MADARAS', 'CHENNAI']\n",
      "[4, 'IIT KHARAGPUR', 'KHARAGPUR']\n",
      "[5, 'IIT GUWAHATHI', 'GUWAHATI']\n",
      "[6, 'IIT KANPUR', 'KANPUR']\n"
     ]
    }
   ],
   "source": [
    "import pickle\n",
    "def updateIIT():\n",
    "    f = open(\"IITcollege.dat\",\"rb+\")\n",
    "    try :\n",
    "        while True:\n",
    "            pos = f.tell()\n",
    "            r = pickle.load(f)\n",
    "            if r[1].endswith('MADARAS'):\n",
    "                r[2] = 'CHENNAI'\n",
    "            elif r[1].endswith('BOMBAY'):\n",
    "                r[2] =\"MUMBAI\"\n",
    "            f.seek(pos)\n",
    "            pickle.dump(r,f)\n",
    "    except EOFError:\n",
    "        f.close()\n",
    "    \n",
    "updateIIT()\n",
    "readIIT()"
   ]
  },
  {
   "cell_type": "code",
   "execution_count": 2,
   "id": "b9750d92",
   "metadata": {},
   "outputs": [],
   "source": [
    "import pickle\n",
    "def deleteIIT():\n",
    "    f = open(\"IITcollege.dat\",\"rb+\")\n",
    "    try :\n",
    "        while True:\n",
    "            pos = f.tell()\n",
    "            r = pickle.load(f)\n",
    "            if r[2] =='KANPUR':\n",
    "                r.remove('KANPUR')\n",
    "            f.seek(pos)\n",
    "            pickle.dump(r,f)\n",
    "    except EOFError:\n",
    "        f.close()\n",
    "    \n",
    "#deleteIIT()\n",
    "readIIT()"
   ]
  },
  {
   "cell_type": "markdown",
   "id": "5df58ad9",
   "metadata": {},
   "source": [
    "Shreyas is aprogrammer, who has recently been given a task to write a user defined function named write_bin() to create a binary file called cust_file.dat\n",
    "containing customer information - customer number(amt) of each customer.\n",
    "The function accepts customer number"
   ]
  },
  {
   "cell_type": "markdown",
   "id": "89ac5d60",
   "metadata": {},
   "source": [
    "['1', 'James Reading Rescue', 'MCGILL']\n",
    "['2', 'Many Women, Many Voices', 'MCGILL']\n",
    "['3', 'Future Programmer', 'Balagurusamy']"
   ]
  },
  {
   "cell_type": "code",
   "execution_count": 4,
   "id": "52ee0627",
   "metadata": {},
   "outputs": [
    {
     "name": "stdout",
     "output_type": "stream",
     "text": [
      "<_csv.reader object at 0x000002247A119C60>\n",
      "Enter the Publisher Name to be searchedMCGILL\n",
      "['1', 'James', 'MCGILL']\n",
      "Number of Books: 1\n"
     ]
    }
   ],
   "source": [
    "import csv\n",
    "def add_Book():\n",
    "    with open (\"Book.csv\",\"w\",newline =\"\\n\") as f:\n",
    "        cw = csv.writer(f, delimiter='|')\n",
    "        book_id = int(input(\"Enter the Book id:\"))\n",
    "        b_name = input(\"Enter the book name:\")\n",
    "        pub = input(\"Enter the publisher name:\")\n",
    "        details=[book_id,b_name,pub]\n",
    "        cw.writerow(details)\n",
    "        f.close()\n",
    "def search_Book():\n",
    "    with open (\"Book.csv\",\"r\") as f:\n",
    "        details = csv.reader(f,delimiter = \"|\")\n",
    "        print(details)\n",
    "        name = input(\"Enter the Publisher Name to be searched\")\n",
    "        pub_count = 0\n",
    "        for i in details:\n",
    "            print(i)\n",
    "            if i[2] == name:\n",
    "                pub_count += 1\n",
    "        print(\"Number of Books:\",pub_count)\n",
    "#add_Book()\n",
    "search_Book()\n",
    "        "
   ]
  },
  {
   "cell_type": "code",
   "execution_count": 8,
   "id": "6e56f00b",
   "metadata": {},
   "outputs": [
    {
     "name": "stdout",
     "output_type": "stream",
     "text": [
      "Enter the number of records to be updated:2\n",
      "Enter the Book id:2\n",
      "Enter the book name:Many Women, Many Voices\n",
      "Enter the publisher name:MCGILL\n",
      "Enter the Book id:3\n",
      "Enter the book name:Future Programmer\n",
      "Enter the publisher name:Balagurusamy\n"
     ]
    }
   ],
   "source": [
    "import csv\n",
    "def update_Book():\n",
    "    with open (\"Book.csv\",\"a\",newline =\"\\n\") as f:\n",
    "        cw = csv.writer(f, delimiter='|')\n",
    "        n = int(input(\"Enter the number of records to be updated:\"))\n",
    "        for i in range(n):\n",
    "            book_id = int(input(\"Enter the Book id:\"))\n",
    "            b_name = input(\"Enter the book name:\")\n",
    "            pub = input(\"Enter the publisher name:\")\n",
    "            details=[book_id,b_name,pub]\n",
    "            cw.writerow(details)\n",
    "        f.close()\n",
    "update_Book()"
   ]
  },
  {
   "cell_type": "code",
   "execution_count": 10,
   "id": "0ca4f0cf",
   "metadata": {},
   "outputs": [
    {
     "name": "stdout",
     "output_type": "stream",
     "text": [
      "['1', 'James', 'MCGILL']\n",
      "['2', 'Many Women, Many Voices', 'MCGILL']\n",
      "['3', 'Future Programmer', 'Balagurusamy']\n"
     ]
    }
   ],
   "source": [
    "def read_Book():\n",
    "    with open (\"Book.csv\",\"r\") as f:\n",
    "        details = csv.reader(f,delimiter =\"|\")\n",
    "        for i in details:\n",
    "            print(i)\n",
    "        \n",
    "read_Book()"
   ]
  },
  {
   "cell_type": "code",
   "execution_count": 14,
   "id": "115a82ee",
   "metadata": {},
   "outputs": [
    {
     "name": "stdout",
     "output_type": "stream",
     "text": [
      "Enter the ID number to update Book name 1\n",
      "Enter the correct Book nameJames Reading Rescue\n",
      "['1', 'James Reading Rescue', 'MCGILL']\n",
      "['2', 'Many Women, Many Voices', 'MCGILL']\n",
      "['3', 'Future Programmer', 'Balagurusamy']\n"
     ]
    }
   ],
   "source": [
    "import csv\n",
    "def Patch_Book():\n",
    "     with open (\"Book.csv\",\"r+\",newline=\"\\n\") as f:\n",
    "        cw = csv.writer(f,delimiter = \"|\")\n",
    "        details = csv.reader(f,delimiter =\"|\")\n",
    "        pos = f.tell()\n",
    "        patch =[]\n",
    "        id  = int(input(\"Enter the ID number to update Book name \"))\n",
    "        for i in details:\n",
    "            if int(i[0]) == id:\n",
    "                i[1] = input(\"Enter the correct Book name\")\n",
    "            patch.append(i)\n",
    "        f.seek(pos)\n",
    "        cw.writerows(patch)\n",
    "        f.seek(0)\n",
    "        for i in csv.reader(f,delimiter='|'):\n",
    "            print(i)\n",
    "        \n",
    "Patch_Book()\n"
   ]
  },
  {
   "cell_type": "code",
   "execution_count": 20,
   "id": "a257a655",
   "metadata": {},
   "outputs": [
    {
     "name": "stdout",
     "output_type": "stream",
     "text": [
      "('car_data',)\n",
      "('current_bill',)\n",
      "('db_librarymanagement',)\n",
      "('employee',)\n",
      "('information_schema',)\n",
      "('institution',)\n",
      "('mysql',)\n",
      "('performance_schema',)\n",
      "('sakila',)\n",
      "('sys',)\n",
      "('wastefellows',)\n",
      "('world',)\n",
      "Total number of records fetched: 12\n"
     ]
    }
   ],
   "source": [
    "import pymysql\n",
    "con =pymysql.connect(host = 'localhost',user =\"root\",password =\"root\")\n",
    "cursor = con. cursor()\n",
    "cursor.execute(\"CREATE DATABASE Institution\")\n",
    "cursor.execute(\"USE Institution\")\n",
    "con.commit()\n",
    "cursor.execute(\"SHOW DATABASES\")\n",
    "data = cursor.fetchall()\n",
    "for row in data:\n",
    "    print(row)\n",
    "print(\"Total number of records fetched:\",cursor.rowcount)\n",
    "con.close()\n",
    "\n"
   ]
  },
  {
   "cell_type": "code",
   "execution_count": 6,
   "id": "58e9dc07",
   "metadata": {},
   "outputs": [
    {
     "name": "stdout",
     "output_type": "stream",
     "text": [
      "faculty\n",
      "Total number of records fetched: 1\n",
      "('F_ID', 'int', 'NO', 'PRI', None, '')\n",
      "('FName', 'varchar(20)', 'NO', '', None, '')\n",
      "('LName', 'varchar(20)', 'NO', '', None, '')\n",
      "('Gender', 'char(1)', 'YES', '', None, '')\n",
      "('Hire_Date', 'date', 'YES', '', None, '')\n",
      "('Salary', 'decimal(10,2)', 'YES', '', None, '')\n"
     ]
    }
   ],
   "source": [
    "\n",
    "import pymysql\n",
    "con =pymysql.connect(host = 'localhost',user =\"root\",password =\"root\",database = \"Institution\")\n",
    "cursor = con. cursor()\n",
    "\n",
    "cursor.execute(\"CREATE TABLE IF NOT EXISTS faculty(F_ID int Primary key,FName varchar(20) NOT NULL,LName varchar(20) NOT NULL,Gender char,Hire_Date DATE, Salary decimal(10,2))\")\n",
    "con.commit()\n",
    "cursor.execute(\"SHOW TABLES\")\n",
    "data = cursor.fetchone()\n",
    "for row in data:\n",
    "    print(row)\n",
    "print(\"Total number of records fetched:\",cursor.rowcount)\n",
    "cursor.execute(\"DESCRIBE {}\".format(\"faculty\"))\n",
    "data = cursor.fetchall()\n",
    "for row in data:\n",
    "    print(row)\n",
    "con.close()"
   ]
  },
  {
   "cell_type": "code",
   "execution_count": 2,
   "id": "3f20390f",
   "metadata": {},
   "outputs": [
    {
     "name": "stdout",
     "output_type": "stream",
     "text": [
      "Enter the number of records to be inserted:2\n",
      "Enter the faculty id:1002\n",
      "Enter the Faculty First Name:Varuin\n",
      "Enter the Faculty Last Name:Adithya\n",
      "Enter the Faculty Gender M/F:M\n",
      "Enter the Hir Date in YYYY/MM/DD:2022-07-09\n",
      "Enter the Faculty Salary30000\n",
      "Enter the faculty id:1003\n",
      "Enter the Faculty First Name:Surendra\n",
      "Enter the Faculty Last Name:shivan\n",
      "Enter the Faculty Gender M/F:F\n",
      "Enter the Hir Date in YYYY/MM/DD:2023-10-10\n",
      "Enter the Faculty Salary400000\n",
      "(104, 'Sudhir', 'Shivam', 'M', datetime.date(2020, 5, 22), Decimal('50000.00'))\n",
      "(1002, 'Varuin', 'Adithya', 'M', datetime.date(2022, 7, 9), Decimal('30000.00'))\n",
      "(1003, 'Surendra', 'shivan', 'F', datetime.date(2023, 10, 10), Decimal('400000.00'))\n",
      "Total number of records fetched: 3\n"
     ]
    }
   ],
   "source": [
    "\n",
    "import pymysql\n",
    "def insertrecord(db,tbl):\n",
    "    con =pymysql.connect(host = 'localhost',user =\"root\",password =\"root\",database = db)\n",
    "    cursor = con. cursor()\n",
    "    n = int(input(\"Enter the number of records to be inserted:\"))\n",
    "    for i in range(n):\n",
    "        F_ID = int(input(\"Enter the faculty id:\"))\n",
    "        FName  = input(\"Enter the Faculty First Name:\")\n",
    "        LName  = input(\"Enter the Faculty Last Name:\")\n",
    "        Gender  = input(\"Enter the Faculty Gender M/F:\")\n",
    "        Hire_Date  = input(\"Enter the Hir Date in YYYY/MM/DD:\")\n",
    "        Salary = float(input(\"Enter the Faculty Salary\"))\n",
    "        cursor.execute(\"INSERT INTO Faculty  VALUES({},'{}','{}','{}','{}','{}')\".format(F_ID ,FName ,LName ,Gender ,Hire_Date , Salary ))\n",
    "        con.commit()\n",
    "    cursor.execute(\"SELECT * FROM Faculty\")\n",
    "    cursor.exe\n",
    "    data = cursor.fetchall()\n",
    "    for row in data:\n",
    "        print(row)\n",
    "    print(\"Total number of records fetched:\",cursor.rowcount)\n",
    "    con.close()\n",
    "insertrecord(\"Institution\",\"Faculty\")"
   ]
  },
  {
   "cell_type": "markdown",
   "id": "cf5ecd32",
   "metadata": {},
   "source": [
    "Enter the number of records to be inserted:3\n",
    "Enter the faculty id:102\n",
    "Enter the Faculty First Name:Nitin\n",
    "Enter the Faculty Last Name:Vyas\n",
    "Enter the Faculty Gender M/F:M\n",
    "Enter the Hir Date in YYYY/MM/DD:2021-07-30\n",
    "Enter the Faculty Salary40000\n",
    "Enter the faculty id:106\n",
    "Enter the Faculty First Name:Sulekkha\n",
    "Enter the Faculty Last Name:Srivastava\n",
    "Enter the Faculty Gender M/F:F\n",
    "Enter the Hir Date in YYYY/MM/DD:2022-10-10\n",
    "Enter the Faculty Salary75500\n",
    "Enter the faculty id:101\n",
    "Enter the Faculty First Name:Amit\n",
    "Enter the Faculty Last Name:Mishra\n",
    "Enter the Faculty Gender M/F:M\n",
    "Enter the Hir Date in YYYY/MM/DD:2023-11-21\n",
    "Enter the Faculty Salary98000"
   ]
  },
  {
   "cell_type": "code",
   "execution_count": 32,
   "id": "e7c056d1",
   "metadata": {},
   "outputs": [
    {
     "name": "stdout",
     "output_type": "stream",
     "text": [
      "Enter the number of records to be inserted:2\n",
      "Enter the faculty id:102\n",
      "Enter the Faculty First Name:Nitin\n",
      "Enter the Faculty Last Name:Vyas\n",
      "Enter the Faculty Gender M/F:M\n",
      "Enter the Hir Date in YYYY/MM/DD:2021-07-03\n",
      "Enter the Faculty Salary50000\n",
      "Enter the faculty id:106\n",
      "Enter the Faculty First Name:Sulekha\n",
      "Enter the Faculty Last Name:Srivastava\n",
      "Enter the Faculty Gender M/F:F\n",
      "Enter the Hir Date in YYYY/MM/DD:2022-10-10\n",
      "Enter the Faculty Salary90000\n",
      "(106, 'Sulekha', 'Srivastava', 'F', datetime.date(2022, 10, 10), Decimal('90000.00'))\n",
      "Total number of records fetched: 1\n"
     ]
    }
   ],
   "source": [
    "insertrecord(\"Institution\",\"Faculty\")"
   ]
  },
  {
   "cell_type": "code",
   "execution_count": 3,
   "id": "cf30bcdf",
   "metadata": {},
   "outputs": [
    {
     "name": "stdout",
     "output_type": "stream",
     "text": [
      "(104, 'Sudhir', 'Shivam', 'M', datetime.date(2020, 5, 22), Decimal('50000.00'))\n",
      "(1002, 'Varuin', 'Adithya', 'M', datetime.date(2022, 7, 9), Decimal('30000.00'))\n",
      "(1003, 'Surendra', 'shivan', 'F', datetime.date(2023, 10, 10), Decimal('400000.00'))\n",
      "Total number of records fetched: 3\n"
     ]
    }
   ],
   "source": [
    "import pymysql\n",
    "def displayrecord(db,tbl):\n",
    "    con =pymysql.connect(host = 'localhost',user =\"root\",password =\"root\",database = db)\n",
    "    cursor = con. cursor()\n",
    "    cursor.execute(\"SELECT * FROM Faculty\")\n",
    "    data = cursor.fetchall()\n",
    "    for row in data:\n",
    "        print(row)\n",
    "    print(\"Total number of records fetched:\",cursor.rowcount)\n",
    "    con.close()\n",
    "displayrecord(\"Institution\",\"Faculty\")"
   ]
  },
  {
   "cell_type": "code",
   "execution_count": 4,
   "id": "5dc4a02c",
   "metadata": {},
   "outputs": [
    {
     "name": "stdout",
     "output_type": "stream",
     "text": [
      "Enter the faculty id:104\n",
      "Enter the Faculty Salary60000\n",
      "(104, 'Sudhir', 'Shivam', 'M', datetime.date(2020, 5, 22), Decimal('60000.00'))\n",
      "(1002, 'Varuin', 'Adithya', 'M', datetime.date(2022, 7, 9), Decimal('30000.00'))\n",
      "(1003, 'Surendra', 'shivan', 'F', datetime.date(2023, 10, 10), Decimal('400000.00'))\n",
      "Total number of records fetched: 3\n"
     ]
    }
   ],
   "source": [
    "import pymysql\n",
    "def updaterecord(db,tbl):\n",
    "    con =pymysql.connect(host = 'localhost',user =\"root\",password =\"root\",database = db)\n",
    "    cursor = con. cursor()\n",
    "    F_ID = int(input(\"Enter the faculty id:\"))\n",
    "    Salary = float(input(\"Enter the Faculty Salary\"))\n",
    "    u = \"UPDATE {} SET Salary = {} where F_Id ={} \".format(tbl,Salary,F_ID)\n",
    "    cursor.execute(u)\n",
    "    cursor.execute(\"SELECT * FROM {} \".format(tbl))\n",
    "    data = cursor.fetchall()\n",
    "    for row in data:\n",
    "        print(row)\n",
    "    print(\"Total number of records fetched:\",cursor.rowcount)\n",
    "    con.close()\n",
    "updaterecord(\"Institution\",\"Faculty\")"
   ]
  },
  {
   "cell_type": "code",
   "execution_count": 6,
   "id": "90cfd860",
   "metadata": {},
   "outputs": [
    {
     "name": "stdout",
     "output_type": "stream",
     "text": [
      "Enter the faculty id to be :104\n",
      "(1002, 'Varuin', 'Adithya', 'M', datetime.date(2022, 7, 9), Decimal('30000.00'))\n",
      "(1003, 'Surendra', 'shivan', 'F', datetime.date(2023, 10, 10), Decimal('400000.00'))\n",
      "Total number of records fetched: 2\n"
     ]
    }
   ],
   "source": [
    "import pymysql\n",
    "def deleterecord(db,tbl):\n",
    "    con =pymysql.connect(host = 'localhost',user =\"root\",password =\"root\",database = db)\n",
    "    cursor = con. cursor()\n",
    "    F_ID = int(input(\"Enter the faculty id to be :\"))\n",
    "    u = \"DELETE FROM {} where F_Id ={} \".format(tbl,F_ID)\n",
    "    cursor.execute(u)\n",
    "    cursor.execute(\"SELECT * FROM {} \".format(tbl))\n",
    "    data = cursor.fetchall()\n",
    "    for row in data:\n",
    "        print(row)\n",
    "    print(\"Total number of records fetched:\",cursor.rowcount)\n",
    "    con.close()\n",
    "deleterecord(\"Institution\",\"Faculty\")"
   ]
  },
  {
   "cell_type": "code",
   "execution_count": 15,
   "id": "1f93e609",
   "metadata": {},
   "outputs": [],
   "source": [
    "import pymysql\n",
    "def deleterecord(db,tbl):\n",
    "    con =pymysql.connect(host = 'localhost',user =\"root\",password =\"root\",database = db)\n",
    "    cursor = con. cursor()\n",
    "    #F_ID = int(input(\"Enter the faculty id to be :\"))\n",
    "    \n",
    "    cursor.execute(\"SELECT * FROM {} \".format(tbl))\n",
    "    data = cursor.fetchall()\n",
    "    print(data,type(data))\n",
    "    for row in data:\n",
    "        print(row)\n",
    "    print(\"Total number of records fetched:\",cursor.rowcount)\n",
    "    con.close()\n",
    "deleterecord(\"Institution\",\"Faculty\")"
   ]
  },
  {
   "cell_type": "code",
   "execution_count": 17,
   "id": "8755a0e1",
   "metadata": {},
   "outputs": [],
   "source": [
    "import pymysql\n",
    "con =pymysql.connect(host = 'localhost',user =\"root\",password =\"root\",database = db)\n",
    "cursor = con. cursor()\n",
    "cursor.execute(\"create table x('select * from faculty')\")\n",
    "cursor.execute(\"Delete from x\")\n",
    "cursor.execute(\"select* from x\")\n",
    "print(data,type(data))\n",
    "con.commit()\n",
    "con.close()"
   ]
  },
  {
   "cell_type": "code",
   "execution_count": null,
   "id": "ec81fed1",
   "metadata": {},
   "outputs": [],
   "source": []
  },
  {
   "cell_type": "code",
   "execution_count": null,
   "id": "6758d862",
   "metadata": {},
   "outputs": [],
   "source": []
  }
 ],
 "metadata": {
  "kernelspec": {
   "display_name": "Python 3 (ipykernel)",
   "language": "python",
   "name": "python3"
  },
  "language_info": {
   "codemirror_mode": {
    "name": "ipython",
    "version": 3
   },
   "file_extension": ".py",
   "mimetype": "text/x-python",
   "name": "python",
   "nbconvert_exporter": "python",
   "pygments_lexer": "ipython3",
   "version": "3.11.3"
  }
 },
 "nbformat": 4,
 "nbformat_minor": 5
}
