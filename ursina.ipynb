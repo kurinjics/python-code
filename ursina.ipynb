{
 "cells": [
  {
   "cell_type": "code",
   "execution_count": 1,
   "id": "b23e16c5",
   "metadata": {},
   "outputs": [
    {
     "name": "stdout",
     "output_type": "stream",
     "text": [
      "package_folder: C:\\Users\\SERVER\\anaconda3\\Lib\\site-packages\\ursina\n",
      "asset_folder: C:\\Users\\SERVER\\anaconda3\\Lib\\site-packages\n",
      "os: Windows\n",
      "development mode: True\n",
      "application successfully started\n",
      "info: changed aspect ratio: 1.778 -> 1.778\n",
      "info: changed aspect ratio: 1.778 -> 1.778\n"
     ]
    },
    {
     "ename": "FileNotFoundError",
     "evalue": "[Errno 2] No such file or directory: 'None'",
     "output_type": "error",
     "traceback": [
      "\u001b[1;31m---------------------------------------------------------------------------\u001b[0m",
      "\u001b[1;31mFileNotFoundError\u001b[0m                         Traceback (most recent call last)",
      "File \u001b[1;32m~\\anaconda3\\Lib\\site-packages\\direct\\showbase\\EventManager.py:49\u001b[0m, in \u001b[0;36mEventManager.eventLoopTask\u001b[1;34m(self, task)\u001b[0m\n\u001b[0;32m     45\u001b[0m \u001b[38;5;28;01mdef\u001b[39;00m \u001b[38;5;21meventLoopTask\u001b[39m(\u001b[38;5;28mself\u001b[39m, task):\n\u001b[0;32m     46\u001b[0m \u001b[38;5;250m    \u001b[39m\u001b[38;5;124;03m\"\"\"\u001b[39;00m\n\u001b[0;32m     47\u001b[0m \u001b[38;5;124;03m    Process all the events on the C++ event queue\u001b[39;00m\n\u001b[0;32m     48\u001b[0m \u001b[38;5;124;03m    \"\"\"\u001b[39;00m\n\u001b[1;32m---> 49\u001b[0m     \u001b[38;5;28mself\u001b[39m\u001b[38;5;241m.\u001b[39mdoEvents()\n\u001b[0;32m     50\u001b[0m     messenger\u001b[38;5;241m.\u001b[39msend(\u001b[38;5;124m\"\u001b[39m\u001b[38;5;124mevent-loop-done\u001b[39m\u001b[38;5;124m\"\u001b[39m)\n\u001b[0;32m     51\u001b[0m     \u001b[38;5;28;01mreturn\u001b[39;00m task\u001b[38;5;241m.\u001b[39mcont\n",
      "File \u001b[1;32m~\\anaconda3\\Lib\\site-packages\\direct\\showbase\\EventManager.py:43\u001b[0m, in \u001b[0;36mEventManager.doEvents\u001b[1;34m(self)\u001b[0m\n\u001b[0;32m     41\u001b[0m dequeueFunc \u001b[38;5;241m=\u001b[39m \u001b[38;5;28mself\u001b[39m\u001b[38;5;241m.\u001b[39meventQueue\u001b[38;5;241m.\u001b[39mdequeueEvent\n\u001b[0;32m     42\u001b[0m \u001b[38;5;28;01mwhile\u001b[39;00m \u001b[38;5;129;01mnot\u001b[39;00m isEmptyFunc():\n\u001b[1;32m---> 43\u001b[0m     processFunc(dequeueFunc())\n",
      "File \u001b[1;32m~\\anaconda3\\Lib\\site-packages\\direct\\showbase\\EventManager.py:99\u001b[0m, in \u001b[0;36mEventManager.processEvent\u001b[1;34m(self, event)\u001b[0m\n\u001b[0;32m     92\u001b[0m     EventManager\u001b[38;5;241m.\u001b[39mnotify\u001b[38;5;241m.\u001b[39mdebug(\u001b[38;5;124m'\u001b[39m\u001b[38;5;124mreceived C++ event named: \u001b[39m\u001b[38;5;124m'\u001b[39m \u001b[38;5;241m+\u001b[39m eventName \u001b[38;5;241m+\u001b[39m\n\u001b[0;32m     93\u001b[0m                               \u001b[38;5;124m'\u001b[39m\u001b[38;5;124m parameters: \u001b[39m\u001b[38;5;124m'\u001b[39m \u001b[38;5;241m+\u001b[39m \u001b[38;5;28mrepr\u001b[39m(paramList))\n\u001b[0;32m     94\u001b[0m \u001b[38;5;66;03m# **************************************************************\u001b[39;00m\n\u001b[0;32m     95\u001b[0m \u001b[38;5;66;03m# ******** Duplicate any changes in processEventPstats *********\u001b[39;00m\n\u001b[0;32m     96\u001b[0m \u001b[38;5;66;03m# **************************************************************\u001b[39;00m\n\u001b[0;32m     97\u001b[0m \u001b[38;5;66;03m# Send the event, we used to send it with the event\u001b[39;00m\n\u001b[0;32m     98\u001b[0m \u001b[38;5;66;03m# name as a parameter, but now you can use extraArgs for that\u001b[39;00m\n\u001b[1;32m---> 99\u001b[0m messenger\u001b[38;5;241m.\u001b[39msend(eventName, paramList)\n\u001b[0;32m    101\u001b[0m \u001b[38;5;66;03m# Also send the event down into C++ land\u001b[39;00m\n\u001b[0;32m    102\u001b[0m handler \u001b[38;5;241m=\u001b[39m \u001b[38;5;28mself\u001b[39m\u001b[38;5;241m.\u001b[39meventHandler\n",
      "File \u001b[1;32m~\\anaconda3\\Lib\\site-packages\\direct\\showbase\\Messenger.py:337\u001b[0m, in \u001b[0;36mMessenger.send\u001b[1;34m(self, event, sentArgs, taskChain)\u001b[0m\n\u001b[0;32m    332\u001b[0m             taskMgr\u001b[38;5;241m.\u001b[39madd(\u001b[38;5;28mself\u001b[39m\u001b[38;5;241m.\u001b[39m__taskChainDispatch, name \u001b[38;5;241m=\u001b[39m \u001b[38;5;124m'\u001b[39m\u001b[38;5;124mMessenger-\u001b[39m\u001b[38;5;132;01m%s\u001b[39;00m\u001b[38;5;124m'\u001b[39m \u001b[38;5;241m%\u001b[39m (taskChain),\n\u001b[0;32m    333\u001b[0m                         extraArgs \u001b[38;5;241m=\u001b[39m [taskChain], taskChain \u001b[38;5;241m=\u001b[39m taskChain,\n\u001b[0;32m    334\u001b[0m                         appendTask \u001b[38;5;241m=\u001b[39m \u001b[38;5;28;01mTrue\u001b[39;00m)\n\u001b[0;32m    335\u001b[0m     \u001b[38;5;28;01melse\u001b[39;00m:\n\u001b[0;32m    336\u001b[0m         \u001b[38;5;66;03m# Handle the event immediately.\u001b[39;00m\n\u001b[1;32m--> 337\u001b[0m         \u001b[38;5;28mself\u001b[39m\u001b[38;5;241m.\u001b[39m__dispatch(acceptorDict, event, sentArgs, foundWatch)\n\u001b[0;32m    338\u001b[0m \u001b[38;5;28;01mfinally\u001b[39;00m:\n\u001b[0;32m    339\u001b[0m     \u001b[38;5;28mself\u001b[39m\u001b[38;5;241m.\u001b[39mlock\u001b[38;5;241m.\u001b[39mrelease()\n",
      "File \u001b[1;32m~\\anaconda3\\Lib\\site-packages\\direct\\showbase\\Messenger.py:422\u001b[0m, in \u001b[0;36mMessenger.__dispatch\u001b[1;34m(self, acceptorDict, event, sentArgs, foundWatch)\u001b[0m\n\u001b[0;32m    420\u001b[0m \u001b[38;5;28mself\u001b[39m\u001b[38;5;241m.\u001b[39mlock\u001b[38;5;241m.\u001b[39mrelease()\n\u001b[0;32m    421\u001b[0m \u001b[38;5;28;01mtry\u001b[39;00m:\n\u001b[1;32m--> 422\u001b[0m     result \u001b[38;5;241m=\u001b[39m method (\u001b[38;5;241m*\u001b[39m(extraArgs \u001b[38;5;241m+\u001b[39m sentArgs))\n\u001b[0;32m    423\u001b[0m \u001b[38;5;28;01mfinally\u001b[39;00m:\n\u001b[0;32m    424\u001b[0m     \u001b[38;5;28mself\u001b[39m\u001b[38;5;241m.\u001b[39mlock\u001b[38;5;241m.\u001b[39macquire()\n",
      "File \u001b[1;32m~\\anaconda3\\Lib\\site-packages\\ursina\\main.py:231\u001b[0m, in \u001b[0;36mUrsina.input\u001b[1;34m(self, key, is_raw)\u001b[0m\n\u001b[0;32m    228\u001b[0m     \u001b[38;5;28;01mcontinue\u001b[39;00m\n\u001b[0;32m    230\u001b[0m \u001b[38;5;28;01mif\u001b[39;00m \u001b[38;5;28mhasattr\u001b[39m(entity, \u001b[38;5;124m'\u001b[39m\u001b[38;5;124minput\u001b[39m\u001b[38;5;124m'\u001b[39m) \u001b[38;5;129;01mand\u001b[39;00m \u001b[38;5;28mcallable\u001b[39m(entity\u001b[38;5;241m.\u001b[39minput):\n\u001b[1;32m--> 231\u001b[0m     \u001b[38;5;28;01mif\u001b[39;00m entity\u001b[38;5;241m.\u001b[39minput(key):\n\u001b[0;32m    232\u001b[0m         \u001b[38;5;28;01mbreak\u001b[39;00m\n\u001b[0;32m    234\u001b[0m \u001b[38;5;28;01mif\u001b[39;00m \u001b[38;5;28mhasattr\u001b[39m(entity, \u001b[38;5;124m'\u001b[39m\u001b[38;5;124mscripts\u001b[39m\u001b[38;5;124m'\u001b[39m):\n",
      "File \u001b[1;32m~\\anaconda3\\Lib\\site-packages\\ursina\\prefabs\\hot_reloader.py:75\u001b[0m, in \u001b[0;36mHotReloader.input\u001b[1;34m(self, key)\u001b[0m\n\u001b[0;32m     73\u001b[0m \u001b[38;5;28;01mdef\u001b[39;00m \u001b[38;5;21minput\u001b[39m(\u001b[38;5;28mself\u001b[39m, key):\n\u001b[0;32m     74\u001b[0m     \u001b[38;5;28;01mif\u001b[39;00m key \u001b[38;5;129;01min\u001b[39;00m \u001b[38;5;28mself\u001b[39m\u001b[38;5;241m.\u001b[39mhotkeys:\n\u001b[1;32m---> 75\u001b[0m         \u001b[38;5;28mself\u001b[39m\u001b[38;5;241m.\u001b[39mhotkeys[key]()\n",
      "File \u001b[1;32m~\\anaconda3\\Lib\\site-packages\\ursina\\prefabs\\hot_reloader.py:113\u001b[0m, in \u001b[0;36mHotReloader.reload_code\u001b[1;34m(self, reset_camera)\u001b[0m\n\u001b[0;32m    109\u001b[0m     \u001b[38;5;28mprint\u001b[39m(\u001b[38;5;124m'\u001b[39m\u001b[38;5;124mtrying to reload, but path does not exist:\u001b[39m\u001b[38;5;124m'\u001b[39m, \u001b[38;5;28mself\u001b[39m\u001b[38;5;241m.\u001b[39mpath)\n\u001b[0;32m    110\u001b[0m     \u001b[38;5;28;01mreturn\u001b[39;00m\n\u001b[1;32m--> 113\u001b[0m \u001b[38;5;28;01mwith\u001b[39;00m \u001b[38;5;28mopen\u001b[39m(\u001b[38;5;28mself\u001b[39m\u001b[38;5;241m.\u001b[39mpath, encoding\u001b[38;5;241m=\u001b[39m\u001b[38;5;124m'\u001b[39m\u001b[38;5;124mutf8\u001b[39m\u001b[38;5;124m'\u001b[39m) \u001b[38;5;28;01mas\u001b[39;00m file:\n\u001b[0;32m    114\u001b[0m     text \u001b[38;5;241m=\u001b[39m file\u001b[38;5;241m.\u001b[39mread()\n\u001b[0;32m    115\u001b[0m     text \u001b[38;5;241m=\u001b[39m make_code_reload_safe(text)\n",
      "\u001b[1;31mFileNotFoundError\u001b[0m: [Errno 2] No such file or directory: 'None'"
     ]
    },
    {
     "ename": "FileNotFoundError",
     "evalue": "[Errno 2] No such file or directory: 'None'",
     "output_type": "error",
     "traceback": [
      "\u001b[1;31m---------------------------------------------------------------------------\u001b[0m",
      "\u001b[1;31mFileNotFoundError\u001b[0m                         Traceback (most recent call last)",
      "Cell \u001b[1;32mIn[1], line 39\u001b[0m\n\u001b[0;32m     35\u001b[0m         invoke(\u001b[38;5;28msetattr\u001b[39m, player, \u001b[38;5;124m'\u001b[39m\u001b[38;5;124my\u001b[39m\u001b[38;5;124m'\u001b[39m, player\u001b[38;5;241m.\u001b[39my\u001b[38;5;241m-\u001b[39m\u001b[38;5;241m1\u001b[39m, delay\u001b[38;5;241m=\u001b[39m\u001b[38;5;241m.25\u001b[39m)\n\u001b[0;32m     38\u001b[0m \u001b[38;5;66;03m# start running the game\u001b[39;00m\n\u001b[1;32m---> 39\u001b[0m app\u001b[38;5;241m.\u001b[39mrun()\n",
      "File \u001b[1;32m~\\anaconda3\\Lib\\site-packages\\ursina\\main.py:284\u001b[0m, in \u001b[0;36mUrsina.run\u001b[1;34m(self, info)\u001b[0m\n\u001b[0;32m    281\u001b[0m     \u001b[38;5;28mprint\u001b[39m(\u001b[38;5;124m'\u001b[39m\u001b[38;5;124mdevelopment mode:\u001b[39m\u001b[38;5;124m'\u001b[39m, application\u001b[38;5;241m.\u001b[39mdevelopment_mode)\n\u001b[0;32m    282\u001b[0m     \u001b[38;5;28mprint\u001b[39m(\u001b[38;5;124m'\u001b[39m\u001b[38;5;124mapplication successfully started\u001b[39m\u001b[38;5;124m'\u001b[39m)\n\u001b[1;32m--> 284\u001b[0m \u001b[38;5;28msuper\u001b[39m()\u001b[38;5;241m.\u001b[39mrun()\n",
      "File \u001b[1;32m~\\anaconda3\\Lib\\site-packages\\direct\\showbase\\ShowBase.py:3330\u001b[0m, in \u001b[0;36mShowBase.run\u001b[1;34m(self)\u001b[0m\n\u001b[0;32m   3321\u001b[0m \u001b[38;5;250m\u001b[39m\u001b[38;5;124;03m\"\"\"This method runs the :class:`~direct.task.Task.TaskManager`\u001b[39;00m\n\u001b[0;32m   3322\u001b[0m \u001b[38;5;124;03mwhen ``self.appRunner is None``, which is to say, when we are\u001b[39;00m\n\u001b[0;32m   3323\u001b[0m \u001b[38;5;124;03mnot running from within a p3d file.  When we *are* within a p3d\u001b[39;00m\n\u001b[0;32m   3324\u001b[0m \u001b[38;5;124;03mfile, the Panda3D runtime has to be responsible for running the\u001b[39;00m\n\u001b[0;32m   3325\u001b[0m \u001b[38;5;124;03mmain loop, so we can't allow the application to do it.\u001b[39;00m\n\u001b[0;32m   3326\u001b[0m \u001b[38;5;124;03m\"\"\"\u001b[39;00m\n\u001b[0;32m   3328\u001b[0m \u001b[38;5;28;01mif\u001b[39;00m \u001b[38;5;28mself\u001b[39m\u001b[38;5;241m.\u001b[39mappRunner \u001b[38;5;129;01mis\u001b[39;00m \u001b[38;5;28;01mNone\u001b[39;00m \u001b[38;5;129;01mor\u001b[39;00m \u001b[38;5;28mself\u001b[39m\u001b[38;5;241m.\u001b[39mappRunner\u001b[38;5;241m.\u001b[39mdummy \u001b[38;5;129;01mor\u001b[39;00m \\\n\u001b[0;32m   3329\u001b[0m    (\u001b[38;5;28mself\u001b[39m\u001b[38;5;241m.\u001b[39mappRunner\u001b[38;5;241m.\u001b[39minteractiveConsole \u001b[38;5;129;01mand\u001b[39;00m \u001b[38;5;129;01mnot\u001b[39;00m \u001b[38;5;28mself\u001b[39m\u001b[38;5;241m.\u001b[39mappRunner\u001b[38;5;241m.\u001b[39minitialAppImport):\n\u001b[1;32m-> 3330\u001b[0m     \u001b[38;5;28mself\u001b[39m\u001b[38;5;241m.\u001b[39mtaskMgr\u001b[38;5;241m.\u001b[39mrun()\n",
      "File \u001b[1;32m~\\anaconda3\\Lib\\site-packages\\direct\\task\\Task.py:553\u001b[0m, in \u001b[0;36mTaskManager.run\u001b[1;34m(self)\u001b[0m\n\u001b[0;32m    551\u001b[0m         session\u001b[38;5;241m.\u001b[39mrelease()\n\u001b[0;32m    552\u001b[0m     \u001b[38;5;28;01melse\u001b[39;00m:\n\u001b[1;32m--> 553\u001b[0m         \u001b[38;5;28mself\u001b[39m\u001b[38;5;241m.\u001b[39mstep()\n\u001b[0;32m    554\u001b[0m \u001b[38;5;28;01mexcept\u001b[39;00m \u001b[38;5;167;01mKeyboardInterrupt\u001b[39;00m:\n\u001b[0;32m    555\u001b[0m     \u001b[38;5;28mself\u001b[39m\u001b[38;5;241m.\u001b[39mstop()\n",
      "File \u001b[1;32m~\\anaconda3\\Lib\\site-packages\\direct\\task\\Task.py:504\u001b[0m, in \u001b[0;36mTaskManager.step\u001b[1;34m(self)\u001b[0m\n\u001b[0;32m    501\u001b[0m     \u001b[38;5;28mself\u001b[39m\u001b[38;5;241m.\u001b[39m__prevHandler \u001b[38;5;241m=\u001b[39m signal\u001b[38;5;241m.\u001b[39msignal(signal\u001b[38;5;241m.\u001b[39mSIGINT, \u001b[38;5;28mself\u001b[39m\u001b[38;5;241m.\u001b[39mkeyboardInterruptHandler)\n\u001b[0;32m    503\u001b[0m \u001b[38;5;28;01mtry\u001b[39;00m:\n\u001b[1;32m--> 504\u001b[0m     \u001b[38;5;28mself\u001b[39m\u001b[38;5;241m.\u001b[39mmgr\u001b[38;5;241m.\u001b[39mpoll()\n\u001b[0;32m    506\u001b[0m     \u001b[38;5;66;03m# This is the spot for an internal yield function\u001b[39;00m\n\u001b[0;32m    507\u001b[0m     nextTaskTime \u001b[38;5;241m=\u001b[39m \u001b[38;5;28mself\u001b[39m\u001b[38;5;241m.\u001b[39mmgr\u001b[38;5;241m.\u001b[39mgetNextWakeTime()\n",
      "File \u001b[1;32m~\\anaconda3\\Lib\\site-packages\\direct\\showbase\\EventManager.py:49\u001b[0m, in \u001b[0;36mEventManager.eventLoopTask\u001b[1;34m(self, task)\u001b[0m\n\u001b[0;32m     45\u001b[0m \u001b[38;5;28;01mdef\u001b[39;00m \u001b[38;5;21meventLoopTask\u001b[39m(\u001b[38;5;28mself\u001b[39m, task):\n\u001b[0;32m     46\u001b[0m \u001b[38;5;250m    \u001b[39m\u001b[38;5;124;03m\"\"\"\u001b[39;00m\n\u001b[0;32m     47\u001b[0m \u001b[38;5;124;03m    Process all the events on the C++ event queue\u001b[39;00m\n\u001b[0;32m     48\u001b[0m \u001b[38;5;124;03m    \"\"\"\u001b[39;00m\n\u001b[1;32m---> 49\u001b[0m     \u001b[38;5;28mself\u001b[39m\u001b[38;5;241m.\u001b[39mdoEvents()\n\u001b[0;32m     50\u001b[0m     messenger\u001b[38;5;241m.\u001b[39msend(\u001b[38;5;124m\"\u001b[39m\u001b[38;5;124mevent-loop-done\u001b[39m\u001b[38;5;124m\"\u001b[39m)\n\u001b[0;32m     51\u001b[0m     \u001b[38;5;28;01mreturn\u001b[39;00m task\u001b[38;5;241m.\u001b[39mcont\n",
      "File \u001b[1;32m~\\anaconda3\\Lib\\site-packages\\direct\\showbase\\EventManager.py:43\u001b[0m, in \u001b[0;36mEventManager.doEvents\u001b[1;34m(self)\u001b[0m\n\u001b[0;32m     41\u001b[0m dequeueFunc \u001b[38;5;241m=\u001b[39m \u001b[38;5;28mself\u001b[39m\u001b[38;5;241m.\u001b[39meventQueue\u001b[38;5;241m.\u001b[39mdequeueEvent\n\u001b[0;32m     42\u001b[0m \u001b[38;5;28;01mwhile\u001b[39;00m \u001b[38;5;129;01mnot\u001b[39;00m isEmptyFunc():\n\u001b[1;32m---> 43\u001b[0m     processFunc(dequeueFunc())\n",
      "File \u001b[1;32m~\\anaconda3\\Lib\\site-packages\\direct\\showbase\\EventManager.py:99\u001b[0m, in \u001b[0;36mEventManager.processEvent\u001b[1;34m(self, event)\u001b[0m\n\u001b[0;32m     92\u001b[0m     EventManager\u001b[38;5;241m.\u001b[39mnotify\u001b[38;5;241m.\u001b[39mdebug(\u001b[38;5;124m'\u001b[39m\u001b[38;5;124mreceived C++ event named: \u001b[39m\u001b[38;5;124m'\u001b[39m \u001b[38;5;241m+\u001b[39m eventName \u001b[38;5;241m+\u001b[39m\n\u001b[0;32m     93\u001b[0m                               \u001b[38;5;124m'\u001b[39m\u001b[38;5;124m parameters: \u001b[39m\u001b[38;5;124m'\u001b[39m \u001b[38;5;241m+\u001b[39m \u001b[38;5;28mrepr\u001b[39m(paramList))\n\u001b[0;32m     94\u001b[0m \u001b[38;5;66;03m# **************************************************************\u001b[39;00m\n\u001b[0;32m     95\u001b[0m \u001b[38;5;66;03m# ******** Duplicate any changes in processEventPstats *********\u001b[39;00m\n\u001b[0;32m     96\u001b[0m \u001b[38;5;66;03m# **************************************************************\u001b[39;00m\n\u001b[0;32m     97\u001b[0m \u001b[38;5;66;03m# Send the event, we used to send it with the event\u001b[39;00m\n\u001b[0;32m     98\u001b[0m \u001b[38;5;66;03m# name as a parameter, but now you can use extraArgs for that\u001b[39;00m\n\u001b[1;32m---> 99\u001b[0m messenger\u001b[38;5;241m.\u001b[39msend(eventName, paramList)\n\u001b[0;32m    101\u001b[0m \u001b[38;5;66;03m# Also send the event down into C++ land\u001b[39;00m\n\u001b[0;32m    102\u001b[0m handler \u001b[38;5;241m=\u001b[39m \u001b[38;5;28mself\u001b[39m\u001b[38;5;241m.\u001b[39meventHandler\n",
      "File \u001b[1;32m~\\anaconda3\\Lib\\site-packages\\direct\\showbase\\Messenger.py:337\u001b[0m, in \u001b[0;36mMessenger.send\u001b[1;34m(self, event, sentArgs, taskChain)\u001b[0m\n\u001b[0;32m    332\u001b[0m             taskMgr\u001b[38;5;241m.\u001b[39madd(\u001b[38;5;28mself\u001b[39m\u001b[38;5;241m.\u001b[39m__taskChainDispatch, name \u001b[38;5;241m=\u001b[39m \u001b[38;5;124m'\u001b[39m\u001b[38;5;124mMessenger-\u001b[39m\u001b[38;5;132;01m%s\u001b[39;00m\u001b[38;5;124m'\u001b[39m \u001b[38;5;241m%\u001b[39m (taskChain),\n\u001b[0;32m    333\u001b[0m                         extraArgs \u001b[38;5;241m=\u001b[39m [taskChain], taskChain \u001b[38;5;241m=\u001b[39m taskChain,\n\u001b[0;32m    334\u001b[0m                         appendTask \u001b[38;5;241m=\u001b[39m \u001b[38;5;28;01mTrue\u001b[39;00m)\n\u001b[0;32m    335\u001b[0m     \u001b[38;5;28;01melse\u001b[39;00m:\n\u001b[0;32m    336\u001b[0m         \u001b[38;5;66;03m# Handle the event immediately.\u001b[39;00m\n\u001b[1;32m--> 337\u001b[0m         \u001b[38;5;28mself\u001b[39m\u001b[38;5;241m.\u001b[39m__dispatch(acceptorDict, event, sentArgs, foundWatch)\n\u001b[0;32m    338\u001b[0m \u001b[38;5;28;01mfinally\u001b[39;00m:\n\u001b[0;32m    339\u001b[0m     \u001b[38;5;28mself\u001b[39m\u001b[38;5;241m.\u001b[39mlock\u001b[38;5;241m.\u001b[39mrelease()\n",
      "File \u001b[1;32m~\\anaconda3\\Lib\\site-packages\\direct\\showbase\\Messenger.py:422\u001b[0m, in \u001b[0;36mMessenger.__dispatch\u001b[1;34m(self, acceptorDict, event, sentArgs, foundWatch)\u001b[0m\n\u001b[0;32m    420\u001b[0m \u001b[38;5;28mself\u001b[39m\u001b[38;5;241m.\u001b[39mlock\u001b[38;5;241m.\u001b[39mrelease()\n\u001b[0;32m    421\u001b[0m \u001b[38;5;28;01mtry\u001b[39;00m:\n\u001b[1;32m--> 422\u001b[0m     result \u001b[38;5;241m=\u001b[39m method (\u001b[38;5;241m*\u001b[39m(extraArgs \u001b[38;5;241m+\u001b[39m sentArgs))\n\u001b[0;32m    423\u001b[0m \u001b[38;5;28;01mfinally\u001b[39;00m:\n\u001b[0;32m    424\u001b[0m     \u001b[38;5;28mself\u001b[39m\u001b[38;5;241m.\u001b[39mlock\u001b[38;5;241m.\u001b[39macquire()\n",
      "File \u001b[1;32m~\\anaconda3\\Lib\\site-packages\\ursina\\main.py:231\u001b[0m, in \u001b[0;36mUrsina.input\u001b[1;34m(self, key, is_raw)\u001b[0m\n\u001b[0;32m    228\u001b[0m     \u001b[38;5;28;01mcontinue\u001b[39;00m\n\u001b[0;32m    230\u001b[0m \u001b[38;5;28;01mif\u001b[39;00m \u001b[38;5;28mhasattr\u001b[39m(entity, \u001b[38;5;124m'\u001b[39m\u001b[38;5;124minput\u001b[39m\u001b[38;5;124m'\u001b[39m) \u001b[38;5;129;01mand\u001b[39;00m \u001b[38;5;28mcallable\u001b[39m(entity\u001b[38;5;241m.\u001b[39minput):\n\u001b[1;32m--> 231\u001b[0m     \u001b[38;5;28;01mif\u001b[39;00m entity\u001b[38;5;241m.\u001b[39minput(key):\n\u001b[0;32m    232\u001b[0m         \u001b[38;5;28;01mbreak\u001b[39;00m\n\u001b[0;32m    234\u001b[0m \u001b[38;5;28;01mif\u001b[39;00m \u001b[38;5;28mhasattr\u001b[39m(entity, \u001b[38;5;124m'\u001b[39m\u001b[38;5;124mscripts\u001b[39m\u001b[38;5;124m'\u001b[39m):\n",
      "File \u001b[1;32m~\\anaconda3\\Lib\\site-packages\\ursina\\prefabs\\hot_reloader.py:75\u001b[0m, in \u001b[0;36mHotReloader.input\u001b[1;34m(self, key)\u001b[0m\n\u001b[0;32m     73\u001b[0m \u001b[38;5;28;01mdef\u001b[39;00m \u001b[38;5;21minput\u001b[39m(\u001b[38;5;28mself\u001b[39m, key):\n\u001b[0;32m     74\u001b[0m     \u001b[38;5;28;01mif\u001b[39;00m key \u001b[38;5;129;01min\u001b[39;00m \u001b[38;5;28mself\u001b[39m\u001b[38;5;241m.\u001b[39mhotkeys:\n\u001b[1;32m---> 75\u001b[0m         \u001b[38;5;28mself\u001b[39m\u001b[38;5;241m.\u001b[39mhotkeys[key]()\n",
      "File \u001b[1;32m~\\anaconda3\\Lib\\site-packages\\ursina\\prefabs\\hot_reloader.py:113\u001b[0m, in \u001b[0;36mHotReloader.reload_code\u001b[1;34m(self, reset_camera)\u001b[0m\n\u001b[0;32m    109\u001b[0m     \u001b[38;5;28mprint\u001b[39m(\u001b[38;5;124m'\u001b[39m\u001b[38;5;124mtrying to reload, but path does not exist:\u001b[39m\u001b[38;5;124m'\u001b[39m, \u001b[38;5;28mself\u001b[39m\u001b[38;5;241m.\u001b[39mpath)\n\u001b[0;32m    110\u001b[0m     \u001b[38;5;28;01mreturn\u001b[39;00m\n\u001b[1;32m--> 113\u001b[0m \u001b[38;5;28;01mwith\u001b[39;00m \u001b[38;5;28mopen\u001b[39m(\u001b[38;5;28mself\u001b[39m\u001b[38;5;241m.\u001b[39mpath, encoding\u001b[38;5;241m=\u001b[39m\u001b[38;5;124m'\u001b[39m\u001b[38;5;124mutf8\u001b[39m\u001b[38;5;124m'\u001b[39m) \u001b[38;5;28;01mas\u001b[39;00m file:\n\u001b[0;32m    114\u001b[0m     text \u001b[38;5;241m=\u001b[39m file\u001b[38;5;241m.\u001b[39mread()\n\u001b[0;32m    115\u001b[0m     text \u001b[38;5;241m=\u001b[39m make_code_reload_safe(text)\n",
      "\u001b[1;31mFileNotFoundError\u001b[0m: [Errno 2] No such file or directory: 'None'"
     ]
    }
   ],
   "source": [
    "from ursina import *\n",
    "\n",
    "# create a window\n",
    "app = Ursina()\n",
    "\n",
    "# most things in ursina are Entities. An Entity is a thing you place in the world.\n",
    "# you can think of them as GameObjects in Unity or Actors in Unreal.\n",
    "# the first parameter tells us the Entity's model will be a 3d-model called 'cube'.\n",
    "# ursina includes some basic models like 'cube', 'sphere' and 'quad'.\n",
    "\n",
    "# the next parameter tells us the model's color should be orange.\n",
    "\n",
    "# 'scale_y=2' tells us how big the entity should be in the vertical axis, how tall it should be.\n",
    "# in ursina, positive x is right, positive y is up, and positive z is forward.\n",
    "\n",
    "player = Entity(model='cube', color=color.orange, scale_y=2)\n",
    "\n",
    "# create a function called 'update'.\n",
    "# this will automatically get called by the engine every frame.\n",
    "\n",
    "def update():\n",
    "    player.x += held_keys['d'] * time.dt\n",
    "    player.x -= held_keys['a'] * time.dt\n",
    "\n",
    "# this part will make the player move left or right based on our input.\n",
    "# to check which keys are held down, we can check the held_keys dictionary.\n",
    "# 0 means not pressed and 1 means pressed.\n",
    "# time.dt is simply the time since the last frame. by multiplying with this, the\n",
    "# player will move at the same speed regardless of how fast the game runs.\n",
    "\n",
    "\n",
    "def input(key):\n",
    "    if key == 'space':\n",
    "        player.y += 1\n",
    "        invoke(setattr, player, 'y', player.y-1, delay=.25)\n",
    "\n",
    "\n",
    "# start running the game\n",
    "app.run()"
   ]
  },
  {
   "cell_type": "code",
   "execution_count": null,
   "id": "dfccd6f7",
   "metadata": {},
   "outputs": [],
   "source": []
  }
 ],
 "metadata": {
  "kernelspec": {
   "display_name": "Python 3 (ipykernel)",
   "language": "python",
   "name": "python3"
  },
  "language_info": {
   "codemirror_mode": {
    "name": "ipython",
    "version": 3
   },
   "file_extension": ".py",
   "mimetype": "text/x-python",
   "name": "python",
   "nbconvert_exporter": "python",
   "pygments_lexer": "ipython3",
   "version": "3.11.3"
  }
 },
 "nbformat": 4,
 "nbformat_minor": 5
}
