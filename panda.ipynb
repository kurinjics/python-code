{
 "cells": [
  {
   "cell_type": "code",
   "execution_count": 2,
   "id": "d54a2dba",
   "metadata": {},
   "outputs": [
    {
     "ename": "ModuleNotFoundError",
     "evalue": "No module named 'request'",
     "output_type": "error",
     "traceback": [
      "\u001b[1;31m---------------------------------------------------------------------------\u001b[0m",
      "\u001b[1;31mModuleNotFoundError\u001b[0m                       Traceback (most recent call last)",
      "Cell \u001b[1;32mIn[2], line 1\u001b[0m\n\u001b[1;32m----> 1\u001b[0m \u001b[38;5;28;01mfrom\u001b[39;00m \u001b[38;5;21;01mpanda\u001b[39;00m \u001b[38;5;28;01mimport\u001b[39;00m \u001b[38;5;241m*\u001b[39m\n\u001b[0;32m      2\u001b[0m x \u001b[38;5;241m=\u001b[39m DataFrame({\u001b[38;5;241m1\u001b[39m:\u001b[38;5;241m2\u001b[39m})\n\u001b[0;32m      3\u001b[0m \u001b[38;5;28mprint\u001b[39m(x)\n",
      "File \u001b[1;32m~\\anaconda3\\Lib\\site-packages\\panda\\__init__.py:1\u001b[0m\n\u001b[1;32m----> 1\u001b[0m \u001b[38;5;28;01mfrom\u001b[39;00m \u001b[38;5;21;01mrequest\u001b[39;00m \u001b[38;5;28;01mimport\u001b[39;00m PandaRequest\n\u001b[0;32m      2\u001b[0m \u001b[38;5;28;01mfrom\u001b[39;00m \u001b[38;5;21;01mmodels\u001b[39;00m \u001b[38;5;28;01mimport\u001b[39;00m Video, Cloud, Encoding, Profile, Notifications, PandaDict\n\u001b[0;32m      3\u001b[0m \u001b[38;5;28;01mfrom\u001b[39;00m \u001b[38;5;21;01mmodels\u001b[39;00m \u001b[38;5;28;01mimport\u001b[39;00m GroupRetriever, SingleRetriever\n",
      "\u001b[1;31mModuleNotFoundError\u001b[0m: No module named 'request'"
     ]
    }
   ],
   "source": [
    "from panda import *\n",
    "x = DataFrame({1:2})\n",
    "print(x)\n"
   ]
  },
  {
   "cell_type": "code",
   "execution_count": 6,
   "id": "93c8e4b1",
   "metadata": {},
   "outputs": [
    {
     "name": "stdout",
     "output_type": "stream",
     "text": [
      "   1  2  3\n",
      "0  2  3  4\n",
      "1  3  4  6\n"
     ]
    }
   ],
   "source": [
    "import pandas\n",
    "data = {1:[2,3],2:[3,4],3:[4,6]}\n",
    "print(pandas.DataFrame(data))"
   ]
  },
  {
   "cell_type": "code",
   "execution_count": 7,
   "id": "4f231360",
   "metadata": {},
   "outputs": [
    {
     "name": "stdout",
     "output_type": "stream",
     "text": [
      "    0\n",
      "12  2\n",
      "13  3\n",
      "14  4\n"
     ]
    }
   ],
   "source": [
    "d = [2,3,4]\n",
    "d1 = [12,13,14]\n",
    "print(pandas.DataFrame(d,d1))"
   ]
  },
  {
   "cell_type": "code",
   "execution_count": 14,
   "id": "23ac1ea3",
   "metadata": {},
   "outputs": [
    {
     "name": "stdout",
     "output_type": "stream",
     "text": [
      "Enter first string: panda\n",
      "Enter second string: pythons\n",
      "panda\n",
      "p       s\n",
      " y     n\n",
      "  t   o\n",
      "   h h\n"
     ]
    }
   ],
   "source": [
    "str1 = input(\"Enter first string: \")\n",
    "str2 = input(\"Enter second string: \")\n",
    "\n",
    "small = str1\n",
    "large = str2\n",
    "\n",
    "if len(str1) > len(str2) :\n",
    "    large = str1\n",
    "    small = str2\n",
    "\n",
    "print(small)\n",
    "\n",
    "lenLarge = len(large)\n",
    "if lenLarge%2 == 0:\n",
    "    for i in range(int(lenLarge / 2) ):\n",
    "        print(' ' * i, large[i], ' ' * (lenLarge - 2 * i), large[lenLarge - i - 1], sep='')\n",
    "else:\n",
    "    for i in range(int(lenLarge / 2)+1 ):\n",
    "        print(' ' * i, large[i], ' ' * (lenLarge - 2 * i), large[lenLarge - i - 1], sep='')"
   ]
  },
  {
   "cell_type": "code",
   "execution_count": 15,
   "id": "25539223",
   "metadata": {},
   "outputs": [
    {
     "name": "stdout",
     "output_type": "stream",
     "text": [
      "Enter the number: 556\n",
      "DLVI\n"
     ]
    }
   ],
   "source": [
    "n = int(input(\"Enter the number: \"))\n",
    "num = (1000, 900,  500, 400, 100,  90, 50,  40, 10,  9,   5,  4,   1)\n",
    "rom = ('M',  'CM', 'D', 'CD','C', 'XC','L','XL','X','IX','V','IV','I')\n",
    "\n",
    "result = ''\n",
    "\n",
    "for i in range(len(num)) :\n",
    "    count = int(n / num[i])\n",
    "    result += str(rom[i] * count)\n",
    "    n -= num[i] * count\n",
    "\n",
    "print(result)"
   ]
  },
  {
   "cell_type": "code",
   "execution_count": null,
   "id": "37c2212b",
   "metadata": {},
   "outputs": [],
   "source": []
  }
 ],
 "metadata": {
  "kernelspec": {
   "display_name": "Python 3 (ipykernel)",
   "language": "python",
   "name": "python3"
  },
  "language_info": {
   "codemirror_mode": {
    "name": "ipython",
    "version": 3
   },
   "file_extension": ".py",
   "mimetype": "text/x-python",
   "name": "python",
   "nbconvert_exporter": "python",
   "pygments_lexer": "ipython3",
   "version": "3.11.3"
  }
 },
 "nbformat": 4,
 "nbformat_minor": 5
}
