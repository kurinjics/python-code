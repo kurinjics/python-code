{
 "cells": [
  {
   "cell_type": "code",
   "execution_count": 1,
   "id": "0d43e278",
   "metadata": {},
   "outputs": [
    {
     "name": "stdout",
     "output_type": "stream",
     "text": [
      "True\n"
     ]
    }
   ],
   "source": [
    "X = (3.3, 3.3,4.1,4.1,2.2,2.2)\n",
    "print (X[0::2] ==X[1::2])"
   ]
  },
  {
   "cell_type": "code",
   "execution_count": 3,
   "id": "590925ec",
   "metadata": {},
   "outputs": [
    {
     "name": "stdout",
     "output_type": "stream",
     "text": [
      "2\n"
     ]
    }
   ],
   "source": [
    "print ('xyyzxyzxyzxzxyy'.count('yy', 1))"
   ]
  },
  {
   "cell_type": "code",
   "execution_count": 8,
   "id": "11f36c0d",
   "metadata": {},
   "outputs": [
    {
     "name": "stdout",
     "output_type": "stream",
     "text": [
      "4\n",
      "7\n",
      "11\n",
      "15\n"
     ]
    }
   ],
   "source": [
    "arr=[[1,2,3,4], [4,5,6,7], [8,9,10,11], [12,13,14,15]]\n",
    "for i in range (0, 4):\n",
    "    print (arr[i].pop())"
   ]
  },
  {
   "cell_type": "code",
   "execution_count": 7,
   "id": "0417e4c6",
   "metadata": {},
   "outputs": [
    {
     "name": "stdout",
     "output_type": "stream",
     "text": [
      "1230.0\n",
      "13.0\n"
     ]
    }
   ],
   "source": [
    "print (round (1234.56, -1))\n",
    "print (round (12.534,0))"
   ]
  },
  {
   "cell_type": "code",
   "execution_count": 9,
   "id": "c486eca7",
   "metadata": {},
   "outputs": [
    {
     "name": "stdout",
     "output_type": "stream",
     "text": [
      "12\n",
      "64\n"
     ]
    }
   ],
   "source": [
    "print (1 and 4 +2**5//10+5 or 2)\n",
    "print( (2**2) **3)"
   ]
  },
  {
   "cell_type": "code",
   "execution_count": 10,
   "id": "868331cc",
   "metadata": {},
   "outputs": [
    {
     "name": "stdout",
     "output_type": "stream",
     "text": [
      "Sum of String is: 1\n"
     ]
    }
   ],
   "source": [
    "s = 'hello Man 1'\n",
    "dsum = 0\n",
    "for a in s:\n",
    "    if a.isdigit():\n",
    "        dsum += int(a)\n",
    "print(\"Sum of String is:\",dsum)"
   ]
  },
  {
   "cell_type": "code",
   "execution_count": 11,
   "id": "a96113bf",
   "metadata": {},
   "outputs": [
    {
     "name": "stdout",
     "output_type": "stream",
     "text": [
      "Oops I have to be Capitalized\n",
      "Machine and data\n"
     ]
    }
   ],
   "source": [
    "Future = \"Machine and Data\"\n",
    "if Future.istitle() == True:\n",
    "    print(\"Hey...I'm Correct\")\n",
    "else:\n",
    "    print(\"Oops I have to be Capitalized\")\n",
    "    print(Future.capitalize())\n"
   ]
  },
  {
   "cell_type": "code",
   "execution_count": 12,
   "id": "21438057",
   "metadata": {},
   "outputs": [
    {
     "name": "stdout",
     "output_type": "stream",
     "text": [
      "26\n",
      "-1\n"
     ]
    }
   ],
   "source": [
    "Data_Processing = \"Panda Numpy SciPy Sci-Kit Learn  PyCaret Tensorflow OpenCv\"\n",
    "print(Data_Processing.find('Learn'))\n",
    "print(Data_Processing.find('PyCaret',26,32))\n"
   ]
  },
  {
   "cell_type": "code",
   "execution_count": 19,
   "id": "6343398e",
   "metadata": {},
   "outputs": [
    {
     "name": "stdout",
     "output_type": "stream",
     "text": [
      "  Zero Arcade adventurelib Ren'Py ursina\n"
     ]
    }
   ],
   "source": [
    "game = 'Pygame Pygame Zero Arcade adventurelib Ren\\'Py ursina'\n",
    "print(game.replace('Pygame',''))\n"
   ]
  },
  {
   "cell_type": "code",
   "execution_count": 20,
   "id": "a84d6987",
   "metadata": {},
   "outputs": [
    {
     "name": "stdout",
     "output_type": "stream",
     "text": [
      "PySide2 ['PyQT5', 'Tkinter', 'PySide2', 'Kivy', 'wxPython', 'turtle', {1: 'python', 2: 'R'}]\n"
     ]
    }
   ],
   "source": [
    "def user_Interactive(GUI_1, n):\n",
    "        x = GUI_1.pop(n)\n",
    "        GUI_1.insert(n,x)\n",
    "        GUI_1.extend(['turtle',{1:'python',2:'R'}])\n",
    "        return x\n",
    "GUI = ['PyQT5','Tkinter','PySide2','Kivy','wxPython']\n",
    "x = user_Interactive(GUI,2)\n",
    "print(x,GUI)\n"
   ]
  },
  {
   "cell_type": "code",
   "execution_count": 21,
   "id": "3968449e",
   "metadata": {},
   "outputs": [
    {
     "name": "stdout",
     "output_type": "stream",
     "text": [
      "1. SQLAlchemy Scrapy BeautifulSoup2. SQLAlchemy Scrapy BeautifulSoup3. \n",
      "('SQLAlchemy Scrapy BeautifulSoup', '', '')\n",
      "['SQLAlchemy', 'Scrapy', 'BeautifulSoup']\n",
      "[]\n",
      "[]\n",
      "('SQLAlchemy Scrapy BeautifulSoup', '', '')\n"
     ]
    }
   ],
   "source": [
    "Data_Mining_Data_Scraping =\"SQLAlchemy Scrapy BeautifulSoup\"\n",
    "print(Data_Mining_Data_Scraping.join(('1. ','2. ','3. ')))\n",
    "data = Data_Mining_Data_Scraping.partition('scrapy')\n",
    "print(data)\n",
    "for i in data :\n",
    "    if type(i) == str:\n",
    "        print(i.split())\n",
    "print(data)\n"
   ]
  },
  {
   "cell_type": "code",
   "execution_count": 22,
   "id": "3ccc6893",
   "metadata": {},
   "outputs": [
    {
     "name": "stdout",
     "output_type": "stream",
     "text": [
      "610.0\n",
      "500.0\n",
      "1800.0\n",
      "2000.0\n"
     ]
    }
   ],
   "source": [
    "def interest (prnc, time=2, rate=0.10): \n",
    "       return (prnc*time*rate)\n",
    "print(interest (6100,1))\n",
    "print (interest (5000, rate= 0.05))\n",
    "print (interest (5000, 3, 0.12))\n",
    "print(interest (time=4, prnc=5000))\n"
   ]
  },
  {
   "cell_type": "code",
   "execution_count": 24,
   "id": "82992943",
   "metadata": {},
   "outputs": [
    {
     "name": "stdout",
     "output_type": "stream",
     "text": [
      "4567\n",
      "23744\n"
     ]
    }
   ],
   "source": [
    "V=[[4,5,67], [44, 7,2,3]] \n",
    "for row in V:\n",
    "      row. sort ()\n",
    "      for element in row:\n",
    "          print(element, end='')\n",
    "      print ( )\n"
   ]
  },
  {
   "cell_type": "code",
   "execution_count": 25,
   "id": "c609c287",
   "metadata": {},
   "outputs": [
    {
     "name": "stdout",
     "output_type": "stream",
     "text": [
      "[2, 5, 9, 14]\n"
     ]
    }
   ],
   "source": [
    "X=[2, 3,4,5]\n",
    "Y= [sum(X[0:a+1]) for a in range (0, len(X))]\n",
    "print (Y)\n"
   ]
  },
  {
   "cell_type": "code",
   "execution_count": 27,
   "id": "ceb9c8c2",
   "metadata": {},
   "outputs": [
    {
     "name": "stdout",
     "output_type": "stream",
     "text": [
      "1 A2 B3 C"
     ]
    }
   ],
   "source": [
    "a={1: 'A', 2: 'B', 3:'C'} \n",
    "for i, j in a.items ( ):\n",
    "     print (i, j, end =  '')\n"
   ]
  },
  {
   "cell_type": "code",
   "execution_count": 29,
   "id": "1742f66c",
   "metadata": {},
   "outputs": [
    {
     "name": "stdout",
     "output_type": "stream",
     "text": [
      "C\n"
     ]
    }
   ],
   "source": [
    "a={1:'A', 2:'B', 3:'C'}\n",
    "print(a. setdefault(3,'D'))\n"
   ]
  },
  {
   "cell_type": "code",
   "execution_count": 30,
   "id": "d3c3bf5b",
   "metadata": {},
   "outputs": [
    {
     "name": "stdout",
     "output_type": "stream",
     "text": [
      "3\n"
     ]
    }
   ],
   "source": [
    "def maximum (x,y):\n",
    "       if x > y:\n",
    "           return x\n",
    "       elif x ==y:\n",
    "           return 'The numbers are equal'\n",
    "       else:\n",
    "           return y\n",
    "print (maximum (2,3))\n"
   ]
  },
  {
   "cell_type": "code",
   "execution_count": 32,
   "id": "fe948550",
   "metadata": {},
   "outputs": [
    {
     "name": "stdout",
     "output_type": "stream",
     "text": [
      "[10, 15, 20, 25, 6, 7]\n",
      "None\n",
      "[10, 15, 20, 25]\n"
     ]
    }
   ],
   "source": [
    "def func (a):\n",
    "         b =a.copy()\n",
    "         b.append(6)\n",
    "         b = b+[7]\n",
    "         print(b)\n",
    "a = [10,15,20,25]\n",
    "print(func(a))\n",
    "print(a)\n"
   ]
  },
  {
   "cell_type": "code",
   "execution_count": 35,
   "id": "97153e39",
   "metadata": {},
   "outputs": [
    {
     "name": "stdout",
     "output_type": "stream",
     "text": [
      "{1: 'A', 2: 'B', 3: 'C'}\n"
     ]
    }
   ],
   "source": [
    "a={1: 'A', 2:'B', 3: 'C'}\n",
    "b=a. copy ( )\n",
    "b[2] = 'D'\n",
    "b. clear ( )\n",
    "print (a)\n"
   ]
  },
  {
   "cell_type": "code",
   "execution_count": 36,
   "id": "4973ea27",
   "metadata": {},
   "outputs": [
    {
     "ename": "TypeError",
     "evalue": "'float' object cannot be interpreted as an integer",
     "output_type": "error",
     "traceback": [
      "\u001b[1;31m---------------------------------------------------------------------------\u001b[0m",
      "\u001b[1;31mTypeError\u001b[0m                                 Traceback (most recent call last)",
      "Cell \u001b[1;32mIn[36], line 2\u001b[0m\n\u001b[0;32m      1\u001b[0m \u001b[38;5;28;01mimport\u001b[39;00m \u001b[38;5;21;01mmath\u001b[39;00m\n\u001b[1;32m----> 2\u001b[0m \u001b[38;5;28mprint\u001b[39m (math\u001b[38;5;241m.\u001b[39m factorial (\u001b[38;5;241m4.5\u001b[39m))\n",
      "\u001b[1;31mTypeError\u001b[0m: 'float' object cannot be interpreted as an integer"
     ]
    }
   ],
   "source": [
    "import math\n",
    "print (math. factorial (4.5))\n"
   ]
  },
  {
   "cell_type": "code",
   "execution_count": 38,
   "id": "e6f52ec8",
   "metadata": {},
   "outputs": [
    {
     "name": "stdout",
     "output_type": "stream",
     "text": [
      "(22, 44, 66)\n"
     ]
    }
   ],
   "source": [
    "tuple1 = (11,22,33,44,55,66)\n",
    "list1 = list (tuple1)\n",
    "new_list = [ ]\n",
    "for i in list1:\n",
    "      if i%2 ==0:\n",
    "          new_list .append (i) \n",
    "new_tuple = tuple (new_list)\n",
    "print(new_tuple)\n"
   ]
  },
  {
   "cell_type": "code",
   "execution_count": 42,
   "id": "15abb9a2",
   "metadata": {},
   "outputs": [
    {
     "ename": "TypeError",
     "evalue": "'set' object is not subscriptable",
     "output_type": "error",
     "traceback": [
      "\u001b[1;31m---------------------------------------------------------------------------\u001b[0m",
      "\u001b[1;31mTypeError\u001b[0m                                 Traceback (most recent call last)",
      "Cell \u001b[1;32mIn[42], line 2\u001b[0m\n\u001b[0;32m      1\u001b[0m Data_visualization \u001b[38;5;241m=\u001b[39m {\u001b[38;5;124m'\u001b[39m\u001b[38;5;124mMatplotlib\u001b[39m\u001b[38;5;124m'\u001b[39m, \u001b[38;5;124m'\u001b[39m\u001b[38;5;124mGgplot\u001b[39m\u001b[38;5;124m'\u001b[39m,\u001b[38;5;124m'\u001b[39m\u001b[38;5;124mPlotly\u001b[39m\u001b[38;5;124m'\u001b[39m,\u001b[38;5;124m'\u001b[39m\u001b[38;5;124mAltair\u001b[39m\u001b[38;5;124m'\u001b[39m,\u001b[38;5;124m'\u001b[39m\u001b[38;5;124mAutoviz\u001b[39m\u001b[38;5;124m'\u001b[39m,\u001b[38;5;124m'\u001b[39m\u001b[38;5;124mWrapping Up\u001b[39m\u001b[38;5;124m'\u001b[39m}\n\u001b[1;32m----> 2\u001b[0m \u001b[38;5;28mprint\u001b[39m(Data_visualization[\u001b[38;5;241m2\u001b[39m:\u001b[38;5;241m7\u001b[39m], \u001b[38;5;124m\"\u001b[39m\u001b[38;5;124mand\u001b[39m\u001b[38;5;124m\"\u001b[39m, Data_visualization[\u001b[38;5;241m-\u001b[39m\u001b[38;5;241m4\u001b[39m:\u001b[38;5;241m-\u001b[39m\u001b[38;5;241m1\u001b[39m])\n",
      "\u001b[1;31mTypeError\u001b[0m: 'set' object is not subscriptable"
     ]
    }
   ],
   "source": [
    "Data_visualization = {'Matplotlib', 'Ggplot','Plotly','Altair','Autoviz','Wrapping Up'}\n",
    "print(Data_visualization[2:7], \"and\", Data_visualization[-4:-1])\n"
   ]
  },
  {
   "cell_type": "code",
   "execution_count": 44,
   "id": "0d72b2b6",
   "metadata": {},
   "outputs": [
    {
     "name": "stdout",
     "output_type": "stream",
     "text": [
      "BeautifulSoup\n"
     ]
    },
    {
     "ename": "TypeError",
     "evalue": "unsupported operand type(s) for +: 'int' and 'str'",
     "output_type": "error",
     "traceback": [
      "\u001b[1;31m---------------------------------------------------------------------------\u001b[0m",
      "\u001b[1;31mTypeError\u001b[0m                                 Traceback (most recent call last)",
      "Cell \u001b[1;32mIn[44], line 3\u001b[0m\n\u001b[0;32m      1\u001b[0m Data_Mining_Data_Scraping \u001b[38;5;241m=\u001b[39m(\u001b[38;5;124m'\u001b[39m\u001b[38;5;124mSQLAlchemy\u001b[39m\u001b[38;5;124m'\u001b[39m,\u001b[38;5;124m'\u001b[39m\u001b[38;5;124mScrapy\u001b[39m\u001b[38;5;124m'\u001b[39m,\u001b[38;5;124m'\u001b[39m\u001b[38;5;124mBeautifulSoup\u001b[39m\u001b[38;5;124m'\u001b[39m)\n\u001b[0;32m      2\u001b[0m \u001b[38;5;28mprint\u001b[39m (\u001b[38;5;28mmin\u001b[39m (Data_Mining_Data_Scraping ))\n\u001b[1;32m----> 3\u001b[0m \u001b[38;5;28mprint\u001b[39m (\u001b[38;5;28msum\u001b[39m(Data_Mining_Data_Scraping ))\n",
      "\u001b[1;31mTypeError\u001b[0m: unsupported operand type(s) for +: 'int' and 'str'"
     ]
    }
   ],
   "source": [
    "Data_Mining_Data_Scraping =('SQLAlchemy','Scrapy','BeautifulSoup')\n",
    "print (min (Data_Mining_Data_Scraping ))\n",
    "print (sum(Data_Mining_Data_Scraping ))\n"
   ]
  },
  {
   "cell_type": "code",
   "execution_count": 45,
   "id": "3ae7c7af",
   "metadata": {},
   "outputs": [
    {
     "ename": "TypeError",
     "evalue": "'tuple' object doesn't support item deletion",
     "output_type": "error",
     "traceback": [
      "\u001b[1;31m---------------------------------------------------------------------------\u001b[0m",
      "\u001b[1;31mTypeError\u001b[0m                                 Traceback (most recent call last)",
      "Cell \u001b[1;32mIn[45], line 4\u001b[0m\n\u001b[0;32m      2\u001b[0m \u001b[38;5;28;01mfor\u001b[39;00m i \u001b[38;5;129;01min\u001b[39;00m \u001b[38;5;28mrange\u001b[39m(\u001b[38;5;28mlen\u001b[39m(Data_Processing)):\n\u001b[0;32m      3\u001b[0m     \u001b[38;5;28;01mif\u001b[39;00m \u001b[38;5;28mbool\u001b[39m(Data_Processing[i])\u001b[38;5;241m==\u001b[39m \u001b[38;5;28;01mTrue\u001b[39;00m:\n\u001b[1;32m----> 4\u001b[0m         \u001b[38;5;28;01mdel\u001b[39;00m Data_Processing[i]\n\u001b[0;32m      5\u001b[0m \u001b[38;5;28mprint\u001b[39m(Data_Processing)\n",
      "\u001b[1;31mTypeError\u001b[0m: 'tuple' object doesn't support item deletion"
     ]
    }
   ],
   "source": [
    "Data_Processing = ('Panda','Numpy','SciPy','Sci-Kit Learn', 'PyCaret','Tensorflow','OpenCv')\n",
    "for i in range(len(Data_Processing)):\n",
    "    if bool(Data_Processing[i])== True:\n",
    "        del Data_Processing[i]\n",
    "print(Data_Processing)\n"
   ]
  },
  {
   "cell_type": "code",
   "execution_count": 46,
   "id": "46072f58",
   "metadata": {},
   "outputs": [
    {
     "name": "stdout",
     "output_type": "stream",
     "text": [
      "['Pandas', 'Scipy', 'Numpy', 'Matplotlib', 'StatsModels', 'Seaborn']\n"
     ]
    }
   ],
   "source": [
    "Module = ['Pandas', 'Numpy', 'Scipy', 'Matplotlib', 'StatsModels', 'Seaborn']\n",
    "while True:\n",
    "    for i in range(len(Module)):\n",
    "        if Module.index('Scipy') == 2:\n",
    "            Module[1], Module[2] = Module[2],Module[1]\n",
    "    else:\n",
    "        break\n",
    "print(Module)\n"
   ]
  },
  {
   "cell_type": "code",
   "execution_count": 47,
   "id": "e03101ff",
   "metadata": {},
   "outputs": [
    {
     "name": "stdout",
     "output_type": "stream",
     "text": [
      "6\n"
     ]
    }
   ],
   "source": [
    "def listSum(numbers):\n",
    "   if not numbers:\n",
    "     return 0\n",
    "   else:\n",
    "     (f, rest) = numbers\n",
    "     return f + listSum(rest)\n",
    "\n",
    "myList = (1, (2, (3, None)))\n",
    "total = listSum(myList)\n",
    "print(total)\n"
   ]
  },
  {
   "cell_type": "code",
   "execution_count": 48,
   "id": "5de7fc10",
   "metadata": {},
   "outputs": [
    {
     "name": "stdout",
     "output_type": "stream",
     "text": [
      "27#4#16#64#729#"
     ]
    }
   ],
   "source": [
    "def flipnumber(l,y):\n",
    "      for i  in range(y):\n",
    "            if   l[i] %3 ==0:\n",
    "                l[i] **=3 \n",
    "            if   l[i] %2 ==0:\n",
    "                l[i] **=2\n",
    "l=[3,2,4,8,9]\n",
    "flipnumber(l,5)\n",
    "for i in l :\n",
    "            print ( i, end = '#')\n"
   ]
  },
  {
   "cell_type": "code",
   "execution_count": 50,
   "id": "0a48270e",
   "metadata": {},
   "outputs": [
    {
     "name": "stdout",
     "output_type": "stream",
     "text": [
      "10@59#59\n"
     ]
    }
   ],
   "source": [
    "def sum():\n",
    "    global p\n",
    "    p = p +7**2\n",
    "    print (p,end = '#')\n",
    "p=10\n",
    "print (p, end = '@')\n",
    "sum()\n",
    "print(p)\n"
   ]
  },
  {
   "cell_type": "code",
   "execution_count": 51,
   "id": "b62107b3",
   "metadata": {},
   "outputs": [
    {
     "name": "stdout",
     "output_type": "stream",
     "text": [
      "6\n",
      "15\n"
     ]
    }
   ],
   "source": [
    "def  sum(*args):\n",
    "        r=0\n",
    "        for i in args:\n",
    "              r+=i\n",
    "        return r\n",
    "print ( sum (1,2,3))\n",
    "print ( sum (1,2,3,4,5))\n"
   ]
  },
  {
   "cell_type": "code",
   "execution_count": 54,
   "id": "0c76b3a4",
   "metadata": {},
   "outputs": [
    {
     "name": "stdout",
     "output_type": "stream",
     "text": [
      "1235\n"
     ]
    }
   ],
   "source": [
    "\n",
    "\n",
    " "
   ]
  },
  {
   "cell_type": "code",
   "execution_count": 4,
   "id": "abbff50b",
   "metadata": {},
   "outputs": [
    {
     "name": "stdout",
     "output_type": "stream",
     "text": [
      "EA11\n"
     ]
    }
   ],
   "source": [
    "def Findoutput ():\n",
    "    L = \"earn\" \n",
    "    X = \"\" \n",
    "    L1 = [] \n",
    "    count = 1\n",
    "    for i in L:\n",
    "        if i in ['a', 'e', 'i', 'o','u']:\n",
    "            X = X+i . swapcase()\n",
    "        else : \n",
    "            if (count%2!= 0): \n",
    "                X = X +str(len(L[:count])) \n",
    "            else:\n",
    "                X = X+i \n",
    "                count = count+1 \n",
    "    print(X)\n",
    "\n",
    "Findoutput()"
   ]
  },
  {
   "cell_type": "code",
   "execution_count": 6,
   "id": "a7ecda79",
   "metadata": {},
   "outputs": [
    {
     "name": "stdout",
     "output_type": "stream",
     "text": [
      "512 0 64 0 0 "
     ]
    }
   ],
   "source": [
    "def Func():\n",
    "    i = 11\n",
    "    while i > 1:\n",
    "        if i%2 == 0:\n",
    "            a = i%2\n",
    "            i = i-1\n",
    "        else:\n",
    "            i = i- 3\n",
    "            a = i\n",
    "        print(a**3,end =' ')\n",
    "Func()"
   ]
  },
  {
   "cell_type": "code",
   "execution_count": null,
   "id": "9b4c8dc2",
   "metadata": {},
   "outputs": [],
   "source": []
  }
 ],
 "metadata": {
  "kernelspec": {
   "display_name": "Python 3 (ipykernel)",
   "language": "python",
   "name": "python3"
  },
  "language_info": {
   "codemirror_mode": {
    "name": "ipython",
    "version": 3
   },
   "file_extension": ".py",
   "mimetype": "text/x-python",
   "name": "python",
   "nbconvert_exporter": "python",
   "pygments_lexer": "ipython3",
   "version": "3.11.3"
  }
 },
 "nbformat": 4,
 "nbformat_minor": 5
}
