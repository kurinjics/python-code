{
 "cells": [
  {
   "cell_type": "code",
   "execution_count": 1,
   "id": "66c86f95",
   "metadata": {},
   "outputs": [
    {
     "name": "stdout",
     "output_type": "stream",
     "text": [
      "8 5\n"
     ]
    }
   ],
   "source": [
    "x = 3\n",
    "y = x + 2\n",
    "x = x + y\n",
    "print (x, y)"
   ]
  },
  {
   "cell_type": "code",
   "execution_count": 2,
   "id": "d166342b",
   "metadata": {},
   "outputs": [
    {
     "name": "stdout",
     "output_type": "stream",
     "text": [
      "-2 2\n"
     ]
    }
   ],
   "source": [
    "x = -2\n",
    "y = 2\n",
    "x =  x + y\n",
    "x =x - y\n",
    "print (x,y)"
   ]
  },
  {
   "cell_type": "code",
   "execution_count": 3,
   "id": "43be5e1d",
   "metadata": {},
   "outputs": [
    {
     "name": "stdout",
     "output_type": "stream",
     "text": [
      "15 160\n"
     ]
    }
   ],
   "source": [
    "a = 5\n",
    "b = 2*a\n",
    "a =  a + b\n",
    "b = b * a + b\n",
    "print (a, b)"
   ]
  },
  {
   "cell_type": "code",
   "execution_count": 4,
   "id": "104b8f3d",
   "metadata": {},
   "outputs": [
    {
     "name": "stdout",
     "output_type": "stream",
     "text": [
      "66.66666666666667 126.66666666666667\n"
     ]
    }
   ],
   "source": [
    "p = 10\n",
    "q = 20\n",
    "p *= q / 3\n",
    "q += p + q*2\n",
    "print (p, q)"
   ]
  },
  {
   "cell_type": "code",
   "execution_count": 6,
   "id": "6c9f56dc",
   "metadata": {},
   "outputs": [
    {
     "ename": "TypeError",
     "evalue": "unsupported operand type(s) for /: 'str' and 'int'",
     "output_type": "error",
     "traceback": [
      "\u001b[1;31m---------------------------------------------------------------------------\u001b[0m",
      "\u001b[1;31mTypeError\u001b[0m                                 Traceback (most recent call last)",
      "Cell \u001b[1;32mIn[6], line 1\u001b[0m\n\u001b[1;32m----> 1\u001b[0m \u001b[38;5;28mprint\u001b[39m(\u001b[38;5;124m'\u001b[39m\u001b[38;5;124mx\u001b[39m\u001b[38;5;124m'\u001b[39m\u001b[38;5;241m/\u001b[39m\u001b[38;5;241m5\u001b[39m)\n",
      "\u001b[1;31mTypeError\u001b[0m: unsupported operand type(s) for /: 'str' and 'int'"
     ]
    }
   ],
   "source": [
    "print('x'/5)"
   ]
  },
  {
   "cell_type": "code",
   "execution_count": null,
   "id": "15830a31",
   "metadata": {},
   "outputs": [],
   "source": [
    "/"
   ]
  }
 ],
 "metadata": {
  "kernelspec": {
   "display_name": "Python 3 (ipykernel)",
   "language": "python",
   "name": "python3"
  },
  "language_info": {
   "codemirror_mode": {
    "name": "ipython",
    "version": 3
   },
   "file_extension": ".py",
   "mimetype": "text/x-python",
   "name": "python",
   "nbconvert_exporter": "python",
   "pygments_lexer": "ipython3",
   "version": "3.11.3"
  }
 },
 "nbformat": 4,
 "nbformat_minor": 5
}
