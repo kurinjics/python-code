{
 "cells": [
  {
   "cell_type": "code",
   "execution_count": 46,
   "id": "7f9bd27a",
   "metadata": {},
   "outputs": [
    {
     "name": "stdout",
     "output_type": "stream",
     "text": [
      "['Rollno', 'Name']\n",
      "['1', 'a']\n",
      "['2', 'b']\n",
      "['3', 'c']\n"
     ]
    }
   ],
   "source": [
    "import csv\n",
    "f1=open(\"csv.csv\",\"w+\",newline=\"\")\n",
    "cw=csv.writer(f1)\n",
    "cw.writerow([\"Rollno\",\"Name\"])\n",
    "cw.writerows([[1,\"a\"],[2,\"b\"],[3,\"c\"]])\n",
    "f2=open(\"csv.csv\",\"a+\",newline=\"\")\n",
    "lst=[]\n",
    "cw1=csv.writer(f2)\n",
    "def update():\n",
    "    cr=csv.reader(f1)\n",
    "    for i in cr:\n",
    "        if i[0]==\"2\":\n",
    "            lst.extend([10,i[1]])\n",
    "            cw1.writerow(lst)\n",
    "        else:\n",
    "            cw1.writerow(i)\n",
    "\n",
    "update()\n",
    "def readupdate():\n",
    "    f21=open(\"csv.csv\",\"r\")\n",
    "    f21.seek(0)\n",
    "    \n",
    "    cp=csv.reader(f21)\n",
    "    for i in cp:\n",
    "        print(i)\n",
    "readupdate()\n",
    "\n",
    "\n",
    "        \n",
    "    \n",
    "    \n"
   ]
  },
  {
   "cell_type": "code",
   "execution_count": null,
   "id": "1f5e91dc",
   "metadata": {},
   "outputs": [],
   "source": []
  },
  {
   "cell_type": "code",
   "execution_count": null,
   "id": "c30ae291",
   "metadata": {},
   "outputs": [],
   "source": [
    "import csv\n",
    "f1=open(\"csv1.csv\",\"w+\",newline=\"\")\n",
    "cw1=csv.writer(f1)\n",
    "cw1.writerow([\"Rollno\",\"Name\"])\n",
    "cw1.writerows([[1,\"a\"],[2,\"b\"],[3,\"c\"]])\n",
    "f1.flush()\n",
    "f1.seek(0)\n",
    "cr1=csv.reader(f1)\n",
    "l=[]\n",
    "for i in cr1:\n",
    "    if i[0]==\"2\":\n",
    "        l.extend([[1,2,3]])\n",
    "    else:\n",
    "        l.extend([i])#([[345,326,657]])\n",
    "f1.flush()\n",
    "f1.seek(0)\n",
    "cw1.writerows(l)\n",
    "f1.seek(0)\n",
    "for i in csv.reader(f1):\n",
    "    print(i)\n",
    "\n"
   ]
  },
  {
   "cell_type": "code",
   "execution_count": null,
   "id": "08d9afbd",
   "metadata": {},
   "outputs": [],
   "source": [
    "import pickle\n",
    "f1=open(\"bin.dat\",\"wb\",encoding=\"utf-8\")\n",
    "dic=b\"asdfg\"\n",
    "pickle.dump(dic,f)\n",
    "f1.close()\n",
    "f2=open(\"bin.dat\",\"rb\",encoding=\"utf-8\")\n",
    "f2.seek(0)\n",
    "try:\n",
    "    while True:\n",
    "        print(pickle.load(f2))\n",
    "except:\n",
    "    f2.close()\n",
    "        "
   ]
  },
  {
   "cell_type": "code",
   "execution_count": 2,
   "id": "ab423992",
   "metadata": {},
   "outputs": [
    {
     "name": "stdout",
     "output_type": "stream",
     "text": [
      "hi\n",
      "b'asdfg'\n"
     ]
    }
   ],
   "source": [
    "import pickle\n",
    "print(\"hi\")\n",
    "f1=open(\"bin.dat\",\"wb\")\n",
    "dic=b\"asdfg\"4\n",
    "pickle.dump(dic,f1)\n",
    "f1.close()\n",
    "f2=open(\"bin.dat\",\"rb\")\n",
    "f2.seek(0)\n",
    "try:\n",
    "    while True:\n",
    "        print(pickle.load(f2))\n",
    "except:\n",
    "    f2.close()\n"
   ]
  },
  {
   "cell_type": "code",
   "execution_count": 1,
   "id": "ad64a17e",
   "metadata": {},
   "outputs": [
    {
     "name": "stdout",
     "output_type": "stream",
     "text": [
      "8\n"
     ]
    }
   ],
   "source": [
    "import pickle\n",
    "fileobject=open('data.dat' , 'wb')\n",
    "L=[3,4,5,9]\n",
    "pickle.dump(L, fileobject)\n",
    "fileobject.close( )\n",
    "fileobject=open('data.dat' , 'rb')\n",
    "print(pickle.load(fileobject)[1]*2)\n",
    "fileobject.close( )\n"
   ]
  },
  {
   "cell_type": "code",
   "execution_count": 3,
   "id": "23d308e2",
   "metadata": {},
   "outputs": [
    {
     "name": "stdout",
     "output_type": "stream",
     "text": [
      "AllngsAll"
     ]
    }
   ],
   "source": [
    "fin = open('fracture') \n",
    "data = fin.read(10) \n",
    "print(data[0:3], end= '') \n",
    "data = fin.readline(5) \n",
    "print(data[0:3] , end= '') \n",
    "fin.seek(0) \n",
    "data = fin.read(4) \n",
    "print(data[0:3] , end= '') \n"
   ]
  },
  {
   "cell_type": "code",
   "execution_count": 4,
   "id": "8d4abb73",
   "metadata": {},
   "outputs": [
    {
     "ename": "TypeError",
     "evalue": "a bytes-like object is required, not 'dict'",
     "output_type": "error",
     "traceback": [
      "\u001b[1;31m---------------------------------------------------------------------------\u001b[0m",
      "\u001b[1;31mTypeError\u001b[0m                                 Traceback (most recent call last)",
      "Cell \u001b[1;32mIn[4], line 1\u001b[0m\n\u001b[1;32m----> 1\u001b[0m d\u001b[38;5;241m=\u001b[39m{\u001b[38;5;124m'\u001b[39m\u001b[38;5;124ma\u001b[39m\u001b[38;5;124m'\u001b[39m:\u001b[38;5;241m12\u001b[39m, \u001b[38;5;124m'\u001b[39m\u001b[38;5;124mb\u001b[39m\u001b[38;5;124m'\u001b[39m:\u001b[38;5;241m10\u001b[39m}; f\u001b[38;5;241m=\u001b[39m\u001b[38;5;28mopen\u001b[39m(\u001b[38;5;124m'\u001b[39m\u001b[38;5;124mdata.dat\u001b[39m\u001b[38;5;124m'\u001b[39m, \u001b[38;5;124m'\u001b[39m\u001b[38;5;124mwb\u001b[39m\u001b[38;5;124m'\u001b[39m);f\u001b[38;5;241m.\u001b[39mwrite( d ); f\u001b[38;5;241m.\u001b[39mclose( )\n",
      "\u001b[1;31mTypeError\u001b[0m: a bytes-like object is required, not 'dict'"
     ]
    }
   ],
   "source": [
    "d={'a':12, 'b':10}; f=open('data.dat', 'wb');f.write( d ); f.close( )"
   ]
  },
  {
   "cell_type": "code",
   "execution_count": 5,
   "id": "cf569d0e",
   "metadata": {},
   "outputs": [
    {
     "name": "stdout",
     "output_type": "stream",
     "text": [
      "it^s^ti^m^e^$t^e^s^t^$$5$$5\n"
     ]
    }
   ],
   "source": [
    "def Encrypt(passwd):\n",
    "    new_pwd = \"\"\n",
    "    for index in range(len(passwd)):\n",
    "        if (passwd[index].isupper()):\n",
    "            new_pwd += passwd[index].lower()\n",
    "        elif (passwd[index].islower()):\n",
    "            new_pwd += passwd[index].lower()+'^'\n",
    "        elif passwd[index].isdigit():\n",
    "            new_pwd += '$'\n",
    "        else:\n",
    "            new_pwd += '5'\n",
    "    return new_pwd\n",
    "print(Encrypt('ItsTime2test23@24*'))\n"
   ]
  },
  {
   "cell_type": "code",
   "execution_count": 6,
   "id": "a62cfd50",
   "metadata": {},
   "outputs": [
    {
     "name": "stdout",
     "output_type": "stream",
     "text": [
      "7\n"
     ]
    }
   ],
   "source": [
    "a = 2\n",
    "def f(x):\n",
    "    y = x + a\n",
    "    return y\n",
    "p = f(5)\n",
    "print(p)\n"
   ]
  },
  {
   "cell_type": "code",
   "execution_count": 7,
   "id": "4b6885d8",
   "metadata": {},
   "outputs": [
    {
     "name": "stdout",
     "output_type": "stream",
     "text": [
      "7\n"
     ]
    }
   ],
   "source": [
    "a = 2\n",
    "def f(x):\n",
    "    global a\n",
    "    a = x + a\n",
    "    return a\n",
    "p = f(5)\n",
    "print(a)\n"
   ]
  },
  {
   "cell_type": "code",
   "execution_count": 8,
   "id": "2cc23d03",
   "metadata": {},
   "outputs": [
    {
     "name": "stdout",
     "output_type": "stream",
     "text": [
      "The sum= 0\n",
      "The sum= 20\n",
      "The sum= 50\n",
      "The sum= 100\n"
     ]
    }
   ],
   "source": [
    "def sum(*n):\n",
    "    total = 0\n",
    "    for i in n:\n",
    "        total = total +i\n",
    "    print(\"The sum=\",total)\n",
    "sum()\n",
    "sum(20)\n",
    "sum(20,30)\n",
    "sum(10,20,30,40)\n"
   ]
  },
  {
   "cell_type": "code",
   "execution_count": 13,
   "id": "8db781d1",
   "metadata": {},
   "outputs": [
    {
     "name": "stdout",
     "output_type": "stream",
     "text": [
      "{'c': 1000, 'java': 300, 'go': 4000, 'r': 700}\n"
     ]
    },
    {
     "ename": "TypeError",
     "evalue": "unsupported operand type(s) for +: 'int' and 'list'",
     "output_type": "error",
     "traceback": [
      "\u001b[1;31m---------------------------------------------------------------------------\u001b[0m",
      "\u001b[1;31mTypeError\u001b[0m                                 Traceback (most recent call last)",
      "Cell \u001b[1;32mIn[13], line 7\u001b[0m\n\u001b[0;32m      5\u001b[0m     \u001b[38;5;28mprint\u001b[39m(arg)\n\u001b[0;32m      6\u001b[0m     \u001b[38;5;28mprint\u001b[39m(x, \u001b[38;5;28mmax\u001b[39m(x), \u001b[38;5;28mmin\u001b[39m(x),\u001b[38;5;28msum\u001b[39m(x))\n\u001b[1;32m----> 7\u001b[0m arbitrary(c\u001b[38;5;241m=\u001b[39m\u001b[38;5;241m1000\u001b[39m,java\u001b[38;5;241m=\u001b[39m\u001b[38;5;241m300\u001b[39m,go\u001b[38;5;241m=\u001b[39m\u001b[38;5;241m4000\u001b[39m,r\u001b[38;5;241m=\u001b[39m\u001b[38;5;241m700\u001b[39m)\n",
      "Cell \u001b[1;32mIn[13], line 6\u001b[0m, in \u001b[0;36marbitrary\u001b[1;34m(**arg)\u001b[0m\n\u001b[0;32m      4\u001b[0m     x\u001b[38;5;241m.\u001b[39mappend(arg[i]\u001b[38;5;241m+\u001b[39m\u001b[38;5;241m2\u001b[39m)\n\u001b[0;32m      5\u001b[0m \u001b[38;5;28mprint\u001b[39m(arg)\n\u001b[1;32m----> 6\u001b[0m \u001b[38;5;28mprint\u001b[39m(x, \u001b[38;5;28mmax\u001b[39m(x), \u001b[38;5;28mmin\u001b[39m(x),\u001b[38;5;28msum\u001b[39m(x))\n",
      "Cell \u001b[1;32mIn[8], line 4\u001b[0m, in \u001b[0;36msum\u001b[1;34m(*n)\u001b[0m\n\u001b[0;32m      2\u001b[0m total \u001b[38;5;241m=\u001b[39m \u001b[38;5;241m0\u001b[39m\n\u001b[0;32m      3\u001b[0m \u001b[38;5;28;01mfor\u001b[39;00m i \u001b[38;5;129;01min\u001b[39;00m n:\n\u001b[1;32m----> 4\u001b[0m     total \u001b[38;5;241m=\u001b[39m total \u001b[38;5;241m+\u001b[39mi\n\u001b[0;32m      5\u001b[0m \u001b[38;5;28mprint\u001b[39m(\u001b[38;5;124m\"\u001b[39m\u001b[38;5;124mThe sum=\u001b[39m\u001b[38;5;124m\"\u001b[39m,total)\n",
      "\u001b[1;31mTypeError\u001b[0m: unsupported operand type(s) for +: 'int' and 'list'"
     ]
    }
   ],
   "source": [
    "def arbitrary(**arg):\n",
    "    x = []\n",
    "    for i in arg:\n",
    "        x.append(arg[i]+2)\n",
    "    print(arg)\n",
    "    print(x, max(x), min(x),sum(x))\n",
    "arbitrary(c=1000,java=300,go=4000,r=700)"
   ]
  },
  {
   "cell_type": "code",
   "execution_count": null,
   "id": "c4f26e49",
   "metadata": {},
   "outputs": [],
   "source": []
  },
  {
   "cell_type": "code",
   "execution_count": null,
   "id": "30e30329",
   "metadata": {},
   "outputs": [],
   "source": []
  }
 ],
 "metadata": {
  "kernelspec": {
   "display_name": "Python 3 (ipykernel)",
   "language": "python",
   "name": "python3"
  },
  "language_info": {
   "codemirror_mode": {
    "name": "ipython",
    "version": 3
   },
   "file_extension": ".py",
   "mimetype": "text/x-python",
   "name": "python",
   "nbconvert_exporter": "python",
   "pygments_lexer": "ipython3",
   "version": "3.11.3"
  }
 },
 "nbformat": 4,
 "nbformat_minor": 5
}
